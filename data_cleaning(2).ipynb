{
 "cells": [
  {
   "cell_type": "code",
   "execution_count": 50,
   "id": "34ba1dd4",
   "metadata": {},
   "outputs": [],
   "source": [
    "import pandas as pd\n",
    "import numpy as np \n",
    "import plotly.express as px\n",
    "import os\n",
    "import matplotlib.pyplot as plt"
   ]
  },
  {
   "cell_type": "code",
   "execution_count": 51,
   "id": "d50bdcdf",
   "metadata": {},
   "outputs": [
    {
     "data": {
      "text/plain": [
       "<pandas.io.excel._base.ExcelFile at 0x1ca6ce4c690>"
      ]
     },
     "execution_count": 51,
     "metadata": {},
     "output_type": "execute_result"
    }
   ],
   "source": [
    "current_directory = os.getcwd()\n",
    "customer_data = pd.ExcelFile(f'{current_directory}\\\\Customer_Churn_Data_Large.xlsx')\n",
    "customer_data"
   ]
  },
  {
   "cell_type": "code",
   "execution_count": 52,
   "id": "acf993f4",
   "metadata": {},
   "outputs": [
    {
     "data": {
      "text/html": [
       "<div>\n",
       "<style scoped>\n",
       "    .dataframe tbody tr th:only-of-type {\n",
       "        vertical-align: middle;\n",
       "    }\n",
       "\n",
       "    .dataframe tbody tr th {\n",
       "        vertical-align: top;\n",
       "    }\n",
       "\n",
       "    .dataframe thead th {\n",
       "        text-align: right;\n",
       "    }\n",
       "</style>\n",
       "<table border=\"1\" class=\"dataframe\">\n",
       "  <thead>\n",
       "    <tr style=\"text-align: right;\">\n",
       "      <th></th>\n",
       "      <th>CustomerID</th>\n",
       "      <th>Age</th>\n",
       "      <th>Gender</th>\n",
       "      <th>MaritalStatus</th>\n",
       "      <th>IncomeLevel</th>\n",
       "    </tr>\n",
       "  </thead>\n",
       "  <tbody>\n",
       "    <tr>\n",
       "      <th>0</th>\n",
       "      <td>1</td>\n",
       "      <td>62</td>\n",
       "      <td>M</td>\n",
       "      <td>Single</td>\n",
       "      <td>Low</td>\n",
       "    </tr>\n",
       "    <tr>\n",
       "      <th>1</th>\n",
       "      <td>2</td>\n",
       "      <td>65</td>\n",
       "      <td>M</td>\n",
       "      <td>Married</td>\n",
       "      <td>Low</td>\n",
       "    </tr>\n",
       "    <tr>\n",
       "      <th>2</th>\n",
       "      <td>3</td>\n",
       "      <td>18</td>\n",
       "      <td>M</td>\n",
       "      <td>Single</td>\n",
       "      <td>Low</td>\n",
       "    </tr>\n",
       "    <tr>\n",
       "      <th>3</th>\n",
       "      <td>4</td>\n",
       "      <td>21</td>\n",
       "      <td>M</td>\n",
       "      <td>Widowed</td>\n",
       "      <td>Low</td>\n",
       "    </tr>\n",
       "    <tr>\n",
       "      <th>4</th>\n",
       "      <td>5</td>\n",
       "      <td>21</td>\n",
       "      <td>M</td>\n",
       "      <td>Divorced</td>\n",
       "      <td>Medium</td>\n",
       "    </tr>\n",
       "    <tr>\n",
       "      <th>...</th>\n",
       "      <td>...</td>\n",
       "      <td>...</td>\n",
       "      <td>...</td>\n",
       "      <td>...</td>\n",
       "      <td>...</td>\n",
       "    </tr>\n",
       "    <tr>\n",
       "      <th>995</th>\n",
       "      <td>996</td>\n",
       "      <td>54</td>\n",
       "      <td>F</td>\n",
       "      <td>Single</td>\n",
       "      <td>Low</td>\n",
       "    </tr>\n",
       "    <tr>\n",
       "      <th>996</th>\n",
       "      <td>997</td>\n",
       "      <td>19</td>\n",
       "      <td>M</td>\n",
       "      <td>Widowed</td>\n",
       "      <td>High</td>\n",
       "    </tr>\n",
       "    <tr>\n",
       "      <th>997</th>\n",
       "      <td>998</td>\n",
       "      <td>47</td>\n",
       "      <td>M</td>\n",
       "      <td>Married</td>\n",
       "      <td>Low</td>\n",
       "    </tr>\n",
       "    <tr>\n",
       "      <th>998</th>\n",
       "      <td>999</td>\n",
       "      <td>23</td>\n",
       "      <td>M</td>\n",
       "      <td>Widowed</td>\n",
       "      <td>High</td>\n",
       "    </tr>\n",
       "    <tr>\n",
       "      <th>999</th>\n",
       "      <td>1000</td>\n",
       "      <td>34</td>\n",
       "      <td>M</td>\n",
       "      <td>Widowed</td>\n",
       "      <td>Low</td>\n",
       "    </tr>\n",
       "  </tbody>\n",
       "</table>\n",
       "<p>1000 rows × 5 columns</p>\n",
       "</div>"
      ],
      "text/plain": [
       "     CustomerID  Age Gender MaritalStatus IncomeLevel\n",
       "0             1   62      M        Single         Low\n",
       "1             2   65      M       Married         Low\n",
       "2             3   18      M        Single         Low\n",
       "3             4   21      M       Widowed         Low\n",
       "4             5   21      M      Divorced      Medium\n",
       "..          ...  ...    ...           ...         ...\n",
       "995         996   54      F        Single         Low\n",
       "996         997   19      M       Widowed        High\n",
       "997         998   47      M       Married         Low\n",
       "998         999   23      M       Widowed        High\n",
       "999        1000   34      M       Widowed         Low\n",
       "\n",
       "[1000 rows x 5 columns]"
      ]
     },
     "execution_count": 52,
     "metadata": {},
     "output_type": "execute_result"
    }
   ],
   "source": [
    "customer_demographics  = pd.read_excel(customer_data, 'Customer_Demographics')\n",
    "customer_demographics"
   ]
  },
  {
   "cell_type": "code",
   "execution_count": 53,
   "id": "c21b5151",
   "metadata": {},
   "outputs": [
    {
     "data": {
      "text/html": [
       "<div>\n",
       "<style scoped>\n",
       "    .dataframe tbody tr th:only-of-type {\n",
       "        vertical-align: middle;\n",
       "    }\n",
       "\n",
       "    .dataframe tbody tr th {\n",
       "        vertical-align: top;\n",
       "    }\n",
       "\n",
       "    .dataframe thead th {\n",
       "        text-align: right;\n",
       "    }\n",
       "</style>\n",
       "<table border=\"1\" class=\"dataframe\">\n",
       "  <thead>\n",
       "    <tr style=\"text-align: right;\">\n",
       "      <th></th>\n",
       "      <th>CustomerID</th>\n",
       "      <th>TransactionID</th>\n",
       "      <th>TransactionDate</th>\n",
       "      <th>AmountSpent</th>\n",
       "      <th>ProductCategory</th>\n",
       "    </tr>\n",
       "  </thead>\n",
       "  <tbody>\n",
       "    <tr>\n",
       "      <th>0</th>\n",
       "      <td>1</td>\n",
       "      <td>7194</td>\n",
       "      <td>2022-03-27</td>\n",
       "      <td>416.50</td>\n",
       "      <td>Electronics</td>\n",
       "    </tr>\n",
       "    <tr>\n",
       "      <th>1</th>\n",
       "      <td>2</td>\n",
       "      <td>7250</td>\n",
       "      <td>2022-08-08</td>\n",
       "      <td>54.96</td>\n",
       "      <td>Clothing</td>\n",
       "    </tr>\n",
       "    <tr>\n",
       "      <th>2</th>\n",
       "      <td>2</td>\n",
       "      <td>9660</td>\n",
       "      <td>2022-07-25</td>\n",
       "      <td>197.50</td>\n",
       "      <td>Electronics</td>\n",
       "    </tr>\n",
       "    <tr>\n",
       "      <th>3</th>\n",
       "      <td>2</td>\n",
       "      <td>2998</td>\n",
       "      <td>2022-01-25</td>\n",
       "      <td>101.31</td>\n",
       "      <td>Furniture</td>\n",
       "    </tr>\n",
       "    <tr>\n",
       "      <th>4</th>\n",
       "      <td>2</td>\n",
       "      <td>1228</td>\n",
       "      <td>2022-07-24</td>\n",
       "      <td>397.37</td>\n",
       "      <td>Clothing</td>\n",
       "    </tr>\n",
       "    <tr>\n",
       "      <th>...</th>\n",
       "      <td>...</td>\n",
       "      <td>...</td>\n",
       "      <td>...</td>\n",
       "      <td>...</td>\n",
       "      <td>...</td>\n",
       "    </tr>\n",
       "    <tr>\n",
       "      <th>5049</th>\n",
       "      <td>1000</td>\n",
       "      <td>2724</td>\n",
       "      <td>2022-09-08</td>\n",
       "      <td>232.06</td>\n",
       "      <td>Groceries</td>\n",
       "    </tr>\n",
       "    <tr>\n",
       "      <th>5050</th>\n",
       "      <td>1000</td>\n",
       "      <td>2917</td>\n",
       "      <td>2022-12-13</td>\n",
       "      <td>324.98</td>\n",
       "      <td>Books</td>\n",
       "    </tr>\n",
       "    <tr>\n",
       "      <th>5051</th>\n",
       "      <td>1000</td>\n",
       "      <td>2979</td>\n",
       "      <td>2022-06-15</td>\n",
       "      <td>375.34</td>\n",
       "      <td>Groceries</td>\n",
       "    </tr>\n",
       "    <tr>\n",
       "      <th>5052</th>\n",
       "      <td>1000</td>\n",
       "      <td>8594</td>\n",
       "      <td>2022-04-08</td>\n",
       "      <td>166.73</td>\n",
       "      <td>Books</td>\n",
       "    </tr>\n",
       "    <tr>\n",
       "      <th>5053</th>\n",
       "      <td>1000</td>\n",
       "      <td>5529</td>\n",
       "      <td>2022-11-23</td>\n",
       "      <td>93.73</td>\n",
       "      <td>Furniture</td>\n",
       "    </tr>\n",
       "  </tbody>\n",
       "</table>\n",
       "<p>5054 rows × 5 columns</p>\n",
       "</div>"
      ],
      "text/plain": [
       "      CustomerID  TransactionID TransactionDate  AmountSpent ProductCategory\n",
       "0              1           7194      2022-03-27       416.50     Electronics\n",
       "1              2           7250      2022-08-08        54.96        Clothing\n",
       "2              2           9660      2022-07-25       197.50     Electronics\n",
       "3              2           2998      2022-01-25       101.31       Furniture\n",
       "4              2           1228      2022-07-24       397.37        Clothing\n",
       "...          ...            ...             ...          ...             ...\n",
       "5049        1000           2724      2022-09-08       232.06       Groceries\n",
       "5050        1000           2917      2022-12-13       324.98           Books\n",
       "5051        1000           2979      2022-06-15       375.34       Groceries\n",
       "5052        1000           8594      2022-04-08       166.73           Books\n",
       "5053        1000           5529      2022-11-23        93.73       Furniture\n",
       "\n",
       "[5054 rows x 5 columns]"
      ]
     },
     "execution_count": 53,
     "metadata": {},
     "output_type": "execute_result"
    }
   ],
   "source": [
    "transaction_history  = pd.read_excel(customer_data, 'Transaction_History')\n",
    "transaction_history"
   ]
  },
  {
   "cell_type": "code",
   "execution_count": 54,
   "id": "ba32f6ec",
   "metadata": {},
   "outputs": [
    {
     "data": {
      "text/html": [
       "<div>\n",
       "<style scoped>\n",
       "    .dataframe tbody tr th:only-of-type {\n",
       "        vertical-align: middle;\n",
       "    }\n",
       "\n",
       "    .dataframe tbody tr th {\n",
       "        vertical-align: top;\n",
       "    }\n",
       "\n",
       "    .dataframe thead th {\n",
       "        text-align: right;\n",
       "    }\n",
       "</style>\n",
       "<table border=\"1\" class=\"dataframe\">\n",
       "  <thead>\n",
       "    <tr style=\"text-align: right;\">\n",
       "      <th></th>\n",
       "      <th>CustomerID</th>\n",
       "      <th>InteractionID</th>\n",
       "      <th>InteractionDate</th>\n",
       "      <th>InteractionType</th>\n",
       "      <th>ResolutionStatus</th>\n",
       "    </tr>\n",
       "  </thead>\n",
       "  <tbody>\n",
       "    <tr>\n",
       "      <th>0</th>\n",
       "      <td>1</td>\n",
       "      <td>6363</td>\n",
       "      <td>2022-03-31</td>\n",
       "      <td>Inquiry</td>\n",
       "      <td>Resolved</td>\n",
       "    </tr>\n",
       "    <tr>\n",
       "      <th>1</th>\n",
       "      <td>2</td>\n",
       "      <td>3329</td>\n",
       "      <td>2022-03-17</td>\n",
       "      <td>Inquiry</td>\n",
       "      <td>Resolved</td>\n",
       "    </tr>\n",
       "    <tr>\n",
       "      <th>2</th>\n",
       "      <td>3</td>\n",
       "      <td>9976</td>\n",
       "      <td>2022-08-24</td>\n",
       "      <td>Inquiry</td>\n",
       "      <td>Resolved</td>\n",
       "    </tr>\n",
       "    <tr>\n",
       "      <th>3</th>\n",
       "      <td>4</td>\n",
       "      <td>7354</td>\n",
       "      <td>2022-11-18</td>\n",
       "      <td>Inquiry</td>\n",
       "      <td>Resolved</td>\n",
       "    </tr>\n",
       "    <tr>\n",
       "      <th>4</th>\n",
       "      <td>4</td>\n",
       "      <td>5393</td>\n",
       "      <td>2022-07-03</td>\n",
       "      <td>Inquiry</td>\n",
       "      <td>Unresolved</td>\n",
       "    </tr>\n",
       "    <tr>\n",
       "      <th>...</th>\n",
       "      <td>...</td>\n",
       "      <td>...</td>\n",
       "      <td>...</td>\n",
       "      <td>...</td>\n",
       "      <td>...</td>\n",
       "    </tr>\n",
       "    <tr>\n",
       "      <th>997</th>\n",
       "      <td>990</td>\n",
       "      <td>3671</td>\n",
       "      <td>2022-10-25</td>\n",
       "      <td>Complaint</td>\n",
       "      <td>Unresolved</td>\n",
       "    </tr>\n",
       "    <tr>\n",
       "      <th>998</th>\n",
       "      <td>992</td>\n",
       "      <td>2114</td>\n",
       "      <td>2022-09-29</td>\n",
       "      <td>Feedback</td>\n",
       "      <td>Unresolved</td>\n",
       "    </tr>\n",
       "    <tr>\n",
       "      <th>999</th>\n",
       "      <td>994</td>\n",
       "      <td>3087</td>\n",
       "      <td>2022-07-02</td>\n",
       "      <td>Complaint</td>\n",
       "      <td>Unresolved</td>\n",
       "    </tr>\n",
       "    <tr>\n",
       "      <th>1000</th>\n",
       "      <td>994</td>\n",
       "      <td>8508</td>\n",
       "      <td>2022-05-14</td>\n",
       "      <td>Complaint</td>\n",
       "      <td>Unresolved</td>\n",
       "    </tr>\n",
       "    <tr>\n",
       "      <th>1001</th>\n",
       "      <td>995</td>\n",
       "      <td>9101</td>\n",
       "      <td>2022-05-02</td>\n",
       "      <td>Inquiry</td>\n",
       "      <td>Resolved</td>\n",
       "    </tr>\n",
       "  </tbody>\n",
       "</table>\n",
       "<p>1002 rows × 5 columns</p>\n",
       "</div>"
      ],
      "text/plain": [
       "      CustomerID  InteractionID InteractionDate InteractionType  \\\n",
       "0              1           6363      2022-03-31         Inquiry   \n",
       "1              2           3329      2022-03-17         Inquiry   \n",
       "2              3           9976      2022-08-24         Inquiry   \n",
       "3              4           7354      2022-11-18         Inquiry   \n",
       "4              4           5393      2022-07-03         Inquiry   \n",
       "...          ...            ...             ...             ...   \n",
       "997          990           3671      2022-10-25       Complaint   \n",
       "998          992           2114      2022-09-29        Feedback   \n",
       "999          994           3087      2022-07-02       Complaint   \n",
       "1000         994           8508      2022-05-14       Complaint   \n",
       "1001         995           9101      2022-05-02         Inquiry   \n",
       "\n",
       "     ResolutionStatus  \n",
       "0            Resolved  \n",
       "1            Resolved  \n",
       "2            Resolved  \n",
       "3            Resolved  \n",
       "4          Unresolved  \n",
       "...               ...  \n",
       "997        Unresolved  \n",
       "998        Unresolved  \n",
       "999        Unresolved  \n",
       "1000       Unresolved  \n",
       "1001         Resolved  \n",
       "\n",
       "[1002 rows x 5 columns]"
      ]
     },
     "execution_count": 54,
     "metadata": {},
     "output_type": "execute_result"
    }
   ],
   "source": [
    "customer_service = pd.read_excel(customer_data, 'Customer_Service')\n",
    "customer_service"
   ]
  },
  {
   "cell_type": "code",
   "execution_count": 55,
   "id": "179bed21",
   "metadata": {},
   "outputs": [
    {
     "data": {
      "text/html": [
       "<div>\n",
       "<style scoped>\n",
       "    .dataframe tbody tr th:only-of-type {\n",
       "        vertical-align: middle;\n",
       "    }\n",
       "\n",
       "    .dataframe tbody tr th {\n",
       "        vertical-align: top;\n",
       "    }\n",
       "\n",
       "    .dataframe thead th {\n",
       "        text-align: right;\n",
       "    }\n",
       "</style>\n",
       "<table border=\"1\" class=\"dataframe\">\n",
       "  <thead>\n",
       "    <tr style=\"text-align: right;\">\n",
       "      <th></th>\n",
       "      <th>CustomerID</th>\n",
       "      <th>LastLoginDate</th>\n",
       "      <th>LoginFrequency</th>\n",
       "      <th>ServiceUsage</th>\n",
       "    </tr>\n",
       "  </thead>\n",
       "  <tbody>\n",
       "    <tr>\n",
       "      <th>0</th>\n",
       "      <td>1</td>\n",
       "      <td>2023-10-21</td>\n",
       "      <td>34</td>\n",
       "      <td>Mobile App</td>\n",
       "    </tr>\n",
       "    <tr>\n",
       "      <th>1</th>\n",
       "      <td>2</td>\n",
       "      <td>2023-12-05</td>\n",
       "      <td>5</td>\n",
       "      <td>Website</td>\n",
       "    </tr>\n",
       "    <tr>\n",
       "      <th>2</th>\n",
       "      <td>3</td>\n",
       "      <td>2023-11-15</td>\n",
       "      <td>3</td>\n",
       "      <td>Website</td>\n",
       "    </tr>\n",
       "    <tr>\n",
       "      <th>3</th>\n",
       "      <td>4</td>\n",
       "      <td>2023-08-25</td>\n",
       "      <td>2</td>\n",
       "      <td>Website</td>\n",
       "    </tr>\n",
       "    <tr>\n",
       "      <th>4</th>\n",
       "      <td>5</td>\n",
       "      <td>2023-10-27</td>\n",
       "      <td>41</td>\n",
       "      <td>Website</td>\n",
       "    </tr>\n",
       "    <tr>\n",
       "      <th>...</th>\n",
       "      <td>...</td>\n",
       "      <td>...</td>\n",
       "      <td>...</td>\n",
       "      <td>...</td>\n",
       "    </tr>\n",
       "    <tr>\n",
       "      <th>995</th>\n",
       "      <td>996</td>\n",
       "      <td>2023-01-29</td>\n",
       "      <td>38</td>\n",
       "      <td>Mobile App</td>\n",
       "    </tr>\n",
       "    <tr>\n",
       "      <th>996</th>\n",
       "      <td>997</td>\n",
       "      <td>2023-04-01</td>\n",
       "      <td>5</td>\n",
       "      <td>Mobile App</td>\n",
       "    </tr>\n",
       "    <tr>\n",
       "      <th>997</th>\n",
       "      <td>998</td>\n",
       "      <td>2023-07-10</td>\n",
       "      <td>47</td>\n",
       "      <td>Website</td>\n",
       "    </tr>\n",
       "    <tr>\n",
       "      <th>998</th>\n",
       "      <td>999</td>\n",
       "      <td>2023-01-08</td>\n",
       "      <td>23</td>\n",
       "      <td>Website</td>\n",
       "    </tr>\n",
       "    <tr>\n",
       "      <th>999</th>\n",
       "      <td>1000</td>\n",
       "      <td>2023-08-13</td>\n",
       "      <td>22</td>\n",
       "      <td>Mobile App</td>\n",
       "    </tr>\n",
       "  </tbody>\n",
       "</table>\n",
       "<p>1000 rows × 4 columns</p>\n",
       "</div>"
      ],
      "text/plain": [
       "     CustomerID LastLoginDate  LoginFrequency ServiceUsage\n",
       "0             1    2023-10-21              34   Mobile App\n",
       "1             2    2023-12-05               5      Website\n",
       "2             3    2023-11-15               3      Website\n",
       "3             4    2023-08-25               2      Website\n",
       "4             5    2023-10-27              41      Website\n",
       "..          ...           ...             ...          ...\n",
       "995         996    2023-01-29              38   Mobile App\n",
       "996         997    2023-04-01               5   Mobile App\n",
       "997         998    2023-07-10              47      Website\n",
       "998         999    2023-01-08              23      Website\n",
       "999        1000    2023-08-13              22   Mobile App\n",
       "\n",
       "[1000 rows x 4 columns]"
      ]
     },
     "execution_count": 55,
     "metadata": {},
     "output_type": "execute_result"
    }
   ],
   "source": [
    "online_activity = pd.read_excel(customer_data, 'Online_Activity')\n",
    "online_activity"
   ]
  },
  {
   "cell_type": "code",
   "execution_count": 56,
   "id": "c0048b87",
   "metadata": {},
   "outputs": [
    {
     "data": {
      "text/html": [
       "<div>\n",
       "<style scoped>\n",
       "    .dataframe tbody tr th:only-of-type {\n",
       "        vertical-align: middle;\n",
       "    }\n",
       "\n",
       "    .dataframe tbody tr th {\n",
       "        vertical-align: top;\n",
       "    }\n",
       "\n",
       "    .dataframe thead th {\n",
       "        text-align: right;\n",
       "    }\n",
       "</style>\n",
       "<table border=\"1\" class=\"dataframe\">\n",
       "  <thead>\n",
       "    <tr style=\"text-align: right;\">\n",
       "      <th></th>\n",
       "      <th>CustomerID</th>\n",
       "      <th>ChurnStatus</th>\n",
       "    </tr>\n",
       "  </thead>\n",
       "  <tbody>\n",
       "    <tr>\n",
       "      <th>0</th>\n",
       "      <td>1</td>\n",
       "      <td>0</td>\n",
       "    </tr>\n",
       "    <tr>\n",
       "      <th>1</th>\n",
       "      <td>2</td>\n",
       "      <td>1</td>\n",
       "    </tr>\n",
       "    <tr>\n",
       "      <th>2</th>\n",
       "      <td>3</td>\n",
       "      <td>0</td>\n",
       "    </tr>\n",
       "    <tr>\n",
       "      <th>3</th>\n",
       "      <td>4</td>\n",
       "      <td>0</td>\n",
       "    </tr>\n",
       "    <tr>\n",
       "      <th>4</th>\n",
       "      <td>5</td>\n",
       "      <td>0</td>\n",
       "    </tr>\n",
       "    <tr>\n",
       "      <th>...</th>\n",
       "      <td>...</td>\n",
       "      <td>...</td>\n",
       "    </tr>\n",
       "    <tr>\n",
       "      <th>995</th>\n",
       "      <td>996</td>\n",
       "      <td>0</td>\n",
       "    </tr>\n",
       "    <tr>\n",
       "      <th>996</th>\n",
       "      <td>997</td>\n",
       "      <td>0</td>\n",
       "    </tr>\n",
       "    <tr>\n",
       "      <th>997</th>\n",
       "      <td>998</td>\n",
       "      <td>0</td>\n",
       "    </tr>\n",
       "    <tr>\n",
       "      <th>998</th>\n",
       "      <td>999</td>\n",
       "      <td>0</td>\n",
       "    </tr>\n",
       "    <tr>\n",
       "      <th>999</th>\n",
       "      <td>1000</td>\n",
       "      <td>0</td>\n",
       "    </tr>\n",
       "  </tbody>\n",
       "</table>\n",
       "<p>1000 rows × 2 columns</p>\n",
       "</div>"
      ],
      "text/plain": [
       "     CustomerID  ChurnStatus\n",
       "0             1            0\n",
       "1             2            1\n",
       "2             3            0\n",
       "3             4            0\n",
       "4             5            0\n",
       "..          ...          ...\n",
       "995         996            0\n",
       "996         997            0\n",
       "997         998            0\n",
       "998         999            0\n",
       "999        1000            0\n",
       "\n",
       "[1000 rows x 2 columns]"
      ]
     },
     "execution_count": 56,
     "metadata": {},
     "output_type": "execute_result"
    }
   ],
   "source": [
    "churn_status = pd.read_excel(customer_data, 'Churn_Status')\n",
    "churn_status"
   ]
  },
  {
   "cell_type": "code",
   "execution_count": 57,
   "id": "ad98af48",
   "metadata": {},
   "outputs": [
    {
     "data": {
      "text/html": [
       "<div>\n",
       "<style scoped>\n",
       "    .dataframe tbody tr th:only-of-type {\n",
       "        vertical-align: middle;\n",
       "    }\n",
       "\n",
       "    .dataframe tbody tr th {\n",
       "        vertical-align: top;\n",
       "    }\n",
       "\n",
       "    .dataframe thead th {\n",
       "        text-align: right;\n",
       "    }\n",
       "</style>\n",
       "<table border=\"1\" class=\"dataframe\">\n",
       "  <thead>\n",
       "    <tr style=\"text-align: right;\">\n",
       "      <th></th>\n",
       "      <th>CustomerID</th>\n",
       "      <th>Age</th>\n",
       "    </tr>\n",
       "  </thead>\n",
       "  <tbody>\n",
       "    <tr>\n",
       "      <th>count</th>\n",
       "      <td>1000.000000</td>\n",
       "      <td>1000.000000</td>\n",
       "    </tr>\n",
       "    <tr>\n",
       "      <th>mean</th>\n",
       "      <td>500.500000</td>\n",
       "      <td>43.267000</td>\n",
       "    </tr>\n",
       "    <tr>\n",
       "      <th>std</th>\n",
       "      <td>288.819436</td>\n",
       "      <td>15.242311</td>\n",
       "    </tr>\n",
       "    <tr>\n",
       "      <th>min</th>\n",
       "      <td>1.000000</td>\n",
       "      <td>18.000000</td>\n",
       "    </tr>\n",
       "    <tr>\n",
       "      <th>25%</th>\n",
       "      <td>250.750000</td>\n",
       "      <td>30.000000</td>\n",
       "    </tr>\n",
       "    <tr>\n",
       "      <th>50%</th>\n",
       "      <td>500.500000</td>\n",
       "      <td>43.000000</td>\n",
       "    </tr>\n",
       "    <tr>\n",
       "      <th>75%</th>\n",
       "      <td>750.250000</td>\n",
       "      <td>56.000000</td>\n",
       "    </tr>\n",
       "    <tr>\n",
       "      <th>max</th>\n",
       "      <td>1000.000000</td>\n",
       "      <td>69.000000</td>\n",
       "    </tr>\n",
       "  </tbody>\n",
       "</table>\n",
       "</div>"
      ],
      "text/plain": [
       "        CustomerID          Age\n",
       "count  1000.000000  1000.000000\n",
       "mean    500.500000    43.267000\n",
       "std     288.819436    15.242311\n",
       "min       1.000000    18.000000\n",
       "25%     250.750000    30.000000\n",
       "50%     500.500000    43.000000\n",
       "75%     750.250000    56.000000\n",
       "max    1000.000000    69.000000"
      ]
     },
     "execution_count": 57,
     "metadata": {},
     "output_type": "execute_result"
    }
   ],
   "source": [
    "customer_demographics.describe()"
   ]
  },
  {
   "cell_type": "code",
   "execution_count": 58,
   "id": "3373e544",
   "metadata": {},
   "outputs": [
    {
     "name": "stdout",
     "output_type": "stream",
     "text": [
      "<class 'pandas.core.frame.DataFrame'>\n",
      "RangeIndex: 1000 entries, 0 to 999\n",
      "Data columns (total 5 columns):\n",
      " #   Column         Non-Null Count  Dtype \n",
      "---  ------         --------------  ----- \n",
      " 0   CustomerID     1000 non-null   int64 \n",
      " 1   Age            1000 non-null   int64 \n",
      " 2   Gender         1000 non-null   object\n",
      " 3   MaritalStatus  1000 non-null   object\n",
      " 4   IncomeLevel    1000 non-null   object\n",
      "dtypes: int64(2), object(3)\n",
      "memory usage: 39.2+ KB\n"
     ]
    }
   ],
   "source": [
    "customer_demographics.info()"
   ]
  },
  {
   "cell_type": "code",
   "execution_count": 59,
   "id": "d4241009",
   "metadata": {},
   "outputs": [
    {
     "data": {
      "text/plain": [
       "CustomerID       0\n",
       "Age              0\n",
       "Gender           0\n",
       "MaritalStatus    0\n",
       "IncomeLevel      0\n",
       "dtype: int64"
      ]
     },
     "execution_count": 59,
     "metadata": {},
     "output_type": "execute_result"
    }
   ],
   "source": [
    "customer_demographics.isnull().sum()"
   ]
  },
  {
   "cell_type": "code",
   "execution_count": 60,
   "id": "9bc76966",
   "metadata": {},
   "outputs": [
    {
     "data": {
      "text/html": [
       "<div>\n",
       "<style scoped>\n",
       "    .dataframe tbody tr th:only-of-type {\n",
       "        vertical-align: middle;\n",
       "    }\n",
       "\n",
       "    .dataframe tbody tr th {\n",
       "        vertical-align: top;\n",
       "    }\n",
       "\n",
       "    .dataframe thead th {\n",
       "        text-align: right;\n",
       "    }\n",
       "</style>\n",
       "<table border=\"1\" class=\"dataframe\">\n",
       "  <thead>\n",
       "    <tr style=\"text-align: right;\">\n",
       "      <th></th>\n",
       "      <th>CustomerID</th>\n",
       "      <th>TransactionID</th>\n",
       "      <th>TransactionDate</th>\n",
       "      <th>AmountSpent</th>\n",
       "    </tr>\n",
       "  </thead>\n",
       "  <tbody>\n",
       "    <tr>\n",
       "      <th>count</th>\n",
       "      <td>5054.000000</td>\n",
       "      <td>5054.000000</td>\n",
       "      <td>5054</td>\n",
       "      <td>5054.000000</td>\n",
       "    </tr>\n",
       "    <tr>\n",
       "      <th>mean</th>\n",
       "      <td>501.424218</td>\n",
       "      <td>5510.538979</td>\n",
       "      <td>2022-07-01 19:25:37.158686208</td>\n",
       "      <td>250.707351</td>\n",
       "    </tr>\n",
       "    <tr>\n",
       "      <th>min</th>\n",
       "      <td>1.000000</td>\n",
       "      <td>1000.000000</td>\n",
       "      <td>2022-01-01 00:00:00</td>\n",
       "      <td>5.180000</td>\n",
       "    </tr>\n",
       "    <tr>\n",
       "      <th>25%</th>\n",
       "      <td>251.000000</td>\n",
       "      <td>3242.000000</td>\n",
       "      <td>2022-04-03 00:00:00</td>\n",
       "      <td>127.105000</td>\n",
       "    </tr>\n",
       "    <tr>\n",
       "      <th>50%</th>\n",
       "      <td>506.000000</td>\n",
       "      <td>5530.000000</td>\n",
       "      <td>2022-07-01 00:00:00</td>\n",
       "      <td>250.525000</td>\n",
       "    </tr>\n",
       "    <tr>\n",
       "      <th>75%</th>\n",
       "      <td>749.000000</td>\n",
       "      <td>7680.750000</td>\n",
       "      <td>2022-09-29 00:00:00</td>\n",
       "      <td>373.412500</td>\n",
       "    </tr>\n",
       "    <tr>\n",
       "      <th>max</th>\n",
       "      <td>1000.000000</td>\n",
       "      <td>9997.000000</td>\n",
       "      <td>2022-12-31 00:00:00</td>\n",
       "      <td>499.860000</td>\n",
       "    </tr>\n",
       "    <tr>\n",
       "      <th>std</th>\n",
       "      <td>285.172780</td>\n",
       "      <td>2582.088012</td>\n",
       "      <td>NaN</td>\n",
       "      <td>142.250838</td>\n",
       "    </tr>\n",
       "  </tbody>\n",
       "</table>\n",
       "</div>"
      ],
      "text/plain": [
       "        CustomerID  TransactionID                TransactionDate  AmountSpent\n",
       "count  5054.000000    5054.000000                           5054  5054.000000\n",
       "mean    501.424218    5510.538979  2022-07-01 19:25:37.158686208   250.707351\n",
       "min       1.000000    1000.000000            2022-01-01 00:00:00     5.180000\n",
       "25%     251.000000    3242.000000            2022-04-03 00:00:00   127.105000\n",
       "50%     506.000000    5530.000000            2022-07-01 00:00:00   250.525000\n",
       "75%     749.000000    7680.750000            2022-09-29 00:00:00   373.412500\n",
       "max    1000.000000    9997.000000            2022-12-31 00:00:00   499.860000\n",
       "std     285.172780    2582.088012                            NaN   142.250838"
      ]
     },
     "execution_count": 60,
     "metadata": {},
     "output_type": "execute_result"
    }
   ],
   "source": [
    "transaction_history.describe()"
   ]
  },
  {
   "cell_type": "code",
   "execution_count": 61,
   "id": "43f77f33",
   "metadata": {},
   "outputs": [
    {
     "name": "stdout",
     "output_type": "stream",
     "text": [
      "<class 'pandas.core.frame.DataFrame'>\n",
      "RangeIndex: 5054 entries, 0 to 5053\n",
      "Data columns (total 5 columns):\n",
      " #   Column           Non-Null Count  Dtype         \n",
      "---  ------           --------------  -----         \n",
      " 0   CustomerID       5054 non-null   int64         \n",
      " 1   TransactionID    5054 non-null   int64         \n",
      " 2   TransactionDate  5054 non-null   datetime64[ns]\n",
      " 3   AmountSpent      5054 non-null   float64       \n",
      " 4   ProductCategory  5054 non-null   object        \n",
      "dtypes: datetime64[ns](1), float64(1), int64(2), object(1)\n",
      "memory usage: 197.6+ KB\n"
     ]
    }
   ],
   "source": [
    "transaction_history.info()"
   ]
  },
  {
   "cell_type": "code",
   "execution_count": 62,
   "id": "99de3ef9",
   "metadata": {},
   "outputs": [
    {
     "data": {
      "text/plain": [
       "CustomerID         0\n",
       "TransactionID      0\n",
       "TransactionDate    0\n",
       "AmountSpent        0\n",
       "ProductCategory    0\n",
       "dtype: int64"
      ]
     },
     "execution_count": 62,
     "metadata": {},
     "output_type": "execute_result"
    }
   ],
   "source": [
    "transaction_history.isnull().sum()"
   ]
  },
  {
   "cell_type": "code",
   "execution_count": 63,
   "id": "c3407bc0",
   "metadata": {},
   "outputs": [
    {
     "data": {
      "text/html": [
       "<div>\n",
       "<style scoped>\n",
       "    .dataframe tbody tr th:only-of-type {\n",
       "        vertical-align: middle;\n",
       "    }\n",
       "\n",
       "    .dataframe tbody tr th {\n",
       "        vertical-align: top;\n",
       "    }\n",
       "\n",
       "    .dataframe thead th {\n",
       "        text-align: right;\n",
       "    }\n",
       "</style>\n",
       "<table border=\"1\" class=\"dataframe\">\n",
       "  <thead>\n",
       "    <tr style=\"text-align: right;\">\n",
       "      <th></th>\n",
       "      <th>CustomerID</th>\n",
       "      <th>TransactionID</th>\n",
       "      <th>TransactionDate</th>\n",
       "      <th>AmountSpent</th>\n",
       "      <th>ProductCategory</th>\n",
       "    </tr>\n",
       "  </thead>\n",
       "  <tbody>\n",
       "    <tr>\n",
       "      <th>0</th>\n",
       "      <td>1</td>\n",
       "      <td>7194</td>\n",
       "      <td>2022-03-27</td>\n",
       "      <td>416.50</td>\n",
       "      <td>Electronics</td>\n",
       "    </tr>\n",
       "    <tr>\n",
       "      <th>1</th>\n",
       "      <td>2</td>\n",
       "      <td>7250</td>\n",
       "      <td>2022-08-08</td>\n",
       "      <td>54.96</td>\n",
       "      <td>Clothing</td>\n",
       "    </tr>\n",
       "    <tr>\n",
       "      <th>2</th>\n",
       "      <td>2</td>\n",
       "      <td>9660</td>\n",
       "      <td>2022-07-25</td>\n",
       "      <td>197.50</td>\n",
       "      <td>Electronics</td>\n",
       "    </tr>\n",
       "    <tr>\n",
       "      <th>3</th>\n",
       "      <td>2</td>\n",
       "      <td>2998</td>\n",
       "      <td>2022-01-25</td>\n",
       "      <td>101.31</td>\n",
       "      <td>Furniture</td>\n",
       "    </tr>\n",
       "    <tr>\n",
       "      <th>4</th>\n",
       "      <td>2</td>\n",
       "      <td>1228</td>\n",
       "      <td>2022-07-24</td>\n",
       "      <td>397.37</td>\n",
       "      <td>Clothing</td>\n",
       "    </tr>\n",
       "  </tbody>\n",
       "</table>\n",
       "</div>"
      ],
      "text/plain": [
       "   CustomerID  TransactionID TransactionDate  AmountSpent ProductCategory\n",
       "0           1           7194      2022-03-27       416.50     Electronics\n",
       "1           2           7250      2022-08-08        54.96        Clothing\n",
       "2           2           9660      2022-07-25       197.50     Electronics\n",
       "3           2           2998      2022-01-25       101.31       Furniture\n",
       "4           2           1228      2022-07-24       397.37        Clothing"
      ]
     },
     "execution_count": 63,
     "metadata": {},
     "output_type": "execute_result"
    }
   ],
   "source": [
    "transaction_history.head()"
   ]
  },
  {
   "cell_type": "code",
   "execution_count": 64,
   "id": "b9135517",
   "metadata": {},
   "outputs": [
    {
     "data": {
      "text/plain": [
       "CustomerID         1000\n",
       "TransactionID      3864\n",
       "TransactionDate     365\n",
       "AmountSpent        4797\n",
       "ProductCategory       5\n",
       "dtype: int64"
      ]
     },
     "execution_count": 64,
     "metadata": {},
     "output_type": "execute_result"
    }
   ],
   "source": [
    "transaction_history.nunique()"
   ]
  },
  {
   "cell_type": "code",
   "execution_count": 65,
   "id": "552bbd6a",
   "metadata": {},
   "outputs": [
    {
     "data": {
      "text/html": [
       "<div>\n",
       "<style scoped>\n",
       "    .dataframe tbody tr th:only-of-type {\n",
       "        vertical-align: middle;\n",
       "    }\n",
       "\n",
       "    .dataframe tbody tr th {\n",
       "        vertical-align: top;\n",
       "    }\n",
       "\n",
       "    .dataframe thead th {\n",
       "        text-align: right;\n",
       "    }\n",
       "</style>\n",
       "<table border=\"1\" class=\"dataframe\">\n",
       "  <thead>\n",
       "    <tr style=\"text-align: right;\">\n",
       "      <th></th>\n",
       "      <th>CustomerID</th>\n",
       "      <th>InteractionID</th>\n",
       "      <th>InteractionDate</th>\n",
       "    </tr>\n",
       "  </thead>\n",
       "  <tbody>\n",
       "    <tr>\n",
       "      <th>count</th>\n",
       "      <td>1002.000000</td>\n",
       "      <td>1002.000000</td>\n",
       "      <td>1002</td>\n",
       "    </tr>\n",
       "    <tr>\n",
       "      <th>mean</th>\n",
       "      <td>485.209581</td>\n",
       "      <td>5952.887226</td>\n",
       "      <td>2022-07-02 19:28:22.994011904</td>\n",
       "    </tr>\n",
       "    <tr>\n",
       "      <th>min</th>\n",
       "      <td>1.000000</td>\n",
       "      <td>2015.000000</td>\n",
       "      <td>2022-01-01 00:00:00</td>\n",
       "    </tr>\n",
       "    <tr>\n",
       "      <th>25%</th>\n",
       "      <td>238.250000</td>\n",
       "      <td>3991.500000</td>\n",
       "      <td>2022-04-07 00:00:00</td>\n",
       "    </tr>\n",
       "    <tr>\n",
       "      <th>50%</th>\n",
       "      <td>474.500000</td>\n",
       "      <td>5911.500000</td>\n",
       "      <td>2022-07-02 12:00:00</td>\n",
       "    </tr>\n",
       "    <tr>\n",
       "      <th>75%</th>\n",
       "      <td>735.750000</td>\n",
       "      <td>7908.250000</td>\n",
       "      <td>2022-09-30 00:00:00</td>\n",
       "    </tr>\n",
       "    <tr>\n",
       "      <th>max</th>\n",
       "      <td>995.000000</td>\n",
       "      <td>9997.000000</td>\n",
       "      <td>2022-12-30 00:00:00</td>\n",
       "    </tr>\n",
       "    <tr>\n",
       "      <th>std</th>\n",
       "      <td>287.030259</td>\n",
       "      <td>2305.819681</td>\n",
       "      <td>NaN</td>\n",
       "    </tr>\n",
       "  </tbody>\n",
       "</table>\n",
       "</div>"
      ],
      "text/plain": [
       "        CustomerID  InteractionID                InteractionDate\n",
       "count  1002.000000    1002.000000                           1002\n",
       "mean    485.209581    5952.887226  2022-07-02 19:28:22.994011904\n",
       "min       1.000000    2015.000000            2022-01-01 00:00:00\n",
       "25%     238.250000    3991.500000            2022-04-07 00:00:00\n",
       "50%     474.500000    5911.500000            2022-07-02 12:00:00\n",
       "75%     735.750000    7908.250000            2022-09-30 00:00:00\n",
       "max     995.000000    9997.000000            2022-12-30 00:00:00\n",
       "std     287.030259    2305.819681                            NaN"
      ]
     },
     "execution_count": 65,
     "metadata": {},
     "output_type": "execute_result"
    }
   ],
   "source": [
    "customer_service.describe()"
   ]
  },
  {
   "cell_type": "code",
   "execution_count": 66,
   "id": "dc401e0a",
   "metadata": {},
   "outputs": [
    {
     "data": {
      "text/html": [
       "<div>\n",
       "<style scoped>\n",
       "    .dataframe tbody tr th:only-of-type {\n",
       "        vertical-align: middle;\n",
       "    }\n",
       "\n",
       "    .dataframe tbody tr th {\n",
       "        vertical-align: top;\n",
       "    }\n",
       "\n",
       "    .dataframe thead th {\n",
       "        text-align: right;\n",
       "    }\n",
       "</style>\n",
       "<table border=\"1\" class=\"dataframe\">\n",
       "  <thead>\n",
       "    <tr style=\"text-align: right;\">\n",
       "      <th></th>\n",
       "      <th>CustomerID</th>\n",
       "      <th>InteractionID</th>\n",
       "      <th>InteractionDate</th>\n",
       "      <th>InteractionType</th>\n",
       "      <th>ResolutionStatus</th>\n",
       "    </tr>\n",
       "  </thead>\n",
       "  <tbody>\n",
       "    <tr>\n",
       "      <th>0</th>\n",
       "      <td>1</td>\n",
       "      <td>6363</td>\n",
       "      <td>2022-03-31</td>\n",
       "      <td>Inquiry</td>\n",
       "      <td>Resolved</td>\n",
       "    </tr>\n",
       "    <tr>\n",
       "      <th>1</th>\n",
       "      <td>2</td>\n",
       "      <td>3329</td>\n",
       "      <td>2022-03-17</td>\n",
       "      <td>Inquiry</td>\n",
       "      <td>Resolved</td>\n",
       "    </tr>\n",
       "    <tr>\n",
       "      <th>2</th>\n",
       "      <td>3</td>\n",
       "      <td>9976</td>\n",
       "      <td>2022-08-24</td>\n",
       "      <td>Inquiry</td>\n",
       "      <td>Resolved</td>\n",
       "    </tr>\n",
       "    <tr>\n",
       "      <th>3</th>\n",
       "      <td>4</td>\n",
       "      <td>7354</td>\n",
       "      <td>2022-11-18</td>\n",
       "      <td>Inquiry</td>\n",
       "      <td>Resolved</td>\n",
       "    </tr>\n",
       "    <tr>\n",
       "      <th>4</th>\n",
       "      <td>4</td>\n",
       "      <td>5393</td>\n",
       "      <td>2022-07-03</td>\n",
       "      <td>Inquiry</td>\n",
       "      <td>Unresolved</td>\n",
       "    </tr>\n",
       "  </tbody>\n",
       "</table>\n",
       "</div>"
      ],
      "text/plain": [
       "   CustomerID  InteractionID InteractionDate InteractionType ResolutionStatus\n",
       "0           1           6363      2022-03-31         Inquiry         Resolved\n",
       "1           2           3329      2022-03-17         Inquiry         Resolved\n",
       "2           3           9976      2022-08-24         Inquiry         Resolved\n",
       "3           4           7354      2022-11-18         Inquiry         Resolved\n",
       "4           4           5393      2022-07-03         Inquiry       Unresolved"
      ]
     },
     "execution_count": 66,
     "metadata": {},
     "output_type": "execute_result"
    }
   ],
   "source": [
    "customer_service.head()"
   ]
  },
  {
   "cell_type": "code",
   "execution_count": 67,
   "id": "e9bebf28",
   "metadata": {},
   "outputs": [
    {
     "name": "stdout",
     "output_type": "stream",
     "text": [
      "<class 'pandas.core.frame.DataFrame'>\n",
      "RangeIndex: 1002 entries, 0 to 1001\n",
      "Data columns (total 5 columns):\n",
      " #   Column            Non-Null Count  Dtype         \n",
      "---  ------            --------------  -----         \n",
      " 0   CustomerID        1002 non-null   int64         \n",
      " 1   InteractionID     1002 non-null   int64         \n",
      " 2   InteractionDate   1002 non-null   datetime64[ns]\n",
      " 3   InteractionType   1002 non-null   object        \n",
      " 4   ResolutionStatus  1002 non-null   object        \n",
      "dtypes: datetime64[ns](1), int64(2), object(2)\n",
      "memory usage: 39.3+ KB\n"
     ]
    }
   ],
   "source": [
    "customer_service.info()"
   ]
  },
  {
   "cell_type": "code",
   "execution_count": 68,
   "id": "39f10521",
   "metadata": {},
   "outputs": [
    {
     "data": {
      "text/plain": [
       "CustomerID          0\n",
       "InteractionID       0\n",
       "InteractionDate     0\n",
       "InteractionType     0\n",
       "ResolutionStatus    0\n",
       "dtype: int64"
      ]
     },
     "execution_count": 68,
     "metadata": {},
     "output_type": "execute_result"
    }
   ],
   "source": [
    "customer_service.isnull().sum()"
   ]
  },
  {
   "cell_type": "code",
   "execution_count": 69,
   "id": "ac146d9c",
   "metadata": {},
   "outputs": [
    {
     "data": {
      "text/html": [
       "<div>\n",
       "<style scoped>\n",
       "    .dataframe tbody tr th:only-of-type {\n",
       "        vertical-align: middle;\n",
       "    }\n",
       "\n",
       "    .dataframe tbody tr th {\n",
       "        vertical-align: top;\n",
       "    }\n",
       "\n",
       "    .dataframe thead th {\n",
       "        text-align: right;\n",
       "    }\n",
       "</style>\n",
       "<table border=\"1\" class=\"dataframe\">\n",
       "  <thead>\n",
       "    <tr style=\"text-align: right;\">\n",
       "      <th>InteractionMonth</th>\n",
       "      <th>InteractionType</th>\n",
       "      <th>January</th>\n",
       "      <th>February</th>\n",
       "      <th>March</th>\n",
       "      <th>April</th>\n",
       "      <th>May</th>\n",
       "      <th>June</th>\n",
       "      <th>July</th>\n",
       "      <th>August</th>\n",
       "      <th>September</th>\n",
       "      <th>October</th>\n",
       "      <th>November</th>\n",
       "      <th>December</th>\n",
       "    </tr>\n",
       "  </thead>\n",
       "  <tbody>\n",
       "    <tr>\n",
       "      <th>0</th>\n",
       "      <td>Complaint</td>\n",
       "      <td>25</td>\n",
       "      <td>22</td>\n",
       "      <td>31</td>\n",
       "      <td>25</td>\n",
       "      <td>41</td>\n",
       "      <td>32</td>\n",
       "      <td>33</td>\n",
       "      <td>26</td>\n",
       "      <td>28</td>\n",
       "      <td>32</td>\n",
       "      <td>27</td>\n",
       "      <td>13</td>\n",
       "    </tr>\n",
       "    <tr>\n",
       "      <th>1</th>\n",
       "      <td>Feedback</td>\n",
       "      <td>27</td>\n",
       "      <td>26</td>\n",
       "      <td>36</td>\n",
       "      <td>32</td>\n",
       "      <td>20</td>\n",
       "      <td>31</td>\n",
       "      <td>42</td>\n",
       "      <td>28</td>\n",
       "      <td>33</td>\n",
       "      <td>31</td>\n",
       "      <td>25</td>\n",
       "      <td>29</td>\n",
       "    </tr>\n",
       "    <tr>\n",
       "      <th>2</th>\n",
       "      <td>Inquiry</td>\n",
       "      <td>25</td>\n",
       "      <td>20</td>\n",
       "      <td>26</td>\n",
       "      <td>23</td>\n",
       "      <td>26</td>\n",
       "      <td>24</td>\n",
       "      <td>22</td>\n",
       "      <td>28</td>\n",
       "      <td>21</td>\n",
       "      <td>26</td>\n",
       "      <td>32</td>\n",
       "      <td>34</td>\n",
       "    </tr>\n",
       "  </tbody>\n",
       "</table>\n",
       "</div>"
      ],
      "text/plain": [
       "InteractionMonth InteractionType  January  February  March  April  May  June  \\\n",
       "0                      Complaint       25        22     31     25   41    32   \n",
       "1                       Feedback       27        26     36     32   20    31   \n",
       "2                        Inquiry       25        20     26     23   26    24   \n",
       "\n",
       "InteractionMonth  July  August  September  October  November  December  \n",
       "0                   33      26         28       32        27        13  \n",
       "1                   42      28         33       31        25        29  \n",
       "2                   22      28         21       26        32        34  "
      ]
     },
     "execution_count": 69,
     "metadata": {},
     "output_type": "execute_result"
    }
   ],
   "source": [
    "customer_service['InteractionMonth'] = customer_service['InteractionDate'].dt.month_name()\n",
    "\n",
    "monthly_counts = (\n",
    "    customer_service\n",
    "    .groupby(['InteractionType', 'InteractionMonth'])\n",
    "    .size()\n",
    "    .sort_index()\n",
    "    .unstack(fill_value=0)\n",
    ")\n",
    "\n",
    "monthly_line_df = pd.DataFrame(monthly_counts)\n",
    "\n",
    "monthly_line_df.sort_index(inplace=True)\n",
    "monthly_line_df = monthly_line_df.reindex(\n",
    "    ['January', 'February', 'March', 'April', 'May', 'June', \n",
    "        'July', 'August', 'September', 'October', 'November', 'December'], \n",
    "    axis=1\n",
    ")   \n",
    "monthly_line_df.reset_index(inplace=True)\n",
    "monthly_line_df"
   ]
  },
  {
   "cell_type": "code",
   "execution_count": 70,
   "id": "04619731",
   "metadata": {},
   "outputs": [
    {
     "data": {
      "application/vnd.plotly.v1+json": {
       "config": {
        "plotlyServerURL": "https://plot.ly"
       },
       "data": [
        {
         "hovertemplate": "InteractionType=Complaint<br>Month=%{x}<br>Number of Interactions=%{y}<extra></extra>",
         "legendgroup": "Complaint",
         "line": {
          "color": "#636efa",
          "dash": "solid"
         },
         "marker": {
          "symbol": "circle"
         },
         "mode": "lines+markers",
         "name": "Complaint",
         "orientation": "v",
         "showlegend": true,
         "type": "scatter",
         "x": [
          "January",
          "February",
          "March",
          "April",
          "May",
          "June",
          "July",
          "August",
          "September",
          "October",
          "November",
          "December"
         ],
         "xaxis": "x",
         "y": {
          "bdata": "GRYfGSkgIRocIBsN",
          "dtype": "i1"
         },
         "yaxis": "y"
        },
        {
         "hovertemplate": "InteractionType=Feedback<br>Month=%{x}<br>Number of Interactions=%{y}<extra></extra>",
         "legendgroup": "Feedback",
         "line": {
          "color": "#EF553B",
          "dash": "solid"
         },
         "marker": {
          "symbol": "circle"
         },
         "mode": "lines+markers",
         "name": "Feedback",
         "orientation": "v",
         "showlegend": true,
         "type": "scatter",
         "x": [
          "January",
          "February",
          "March",
          "April",
          "May",
          "June",
          "July",
          "August",
          "September",
          "October",
          "November",
          "December"
         ],
         "xaxis": "x",
         "y": {
          "bdata": "GxokIBQfKhwhHxkd",
          "dtype": "i1"
         },
         "yaxis": "y"
        },
        {
         "hovertemplate": "InteractionType=Inquiry<br>Month=%{x}<br>Number of Interactions=%{y}<extra></extra>",
         "legendgroup": "Inquiry",
         "line": {
          "color": "#00cc96",
          "dash": "solid"
         },
         "marker": {
          "symbol": "circle"
         },
         "mode": "lines+markers",
         "name": "Inquiry",
         "orientation": "v",
         "showlegend": true,
         "type": "scatter",
         "x": [
          "January",
          "February",
          "March",
          "April",
          "May",
          "June",
          "July",
          "August",
          "September",
          "October",
          "November",
          "December"
         ],
         "xaxis": "x",
         "y": {
          "bdata": "GRQaFxoYFhwVGiAi",
          "dtype": "i1"
         },
         "yaxis": "y"
        }
       ],
       "layout": {
        "legend": {
         "title": {
          "text": "InteractionType"
         },
         "tracegroupgap": 0
        },
        "template": {
         "data": {
          "bar": [
           {
            "error_x": {
             "color": "#2a3f5f"
            },
            "error_y": {
             "color": "#2a3f5f"
            },
            "marker": {
             "line": {
              "color": "#E5ECF6",
              "width": 0.5
             },
             "pattern": {
              "fillmode": "overlay",
              "size": 10,
              "solidity": 0.2
             }
            },
            "type": "bar"
           }
          ],
          "barpolar": [
           {
            "marker": {
             "line": {
              "color": "#E5ECF6",
              "width": 0.5
             },
             "pattern": {
              "fillmode": "overlay",
              "size": 10,
              "solidity": 0.2
             }
            },
            "type": "barpolar"
           }
          ],
          "carpet": [
           {
            "aaxis": {
             "endlinecolor": "#2a3f5f",
             "gridcolor": "white",
             "linecolor": "white",
             "minorgridcolor": "white",
             "startlinecolor": "#2a3f5f"
            },
            "baxis": {
             "endlinecolor": "#2a3f5f",
             "gridcolor": "white",
             "linecolor": "white",
             "minorgridcolor": "white",
             "startlinecolor": "#2a3f5f"
            },
            "type": "carpet"
           }
          ],
          "choropleth": [
           {
            "colorbar": {
             "outlinewidth": 0,
             "ticks": ""
            },
            "type": "choropleth"
           }
          ],
          "contour": [
           {
            "colorbar": {
             "outlinewidth": 0,
             "ticks": ""
            },
            "colorscale": [
             [
              0,
              "#0d0887"
             ],
             [
              0.1111111111111111,
              "#46039f"
             ],
             [
              0.2222222222222222,
              "#7201a8"
             ],
             [
              0.3333333333333333,
              "#9c179e"
             ],
             [
              0.4444444444444444,
              "#bd3786"
             ],
             [
              0.5555555555555556,
              "#d8576b"
             ],
             [
              0.6666666666666666,
              "#ed7953"
             ],
             [
              0.7777777777777778,
              "#fb9f3a"
             ],
             [
              0.8888888888888888,
              "#fdca26"
             ],
             [
              1,
              "#f0f921"
             ]
            ],
            "type": "contour"
           }
          ],
          "contourcarpet": [
           {
            "colorbar": {
             "outlinewidth": 0,
             "ticks": ""
            },
            "type": "contourcarpet"
           }
          ],
          "heatmap": [
           {
            "colorbar": {
             "outlinewidth": 0,
             "ticks": ""
            },
            "colorscale": [
             [
              0,
              "#0d0887"
             ],
             [
              0.1111111111111111,
              "#46039f"
             ],
             [
              0.2222222222222222,
              "#7201a8"
             ],
             [
              0.3333333333333333,
              "#9c179e"
             ],
             [
              0.4444444444444444,
              "#bd3786"
             ],
             [
              0.5555555555555556,
              "#d8576b"
             ],
             [
              0.6666666666666666,
              "#ed7953"
             ],
             [
              0.7777777777777778,
              "#fb9f3a"
             ],
             [
              0.8888888888888888,
              "#fdca26"
             ],
             [
              1,
              "#f0f921"
             ]
            ],
            "type": "heatmap"
           }
          ],
          "histogram": [
           {
            "marker": {
             "pattern": {
              "fillmode": "overlay",
              "size": 10,
              "solidity": 0.2
             }
            },
            "type": "histogram"
           }
          ],
          "histogram2d": [
           {
            "colorbar": {
             "outlinewidth": 0,
             "ticks": ""
            },
            "colorscale": [
             [
              0,
              "#0d0887"
             ],
             [
              0.1111111111111111,
              "#46039f"
             ],
             [
              0.2222222222222222,
              "#7201a8"
             ],
             [
              0.3333333333333333,
              "#9c179e"
             ],
             [
              0.4444444444444444,
              "#bd3786"
             ],
             [
              0.5555555555555556,
              "#d8576b"
             ],
             [
              0.6666666666666666,
              "#ed7953"
             ],
             [
              0.7777777777777778,
              "#fb9f3a"
             ],
             [
              0.8888888888888888,
              "#fdca26"
             ],
             [
              1,
              "#f0f921"
             ]
            ],
            "type": "histogram2d"
           }
          ],
          "histogram2dcontour": [
           {
            "colorbar": {
             "outlinewidth": 0,
             "ticks": ""
            },
            "colorscale": [
             [
              0,
              "#0d0887"
             ],
             [
              0.1111111111111111,
              "#46039f"
             ],
             [
              0.2222222222222222,
              "#7201a8"
             ],
             [
              0.3333333333333333,
              "#9c179e"
             ],
             [
              0.4444444444444444,
              "#bd3786"
             ],
             [
              0.5555555555555556,
              "#d8576b"
             ],
             [
              0.6666666666666666,
              "#ed7953"
             ],
             [
              0.7777777777777778,
              "#fb9f3a"
             ],
             [
              0.8888888888888888,
              "#fdca26"
             ],
             [
              1,
              "#f0f921"
             ]
            ],
            "type": "histogram2dcontour"
           }
          ],
          "mesh3d": [
           {
            "colorbar": {
             "outlinewidth": 0,
             "ticks": ""
            },
            "type": "mesh3d"
           }
          ],
          "parcoords": [
           {
            "line": {
             "colorbar": {
              "outlinewidth": 0,
              "ticks": ""
             }
            },
            "type": "parcoords"
           }
          ],
          "pie": [
           {
            "automargin": true,
            "type": "pie"
           }
          ],
          "scatter": [
           {
            "fillpattern": {
             "fillmode": "overlay",
             "size": 10,
             "solidity": 0.2
            },
            "type": "scatter"
           }
          ],
          "scatter3d": [
           {
            "line": {
             "colorbar": {
              "outlinewidth": 0,
              "ticks": ""
             }
            },
            "marker": {
             "colorbar": {
              "outlinewidth": 0,
              "ticks": ""
             }
            },
            "type": "scatter3d"
           }
          ],
          "scattercarpet": [
           {
            "marker": {
             "colorbar": {
              "outlinewidth": 0,
              "ticks": ""
             }
            },
            "type": "scattercarpet"
           }
          ],
          "scattergeo": [
           {
            "marker": {
             "colorbar": {
              "outlinewidth": 0,
              "ticks": ""
             }
            },
            "type": "scattergeo"
           }
          ],
          "scattergl": [
           {
            "marker": {
             "colorbar": {
              "outlinewidth": 0,
              "ticks": ""
             }
            },
            "type": "scattergl"
           }
          ],
          "scattermap": [
           {
            "marker": {
             "colorbar": {
              "outlinewidth": 0,
              "ticks": ""
             }
            },
            "type": "scattermap"
           }
          ],
          "scattermapbox": [
           {
            "marker": {
             "colorbar": {
              "outlinewidth": 0,
              "ticks": ""
             }
            },
            "type": "scattermapbox"
           }
          ],
          "scatterpolar": [
           {
            "marker": {
             "colorbar": {
              "outlinewidth": 0,
              "ticks": ""
             }
            },
            "type": "scatterpolar"
           }
          ],
          "scatterpolargl": [
           {
            "marker": {
             "colorbar": {
              "outlinewidth": 0,
              "ticks": ""
             }
            },
            "type": "scatterpolargl"
           }
          ],
          "scatterternary": [
           {
            "marker": {
             "colorbar": {
              "outlinewidth": 0,
              "ticks": ""
             }
            },
            "type": "scatterternary"
           }
          ],
          "surface": [
           {
            "colorbar": {
             "outlinewidth": 0,
             "ticks": ""
            },
            "colorscale": [
             [
              0,
              "#0d0887"
             ],
             [
              0.1111111111111111,
              "#46039f"
             ],
             [
              0.2222222222222222,
              "#7201a8"
             ],
             [
              0.3333333333333333,
              "#9c179e"
             ],
             [
              0.4444444444444444,
              "#bd3786"
             ],
             [
              0.5555555555555556,
              "#d8576b"
             ],
             [
              0.6666666666666666,
              "#ed7953"
             ],
             [
              0.7777777777777778,
              "#fb9f3a"
             ],
             [
              0.8888888888888888,
              "#fdca26"
             ],
             [
              1,
              "#f0f921"
             ]
            ],
            "type": "surface"
           }
          ],
          "table": [
           {
            "cells": {
             "fill": {
              "color": "#EBF0F8"
             },
             "line": {
              "color": "white"
             }
            },
            "header": {
             "fill": {
              "color": "#C8D4E3"
             },
             "line": {
              "color": "white"
             }
            },
            "type": "table"
           }
          ]
         },
         "layout": {
          "annotationdefaults": {
           "arrowcolor": "#2a3f5f",
           "arrowhead": 0,
           "arrowwidth": 1
          },
          "autotypenumbers": "strict",
          "coloraxis": {
           "colorbar": {
            "outlinewidth": 0,
            "ticks": ""
           }
          },
          "colorscale": {
           "diverging": [
            [
             0,
             "#8e0152"
            ],
            [
             0.1,
             "#c51b7d"
            ],
            [
             0.2,
             "#de77ae"
            ],
            [
             0.3,
             "#f1b6da"
            ],
            [
             0.4,
             "#fde0ef"
            ],
            [
             0.5,
             "#f7f7f7"
            ],
            [
             0.6,
             "#e6f5d0"
            ],
            [
             0.7,
             "#b8e186"
            ],
            [
             0.8,
             "#7fbc41"
            ],
            [
             0.9,
             "#4d9221"
            ],
            [
             1,
             "#276419"
            ]
           ],
           "sequential": [
            [
             0,
             "#0d0887"
            ],
            [
             0.1111111111111111,
             "#46039f"
            ],
            [
             0.2222222222222222,
             "#7201a8"
            ],
            [
             0.3333333333333333,
             "#9c179e"
            ],
            [
             0.4444444444444444,
             "#bd3786"
            ],
            [
             0.5555555555555556,
             "#d8576b"
            ],
            [
             0.6666666666666666,
             "#ed7953"
            ],
            [
             0.7777777777777778,
             "#fb9f3a"
            ],
            [
             0.8888888888888888,
             "#fdca26"
            ],
            [
             1,
             "#f0f921"
            ]
           ],
           "sequentialminus": [
            [
             0,
             "#0d0887"
            ],
            [
             0.1111111111111111,
             "#46039f"
            ],
            [
             0.2222222222222222,
             "#7201a8"
            ],
            [
             0.3333333333333333,
             "#9c179e"
            ],
            [
             0.4444444444444444,
             "#bd3786"
            ],
            [
             0.5555555555555556,
             "#d8576b"
            ],
            [
             0.6666666666666666,
             "#ed7953"
            ],
            [
             0.7777777777777778,
             "#fb9f3a"
            ],
            [
             0.8888888888888888,
             "#fdca26"
            ],
            [
             1,
             "#f0f921"
            ]
           ]
          },
          "colorway": [
           "#636efa",
           "#EF553B",
           "#00cc96",
           "#ab63fa",
           "#FFA15A",
           "#19d3f3",
           "#FF6692",
           "#B6E880",
           "#FF97FF",
           "#FECB52"
          ],
          "font": {
           "color": "#2a3f5f"
          },
          "geo": {
           "bgcolor": "white",
           "lakecolor": "white",
           "landcolor": "#E5ECF6",
           "showlakes": true,
           "showland": true,
           "subunitcolor": "white"
          },
          "hoverlabel": {
           "align": "left"
          },
          "hovermode": "closest",
          "mapbox": {
           "style": "light"
          },
          "paper_bgcolor": "white",
          "plot_bgcolor": "#E5ECF6",
          "polar": {
           "angularaxis": {
            "gridcolor": "white",
            "linecolor": "white",
            "ticks": ""
           },
           "bgcolor": "#E5ECF6",
           "radialaxis": {
            "gridcolor": "white",
            "linecolor": "white",
            "ticks": ""
           }
          },
          "scene": {
           "xaxis": {
            "backgroundcolor": "#E5ECF6",
            "gridcolor": "white",
            "gridwidth": 2,
            "linecolor": "white",
            "showbackground": true,
            "ticks": "",
            "zerolinecolor": "white"
           },
           "yaxis": {
            "backgroundcolor": "#E5ECF6",
            "gridcolor": "white",
            "gridwidth": 2,
            "linecolor": "white",
            "showbackground": true,
            "ticks": "",
            "zerolinecolor": "white"
           },
           "zaxis": {
            "backgroundcolor": "#E5ECF6",
            "gridcolor": "white",
            "gridwidth": 2,
            "linecolor": "white",
            "showbackground": true,
            "ticks": "",
            "zerolinecolor": "white"
           }
          },
          "shapedefaults": {
           "line": {
            "color": "#2a3f5f"
           }
          },
          "ternary": {
           "aaxis": {
            "gridcolor": "white",
            "linecolor": "white",
            "ticks": ""
           },
           "baxis": {
            "gridcolor": "white",
            "linecolor": "white",
            "ticks": ""
           },
           "bgcolor": "#E5ECF6",
           "caxis": {
            "gridcolor": "white",
            "linecolor": "white",
            "ticks": ""
           }
          },
          "title": {
           "x": 0.05
          },
          "xaxis": {
           "automargin": true,
           "gridcolor": "white",
           "linecolor": "white",
           "ticks": "",
           "title": {
            "standoff": 15
           },
           "zerolinecolor": "white",
           "zerolinewidth": 2
          },
          "yaxis": {
           "automargin": true,
           "gridcolor": "white",
           "linecolor": "white",
           "ticks": "",
           "title": {
            "standoff": 15
           },
           "zerolinecolor": "white",
           "zerolinewidth": 2
          }
         }
        },
        "title": {
         "text": "Monthly Customer Service Interactions by Type"
        },
        "xaxis": {
         "anchor": "y",
         "domain": [
          0,
          1
         ],
         "dtick": 1,
         "tickmode": "linear",
         "title": {
          "text": "Month"
         }
        },
        "yaxis": {
         "anchor": "x",
         "domain": [
          0,
          1
         ],
         "title": {
          "text": "Number of Interactions"
         }
        }
       }
      }
     },
     "metadata": {},
     "output_type": "display_data"
    }
   ],
   "source": [
    "monthly_line_long = monthly_line_df.melt(id_vars='InteractionType', var_name='Month', value_name='Count')\n",
    "\n",
    "monthly_line_long['Month'] = monthly_line_long['Month']\n",
    "\n",
    "# Sort for proper line plot rendering\n",
    "monthly_line_long = monthly_line_long.sort_index()\n",
    "\n",
    "# Plot the line chart\n",
    "fig = px.line(\n",
    "    monthly_line_long,\n",
    "    x='Month',\n",
    "    y='Count',\n",
    "    color='InteractionType',\n",
    "    markers=True,\n",
    "    title='Monthly Customer Service Interactions by Type',\n",
    "    labels={'Month': 'Month', 'Count': 'Number of Interactions'}\n",
    ")\n",
    "\n",
    "fig.update_layout(xaxis=dict(tickmode='linear', dtick=1))\n",
    "fig.show()"
   ]
  },
  {
   "cell_type": "code",
   "execution_count": 71,
   "id": "23988c7d",
   "metadata": {},
   "outputs": [
    {
     "data": {
      "text/html": [
       "<div>\n",
       "<style scoped>\n",
       "    .dataframe tbody tr th:only-of-type {\n",
       "        vertical-align: middle;\n",
       "    }\n",
       "\n",
       "    .dataframe tbody tr th {\n",
       "        vertical-align: top;\n",
       "    }\n",
       "\n",
       "    .dataframe thead th {\n",
       "        text-align: right;\n",
       "    }\n",
       "</style>\n",
       "<table border=\"1\" class=\"dataframe\">\n",
       "  <thead>\n",
       "    <tr style=\"text-align: right;\">\n",
       "      <th></th>\n",
       "      <th>CustomerID</th>\n",
       "      <th>LastLoginDate</th>\n",
       "      <th>LoginFrequency</th>\n",
       "    </tr>\n",
       "  </thead>\n",
       "  <tbody>\n",
       "    <tr>\n",
       "      <th>count</th>\n",
       "      <td>1000.000000</td>\n",
       "      <td>1000</td>\n",
       "      <td>1000.000000</td>\n",
       "    </tr>\n",
       "    <tr>\n",
       "      <th>mean</th>\n",
       "      <td>500.500000</td>\n",
       "      <td>2023-07-05 21:28:48</td>\n",
       "      <td>25.912000</td>\n",
       "    </tr>\n",
       "    <tr>\n",
       "      <th>min</th>\n",
       "      <td>1.000000</td>\n",
       "      <td>2023-01-01 00:00:00</td>\n",
       "      <td>1.000000</td>\n",
       "    </tr>\n",
       "    <tr>\n",
       "      <th>25%</th>\n",
       "      <td>250.750000</td>\n",
       "      <td>2023-04-08 00:00:00</td>\n",
       "      <td>13.750000</td>\n",
       "    </tr>\n",
       "    <tr>\n",
       "      <th>50%</th>\n",
       "      <td>500.500000</td>\n",
       "      <td>2023-07-10 12:00:00</td>\n",
       "      <td>27.000000</td>\n",
       "    </tr>\n",
       "    <tr>\n",
       "      <th>75%</th>\n",
       "      <td>750.250000</td>\n",
       "      <td>2023-10-01 06:00:00</td>\n",
       "      <td>38.000000</td>\n",
       "    </tr>\n",
       "    <tr>\n",
       "      <th>max</th>\n",
       "      <td>1000.000000</td>\n",
       "      <td>2023-12-31 00:00:00</td>\n",
       "      <td>49.000000</td>\n",
       "    </tr>\n",
       "    <tr>\n",
       "      <th>std</th>\n",
       "      <td>288.819436</td>\n",
       "      <td>NaN</td>\n",
       "      <td>14.055953</td>\n",
       "    </tr>\n",
       "  </tbody>\n",
       "</table>\n",
       "</div>"
      ],
      "text/plain": [
       "        CustomerID        LastLoginDate  LoginFrequency\n",
       "count  1000.000000                 1000     1000.000000\n",
       "mean    500.500000  2023-07-05 21:28:48       25.912000\n",
       "min       1.000000  2023-01-01 00:00:00        1.000000\n",
       "25%     250.750000  2023-04-08 00:00:00       13.750000\n",
       "50%     500.500000  2023-07-10 12:00:00       27.000000\n",
       "75%     750.250000  2023-10-01 06:00:00       38.000000\n",
       "max    1000.000000  2023-12-31 00:00:00       49.000000\n",
       "std     288.819436                  NaN       14.055953"
      ]
     },
     "execution_count": 71,
     "metadata": {},
     "output_type": "execute_result"
    }
   ],
   "source": [
    "online_activity.describe()"
   ]
  },
  {
   "cell_type": "code",
   "execution_count": 72,
   "id": "bcfca9ef",
   "metadata": {},
   "outputs": [
    {
     "name": "stdout",
     "output_type": "stream",
     "text": [
      "<class 'pandas.core.frame.DataFrame'>\n",
      "RangeIndex: 1000 entries, 0 to 999\n",
      "Data columns (total 4 columns):\n",
      " #   Column          Non-Null Count  Dtype         \n",
      "---  ------          --------------  -----         \n",
      " 0   CustomerID      1000 non-null   int64         \n",
      " 1   LastLoginDate   1000 non-null   datetime64[ns]\n",
      " 2   LoginFrequency  1000 non-null   int64         \n",
      " 3   ServiceUsage    1000 non-null   object        \n",
      "dtypes: datetime64[ns](1), int64(2), object(1)\n",
      "memory usage: 31.4+ KB\n"
     ]
    }
   ],
   "source": [
    "online_activity.info()"
   ]
  },
  {
   "cell_type": "code",
   "execution_count": 73,
   "id": "d0c56e61",
   "metadata": {},
   "outputs": [
    {
     "data": {
      "text/html": [
       "<div>\n",
       "<style scoped>\n",
       "    .dataframe tbody tr th:only-of-type {\n",
       "        vertical-align: middle;\n",
       "    }\n",
       "\n",
       "    .dataframe tbody tr th {\n",
       "        vertical-align: top;\n",
       "    }\n",
       "\n",
       "    .dataframe thead th {\n",
       "        text-align: right;\n",
       "    }\n",
       "</style>\n",
       "<table border=\"1\" class=\"dataframe\">\n",
       "  <thead>\n",
       "    <tr style=\"text-align: right;\">\n",
       "      <th></th>\n",
       "      <th>CustomerID</th>\n",
       "      <th>ChurnStatus</th>\n",
       "    </tr>\n",
       "  </thead>\n",
       "  <tbody>\n",
       "    <tr>\n",
       "      <th>count</th>\n",
       "      <td>1000.000000</td>\n",
       "      <td>1000.000000</td>\n",
       "    </tr>\n",
       "    <tr>\n",
       "      <th>mean</th>\n",
       "      <td>500.500000</td>\n",
       "      <td>0.204000</td>\n",
       "    </tr>\n",
       "    <tr>\n",
       "      <th>std</th>\n",
       "      <td>288.819436</td>\n",
       "      <td>0.403171</td>\n",
       "    </tr>\n",
       "    <tr>\n",
       "      <th>min</th>\n",
       "      <td>1.000000</td>\n",
       "      <td>0.000000</td>\n",
       "    </tr>\n",
       "    <tr>\n",
       "      <th>25%</th>\n",
       "      <td>250.750000</td>\n",
       "      <td>0.000000</td>\n",
       "    </tr>\n",
       "    <tr>\n",
       "      <th>50%</th>\n",
       "      <td>500.500000</td>\n",
       "      <td>0.000000</td>\n",
       "    </tr>\n",
       "    <tr>\n",
       "      <th>75%</th>\n",
       "      <td>750.250000</td>\n",
       "      <td>0.000000</td>\n",
       "    </tr>\n",
       "    <tr>\n",
       "      <th>max</th>\n",
       "      <td>1000.000000</td>\n",
       "      <td>1.000000</td>\n",
       "    </tr>\n",
       "  </tbody>\n",
       "</table>\n",
       "</div>"
      ],
      "text/plain": [
       "        CustomerID  ChurnStatus\n",
       "count  1000.000000  1000.000000\n",
       "mean    500.500000     0.204000\n",
       "std     288.819436     0.403171\n",
       "min       1.000000     0.000000\n",
       "25%     250.750000     0.000000\n",
       "50%     500.500000     0.000000\n",
       "75%     750.250000     0.000000\n",
       "max    1000.000000     1.000000"
      ]
     },
     "execution_count": 73,
     "metadata": {},
     "output_type": "execute_result"
    }
   ],
   "source": [
    "churn_status.describe()"
   ]
  },
  {
   "cell_type": "code",
   "execution_count": 74,
   "id": "4ac47776",
   "metadata": {},
   "outputs": [
    {
     "name": "stdout",
     "output_type": "stream",
     "text": [
      "<class 'pandas.core.frame.DataFrame'>\n",
      "RangeIndex: 1000 entries, 0 to 999\n",
      "Data columns (total 2 columns):\n",
      " #   Column       Non-Null Count  Dtype\n",
      "---  ------       --------------  -----\n",
      " 0   CustomerID   1000 non-null   int64\n",
      " 1   ChurnStatus  1000 non-null   int64\n",
      "dtypes: int64(2)\n",
      "memory usage: 15.8 KB\n"
     ]
    }
   ],
   "source": [
    "churn_status.info()"
   ]
  },
  {
   "cell_type": "code",
   "execution_count": 75,
   "id": "d9b7d5f7",
   "metadata": {},
   "outputs": [
    {
     "data": {
      "text/plain": [
       "CustomerID     0\n",
       "ChurnStatus    0\n",
       "dtype: int64"
      ]
     },
     "execution_count": 75,
     "metadata": {},
     "output_type": "execute_result"
    }
   ],
   "source": [
    "churn_status.isnull().sum()"
   ]
  },
  {
   "cell_type": "markdown",
   "id": "dcc3f60c",
   "metadata": {},
   "source": [
    "I am now going to start cleaning the data and select features for the EDA and machine learning process"
   ]
  },
  {
   "cell_type": "code",
   "execution_count": 76,
   "id": "d777d66b",
   "metadata": {},
   "outputs": [
    {
     "data": {
      "text/html": [
       "<div>\n",
       "<style scoped>\n",
       "    .dataframe tbody tr th:only-of-type {\n",
       "        vertical-align: middle;\n",
       "    }\n",
       "\n",
       "    .dataframe tbody tr th {\n",
       "        vertical-align: top;\n",
       "    }\n",
       "\n",
       "    .dataframe thead th {\n",
       "        text-align: right;\n",
       "    }\n",
       "</style>\n",
       "<table border=\"1\" class=\"dataframe\">\n",
       "  <thead>\n",
       "    <tr style=\"text-align: right;\">\n",
       "      <th></th>\n",
       "      <th>CustomerID</th>\n",
       "      <th>FirstTransactionDate</th>\n",
       "    </tr>\n",
       "  </thead>\n",
       "  <tbody>\n",
       "    <tr>\n",
       "      <th>0</th>\n",
       "      <td>1</td>\n",
       "      <td>2022-03-27</td>\n",
       "    </tr>\n",
       "    <tr>\n",
       "      <th>1</th>\n",
       "      <td>2</td>\n",
       "      <td>2022-01-09</td>\n",
       "    </tr>\n",
       "    <tr>\n",
       "      <th>2</th>\n",
       "      <td>3</td>\n",
       "      <td>2022-02-11</td>\n",
       "    </tr>\n",
       "    <tr>\n",
       "      <th>3</th>\n",
       "      <td>4</td>\n",
       "      <td>2022-05-22</td>\n",
       "    </tr>\n",
       "    <tr>\n",
       "      <th>4</th>\n",
       "      <td>5</td>\n",
       "      <td>2022-02-21</td>\n",
       "    </tr>\n",
       "    <tr>\n",
       "      <th>...</th>\n",
       "      <td>...</td>\n",
       "      <td>...</td>\n",
       "    </tr>\n",
       "    <tr>\n",
       "      <th>995</th>\n",
       "      <td>996</td>\n",
       "      <td>2022-07-24</td>\n",
       "    </tr>\n",
       "    <tr>\n",
       "      <th>996</th>\n",
       "      <td>997</td>\n",
       "      <td>2022-08-06</td>\n",
       "    </tr>\n",
       "    <tr>\n",
       "      <th>997</th>\n",
       "      <td>998</td>\n",
       "      <td>2022-09-18</td>\n",
       "    </tr>\n",
       "    <tr>\n",
       "      <th>998</th>\n",
       "      <td>999</td>\n",
       "      <td>2022-01-20</td>\n",
       "    </tr>\n",
       "    <tr>\n",
       "      <th>999</th>\n",
       "      <td>1000</td>\n",
       "      <td>2022-04-08</td>\n",
       "    </tr>\n",
       "  </tbody>\n",
       "</table>\n",
       "<p>1000 rows × 2 columns</p>\n",
       "</div>"
      ],
      "text/plain": [
       "     CustomerID FirstTransactionDate\n",
       "0             1           2022-03-27\n",
       "1             2           2022-01-09\n",
       "2             3           2022-02-11\n",
       "3             4           2022-05-22\n",
       "4             5           2022-02-21\n",
       "..          ...                  ...\n",
       "995         996           2022-07-24\n",
       "996         997           2022-08-06\n",
       "997         998           2022-09-18\n",
       "998         999           2022-01-20\n",
       "999        1000           2022-04-08\n",
       "\n",
       "[1000 rows x 2 columns]"
      ]
     },
     "execution_count": 76,
     "metadata": {},
     "output_type": "execute_result"
    }
   ],
   "source": [
    "#get the transaction history as to how long since their last transaction\n",
    "\n",
    "first_customer_transaction = transaction_history.groupby('CustomerID')['TransactionDate'].min().reset_index()\n",
    "first_customer_transaction.rename(columns={'TransactionDate': 'FirstTransactionDate'}, inplace=True)\n",
    "first_customer_transaction\n"
   ]
  },
  {
   "cell_type": "code",
   "execution_count": 77,
   "id": "6c5d533d",
   "metadata": {},
   "outputs": [
    {
     "data": {
      "text/html": [
       "<div>\n",
       "<style scoped>\n",
       "    .dataframe tbody tr th:only-of-type {\n",
       "        vertical-align: middle;\n",
       "    }\n",
       "\n",
       "    .dataframe tbody tr th {\n",
       "        vertical-align: top;\n",
       "    }\n",
       "\n",
       "    .dataframe thead th {\n",
       "        text-align: right;\n",
       "    }\n",
       "</style>\n",
       "<table border=\"1\" class=\"dataframe\">\n",
       "  <thead>\n",
       "    <tr style=\"text-align: right;\">\n",
       "      <th></th>\n",
       "      <th>CustomerID</th>\n",
       "      <th>LastTransactionDate</th>\n",
       "    </tr>\n",
       "  </thead>\n",
       "  <tbody>\n",
       "    <tr>\n",
       "      <th>0</th>\n",
       "      <td>1</td>\n",
       "      <td>2022-03-27</td>\n",
       "    </tr>\n",
       "    <tr>\n",
       "      <th>1</th>\n",
       "      <td>2</td>\n",
       "      <td>2022-11-19</td>\n",
       "    </tr>\n",
       "    <tr>\n",
       "      <th>2</th>\n",
       "      <td>3</td>\n",
       "      <td>2022-10-08</td>\n",
       "    </tr>\n",
       "    <tr>\n",
       "      <th>3</th>\n",
       "      <td>4</td>\n",
       "      <td>2022-12-27</td>\n",
       "    </tr>\n",
       "    <tr>\n",
       "      <th>4</th>\n",
       "      <td>5</td>\n",
       "      <td>2022-12-21</td>\n",
       "    </tr>\n",
       "    <tr>\n",
       "      <th>...</th>\n",
       "      <td>...</td>\n",
       "      <td>...</td>\n",
       "    </tr>\n",
       "    <tr>\n",
       "      <th>995</th>\n",
       "      <td>996</td>\n",
       "      <td>2022-07-24</td>\n",
       "    </tr>\n",
       "    <tr>\n",
       "      <th>996</th>\n",
       "      <td>997</td>\n",
       "      <td>2022-10-25</td>\n",
       "    </tr>\n",
       "    <tr>\n",
       "      <th>997</th>\n",
       "      <td>998</td>\n",
       "      <td>2022-09-18</td>\n",
       "    </tr>\n",
       "    <tr>\n",
       "      <th>998</th>\n",
       "      <td>999</td>\n",
       "      <td>2022-12-07</td>\n",
       "    </tr>\n",
       "    <tr>\n",
       "      <th>999</th>\n",
       "      <td>1000</td>\n",
       "      <td>2022-12-13</td>\n",
       "    </tr>\n",
       "  </tbody>\n",
       "</table>\n",
       "<p>1000 rows × 2 columns</p>\n",
       "</div>"
      ],
      "text/plain": [
       "     CustomerID LastTransactionDate\n",
       "0             1          2022-03-27\n",
       "1             2          2022-11-19\n",
       "2             3          2022-10-08\n",
       "3             4          2022-12-27\n",
       "4             5          2022-12-21\n",
       "..          ...                 ...\n",
       "995         996          2022-07-24\n",
       "996         997          2022-10-25\n",
       "997         998          2022-09-18\n",
       "998         999          2022-12-07\n",
       "999        1000          2022-12-13\n",
       "\n",
       "[1000 rows x 2 columns]"
      ]
     },
     "execution_count": 77,
     "metadata": {},
     "output_type": "execute_result"
    }
   ],
   "source": [
    "last_customer_transaction = transaction_history.groupby('CustomerID')['TransactionDate'].max().reset_index()\n",
    "last_customer_transaction.rename(columns={'TransactionDate': 'LastTransactionDate'}, inplace=True)\n",
    "last_customer_transaction"
   ]
  },
  {
   "cell_type": "code",
   "execution_count": 78,
   "id": "6235006a",
   "metadata": {},
   "outputs": [
    {
     "data": {
      "text/html": [
       "<div>\n",
       "<style scoped>\n",
       "    .dataframe tbody tr th:only-of-type {\n",
       "        vertical-align: middle;\n",
       "    }\n",
       "\n",
       "    .dataframe tbody tr th {\n",
       "        vertical-align: top;\n",
       "    }\n",
       "\n",
       "    .dataframe thead th {\n",
       "        text-align: right;\n",
       "    }\n",
       "</style>\n",
       "<table border=\"1\" class=\"dataframe\">\n",
       "  <thead>\n",
       "    <tr style=\"text-align: right;\">\n",
       "      <th></th>\n",
       "      <th>CustomerID</th>\n",
       "      <th>TotalAmountSpent</th>\n",
       "    </tr>\n",
       "  </thead>\n",
       "  <tbody>\n",
       "    <tr>\n",
       "      <th>0</th>\n",
       "      <td>1</td>\n",
       "      <td>416.50</td>\n",
       "    </tr>\n",
       "    <tr>\n",
       "      <th>1</th>\n",
       "      <td>2</td>\n",
       "      <td>1547.42</td>\n",
       "    </tr>\n",
       "    <tr>\n",
       "      <th>2</th>\n",
       "      <td>3</td>\n",
       "      <td>1702.98</td>\n",
       "    </tr>\n",
       "    <tr>\n",
       "      <th>3</th>\n",
       "      <td>4</td>\n",
       "      <td>917.29</td>\n",
       "    </tr>\n",
       "    <tr>\n",
       "      <th>4</th>\n",
       "      <td>5</td>\n",
       "      <td>2001.49</td>\n",
       "    </tr>\n",
       "    <tr>\n",
       "      <th>...</th>\n",
       "      <td>...</td>\n",
       "      <td>...</td>\n",
       "    </tr>\n",
       "    <tr>\n",
       "      <th>995</th>\n",
       "      <td>996</td>\n",
       "      <td>227.25</td>\n",
       "    </tr>\n",
       "    <tr>\n",
       "      <th>996</th>\n",
       "      <td>997</td>\n",
       "      <td>419.82</td>\n",
       "    </tr>\n",
       "    <tr>\n",
       "      <th>997</th>\n",
       "      <td>998</td>\n",
       "      <td>252.15</td>\n",
       "    </tr>\n",
       "    <tr>\n",
       "      <th>998</th>\n",
       "      <td>999</td>\n",
       "      <td>2393.26</td>\n",
       "    </tr>\n",
       "    <tr>\n",
       "      <th>999</th>\n",
       "      <td>1000</td>\n",
       "      <td>1670.79</td>\n",
       "    </tr>\n",
       "  </tbody>\n",
       "</table>\n",
       "<p>1000 rows × 2 columns</p>\n",
       "</div>"
      ],
      "text/plain": [
       "     CustomerID  TotalAmountSpent\n",
       "0             1            416.50\n",
       "1             2           1547.42\n",
       "2             3           1702.98\n",
       "3             4            917.29\n",
       "4             5           2001.49\n",
       "..          ...               ...\n",
       "995         996            227.25\n",
       "996         997            419.82\n",
       "997         998            252.15\n",
       "998         999           2393.26\n",
       "999        1000           1670.79\n",
       "\n",
       "[1000 rows x 2 columns]"
      ]
     },
     "execution_count": 78,
     "metadata": {},
     "output_type": "execute_result"
    }
   ],
   "source": [
    "total_amount_spent = transaction_history.groupby('CustomerID')['AmountSpent'].sum().reset_index()\n",
    "total_amount_spent.rename(columns={'AmountSpent': 'TotalAmountSpent'}, inplace=True)\n",
    "total_amount_spent"
   ]
  },
  {
   "cell_type": "code",
   "execution_count": 79,
   "id": "3fe2e260",
   "metadata": {},
   "outputs": [
    {
     "data": {
      "text/html": [
       "<div>\n",
       "<style scoped>\n",
       "    .dataframe tbody tr th:only-of-type {\n",
       "        vertical-align: middle;\n",
       "    }\n",
       "\n",
       "    .dataframe tbody tr th {\n",
       "        vertical-align: top;\n",
       "    }\n",
       "\n",
       "    .dataframe thead th {\n",
       "        text-align: right;\n",
       "    }\n",
       "</style>\n",
       "<table border=\"1\" class=\"dataframe\">\n",
       "  <thead>\n",
       "    <tr style=\"text-align: right;\">\n",
       "      <th></th>\n",
       "      <th>CustomerID</th>\n",
       "      <th>FirstInteractionDate</th>\n",
       "    </tr>\n",
       "  </thead>\n",
       "  <tbody>\n",
       "    <tr>\n",
       "      <th>0</th>\n",
       "      <td>1</td>\n",
       "      <td>2022-03-31</td>\n",
       "    </tr>\n",
       "    <tr>\n",
       "      <th>1</th>\n",
       "      <td>2</td>\n",
       "      <td>2022-03-17</td>\n",
       "    </tr>\n",
       "    <tr>\n",
       "      <th>2</th>\n",
       "      <td>3</td>\n",
       "      <td>2022-08-24</td>\n",
       "    </tr>\n",
       "    <tr>\n",
       "      <th>3</th>\n",
       "      <td>4</td>\n",
       "      <td>2022-07-03</td>\n",
       "    </tr>\n",
       "    <tr>\n",
       "      <th>4</th>\n",
       "      <td>6</td>\n",
       "      <td>2022-05-05</td>\n",
       "    </tr>\n",
       "    <tr>\n",
       "      <th>...</th>\n",
       "      <td>...</td>\n",
       "      <td>...</td>\n",
       "    </tr>\n",
       "    <tr>\n",
       "      <th>663</th>\n",
       "      <td>989</td>\n",
       "      <td>2022-08-03</td>\n",
       "    </tr>\n",
       "    <tr>\n",
       "      <th>664</th>\n",
       "      <td>990</td>\n",
       "      <td>2022-09-17</td>\n",
       "    </tr>\n",
       "    <tr>\n",
       "      <th>665</th>\n",
       "      <td>992</td>\n",
       "      <td>2022-09-29</td>\n",
       "    </tr>\n",
       "    <tr>\n",
       "      <th>666</th>\n",
       "      <td>994</td>\n",
       "      <td>2022-05-14</td>\n",
       "    </tr>\n",
       "    <tr>\n",
       "      <th>667</th>\n",
       "      <td>995</td>\n",
       "      <td>2022-05-02</td>\n",
       "    </tr>\n",
       "  </tbody>\n",
       "</table>\n",
       "<p>668 rows × 2 columns</p>\n",
       "</div>"
      ],
      "text/plain": [
       "     CustomerID FirstInteractionDate\n",
       "0             1           2022-03-31\n",
       "1             2           2022-03-17\n",
       "2             3           2022-08-24\n",
       "3             4           2022-07-03\n",
       "4             6           2022-05-05\n",
       "..          ...                  ...\n",
       "663         989           2022-08-03\n",
       "664         990           2022-09-17\n",
       "665         992           2022-09-29\n",
       "666         994           2022-05-14\n",
       "667         995           2022-05-02\n",
       "\n",
       "[668 rows x 2 columns]"
      ]
     },
     "execution_count": 79,
     "metadata": {},
     "output_type": "execute_result"
    }
   ],
   "source": [
    "first_interaction_date = customer_service.groupby('CustomerID')['InteractionDate'].min().reset_index()\n",
    "first_interaction_date.rename(columns={'InteractionDate': 'FirstInteractionDate'}, inplace=True)\n",
    "first_interaction_date"
   ]
  },
  {
   "cell_type": "code",
   "execution_count": 80,
   "id": "75791a77",
   "metadata": {},
   "outputs": [
    {
     "data": {
      "text/html": [
       "<div>\n",
       "<style scoped>\n",
       "    .dataframe tbody tr th:only-of-type {\n",
       "        vertical-align: middle;\n",
       "    }\n",
       "\n",
       "    .dataframe tbody tr th {\n",
       "        vertical-align: top;\n",
       "    }\n",
       "\n",
       "    .dataframe thead th {\n",
       "        text-align: right;\n",
       "    }\n",
       "</style>\n",
       "<table border=\"1\" class=\"dataframe\">\n",
       "  <thead>\n",
       "    <tr style=\"text-align: right;\">\n",
       "      <th></th>\n",
       "      <th>CustomerID</th>\n",
       "      <th>LastInteractionDate</th>\n",
       "    </tr>\n",
       "  </thead>\n",
       "  <tbody>\n",
       "    <tr>\n",
       "      <th>0</th>\n",
       "      <td>1</td>\n",
       "      <td>2022-03-31</td>\n",
       "    </tr>\n",
       "    <tr>\n",
       "      <th>1</th>\n",
       "      <td>2</td>\n",
       "      <td>2022-03-17</td>\n",
       "    </tr>\n",
       "    <tr>\n",
       "      <th>2</th>\n",
       "      <td>3</td>\n",
       "      <td>2022-08-24</td>\n",
       "    </tr>\n",
       "    <tr>\n",
       "      <th>3</th>\n",
       "      <td>4</td>\n",
       "      <td>2022-11-18</td>\n",
       "    </tr>\n",
       "    <tr>\n",
       "      <th>4</th>\n",
       "      <td>6</td>\n",
       "      <td>2022-05-05</td>\n",
       "    </tr>\n",
       "    <tr>\n",
       "      <th>...</th>\n",
       "      <td>...</td>\n",
       "      <td>...</td>\n",
       "    </tr>\n",
       "    <tr>\n",
       "      <th>663</th>\n",
       "      <td>989</td>\n",
       "      <td>2022-10-07</td>\n",
       "    </tr>\n",
       "    <tr>\n",
       "      <th>664</th>\n",
       "      <td>990</td>\n",
       "      <td>2022-10-25</td>\n",
       "    </tr>\n",
       "    <tr>\n",
       "      <th>665</th>\n",
       "      <td>992</td>\n",
       "      <td>2022-09-29</td>\n",
       "    </tr>\n",
       "    <tr>\n",
       "      <th>666</th>\n",
       "      <td>994</td>\n",
       "      <td>2022-07-02</td>\n",
       "    </tr>\n",
       "    <tr>\n",
       "      <th>667</th>\n",
       "      <td>995</td>\n",
       "      <td>2022-05-02</td>\n",
       "    </tr>\n",
       "  </tbody>\n",
       "</table>\n",
       "<p>668 rows × 2 columns</p>\n",
       "</div>"
      ],
      "text/plain": [
       "     CustomerID LastInteractionDate\n",
       "0             1          2022-03-31\n",
       "1             2          2022-03-17\n",
       "2             3          2022-08-24\n",
       "3             4          2022-11-18\n",
       "4             6          2022-05-05\n",
       "..          ...                 ...\n",
       "663         989          2022-10-07\n",
       "664         990          2022-10-25\n",
       "665         992          2022-09-29\n",
       "666         994          2022-07-02\n",
       "667         995          2022-05-02\n",
       "\n",
       "[668 rows x 2 columns]"
      ]
     },
     "execution_count": 80,
     "metadata": {},
     "output_type": "execute_result"
    }
   ],
   "source": [
    "last_interaction_date = customer_service.groupby('CustomerID')['InteractionDate'].max().reset_index()\n",
    "last_interaction_date.rename(columns={'InteractionDate': 'LastInteractionDate'}, inplace=True)\n",
    "last_interaction_date"
   ]
  },
  {
   "cell_type": "code",
   "execution_count": 81,
   "id": "97fb0573",
   "metadata": {},
   "outputs": [],
   "source": [
    "total_service_interactions = customer_service.groupby('CustomerID')['InteractionType'].count().reset_index()\n",
    "total_service_interactions.rename(columns={'InteractionType': 'TotalServiceInteractions'}, inplace=True)"
   ]
  },
  {
   "cell_type": "code",
   "execution_count": 82,
   "id": "f9d1f8be",
   "metadata": {},
   "outputs": [],
   "source": [
    "# Count of online actions\n",
    "online_activity_count = online_activity[['CustomerID', 'LoginFrequency']].drop_duplicates('CustomerID')\n",
    "transaction_count_per_customer = (\n",
    "    transaction_history\n",
    "    .groupby('CustomerID')\n",
    "    .size()\n",
    "    .reset_index(name='TransactionCount')\n",
    ")\n",
    "\n",
    "# Most recent login date\n",
    "last_login_df = (\n",
    "    online_activity\n",
    "    .groupby('CustomerID')['LastLoginDate']\n",
    "    .max()\n",
    "    .reset_index(name='LastLoginDate')\n",
    ")"
   ]
  },
  {
   "cell_type": "code",
   "execution_count": 83,
   "id": "38ff64ff",
   "metadata": {},
   "outputs": [
    {
     "data": {
      "text/html": [
       "<div>\n",
       "<style scoped>\n",
       "    .dataframe tbody tr th:only-of-type {\n",
       "        vertical-align: middle;\n",
       "    }\n",
       "\n",
       "    .dataframe tbody tr th {\n",
       "        vertical-align: top;\n",
       "    }\n",
       "\n",
       "    .dataframe thead th {\n",
       "        text-align: right;\n",
       "    }\n",
       "</style>\n",
       "<table border=\"1\" class=\"dataframe\">\n",
       "  <thead>\n",
       "    <tr style=\"text-align: right;\">\n",
       "      <th></th>\n",
       "      <th>CustomerID</th>\n",
       "      <th>ServiceUsage</th>\n",
       "    </tr>\n",
       "  </thead>\n",
       "  <tbody>\n",
       "    <tr>\n",
       "      <th>0</th>\n",
       "      <td>1</td>\n",
       "      <td>Mobile App</td>\n",
       "    </tr>\n",
       "    <tr>\n",
       "      <th>1</th>\n",
       "      <td>2</td>\n",
       "      <td>Website</td>\n",
       "    </tr>\n",
       "    <tr>\n",
       "      <th>2</th>\n",
       "      <td>3</td>\n",
       "      <td>Website</td>\n",
       "    </tr>\n",
       "    <tr>\n",
       "      <th>3</th>\n",
       "      <td>4</td>\n",
       "      <td>Website</td>\n",
       "    </tr>\n",
       "    <tr>\n",
       "      <th>4</th>\n",
       "      <td>5</td>\n",
       "      <td>Website</td>\n",
       "    </tr>\n",
       "    <tr>\n",
       "      <th>...</th>\n",
       "      <td>...</td>\n",
       "      <td>...</td>\n",
       "    </tr>\n",
       "    <tr>\n",
       "      <th>995</th>\n",
       "      <td>996</td>\n",
       "      <td>Mobile App</td>\n",
       "    </tr>\n",
       "    <tr>\n",
       "      <th>996</th>\n",
       "      <td>997</td>\n",
       "      <td>Mobile App</td>\n",
       "    </tr>\n",
       "    <tr>\n",
       "      <th>997</th>\n",
       "      <td>998</td>\n",
       "      <td>Website</td>\n",
       "    </tr>\n",
       "    <tr>\n",
       "      <th>998</th>\n",
       "      <td>999</td>\n",
       "      <td>Website</td>\n",
       "    </tr>\n",
       "    <tr>\n",
       "      <th>999</th>\n",
       "      <td>1000</td>\n",
       "      <td>Mobile App</td>\n",
       "    </tr>\n",
       "  </tbody>\n",
       "</table>\n",
       "<p>1000 rows × 2 columns</p>\n",
       "</div>"
      ],
      "text/plain": [
       "     CustomerID ServiceUsage\n",
       "0             1   Mobile App\n",
       "1             2      Website\n",
       "2             3      Website\n",
       "3             4      Website\n",
       "4             5      Website\n",
       "..          ...          ...\n",
       "995         996   Mobile App\n",
       "996         997   Mobile App\n",
       "997         998      Website\n",
       "998         999      Website\n",
       "999        1000   Mobile App\n",
       "\n",
       "[1000 rows x 2 columns]"
      ]
     },
     "execution_count": 83,
     "metadata": {},
     "output_type": "execute_result"
    }
   ],
   "source": [
    "user_platform = online_activity.groupby('CustomerID')['ServiceUsage'].first().reset_index()\n",
    "user_platform.rename(columns={'ServiceUsage': 'ServiceUsage'}, inplace=True) # This is redundant if the name is the same\n",
    "user_platform"
   ]
  },
  {
   "cell_type": "code",
   "execution_count": 84,
   "id": "4a415c59",
   "metadata": {},
   "outputs": [
    {
     "data": {
      "text/html": [
       "<div>\n",
       "<style scoped>\n",
       "    .dataframe tbody tr th:only-of-type {\n",
       "        vertical-align: middle;\n",
       "    }\n",
       "\n",
       "    .dataframe tbody tr th {\n",
       "        vertical-align: top;\n",
       "    }\n",
       "\n",
       "    .dataframe thead th {\n",
       "        text-align: right;\n",
       "    }\n",
       "</style>\n",
       "<table border=\"1\" class=\"dataframe\">\n",
       "  <thead>\n",
       "    <tr style=\"text-align: right;\">\n",
       "      <th></th>\n",
       "      <th>CustomerID</th>\n",
       "      <th>Age</th>\n",
       "      <th>Gender</th>\n",
       "      <th>MaritalStatus</th>\n",
       "      <th>IncomeLevel</th>\n",
       "      <th>FirstTransactionDate</th>\n",
       "      <th>LastTransactionDate</th>\n",
       "      <th>TotalAmountSpent</th>\n",
       "      <th>FirstInteractionDate</th>\n",
       "      <th>LastInteractionDate</th>\n",
       "      <th>TotalServiceInteractions</th>\n",
       "      <th>LoginFrequency</th>\n",
       "      <th>TransactionCount</th>\n",
       "      <th>LastLoginDate</th>\n",
       "      <th>ChurnStatus</th>\n",
       "      <th>ServiceUsage</th>\n",
       "    </tr>\n",
       "  </thead>\n",
       "  <tbody>\n",
       "    <tr>\n",
       "      <th>0</th>\n",
       "      <td>1</td>\n",
       "      <td>62</td>\n",
       "      <td>M</td>\n",
       "      <td>Single</td>\n",
       "      <td>Low</td>\n",
       "      <td>2022-03-27</td>\n",
       "      <td>2022-03-27</td>\n",
       "      <td>416.50</td>\n",
       "      <td>2022-03-31</td>\n",
       "      <td>2022-03-31</td>\n",
       "      <td>1.0</td>\n",
       "      <td>34</td>\n",
       "      <td>1</td>\n",
       "      <td>2023-10-21</td>\n",
       "      <td>0</td>\n",
       "      <td>Mobile App</td>\n",
       "    </tr>\n",
       "    <tr>\n",
       "      <th>1</th>\n",
       "      <td>2</td>\n",
       "      <td>65</td>\n",
       "      <td>M</td>\n",
       "      <td>Married</td>\n",
       "      <td>Low</td>\n",
       "      <td>2022-01-09</td>\n",
       "      <td>2022-11-19</td>\n",
       "      <td>1547.42</td>\n",
       "      <td>2022-03-17</td>\n",
       "      <td>2022-03-17</td>\n",
       "      <td>1.0</td>\n",
       "      <td>5</td>\n",
       "      <td>7</td>\n",
       "      <td>2023-12-05</td>\n",
       "      <td>1</td>\n",
       "      <td>Website</td>\n",
       "    </tr>\n",
       "    <tr>\n",
       "      <th>2</th>\n",
       "      <td>3</td>\n",
       "      <td>18</td>\n",
       "      <td>M</td>\n",
       "      <td>Single</td>\n",
       "      <td>Low</td>\n",
       "      <td>2022-02-11</td>\n",
       "      <td>2022-10-08</td>\n",
       "      <td>1702.98</td>\n",
       "      <td>2022-08-24</td>\n",
       "      <td>2022-08-24</td>\n",
       "      <td>1.0</td>\n",
       "      <td>3</td>\n",
       "      <td>6</td>\n",
       "      <td>2023-11-15</td>\n",
       "      <td>0</td>\n",
       "      <td>Website</td>\n",
       "    </tr>\n",
       "    <tr>\n",
       "      <th>3</th>\n",
       "      <td>4</td>\n",
       "      <td>21</td>\n",
       "      <td>M</td>\n",
       "      <td>Widowed</td>\n",
       "      <td>Low</td>\n",
       "      <td>2022-05-22</td>\n",
       "      <td>2022-12-27</td>\n",
       "      <td>917.29</td>\n",
       "      <td>2022-07-03</td>\n",
       "      <td>2022-11-18</td>\n",
       "      <td>2.0</td>\n",
       "      <td>2</td>\n",
       "      <td>5</td>\n",
       "      <td>2023-08-25</td>\n",
       "      <td>0</td>\n",
       "      <td>Website</td>\n",
       "    </tr>\n",
       "    <tr>\n",
       "      <th>4</th>\n",
       "      <td>5</td>\n",
       "      <td>21</td>\n",
       "      <td>M</td>\n",
       "      <td>Divorced</td>\n",
       "      <td>Medium</td>\n",
       "      <td>2022-02-21</td>\n",
       "      <td>2022-12-21</td>\n",
       "      <td>2001.49</td>\n",
       "      <td>NaT</td>\n",
       "      <td>NaT</td>\n",
       "      <td>NaN</td>\n",
       "      <td>41</td>\n",
       "      <td>8</td>\n",
       "      <td>2023-10-27</td>\n",
       "      <td>0</td>\n",
       "      <td>Website</td>\n",
       "    </tr>\n",
       "    <tr>\n",
       "      <th>...</th>\n",
       "      <td>...</td>\n",
       "      <td>...</td>\n",
       "      <td>...</td>\n",
       "      <td>...</td>\n",
       "      <td>...</td>\n",
       "      <td>...</td>\n",
       "      <td>...</td>\n",
       "      <td>...</td>\n",
       "      <td>...</td>\n",
       "      <td>...</td>\n",
       "      <td>...</td>\n",
       "      <td>...</td>\n",
       "      <td>...</td>\n",
       "      <td>...</td>\n",
       "      <td>...</td>\n",
       "      <td>...</td>\n",
       "    </tr>\n",
       "    <tr>\n",
       "      <th>995</th>\n",
       "      <td>996</td>\n",
       "      <td>54</td>\n",
       "      <td>F</td>\n",
       "      <td>Single</td>\n",
       "      <td>Low</td>\n",
       "      <td>2022-07-24</td>\n",
       "      <td>2022-07-24</td>\n",
       "      <td>227.25</td>\n",
       "      <td>NaT</td>\n",
       "      <td>NaT</td>\n",
       "      <td>NaN</td>\n",
       "      <td>38</td>\n",
       "      <td>1</td>\n",
       "      <td>2023-01-29</td>\n",
       "      <td>0</td>\n",
       "      <td>Mobile App</td>\n",
       "    </tr>\n",
       "    <tr>\n",
       "      <th>996</th>\n",
       "      <td>997</td>\n",
       "      <td>19</td>\n",
       "      <td>M</td>\n",
       "      <td>Widowed</td>\n",
       "      <td>High</td>\n",
       "      <td>2022-08-06</td>\n",
       "      <td>2022-10-25</td>\n",
       "      <td>419.82</td>\n",
       "      <td>NaT</td>\n",
       "      <td>NaT</td>\n",
       "      <td>NaN</td>\n",
       "      <td>5</td>\n",
       "      <td>2</td>\n",
       "      <td>2023-04-01</td>\n",
       "      <td>0</td>\n",
       "      <td>Mobile App</td>\n",
       "    </tr>\n",
       "    <tr>\n",
       "      <th>997</th>\n",
       "      <td>998</td>\n",
       "      <td>47</td>\n",
       "      <td>M</td>\n",
       "      <td>Married</td>\n",
       "      <td>Low</td>\n",
       "      <td>2022-09-18</td>\n",
       "      <td>2022-09-18</td>\n",
       "      <td>252.15</td>\n",
       "      <td>NaT</td>\n",
       "      <td>NaT</td>\n",
       "      <td>NaN</td>\n",
       "      <td>47</td>\n",
       "      <td>1</td>\n",
       "      <td>2023-07-10</td>\n",
       "      <td>0</td>\n",
       "      <td>Website</td>\n",
       "    </tr>\n",
       "    <tr>\n",
       "      <th>998</th>\n",
       "      <td>999</td>\n",
       "      <td>23</td>\n",
       "      <td>M</td>\n",
       "      <td>Widowed</td>\n",
       "      <td>High</td>\n",
       "      <td>2022-01-20</td>\n",
       "      <td>2022-12-07</td>\n",
       "      <td>2393.26</td>\n",
       "      <td>NaT</td>\n",
       "      <td>NaT</td>\n",
       "      <td>NaN</td>\n",
       "      <td>23</td>\n",
       "      <td>9</td>\n",
       "      <td>2023-01-08</td>\n",
       "      <td>0</td>\n",
       "      <td>Website</td>\n",
       "    </tr>\n",
       "    <tr>\n",
       "      <th>999</th>\n",
       "      <td>1000</td>\n",
       "      <td>34</td>\n",
       "      <td>M</td>\n",
       "      <td>Widowed</td>\n",
       "      <td>Low</td>\n",
       "      <td>2022-04-08</td>\n",
       "      <td>2022-12-13</td>\n",
       "      <td>1670.79</td>\n",
       "      <td>NaT</td>\n",
       "      <td>NaT</td>\n",
       "      <td>NaN</td>\n",
       "      <td>22</td>\n",
       "      <td>6</td>\n",
       "      <td>2023-08-13</td>\n",
       "      <td>0</td>\n",
       "      <td>Mobile App</td>\n",
       "    </tr>\n",
       "  </tbody>\n",
       "</table>\n",
       "<p>1000 rows × 16 columns</p>\n",
       "</div>"
      ],
      "text/plain": [
       "     CustomerID  Age Gender MaritalStatus IncomeLevel FirstTransactionDate  \\\n",
       "0             1   62      M        Single         Low           2022-03-27   \n",
       "1             2   65      M       Married         Low           2022-01-09   \n",
       "2             3   18      M        Single         Low           2022-02-11   \n",
       "3             4   21      M       Widowed         Low           2022-05-22   \n",
       "4             5   21      M      Divorced      Medium           2022-02-21   \n",
       "..          ...  ...    ...           ...         ...                  ...   \n",
       "995         996   54      F        Single         Low           2022-07-24   \n",
       "996         997   19      M       Widowed        High           2022-08-06   \n",
       "997         998   47      M       Married         Low           2022-09-18   \n",
       "998         999   23      M       Widowed        High           2022-01-20   \n",
       "999        1000   34      M       Widowed         Low           2022-04-08   \n",
       "\n",
       "    LastTransactionDate  TotalAmountSpent FirstInteractionDate  \\\n",
       "0            2022-03-27            416.50           2022-03-31   \n",
       "1            2022-11-19           1547.42           2022-03-17   \n",
       "2            2022-10-08           1702.98           2022-08-24   \n",
       "3            2022-12-27            917.29           2022-07-03   \n",
       "4            2022-12-21           2001.49                  NaT   \n",
       "..                  ...               ...                  ...   \n",
       "995          2022-07-24            227.25                  NaT   \n",
       "996          2022-10-25            419.82                  NaT   \n",
       "997          2022-09-18            252.15                  NaT   \n",
       "998          2022-12-07           2393.26                  NaT   \n",
       "999          2022-12-13           1670.79                  NaT   \n",
       "\n",
       "    LastInteractionDate  TotalServiceInteractions  LoginFrequency  \\\n",
       "0            2022-03-31                       1.0              34   \n",
       "1            2022-03-17                       1.0               5   \n",
       "2            2022-08-24                       1.0               3   \n",
       "3            2022-11-18                       2.0               2   \n",
       "4                   NaT                       NaN              41   \n",
       "..                  ...                       ...             ...   \n",
       "995                 NaT                       NaN              38   \n",
       "996                 NaT                       NaN               5   \n",
       "997                 NaT                       NaN              47   \n",
       "998                 NaT                       NaN              23   \n",
       "999                 NaT                       NaN              22   \n",
       "\n",
       "     TransactionCount LastLoginDate  ChurnStatus ServiceUsage  \n",
       "0                   1    2023-10-21            0   Mobile App  \n",
       "1                   7    2023-12-05            1      Website  \n",
       "2                   6    2023-11-15            0      Website  \n",
       "3                   5    2023-08-25            0      Website  \n",
       "4                   8    2023-10-27            0      Website  \n",
       "..                ...           ...          ...          ...  \n",
       "995                 1    2023-01-29            0   Mobile App  \n",
       "996                 2    2023-04-01            0   Mobile App  \n",
       "997                 1    2023-07-10            0      Website  \n",
       "998                 9    2023-01-08            0      Website  \n",
       "999                 6    2023-08-13            0   Mobile App  \n",
       "\n",
       "[1000 rows x 16 columns]"
      ]
     },
     "execution_count": 84,
     "metadata": {},
     "output_type": "execute_result"
    }
   ],
   "source": [
    "\n",
    "df = customer_demographics.merge(\n",
    "    first_customer_transaction, on='CustomerID', how='left'\n",
    "    ).merge(\n",
    "        last_customer_transaction, on='CustomerID', how='left'\n",
    "    ).merge(\n",
    "        total_amount_spent, on='CustomerID', how='left'\n",
    "    ).merge(\n",
    "        first_interaction_date, on='CustomerID', how='left'\n",
    "    ).merge(\n",
    "        last_interaction_date, on='CustomerID', how='left'\n",
    "    ).merge(\n",
    "        total_service_interactions, on='CustomerID', how='left'\n",
    "    ).merge(\n",
    "        online_activity_count, on='CustomerID', how='left'\n",
    "    ).merge(\n",
    "        transaction_count_per_customer, on='CustomerID', how='left'\n",
    "    ).merge(\n",
    "        last_login_df, on='CustomerID', how='left'\n",
    "    ).merge(\n",
    "        churn_status, on='CustomerID', how='left'\n",
    "    ).merge(\n",
    "        user_platform, on='CustomerID', how='left'\n",
    "    \n",
    ")\n",
    "\n",
    "df"
   ]
  },
  {
   "cell_type": "code",
   "execution_count": 85,
   "id": "3fd1f7c2",
   "metadata": {},
   "outputs": [],
   "source": [
    "df['FirstTransactionDate'] = pd.to_datetime(df['FirstTransactionDate'])\n",
    "df['LastTransactionDate'] = pd.to_datetime(df['LastTransactionDate'])\n",
    "# repeat for all date columns\n",
    "df['FirstInteractionDate'] = pd.to_datetime(df['FirstInteractionDate'])\n",
    "df['LastInteractionDate'] = pd.to_datetime(df['LastInteractionDate'])"
   ]
  },
  {
   "cell_type": "code",
   "execution_count": 86,
   "id": "805ebcfb",
   "metadata": {},
   "outputs": [
    {
     "data": {
      "text/plain": [
       "CustomerID                    0\n",
       "Age                           0\n",
       "Gender                        0\n",
       "MaritalStatus                 0\n",
       "IncomeLevel                   0\n",
       "FirstTransactionDate          0\n",
       "LastTransactionDate           0\n",
       "TotalAmountSpent              0\n",
       "FirstInteractionDate        332\n",
       "LastInteractionDate         332\n",
       "TotalServiceInteractions    332\n",
       "LoginFrequency                0\n",
       "TransactionCount              0\n",
       "LastLoginDate                 0\n",
       "ChurnStatus                   0\n",
       "ServiceUsage                  0\n",
       "dtype: int64"
      ]
     },
     "execution_count": 86,
     "metadata": {},
     "output_type": "execute_result"
    }
   ],
   "source": [
    "df.isnull().sum()"
   ]
  },
  {
   "cell_type": "code",
   "execution_count": 87,
   "id": "8da0dc68",
   "metadata": {},
   "outputs": [
    {
     "data": {
      "text/html": [
       "<div>\n",
       "<style scoped>\n",
       "    .dataframe tbody tr th:only-of-type {\n",
       "        vertical-align: middle;\n",
       "    }\n",
       "\n",
       "    .dataframe tbody tr th {\n",
       "        vertical-align: top;\n",
       "    }\n",
       "\n",
       "    .dataframe thead th {\n",
       "        text-align: right;\n",
       "    }\n",
       "</style>\n",
       "<table border=\"1\" class=\"dataframe\">\n",
       "  <thead>\n",
       "    <tr style=\"text-align: right;\">\n",
       "      <th></th>\n",
       "      <th>CustomerID</th>\n",
       "      <th>Age</th>\n",
       "      <th>Gender</th>\n",
       "      <th>MaritalStatus</th>\n",
       "      <th>IncomeLevel</th>\n",
       "      <th>FirstTransactionDate</th>\n",
       "      <th>LastTransactionDate</th>\n",
       "      <th>TotalAmountSpent</th>\n",
       "      <th>FirstInteractionDate</th>\n",
       "      <th>LastInteractionDate</th>\n",
       "      <th>TotalServiceInteractions</th>\n",
       "      <th>LoginFrequency</th>\n",
       "      <th>TransactionCount</th>\n",
       "      <th>LastLoginDate</th>\n",
       "      <th>ChurnStatus</th>\n",
       "      <th>ServiceUsage</th>\n",
       "    </tr>\n",
       "  </thead>\n",
       "  <tbody>\n",
       "    <tr>\n",
       "      <th>0</th>\n",
       "      <td>1</td>\n",
       "      <td>62</td>\n",
       "      <td>M</td>\n",
       "      <td>Single</td>\n",
       "      <td>Low</td>\n",
       "      <td>2022-03-27</td>\n",
       "      <td>2022-03-27</td>\n",
       "      <td>416.50</td>\n",
       "      <td>2022-03-31 00:00:00</td>\n",
       "      <td>2022-03-31 00:00:00</td>\n",
       "      <td>1.0</td>\n",
       "      <td>34</td>\n",
       "      <td>1</td>\n",
       "      <td>2023-10-21</td>\n",
       "      <td>0</td>\n",
       "      <td>Mobile App</td>\n",
       "    </tr>\n",
       "    <tr>\n",
       "      <th>1</th>\n",
       "      <td>2</td>\n",
       "      <td>65</td>\n",
       "      <td>M</td>\n",
       "      <td>Married</td>\n",
       "      <td>Low</td>\n",
       "      <td>2022-01-09</td>\n",
       "      <td>2022-11-19</td>\n",
       "      <td>1547.42</td>\n",
       "      <td>2022-03-17 00:00:00</td>\n",
       "      <td>2022-03-17 00:00:00</td>\n",
       "      <td>1.0</td>\n",
       "      <td>5</td>\n",
       "      <td>7</td>\n",
       "      <td>2023-12-05</td>\n",
       "      <td>1</td>\n",
       "      <td>Website</td>\n",
       "    </tr>\n",
       "    <tr>\n",
       "      <th>2</th>\n",
       "      <td>3</td>\n",
       "      <td>18</td>\n",
       "      <td>M</td>\n",
       "      <td>Single</td>\n",
       "      <td>Low</td>\n",
       "      <td>2022-02-11</td>\n",
       "      <td>2022-10-08</td>\n",
       "      <td>1702.98</td>\n",
       "      <td>2022-08-24 00:00:00</td>\n",
       "      <td>2022-08-24 00:00:00</td>\n",
       "      <td>1.0</td>\n",
       "      <td>3</td>\n",
       "      <td>6</td>\n",
       "      <td>2023-11-15</td>\n",
       "      <td>0</td>\n",
       "      <td>Website</td>\n",
       "    </tr>\n",
       "    <tr>\n",
       "      <th>3</th>\n",
       "      <td>4</td>\n",
       "      <td>21</td>\n",
       "      <td>M</td>\n",
       "      <td>Widowed</td>\n",
       "      <td>Low</td>\n",
       "      <td>2022-05-22</td>\n",
       "      <td>2022-12-27</td>\n",
       "      <td>917.29</td>\n",
       "      <td>2022-07-03 00:00:00</td>\n",
       "      <td>2022-11-18 00:00:00</td>\n",
       "      <td>2.0</td>\n",
       "      <td>2</td>\n",
       "      <td>5</td>\n",
       "      <td>2023-08-25</td>\n",
       "      <td>0</td>\n",
       "      <td>Website</td>\n",
       "    </tr>\n",
       "    <tr>\n",
       "      <th>4</th>\n",
       "      <td>5</td>\n",
       "      <td>21</td>\n",
       "      <td>M</td>\n",
       "      <td>Divorced</td>\n",
       "      <td>Medium</td>\n",
       "      <td>2022-02-21</td>\n",
       "      <td>2022-12-21</td>\n",
       "      <td>2001.49</td>\n",
       "      <td>2023-07-10 12:00:00</td>\n",
       "      <td>2023-07-10 12:00:00</td>\n",
       "      <td>0.0</td>\n",
       "      <td>41</td>\n",
       "      <td>8</td>\n",
       "      <td>2023-10-27</td>\n",
       "      <td>0</td>\n",
       "      <td>Website</td>\n",
       "    </tr>\n",
       "    <tr>\n",
       "      <th>...</th>\n",
       "      <td>...</td>\n",
       "      <td>...</td>\n",
       "      <td>...</td>\n",
       "      <td>...</td>\n",
       "      <td>...</td>\n",
       "      <td>...</td>\n",
       "      <td>...</td>\n",
       "      <td>...</td>\n",
       "      <td>...</td>\n",
       "      <td>...</td>\n",
       "      <td>...</td>\n",
       "      <td>...</td>\n",
       "      <td>...</td>\n",
       "      <td>...</td>\n",
       "      <td>...</td>\n",
       "      <td>...</td>\n",
       "    </tr>\n",
       "    <tr>\n",
       "      <th>995</th>\n",
       "      <td>996</td>\n",
       "      <td>54</td>\n",
       "      <td>F</td>\n",
       "      <td>Single</td>\n",
       "      <td>Low</td>\n",
       "      <td>2022-07-24</td>\n",
       "      <td>2022-07-24</td>\n",
       "      <td>227.25</td>\n",
       "      <td>2023-07-10 12:00:00</td>\n",
       "      <td>2023-07-10 12:00:00</td>\n",
       "      <td>0.0</td>\n",
       "      <td>38</td>\n",
       "      <td>1</td>\n",
       "      <td>2023-01-29</td>\n",
       "      <td>0</td>\n",
       "      <td>Mobile App</td>\n",
       "    </tr>\n",
       "    <tr>\n",
       "      <th>996</th>\n",
       "      <td>997</td>\n",
       "      <td>19</td>\n",
       "      <td>M</td>\n",
       "      <td>Widowed</td>\n",
       "      <td>High</td>\n",
       "      <td>2022-08-06</td>\n",
       "      <td>2022-10-25</td>\n",
       "      <td>419.82</td>\n",
       "      <td>2023-07-10 12:00:00</td>\n",
       "      <td>2023-07-10 12:00:00</td>\n",
       "      <td>0.0</td>\n",
       "      <td>5</td>\n",
       "      <td>2</td>\n",
       "      <td>2023-04-01</td>\n",
       "      <td>0</td>\n",
       "      <td>Mobile App</td>\n",
       "    </tr>\n",
       "    <tr>\n",
       "      <th>997</th>\n",
       "      <td>998</td>\n",
       "      <td>47</td>\n",
       "      <td>M</td>\n",
       "      <td>Married</td>\n",
       "      <td>Low</td>\n",
       "      <td>2022-09-18</td>\n",
       "      <td>2022-09-18</td>\n",
       "      <td>252.15</td>\n",
       "      <td>2023-07-10 12:00:00</td>\n",
       "      <td>2023-07-10 12:00:00</td>\n",
       "      <td>0.0</td>\n",
       "      <td>47</td>\n",
       "      <td>1</td>\n",
       "      <td>2023-07-10</td>\n",
       "      <td>0</td>\n",
       "      <td>Website</td>\n",
       "    </tr>\n",
       "    <tr>\n",
       "      <th>998</th>\n",
       "      <td>999</td>\n",
       "      <td>23</td>\n",
       "      <td>M</td>\n",
       "      <td>Widowed</td>\n",
       "      <td>High</td>\n",
       "      <td>2022-01-20</td>\n",
       "      <td>2022-12-07</td>\n",
       "      <td>2393.26</td>\n",
       "      <td>2023-07-10 12:00:00</td>\n",
       "      <td>2023-07-10 12:00:00</td>\n",
       "      <td>0.0</td>\n",
       "      <td>23</td>\n",
       "      <td>9</td>\n",
       "      <td>2023-01-08</td>\n",
       "      <td>0</td>\n",
       "      <td>Website</td>\n",
       "    </tr>\n",
       "    <tr>\n",
       "      <th>999</th>\n",
       "      <td>1000</td>\n",
       "      <td>34</td>\n",
       "      <td>M</td>\n",
       "      <td>Widowed</td>\n",
       "      <td>Low</td>\n",
       "      <td>2022-04-08</td>\n",
       "      <td>2022-12-13</td>\n",
       "      <td>1670.79</td>\n",
       "      <td>2023-07-10 12:00:00</td>\n",
       "      <td>2023-07-10 12:00:00</td>\n",
       "      <td>0.0</td>\n",
       "      <td>22</td>\n",
       "      <td>6</td>\n",
       "      <td>2023-08-13</td>\n",
       "      <td>0</td>\n",
       "      <td>Mobile App</td>\n",
       "    </tr>\n",
       "  </tbody>\n",
       "</table>\n",
       "<p>1000 rows × 16 columns</p>\n",
       "</div>"
      ],
      "text/plain": [
       "     CustomerID  Age Gender MaritalStatus IncomeLevel FirstTransactionDate  \\\n",
       "0             1   62      M        Single         Low           2022-03-27   \n",
       "1             2   65      M       Married         Low           2022-01-09   \n",
       "2             3   18      M        Single         Low           2022-02-11   \n",
       "3             4   21      M       Widowed         Low           2022-05-22   \n",
       "4             5   21      M      Divorced      Medium           2022-02-21   \n",
       "..          ...  ...    ...           ...         ...                  ...   \n",
       "995         996   54      F        Single         Low           2022-07-24   \n",
       "996         997   19      M       Widowed        High           2022-08-06   \n",
       "997         998   47      M       Married         Low           2022-09-18   \n",
       "998         999   23      M       Widowed        High           2022-01-20   \n",
       "999        1000   34      M       Widowed         Low           2022-04-08   \n",
       "\n",
       "    LastTransactionDate  TotalAmountSpent FirstInteractionDate  \\\n",
       "0            2022-03-27            416.50  2022-03-31 00:00:00   \n",
       "1            2022-11-19           1547.42  2022-03-17 00:00:00   \n",
       "2            2022-10-08           1702.98  2022-08-24 00:00:00   \n",
       "3            2022-12-27            917.29  2022-07-03 00:00:00   \n",
       "4            2022-12-21           2001.49  2023-07-10 12:00:00   \n",
       "..                  ...               ...                  ...   \n",
       "995          2022-07-24            227.25  2023-07-10 12:00:00   \n",
       "996          2022-10-25            419.82  2023-07-10 12:00:00   \n",
       "997          2022-09-18            252.15  2023-07-10 12:00:00   \n",
       "998          2022-12-07           2393.26  2023-07-10 12:00:00   \n",
       "999          2022-12-13           1670.79  2023-07-10 12:00:00   \n",
       "\n",
       "    LastInteractionDate  TotalServiceInteractions  LoginFrequency  \\\n",
       "0   2022-03-31 00:00:00                       1.0              34   \n",
       "1   2022-03-17 00:00:00                       1.0               5   \n",
       "2   2022-08-24 00:00:00                       1.0               3   \n",
       "3   2022-11-18 00:00:00                       2.0               2   \n",
       "4   2023-07-10 12:00:00                       0.0              41   \n",
       "..                  ...                       ...             ...   \n",
       "995 2023-07-10 12:00:00                       0.0              38   \n",
       "996 2023-07-10 12:00:00                       0.0               5   \n",
       "997 2023-07-10 12:00:00                       0.0              47   \n",
       "998 2023-07-10 12:00:00                       0.0              23   \n",
       "999 2023-07-10 12:00:00                       0.0              22   \n",
       "\n",
       "     TransactionCount LastLoginDate  ChurnStatus ServiceUsage  \n",
       "0                   1    2023-10-21            0   Mobile App  \n",
       "1                   7    2023-12-05            1      Website  \n",
       "2                   6    2023-11-15            0      Website  \n",
       "3                   5    2023-08-25            0      Website  \n",
       "4                   8    2023-10-27            0      Website  \n",
       "..                ...           ...          ...          ...  \n",
       "995                 1    2023-01-29            0   Mobile App  \n",
       "996                 2    2023-04-01            0   Mobile App  \n",
       "997                 1    2023-07-10            0      Website  \n",
       "998                 9    2023-01-08            0      Website  \n",
       "999                 6    2023-08-13            0   Mobile App  \n",
       "\n",
       "[1000 rows x 16 columns]"
      ]
     },
     "execution_count": 87,
     "metadata": {},
     "output_type": "execute_result"
    }
   ],
   "source": [
    "df.fillna(\n",
    "    {\n",
    "        'FirstInteractionDate': df['LastLoginDate'].median(),\n",
    "        'LastInteractionDate': df['LastLoginDate'].median(),\n",
    "        'TotalServiceInteractions': 0\n",
    "    }, \n",
    "    inplace=True\n",
    ")\n",
    "\n",
    "df"
   ]
  },
  {
   "cell_type": "code",
   "execution_count": 88,
   "id": "2b85a2d1",
   "metadata": {},
   "outputs": [
    {
     "data": {
      "image/png": "[encoded data removed]",
      "text/plain": [
       "<Figure size 640x480 with 1 Axes>"
      ]
     },
     "metadata": {},
     "output_type": "display_data"
    }
   ],
   "source": [
    "#this shows that lower income levels are more likely to churn\n",
    "churn_probability_by_income = df.groupby('IncomeLevel')['ChurnStatus'].mean().reset_index().sort_values(by='ChurnStatus', ascending=False)\n",
    "churn_probability_by_income.plot(kind='bar', x='IncomeLevel', y='ChurnStatus', title='Churn Probability by Income Level')\n",
    "plt.xticks(rotation=45)\n",
    "plt.show()"
   ]
  },
  {
   "cell_type": "code",
   "execution_count": 89,
   "id": "7b99d43d",
   "metadata": {},
   "outputs": [
    {
     "data": {
      "text/html": [
       "<div>\n",
       "<style scoped>\n",
       "    .dataframe tbody tr th:only-of-type {\n",
       "        vertical-align: middle;\n",
       "    }\n",
       "\n",
       "    .dataframe tbody tr th {\n",
       "        vertical-align: top;\n",
       "    }\n",
       "\n",
       "    .dataframe thead th {\n",
       "        text-align: right;\n",
       "    }\n",
       "</style>\n",
       "<table border=\"1\" class=\"dataframe\">\n",
       "  <thead>\n",
       "    <tr style=\"text-align: right;\">\n",
       "      <th></th>\n",
       "      <th>CustomerID</th>\n",
       "      <th>Age</th>\n",
       "      <th>FirstTransactionDate</th>\n",
       "      <th>LastTransactionDate</th>\n",
       "      <th>TotalAmountSpent</th>\n",
       "      <th>FirstInteractionDate</th>\n",
       "      <th>LastInteractionDate</th>\n",
       "      <th>TotalServiceInteractions</th>\n",
       "      <th>LoginFrequency</th>\n",
       "      <th>TransactionCount</th>\n",
       "      <th>...</th>\n",
       "      <th>MaritalStatus_Single</th>\n",
       "      <th>MaritalStatus_Widowed</th>\n",
       "      <th>Gender_F</th>\n",
       "      <th>Gender_M</th>\n",
       "      <th>IncomeLevel_High</th>\n",
       "      <th>IncomeLevel_Low</th>\n",
       "      <th>IncomeLevel_Medium</th>\n",
       "      <th>ServiceUsage_Mobile App</th>\n",
       "      <th>ServiceUsage_Online Banking</th>\n",
       "      <th>ServiceUsage_Website</th>\n",
       "    </tr>\n",
       "  </thead>\n",
       "  <tbody>\n",
       "    <tr>\n",
       "      <th>0</th>\n",
       "      <td>1</td>\n",
       "      <td>62</td>\n",
       "      <td>2022-03-27</td>\n",
       "      <td>2022-03-27</td>\n",
       "      <td>416.50</td>\n",
       "      <td>2022-03-31 00:00:00</td>\n",
       "      <td>2022-03-31 00:00:00</td>\n",
       "      <td>1.0</td>\n",
       "      <td>34</td>\n",
       "      <td>1</td>\n",
       "      <td>...</td>\n",
       "      <td>True</td>\n",
       "      <td>False</td>\n",
       "      <td>False</td>\n",
       "      <td>True</td>\n",
       "      <td>False</td>\n",
       "      <td>True</td>\n",
       "      <td>False</td>\n",
       "      <td>True</td>\n",
       "      <td>False</td>\n",
       "      <td>False</td>\n",
       "    </tr>\n",
       "    <tr>\n",
       "      <th>1</th>\n",
       "      <td>2</td>\n",
       "      <td>65</td>\n",
       "      <td>2022-01-09</td>\n",
       "      <td>2022-11-19</td>\n",
       "      <td>1547.42</td>\n",
       "      <td>2022-03-17 00:00:00</td>\n",
       "      <td>2022-03-17 00:00:00</td>\n",
       "      <td>1.0</td>\n",
       "      <td>5</td>\n",
       "      <td>7</td>\n",
       "      <td>...</td>\n",
       "      <td>False</td>\n",
       "      <td>False</td>\n",
       "      <td>False</td>\n",
       "      <td>True</td>\n",
       "      <td>False</td>\n",
       "      <td>True</td>\n",
       "      <td>False</td>\n",
       "      <td>False</td>\n",
       "      <td>False</td>\n",
       "      <td>True</td>\n",
       "    </tr>\n",
       "    <tr>\n",
       "      <th>2</th>\n",
       "      <td>3</td>\n",
       "      <td>18</td>\n",
       "      <td>2022-02-11</td>\n",
       "      <td>2022-10-08</td>\n",
       "      <td>1702.98</td>\n",
       "      <td>2022-08-24 00:00:00</td>\n",
       "      <td>2022-08-24 00:00:00</td>\n",
       "      <td>1.0</td>\n",
       "      <td>3</td>\n",
       "      <td>6</td>\n",
       "      <td>...</td>\n",
       "      <td>True</td>\n",
       "      <td>False</td>\n",
       "      <td>False</td>\n",
       "      <td>True</td>\n",
       "      <td>False</td>\n",
       "      <td>True</td>\n",
       "      <td>False</td>\n",
       "      <td>False</td>\n",
       "      <td>False</td>\n",
       "      <td>True</td>\n",
       "    </tr>\n",
       "    <tr>\n",
       "      <th>3</th>\n",
       "      <td>4</td>\n",
       "      <td>21</td>\n",
       "      <td>2022-05-22</td>\n",
       "      <td>2022-12-27</td>\n",
       "      <td>917.29</td>\n",
       "      <td>2022-07-03 00:00:00</td>\n",
       "      <td>2022-11-18 00:00:00</td>\n",
       "      <td>2.0</td>\n",
       "      <td>2</td>\n",
       "      <td>5</td>\n",
       "      <td>...</td>\n",
       "      <td>False</td>\n",
       "      <td>True</td>\n",
       "      <td>False</td>\n",
       "      <td>True</td>\n",
       "      <td>False</td>\n",
       "      <td>True</td>\n",
       "      <td>False</td>\n",
       "      <td>False</td>\n",
       "      <td>False</td>\n",
       "      <td>True</td>\n",
       "    </tr>\n",
       "    <tr>\n",
       "      <th>4</th>\n",
       "      <td>5</td>\n",
       "      <td>21</td>\n",
       "      <td>2022-02-21</td>\n",
       "      <td>2022-12-21</td>\n",
       "      <td>2001.49</td>\n",
       "      <td>2023-07-10 12:00:00</td>\n",
       "      <td>2023-07-10 12:00:00</td>\n",
       "      <td>0.0</td>\n",
       "      <td>41</td>\n",
       "      <td>8</td>\n",
       "      <td>...</td>\n",
       "      <td>False</td>\n",
       "      <td>False</td>\n",
       "      <td>False</td>\n",
       "      <td>True</td>\n",
       "      <td>False</td>\n",
       "      <td>False</td>\n",
       "      <td>True</td>\n",
       "      <td>False</td>\n",
       "      <td>False</td>\n",
       "      <td>True</td>\n",
       "    </tr>\n",
       "    <tr>\n",
       "      <th>...</th>\n",
       "      <td>...</td>\n",
       "      <td>...</td>\n",
       "      <td>...</td>\n",
       "      <td>...</td>\n",
       "      <td>...</td>\n",
       "      <td>...</td>\n",
       "      <td>...</td>\n",
       "      <td>...</td>\n",
       "      <td>...</td>\n",
       "      <td>...</td>\n",
       "      <td>...</td>\n",
       "      <td>...</td>\n",
       "      <td>...</td>\n",
       "      <td>...</td>\n",
       "      <td>...</td>\n",
       "      <td>...</td>\n",
       "      <td>...</td>\n",
       "      <td>...</td>\n",
       "      <td>...</td>\n",
       "      <td>...</td>\n",
       "      <td>...</td>\n",
       "    </tr>\n",
       "    <tr>\n",
       "      <th>995</th>\n",
       "      <td>996</td>\n",
       "      <td>54</td>\n",
       "      <td>2022-07-24</td>\n",
       "      <td>2022-07-24</td>\n",
       "      <td>227.25</td>\n",
       "      <td>2023-07-10 12:00:00</td>\n",
       "      <td>2023-07-10 12:00:00</td>\n",
       "      <td>0.0</td>\n",
       "      <td>38</td>\n",
       "      <td>1</td>\n",
       "      <td>...</td>\n",
       "      <td>True</td>\n",
       "      <td>False</td>\n",
       "      <td>True</td>\n",
       "      <td>False</td>\n",
       "      <td>False</td>\n",
       "      <td>True</td>\n",
       "      <td>False</td>\n",
       "      <td>True</td>\n",
       "      <td>False</td>\n",
       "      <td>False</td>\n",
       "    </tr>\n",
       "    <tr>\n",
       "      <th>996</th>\n",
       "      <td>997</td>\n",
       "      <td>19</td>\n",
       "      <td>2022-08-06</td>\n",
       "      <td>2022-10-25</td>\n",
       "      <td>419.82</td>\n",
       "      <td>2023-07-10 12:00:00</td>\n",
       "      <td>2023-07-10 12:00:00</td>\n",
       "      <td>0.0</td>\n",
       "      <td>5</td>\n",
       "      <td>2</td>\n",
       "      <td>...</td>\n",
       "      <td>False</td>\n",
       "      <td>True</td>\n",
       "      <td>False</td>\n",
       "      <td>True</td>\n",
       "      <td>True</td>\n",
       "      <td>False</td>\n",
       "      <td>False</td>\n",
       "      <td>True</td>\n",
       "      <td>False</td>\n",
       "      <td>False</td>\n",
       "    </tr>\n",
       "    <tr>\n",
       "      <th>997</th>\n",
       "      <td>998</td>\n",
       "      <td>47</td>\n",
       "      <td>2022-09-18</td>\n",
       "      <td>2022-09-18</td>\n",
       "      <td>252.15</td>\n",
       "      <td>2023-07-10 12:00:00</td>\n",
       "      <td>2023-07-10 12:00:00</td>\n",
       "      <td>0.0</td>\n",
       "      <td>47</td>\n",
       "      <td>1</td>\n",
       "      <td>...</td>\n",
       "      <td>False</td>\n",
       "      <td>False</td>\n",
       "      <td>False</td>\n",
       "      <td>True</td>\n",
       "      <td>False</td>\n",
       "      <td>True</td>\n",
       "      <td>False</td>\n",
       "      <td>False</td>\n",
       "      <td>False</td>\n",
       "      <td>True</td>\n",
       "    </tr>\n",
       "    <tr>\n",
       "      <th>998</th>\n",
       "      <td>999</td>\n",
       "      <td>23</td>\n",
       "      <td>2022-01-20</td>\n",
       "      <td>2022-12-07</td>\n",
       "      <td>2393.26</td>\n",
       "      <td>2023-07-10 12:00:00</td>\n",
       "      <td>2023-07-10 12:00:00</td>\n",
       "      <td>0.0</td>\n",
       "      <td>23</td>\n",
       "      <td>9</td>\n",
       "      <td>...</td>\n",
       "      <td>False</td>\n",
       "      <td>True</td>\n",
       "      <td>False</td>\n",
       "      <td>True</td>\n",
       "      <td>True</td>\n",
       "      <td>False</td>\n",
       "      <td>False</td>\n",
       "      <td>False</td>\n",
       "      <td>False</td>\n",
       "      <td>True</td>\n",
       "    </tr>\n",
       "    <tr>\n",
       "      <th>999</th>\n",
       "      <td>1000</td>\n",
       "      <td>34</td>\n",
       "      <td>2022-04-08</td>\n",
       "      <td>2022-12-13</td>\n",
       "      <td>1670.79</td>\n",
       "      <td>2023-07-10 12:00:00</td>\n",
       "      <td>2023-07-10 12:00:00</td>\n",
       "      <td>0.0</td>\n",
       "      <td>22</td>\n",
       "      <td>6</td>\n",
       "      <td>...</td>\n",
       "      <td>False</td>\n",
       "      <td>True</td>\n",
       "      <td>False</td>\n",
       "      <td>True</td>\n",
       "      <td>False</td>\n",
       "      <td>True</td>\n",
       "      <td>False</td>\n",
       "      <td>True</td>\n",
       "      <td>False</td>\n",
       "      <td>False</td>\n",
       "    </tr>\n",
       "  </tbody>\n",
       "</table>\n",
       "<p>1000 rows × 24 columns</p>\n",
       "</div>"
      ],
      "text/plain": [
       "     CustomerID  Age FirstTransactionDate LastTransactionDate  \\\n",
       "0             1   62           2022-03-27          2022-03-27   \n",
       "1             2   65           2022-01-09          2022-11-19   \n",
       "2             3   18           2022-02-11          2022-10-08   \n",
       "3             4   21           2022-05-22          2022-12-27   \n",
       "4             5   21           2022-02-21          2022-12-21   \n",
       "..          ...  ...                  ...                 ...   \n",
       "995         996   54           2022-07-24          2022-07-24   \n",
       "996         997   19           2022-08-06          2022-10-25   \n",
       "997         998   47           2022-09-18          2022-09-18   \n",
       "998         999   23           2022-01-20          2022-12-07   \n",
       "999        1000   34           2022-04-08          2022-12-13   \n",
       "\n",
       "     TotalAmountSpent FirstInteractionDate LastInteractionDate  \\\n",
       "0              416.50  2022-03-31 00:00:00 2022-03-31 00:00:00   \n",
       "1             1547.42  2022-03-17 00:00:00 2022-03-17 00:00:00   \n",
       "2             1702.98  2022-08-24 00:00:00 2022-08-24 00:00:00   \n",
       "3              917.29  2022-07-03 00:00:00 2022-11-18 00:00:00   \n",
       "4             2001.49  2023-07-10 12:00:00 2023-07-10 12:00:00   \n",
       "..                ...                  ...                 ...   \n",
       "995            227.25  2023-07-10 12:00:00 2023-07-10 12:00:00   \n",
       "996            419.82  2023-07-10 12:00:00 2023-07-10 12:00:00   \n",
       "997            252.15  2023-07-10 12:00:00 2023-07-10 12:00:00   \n",
       "998           2393.26  2023-07-10 12:00:00 2023-07-10 12:00:00   \n",
       "999           1670.79  2023-07-10 12:00:00 2023-07-10 12:00:00   \n",
       "\n",
       "     TotalServiceInteractions  LoginFrequency  TransactionCount  ...  \\\n",
       "0                         1.0              34                 1  ...   \n",
       "1                         1.0               5                 7  ...   \n",
       "2                         1.0               3                 6  ...   \n",
       "3                         2.0               2                 5  ...   \n",
       "4                         0.0              41                 8  ...   \n",
       "..                        ...             ...               ...  ...   \n",
       "995                       0.0              38                 1  ...   \n",
       "996                       0.0               5                 2  ...   \n",
       "997                       0.0              47                 1  ...   \n",
       "998                       0.0              23                 9  ...   \n",
       "999                       0.0              22                 6  ...   \n",
       "\n",
       "    MaritalStatus_Single  MaritalStatus_Widowed  Gender_F  Gender_M  \\\n",
       "0                   True                  False     False      True   \n",
       "1                  False                  False     False      True   \n",
       "2                   True                  False     False      True   \n",
       "3                  False                   True     False      True   \n",
       "4                  False                  False     False      True   \n",
       "..                   ...                    ...       ...       ...   \n",
       "995                 True                  False      True     False   \n",
       "996                False                   True     False      True   \n",
       "997                False                  False     False      True   \n",
       "998                False                   True     False      True   \n",
       "999                False                   True     False      True   \n",
       "\n",
       "     IncomeLevel_High  IncomeLevel_Low  IncomeLevel_Medium  \\\n",
       "0               False             True               False   \n",
       "1               False             True               False   \n",
       "2               False             True               False   \n",
       "3               False             True               False   \n",
       "4               False            False                True   \n",
       "..                ...              ...                 ...   \n",
       "995             False             True               False   \n",
       "996              True            False               False   \n",
       "997             False             True               False   \n",
       "998              True            False               False   \n",
       "999             False             True               False   \n",
       "\n",
       "     ServiceUsage_Mobile App  ServiceUsage_Online Banking  \\\n",
       "0                       True                        False   \n",
       "1                      False                        False   \n",
       "2                      False                        False   \n",
       "3                      False                        False   \n",
       "4                      False                        False   \n",
       "..                       ...                          ...   \n",
       "995                     True                        False   \n",
       "996                     True                        False   \n",
       "997                    False                        False   \n",
       "998                    False                        False   \n",
       "999                     True                        False   \n",
       "\n",
       "     ServiceUsage_Website  \n",
       "0                   False  \n",
       "1                    True  \n",
       "2                    True  \n",
       "3                    True  \n",
       "4                    True  \n",
       "..                    ...  \n",
       "995                 False  \n",
       "996                 False  \n",
       "997                  True  \n",
       "998                  True  \n",
       "999                 False  \n",
       "\n",
       "[1000 rows x 24 columns]"
      ]
     },
     "execution_count": 89,
     "metadata": {},
     "output_type": "execute_result"
    }
   ],
   "source": [
    "df = pd.get_dummies(df, columns=['MaritalStatus','Gender','IncomeLevel', 'ServiceUsage'])\n",
    "df"
   ]
  },
  {
   "cell_type": "code",
   "execution_count": 90,
   "id": "e600ffec",
   "metadata": {},
   "outputs": [
    {
     "name": "stdout",
     "output_type": "stream",
     "text": [
      "The Average Revenue Per User is: 1267.07\n"
     ]
    }
   ],
   "source": [
    "ARPU = df['TotalAmountSpent'].sum()/df['CustomerID'].count()\n",
    "print(f'The Average Revenue Per User is: {ARPU:.2f}')"
   ]
  },
  {
   "cell_type": "code",
   "execution_count": 91,
   "id": "6bcaab7d",
   "metadata": {},
   "outputs": [
    {
     "data": {
      "text/plain": [
       "TotalServiceInteractions     1.002\n",
       "LoginFrequency              25.912\n",
       "TransactionCount             5.054\n",
       "dtype: float64"
      ]
     },
     "execution_count": 91,
     "metadata": {},
     "output_type": "execute_result"
    }
   ],
   "source": [
    "df[['TotalServiceInteractions', 'LoginFrequency', 'TransactionCount']].mean()"
   ]
  },
  {
   "cell_type": "code",
   "execution_count": 92,
   "id": "248e04af",
   "metadata": {},
   "outputs": [
    {
     "data": {
      "image/png": "[encoded data removed]",
      "text/plain": [
       "<Figure size 640x480 with 1 Axes>"
      ]
     },
     "metadata": {},
     "output_type": "display_data"
    }
   ],
   "source": [
    "df['Age'].hist(bins=20)\n",
    "plt.show()"
   ]
  },
  {
   "cell_type": "code",
   "execution_count": 93,
   "id": "580ad9e8",
   "metadata": {},
   "outputs": [
    {
     "data": {
      "image/png": "[encoded data removed]",
      "text/plain": [
       "<Figure size 640x480 with 1 Axes>"
      ]
     },
     "metadata": {},
     "output_type": "display_data"
    }
   ],
   "source": [
    "ax = df['ChurnStatus'].value_counts().plot(kind='bar')\n",
    "ax.set_xticklabels(['Not Churned', 'Churned'], rotation=0)\n",
    "plt.title('Churn Status Distribution')\n",
    "plt.xlabel('Churn Status')\n",
    "plt.ylabel('Count')\n",
    "\n",
    "plt.show()\n"
   ]
  },
  {
   "cell_type": "code",
   "execution_count": 94,
   "id": "4be3580c",
   "metadata": {},
   "outputs": [
    {
     "data": {
      "application/vnd.plotly.v1+json": {
       "config": {
        "plotlyServerURL": "https://plot.ly"
       },
       "data": [
        {
         "alignmentgroup": "True",
         "hovertemplate": "ChurnStatus=%{x}<br>TotalAmountSpent=%{y}<extra></extra>",
         "legendgroup": "",
         "marker": {
          "color": "#636efa"
         },
         "name": "",
         "notched": false,
         "offsetgroup": "",
         "orientation": "v",
         "showlegend": false,
         "type": "box",
         "x": {
          "bdata": "AAEAAAAAAAEAAQAAAAAAAQABAAAAAAAAAAEAAAAAAAABAAAAAAAAAAEAAAAAAQAAAAABAAAAAAAAAAAAAQAAAAAAAAEAAAEBAQABAQAAAQABAAAAAAAAAAAAAAAAAAAAAAAAAQAAAAEAAAEBAAEBAAAAAAAAAAEAAAEBAAAAAAEAAAAAAAAAAAEAAAAAAAABAAAAAAAAAAAAAAAAAAAAAQAAAAEAAAABAAEAAAABAAEAAAAAAAABAAAAAAAAAQAAAAAAAAEAAAABAAAAAAAAAAAAAAABAAAAAQAAAAEAAAAAAAEAAAEBAAABAAEBAQEAAAEAAAAAAAEAAAEBAAEAAAAAAAEBAQAAAAAAAAAAAQEAAAABAAAAAAABAQAAAQAAAAAAAAAAAAAAAAAAAAAAAAAAAAAAAAEAAAABAAAAAAAAAAEAAAAAAAAAAAAAAAEAAAAAAAABAAAAAAAAAAABAAEAAAAAAQAAAAEAAAEAAAAAAAAAAAAAAAAAAAABAAAAAQAAAQEAAAAAAAEBAAAAAAABAAEAAAEAAAABAAAAAAAAAAEAAAEAAAAAAAAAAAAAAQAAAAAAAAABAAAAAAAAAAABAAAAAAAAAAAAAAABAAAAAQAAAQEAAAAAAAAAAQABAAEAAAAAAAEAAAEAAAAAAAABAAAAAAAAAAEBAAEBAQAAAAABAAEAAAEAAAAAAAAAAAEBAAAAAAABAAAAAAABAAEAAAAAAAAAAAAAAAAAAAEAAQAAAQAAAAAAAAAAAQABAQABAAAAAAAAAQABAQAAAAAAAAAAAAAAAAEAAAEAAQAAAAAAAAEAAQEBAQAAAAAAAQABAAABAAAAAAAAAAAAAAEAAQEAAQAAAAEAAAAAAAABAQAAAAAAAAAAAAAAAAAAAAEAAAEAAAAAAQAAAQAAAAAAAQAAAAEBAAABAAABAAAAAAAAAAAAAAAAAAEAAAAAAAAAAAAAAAAAAAAAAQAAAAAAAAAAAQAAAAAAAQAAAAABAAAAAQAAAAABAQAAAAAAAAAAAAAAAQABAAAAAAEAAAAAAAEBAAEAAAAAAAAAAQAAAAAAAAEBAAAAAAEAAAAAAAAAAAAAAQAAAQEAAAABAAAAAAEAAAAAAQAAAAAAAAEAAQAAAAAAAAEAAAAAAAAAAAAAAAEAAAAAAAAAAAAAAAAAAAAAAAAAAAAAAAAAAAAAAAEAAAABAAABAAAAAAAAAAAAAAABAQAAAAABAQEBAAAAAAAAAAEAAQAAAAAAAAAAAAEBAAAAAAAAAAAAAAAAAAEAAAEBAAAAAQEAAAABAAAAAQAAAQAAAAABAAEBAAAAAAEAAAAAAA==",
          "dtype": "i1"
         },
         "x0": " ",
         "xaxis": "x",
         "y": {
          "bdata": "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",
          "dtype": "f8"
         },
         "y0": " ",
         "yaxis": "y"
        }
       ],
       "layout": {
        "boxmode": "group",
        "legend": {
         "tracegroupgap": 0
        },
        "template": {
         "data": {
          "bar": [
           {
            "error_x": {
             "color": "#2a3f5f"
            },
            "error_y": {
             "color": "#2a3f5f"
            },
            "marker": {
             "line": {
              "color": "#E5ECF6",
              "width": 0.5
             },
             "pattern": {
              "fillmode": "overlay",
              "size": 10,
              "solidity": 0.2
             }
            },
            "type": "bar"
           }
          ],
          "barpolar": [
           {
            "marker": {
             "line": {
              "color": "#E5ECF6",
              "width": 0.5
             },
             "pattern": {
              "fillmode": "overlay",
              "size": 10,
              "solidity": 0.2
             }
            },
            "type": "barpolar"
           }
          ],
          "carpet": [
           {
            "aaxis": {
             "endlinecolor": "#2a3f5f",
             "gridcolor": "white",
             "linecolor": "white",
             "minorgridcolor": "white",
             "startlinecolor": "#2a3f5f"
            },
            "baxis": {
             "endlinecolor": "#2a3f5f",
             "gridcolor": "white",
             "linecolor": "white",
             "minorgridcolor": "white",
             "startlinecolor": "#2a3f5f"
            },
            "type": "carpet"
           }
          ],
          "choropleth": [
           {
            "colorbar": {
             "outlinewidth": 0,
             "ticks": ""
            },
            "type": "choropleth"
           }
          ],
          "contour": [
           {
            "colorbar": {
             "outlinewidth": 0,
             "ticks": ""
            },
            "colorscale": [
             [
              0,
              "#0d0887"
             ],
             [
              0.1111111111111111,
              "#46039f"
             ],
             [
              0.2222222222222222,
              "#7201a8"
             ],
             [
              0.3333333333333333,
              "#9c179e"
             ],
             [
              0.4444444444444444,
              "#bd3786"
             ],
             [
              0.5555555555555556,
              "#d8576b"
             ],
             [
              0.6666666666666666,
              "#ed7953"
             ],
             [
              0.7777777777777778,
              "#fb9f3a"
             ],
             [
              0.8888888888888888,
              "#fdca26"
             ],
             [
              1,
              "#f0f921"
             ]
            ],
            "type": "contour"
           }
          ],
          "contourcarpet": [
           {
            "colorbar": {
             "outlinewidth": 0,
             "ticks": ""
            },
            "type": "contourcarpet"
           }
          ],
          "heatmap": [
           {
            "colorbar": {
             "outlinewidth": 0,
             "ticks": ""
            },
            "colorscale": [
             [
              0,
              "#0d0887"
             ],
             [
              0.1111111111111111,
              "#46039f"
             ],
             [
              0.2222222222222222,
              "#7201a8"
             ],
             [
              0.3333333333333333,
              "#9c179e"
             ],
             [
              0.4444444444444444,
              "#bd3786"
             ],
             [
              0.5555555555555556,
              "#d8576b"
             ],
             [
              0.6666666666666666,
              "#ed7953"
             ],
             [
              0.7777777777777778,
              "#fb9f3a"
             ],
             [
              0.8888888888888888,
              "#fdca26"
             ],
             [
              1,
              "#f0f921"
             ]
            ],
            "type": "heatmap"
           }
          ],
          "histogram": [
           {
            "marker": {
             "pattern": {
              "fillmode": "overlay",
              "size": 10,
              "solidity": 0.2
             }
            },
            "type": "histogram"
           }
          ],
          "histogram2d": [
           {
            "colorbar": {
             "outlinewidth": 0,
             "ticks": ""
            },
            "colorscale": [
             [
              0,
              "#0d0887"
             ],
             [
              0.1111111111111111,
              "#46039f"
             ],
             [
              0.2222222222222222,
              "#7201a8"
             ],
             [
              0.3333333333333333,
              "#9c179e"
             ],
             [
              0.4444444444444444,
              "#bd3786"
             ],
             [
              0.5555555555555556,
              "#d8576b"
             ],
             [
              0.6666666666666666,
              "#ed7953"
             ],
             [
              0.7777777777777778,
              "#fb9f3a"
             ],
             [
              0.8888888888888888,
              "#fdca26"
             ],
             [
              1,
              "#f0f921"
             ]
            ],
            "type": "histogram2d"
           }
          ],
          "histogram2dcontour": [
           {
            "colorbar": {
             "outlinewidth": 0,
             "ticks": ""
            },
            "colorscale": [
             [
              0,
              "#0d0887"
             ],
             [
              0.1111111111111111,
              "#46039f"
             ],
             [
              0.2222222222222222,
              "#7201a8"
             ],
             [
              0.3333333333333333,
              "#9c179e"
             ],
             [
              0.4444444444444444,
              "#bd3786"
             ],
             [
              0.5555555555555556,
              "#d8576b"
             ],
             [
              0.6666666666666666,
              "#ed7953"
             ],
             [
              0.7777777777777778,
              "#fb9f3a"
             ],
             [
              0.8888888888888888,
              "#fdca26"
             ],
             [
              1,
              "#f0f921"
             ]
            ],
            "type": "histogram2dcontour"
           }
          ],
          "mesh3d": [
           {
            "colorbar": {
             "outlinewidth": 0,
             "ticks": ""
            },
            "type": "mesh3d"
           }
          ],
          "parcoords": [
           {
            "line": {
             "colorbar": {
              "outlinewidth": 0,
              "ticks": ""
             }
            },
            "type": "parcoords"
           }
          ],
          "pie": [
           {
            "automargin": true,
            "type": "pie"
           }
          ],
          "scatter": [
           {
            "fillpattern": {
             "fillmode": "overlay",
             "size": 10,
             "solidity": 0.2
            },
            "type": "scatter"
           }
          ],
          "scatter3d": [
           {
            "line": {
             "colorbar": {
              "outlinewidth": 0,
              "ticks": ""
             }
            },
            "marker": {
             "colorbar": {
              "outlinewidth": 0,
              "ticks": ""
             }
            },
            "type": "scatter3d"
           }
          ],
          "scattercarpet": [
           {
            "marker": {
             "colorbar": {
              "outlinewidth": 0,
              "ticks": ""
             }
            },
            "type": "scattercarpet"
           }
          ],
          "scattergeo": [
           {
            "marker": {
             "colorbar": {
              "outlinewidth": 0,
              "ticks": ""
             }
            },
            "type": "scattergeo"
           }
          ],
          "scattergl": [
           {
            "marker": {
             "colorbar": {
              "outlinewidth": 0,
              "ticks": ""
             }
            },
            "type": "scattergl"
           }
          ],
          "scattermap": [
           {
            "marker": {
             "colorbar": {
              "outlinewidth": 0,
              "ticks": ""
             }
            },
            "type": "scattermap"
           }
          ],
          "scattermapbox": [
           {
            "marker": {
             "colorbar": {
              "outlinewidth": 0,
              "ticks": ""
             }
            },
            "type": "scattermapbox"
           }
          ],
          "scatterpolar": [
           {
            "marker": {
             "colorbar": {
              "outlinewidth": 0,
              "ticks": ""
             }
            },
            "type": "scatterpolar"
           }
          ],
          "scatterpolargl": [
           {
            "marker": {
             "colorbar": {
              "outlinewidth": 0,
              "ticks": ""
             }
            },
            "type": "scatterpolargl"
           }
          ],
          "scatterternary": [
           {
            "marker": {
             "colorbar": {
              "outlinewidth": 0,
              "ticks": ""
             }
            },
            "type": "scatterternary"
           }
          ],
          "surface": [
           {
            "colorbar": {
             "outlinewidth": 0,
             "ticks": ""
            },
            "colorscale": [
             [
              0,
              "#0d0887"
             ],
             [
              0.1111111111111111,
              "#46039f"
             ],
             [
              0.2222222222222222,
              "#7201a8"
             ],
             [
              0.3333333333333333,
              "#9c179e"
             ],
             [
              0.4444444444444444,
              "#bd3786"
             ],
             [
              0.5555555555555556,
              "#d8576b"
             ],
             [
              0.6666666666666666,
              "#ed7953"
             ],
             [
              0.7777777777777778,
              "#fb9f3a"
             ],
             [
              0.8888888888888888,
              "#fdca26"
             ],
             [
              1,
              "#f0f921"
             ]
            ],
            "type": "surface"
           }
          ],
          "table": [
           {
            "cells": {
             "fill": {
              "color": "#EBF0F8"
             },
             "line": {
              "color": "white"
             }
            },
            "header": {
             "fill": {
              "color": "#C8D4E3"
             },
             "line": {
              "color": "white"
             }
            },
            "type": "table"
           }
          ]
         },
         "layout": {
          "annotationdefaults": {
           "arrowcolor": "#2a3f5f",
           "arrowhead": 0,
           "arrowwidth": 1
          },
          "autotypenumbers": "strict",
          "coloraxis": {
           "colorbar": {
            "outlinewidth": 0,
            "ticks": ""
           }
          },
          "colorscale": {
           "diverging": [
            [
             0,
             "#8e0152"
            ],
            [
             0.1,
             "#c51b7d"
            ],
            [
             0.2,
             "#de77ae"
            ],
            [
             0.3,
             "#f1b6da"
            ],
            [
             0.4,
             "#fde0ef"
            ],
            [
             0.5,
             "#f7f7f7"
            ],
            [
             0.6,
             "#e6f5d0"
            ],
            [
             0.7,
             "#b8e186"
            ],
            [
             0.8,
             "#7fbc41"
            ],
            [
             0.9,
             "#4d9221"
            ],
            [
             1,
             "#276419"
            ]
           ],
           "sequential": [
            [
             0,
             "#0d0887"
            ],
            [
             0.1111111111111111,
             "#46039f"
            ],
            [
             0.2222222222222222,
             "#7201a8"
            ],
            [
             0.3333333333333333,
             "#9c179e"
            ],
            [
             0.4444444444444444,
             "#bd3786"
            ],
            [
             0.5555555555555556,
             "#d8576b"
            ],
            [
             0.6666666666666666,
             "#ed7953"
            ],
            [
             0.7777777777777778,
             "#fb9f3a"
            ],
            [
             0.8888888888888888,
             "#fdca26"
            ],
            [
             1,
             "#f0f921"
            ]
           ],
           "sequentialminus": [
            [
             0,
             "#0d0887"
            ],
            [
             0.1111111111111111,
             "#46039f"
            ],
            [
             0.2222222222222222,
             "#7201a8"
            ],
            [
             0.3333333333333333,
             "#9c179e"
            ],
            [
             0.4444444444444444,
             "#bd3786"
            ],
            [
             0.5555555555555556,
             "#d8576b"
            ],
            [
             0.6666666666666666,
             "#ed7953"
            ],
            [
             0.7777777777777778,
             "#fb9f3a"
            ],
            [
             0.8888888888888888,
             "#fdca26"
            ],
            [
             1,
             "#f0f921"
            ]
           ]
          },
          "colorway": [
           "#636efa",
           "#EF553B",
           "#00cc96",
           "#ab63fa",
           "#FFA15A",
           "#19d3f3",
           "#FF6692",
           "#B6E880",
           "#FF97FF",
           "#FECB52"
          ],
          "font": {
           "color": "#2a3f5f"
          },
          "geo": {
           "bgcolor": "white",
           "lakecolor": "white",
           "landcolor": "#E5ECF6",
           "showlakes": true,
           "showland": true,
           "subunitcolor": "white"
          },
          "hoverlabel": {
           "align": "left"
          },
          "hovermode": "closest",
          "mapbox": {
           "style": "light"
          },
          "paper_bgcolor": "white",
          "plot_bgcolor": "#E5ECF6",
          "polar": {
           "angularaxis": {
            "gridcolor": "white",
            "linecolor": "white",
            "ticks": ""
           },
           "bgcolor": "#E5ECF6",
           "radialaxis": {
            "gridcolor": "white",
            "linecolor": "white",
            "ticks": ""
           }
          },
          "scene": {
           "xaxis": {
            "backgroundcolor": "#E5ECF6",
            "gridcolor": "white",
            "gridwidth": 2,
            "linecolor": "white",
            "showbackground": true,
            "ticks": "",
            "zerolinecolor": "white"
           },
           "yaxis": {
            "backgroundcolor": "#E5ECF6",
            "gridcolor": "white",
            "gridwidth": 2,
            "linecolor": "white",
            "showbackground": true,
            "ticks": "",
            "zerolinecolor": "white"
           },
           "zaxis": {
            "backgroundcolor": "#E5ECF6",
            "gridcolor": "white",
            "gridwidth": 2,
            "linecolor": "white",
            "showbackground": true,
            "ticks": "",
            "zerolinecolor": "white"
           }
          },
          "shapedefaults": {
           "line": {
            "color": "#2a3f5f"
           }
          },
          "ternary": {
           "aaxis": {
            "gridcolor": "white",
            "linecolor": "white",
            "ticks": ""
           },
           "baxis": {
            "gridcolor": "white",
            "linecolor": "white",
            "ticks": ""
           },
           "bgcolor": "#E5ECF6",
           "caxis": {
            "gridcolor": "white",
            "linecolor": "white",
            "ticks": ""
           }
          },
          "title": {
           "x": 0.05
          },
          "xaxis": {
           "automargin": true,
           "gridcolor": "white",
           "linecolor": "white",
           "ticks": "",
           "title": {
            "standoff": 15
           },
           "zerolinecolor": "white",
           "zerolinewidth": 2
          },
          "yaxis": {
           "automargin": true,
           "gridcolor": "white",
           "linecolor": "white",
           "ticks": "",
           "title": {
            "standoff": 15
           },
           "zerolinecolor": "white",
           "zerolinewidth": 2
          }
         }
        },
        "title": {
         "text": "Total Amount Spent by Churn Status"
        },
        "xaxis": {
         "anchor": "y",
         "domain": [
          0,
          1
         ],
         "title": {
          "text": "ChurnStatus"
         }
        },
        "yaxis": {
         "anchor": "x",
         "domain": [
          0,
          1
         ],
         "title": {
          "text": "TotalAmountSpent"
         }
        }
       }
      }
     },
     "metadata": {},
     "output_type": "display_data"
    }
   ],
   "source": [
    "# this shows that total amount spent is not a good indicator of churn status\n",
    "px.box(df, x='ChurnStatus', y='TotalAmountSpent', title='Total Amount Spent by Churn Status')"
   ]
  },
  {
   "cell_type": "code",
   "execution_count": 95,
   "id": "a2e9ffc4",
   "metadata": {},
   "outputs": [
    {
     "name": "stderr",
     "output_type": "stream",
     "text": [
      "C:\\Users\\Admin\\AppData\\Local\\Temp\\ipykernel_6384\\3572868570.py:9: FutureWarning:\n",
      "\n",
      "The default of observed=False is deprecated and will be changed to True in a future version of pandas. Pass observed=False to retain current behavior or observed=True to adopt the future default and silence this warning.\n",
      "\n"
     ]
    },
    {
     "data": {
      "application/vnd.plotly.v1+json": {
       "config": {
        "plotlyServerURL": "https://plot.ly"
       },
       "data": [
        {
         "hovertemplate": "Age Group=%{x}<br>Mean Churn Probability=%{y}<extra></extra>",
         "legendgroup": "",
         "marker": {
          "color": "#636efa",
          "pattern": {
           "shape": ""
          }
         },
         "name": "",
         "orientation": "v",
         "showlegend": false,
         "textposition": "auto",
         "type": "bar",
         "x": [
          "35-44",
          "55-64",
          "65-69",
          "45-54",
          "25-34",
          "18-24"
         ],
         "xaxis": "x",
         "y": {
          "bdata": "+85GfWejzj80T6gFjEnMP5qZmZmZmck/rkfhehSuxz9605ve9KbHP+FJQfLnVcY/",
          "dtype": "f8"
         },
         "yaxis": "y"
        }
       ],
       "layout": {
        "barmode": "relative",
        "height": 500,
        "legend": {
         "tracegroupgap": 0
        },
        "template": {
         "data": {
          "bar": [
           {
            "error_x": {
             "color": "#2a3f5f"
            },
            "error_y": {
             "color": "#2a3f5f"
            },
            "marker": {
             "line": {
              "color": "#E5ECF6",
              "width": 0.5
             },
             "pattern": {
              "fillmode": "overlay",
              "size": 10,
              "solidity": 0.2
             }
            },
            "type": "bar"
           }
          ],
          "barpolar": [
           {
            "marker": {
             "line": {
              "color": "#E5ECF6",
              "width": 0.5
             },
             "pattern": {
              "fillmode": "overlay",
              "size": 10,
              "solidity": 0.2
             }
            },
            "type": "barpolar"
           }
          ],
          "carpet": [
           {
            "aaxis": {
             "endlinecolor": "#2a3f5f",
             "gridcolor": "white",
             "linecolor": "white",
             "minorgridcolor": "white",
             "startlinecolor": "#2a3f5f"
            },
            "baxis": {
             "endlinecolor": "#2a3f5f",
             "gridcolor": "white",
             "linecolor": "white",
             "minorgridcolor": "white",
             "startlinecolor": "#2a3f5f"
            },
            "type": "carpet"
           }
          ],
          "choropleth": [
           {
            "colorbar": {
             "outlinewidth": 0,
             "ticks": ""
            },
            "type": "choropleth"
           }
          ],
          "contour": [
           {
            "colorbar": {
             "outlinewidth": 0,
             "ticks": ""
            },
            "colorscale": [
             [
              0,
              "#0d0887"
             ],
             [
              0.1111111111111111,
              "#46039f"
             ],
             [
              0.2222222222222222,
              "#7201a8"
             ],
             [
              0.3333333333333333,
              "#9c179e"
             ],
             [
              0.4444444444444444,
              "#bd3786"
             ],
             [
              0.5555555555555556,
              "#d8576b"
             ],
             [
              0.6666666666666666,
              "#ed7953"
             ],
             [
              0.7777777777777778,
              "#fb9f3a"
             ],
             [
              0.8888888888888888,
              "#fdca26"
             ],
             [
              1,
              "#f0f921"
             ]
            ],
            "type": "contour"
           }
          ],
          "contourcarpet": [
           {
            "colorbar": {
             "outlinewidth": 0,
             "ticks": ""
            },
            "type": "contourcarpet"
           }
          ],
          "heatmap": [
           {
            "colorbar": {
             "outlinewidth": 0,
             "ticks": ""
            },
            "colorscale": [
             [
              0,
              "#0d0887"
             ],
             [
              0.1111111111111111,
              "#46039f"
             ],
             [
              0.2222222222222222,
              "#7201a8"
             ],
             [
              0.3333333333333333,
              "#9c179e"
             ],
             [
              0.4444444444444444,
              "#bd3786"
             ],
             [
              0.5555555555555556,
              "#d8576b"
             ],
             [
              0.6666666666666666,
              "#ed7953"
             ],
             [
              0.7777777777777778,
              "#fb9f3a"
             ],
             [
              0.8888888888888888,
              "#fdca26"
             ],
             [
              1,
              "#f0f921"
             ]
            ],
            "type": "heatmap"
           }
          ],
          "histogram": [
           {
            "marker": {
             "pattern": {
              "fillmode": "overlay",
              "size": 10,
              "solidity": 0.2
             }
            },
            "type": "histogram"
           }
          ],
          "histogram2d": [
           {
            "colorbar": {
             "outlinewidth": 0,
             "ticks": ""
            },
            "colorscale": [
             [
              0,
              "#0d0887"
             ],
             [
              0.1111111111111111,
              "#46039f"
             ],
             [
              0.2222222222222222,
              "#7201a8"
             ],
             [
              0.3333333333333333,
              "#9c179e"
             ],
             [
              0.4444444444444444,
              "#bd3786"
             ],
             [
              0.5555555555555556,
              "#d8576b"
             ],
             [
              0.6666666666666666,
              "#ed7953"
             ],
             [
              0.7777777777777778,
              "#fb9f3a"
             ],
             [
              0.8888888888888888,
              "#fdca26"
             ],
             [
              1,
              "#f0f921"
             ]
            ],
            "type": "histogram2d"
           }
          ],
          "histogram2dcontour": [
           {
            "colorbar": {
             "outlinewidth": 0,
             "ticks": ""
            },
            "colorscale": [
             [
              0,
              "#0d0887"
             ],
             [
              0.1111111111111111,
              "#46039f"
             ],
             [
              0.2222222222222222,
              "#7201a8"
             ],
             [
              0.3333333333333333,
              "#9c179e"
             ],
             [
              0.4444444444444444,
              "#bd3786"
             ],
             [
              0.5555555555555556,
              "#d8576b"
             ],
             [
              0.6666666666666666,
              "#ed7953"
             ],
             [
              0.7777777777777778,
              "#fb9f3a"
             ],
             [
              0.8888888888888888,
              "#fdca26"
             ],
             [
              1,
              "#f0f921"
             ]
            ],
            "type": "histogram2dcontour"
           }
          ],
          "mesh3d": [
           {
            "colorbar": {
             "outlinewidth": 0,
             "ticks": ""
            },
            "type": "mesh3d"
           }
          ],
          "parcoords": [
           {
            "line": {
             "colorbar": {
              "outlinewidth": 0,
              "ticks": ""
             }
            },
            "type": "parcoords"
           }
          ],
          "pie": [
           {
            "automargin": true,
            "type": "pie"
           }
          ],
          "scatter": [
           {
            "fillpattern": {
             "fillmode": "overlay",
             "size": 10,
             "solidity": 0.2
            },
            "type": "scatter"
           }
          ],
          "scatter3d": [
           {
            "line": {
             "colorbar": {
              "outlinewidth": 0,
              "ticks": ""
             }
            },
            "marker": {
             "colorbar": {
              "outlinewidth": 0,
              "ticks": ""
             }
            },
            "type": "scatter3d"
           }
          ],
          "scattercarpet": [
           {
            "marker": {
             "colorbar": {
              "outlinewidth": 0,
              "ticks": ""
             }
            },
            "type": "scattercarpet"
           }
          ],
          "scattergeo": [
           {
            "marker": {
             "colorbar": {
              "outlinewidth": 0,
              "ticks": ""
             }
            },
            "type": "scattergeo"
           }
          ],
          "scattergl": [
           {
            "marker": {
             "colorbar": {
              "outlinewidth": 0,
              "ticks": ""
             }
            },
            "type": "scattergl"
           }
          ],
          "scattermap": [
           {
            "marker": {
             "colorbar": {
              "outlinewidth": 0,
              "ticks": ""
             }
            },
            "type": "scattermap"
           }
          ],
          "scattermapbox": [
           {
            "marker": {
             "colorbar": {
              "outlinewidth": 0,
              "ticks": ""
             }
            },
            "type": "scattermapbox"
           }
          ],
          "scatterpolar": [
           {
            "marker": {
             "colorbar": {
              "outlinewidth": 0,
              "ticks": ""
             }
            },
            "type": "scatterpolar"
           }
          ],
          "scatterpolargl": [
           {
            "marker": {
             "colorbar": {
              "outlinewidth": 0,
              "ticks": ""
             }
            },
            "type": "scatterpolargl"
           }
          ],
          "scatterternary": [
           {
            "marker": {
             "colorbar": {
              "outlinewidth": 0,
              "ticks": ""
             }
            },
            "type": "scatterternary"
           }
          ],
          "surface": [
           {
            "colorbar": {
             "outlinewidth": 0,
             "ticks": ""
            },
            "colorscale": [
             [
              0,
              "#0d0887"
             ],
             [
              0.1111111111111111,
              "#46039f"
             ],
             [
              0.2222222222222222,
              "#7201a8"
             ],
             [
              0.3333333333333333,
              "#9c179e"
             ],
             [
              0.4444444444444444,
              "#bd3786"
             ],
             [
              0.5555555555555556,
              "#d8576b"
             ],
             [
              0.6666666666666666,
              "#ed7953"
             ],
             [
              0.7777777777777778,
              "#fb9f3a"
             ],
             [
              0.8888888888888888,
              "#fdca26"
             ],
             [
              1,
              "#f0f921"
             ]
            ],
            "type": "surface"
           }
          ],
          "table": [
           {
            "cells": {
             "fill": {
              "color": "#EBF0F8"
             },
             "line": {
              "color": "white"
             }
            },
            "header": {
             "fill": {
              "color": "#C8D4E3"
             },
             "line": {
              "color": "white"
             }
            },
            "type": "table"
           }
          ]
         },
         "layout": {
          "annotationdefaults": {
           "arrowcolor": "#2a3f5f",
           "arrowhead": 0,
           "arrowwidth": 1
          },
          "autotypenumbers": "strict",
          "coloraxis": {
           "colorbar": {
            "outlinewidth": 0,
            "ticks": ""
           }
          },
          "colorscale": {
           "diverging": [
            [
             0,
             "#8e0152"
            ],
            [
             0.1,
             "#c51b7d"
            ],
            [
             0.2,
             "#de77ae"
            ],
            [
             0.3,
             "#f1b6da"
            ],
            [
             0.4,
             "#fde0ef"
            ],
            [
             0.5,
             "#f7f7f7"
            ],
            [
             0.6,
             "#e6f5d0"
            ],
            [
             0.7,
             "#b8e186"
            ],
            [
             0.8,
             "#7fbc41"
            ],
            [
             0.9,
             "#4d9221"
            ],
            [
             1,
             "#276419"
            ]
           ],
           "sequential": [
            [
             0,
             "#0d0887"
            ],
            [
             0.1111111111111111,
             "#46039f"
            ],
            [
             0.2222222222222222,
             "#7201a8"
            ],
            [
             0.3333333333333333,
             "#9c179e"
            ],
            [
             0.4444444444444444,
             "#bd3786"
            ],
            [
             0.5555555555555556,
             "#d8576b"
            ],
            [
             0.6666666666666666,
             "#ed7953"
            ],
            [
             0.7777777777777778,
             "#fb9f3a"
            ],
            [
             0.8888888888888888,
             "#fdca26"
            ],
            [
             1,
             "#f0f921"
            ]
           ],
           "sequentialminus": [
            [
             0,
             "#0d0887"
            ],
            [
             0.1111111111111111,
             "#46039f"
            ],
            [
             0.2222222222222222,
             "#7201a8"
            ],
            [
             0.3333333333333333,
             "#9c179e"
            ],
            [
             0.4444444444444444,
             "#bd3786"
            ],
            [
             0.5555555555555556,
             "#d8576b"
            ],
            [
             0.6666666666666666,
             "#ed7953"
            ],
            [
             0.7777777777777778,
             "#fb9f3a"
            ],
            [
             0.8888888888888888,
             "#fdca26"
            ],
            [
             1,
             "#f0f921"
            ]
           ]
          },
          "colorway": [
           "#636efa",
           "#EF553B",
           "#00cc96",
           "#ab63fa",
           "#FFA15A",
           "#19d3f3",
           "#FF6692",
           "#B6E880",
           "#FF97FF",
           "#FECB52"
          ],
          "font": {
           "color": "#2a3f5f"
          },
          "geo": {
           "bgcolor": "white",
           "lakecolor": "white",
           "landcolor": "#E5ECF6",
           "showlakes": true,
           "showland": true,
           "subunitcolor": "white"
          },
          "hoverlabel": {
           "align": "left"
          },
          "hovermode": "closest",
          "mapbox": {
           "style": "light"
          },
          "paper_bgcolor": "white",
          "plot_bgcolor": "#E5ECF6",
          "polar": {
           "angularaxis": {
            "gridcolor": "white",
            "linecolor": "white",
            "ticks": ""
           },
           "bgcolor": "#E5ECF6",
           "radialaxis": {
            "gridcolor": "white",
            "linecolor": "white",
            "ticks": ""
           }
          },
          "scene": {
           "xaxis": {
            "backgroundcolor": "#E5ECF6",
            "gridcolor": "white",
            "gridwidth": 2,
            "linecolor": "white",
            "showbackground": true,
            "ticks": "",
            "zerolinecolor": "white"
           },
           "yaxis": {
            "backgroundcolor": "#E5ECF6",
            "gridcolor": "white",
            "gridwidth": 2,
            "linecolor": "white",
            "showbackground": true,
            "ticks": "",
            "zerolinecolor": "white"
           },
           "zaxis": {
            "backgroundcolor": "#E5ECF6",
            "gridcolor": "white",
            "gridwidth": 2,
            "linecolor": "white",
            "showbackground": true,
            "ticks": "",
            "zerolinecolor": "white"
           }
          },
          "shapedefaults": {
           "line": {
            "color": "#2a3f5f"
           }
          },
          "ternary": {
           "aaxis": {
            "gridcolor": "white",
            "linecolor": "white",
            "ticks": ""
           },
           "baxis": {
            "gridcolor": "white",
            "linecolor": "white",
            "ticks": ""
           },
           "bgcolor": "#E5ECF6",
           "caxis": {
            "gridcolor": "white",
            "linecolor": "white",
            "ticks": ""
           }
          },
          "title": {
           "x": 0.05
          },
          "xaxis": {
           "automargin": true,
           "gridcolor": "white",
           "linecolor": "white",
           "ticks": "",
           "title": {
            "standoff": 15
           },
           "zerolinecolor": "white",
           "zerolinewidth": 2
          },
          "yaxis": {
           "automargin": true,
           "gridcolor": "white",
           "linecolor": "white",
           "ticks": "",
           "title": {
            "standoff": 15
           },
           "zerolinecolor": "white",
           "zerolinewidth": 2
          }
         }
        },
        "title": {
         "text": "Mean Churn Rate by Age Group"
        },
        "width": 800,
        "xaxis": {
         "anchor": "y",
         "domain": [
          0,
          1
         ],
         "tickangle": 45,
         "title": {
          "text": "Age"
         }
        },
        "yaxis": {
         "anchor": "x",
         "domain": [
          0,
          1
         ],
         "title": {
          "text": "Churn Probability"
         }
        }
       }
      }
     },
     "metadata": {},
     "output_type": "display_data"
    }
   ],
   "source": [
    "# this show that middle to higher age groups are more likely to churn\n",
    "bins = [df['Age'].min(), 25, 35, 45, 55, 65, df['Age'].max()]\n",
    "labels = [f'{df[\"Age\"].min()}-24', '25-34', '35-44', '45-54', '55-64', f'65-{df[\"Age\"].max()}']\n",
    "\n",
    "#new column for age groups\n",
    "df['AgeGroup'] = pd.cut(df['Age'], bins=bins, right=False, labels=labels)\n",
    "\n",
    "\n",
    "churn_by_age_group = df.groupby('AgeGroup')['ChurnStatus'].mean().reset_index().sort_values(by='ChurnStatus', ascending=False)\n",
    "\n",
    "fig = px.bar(\n",
    "    churn_by_age_group,\n",
    "    x='AgeGroup',\n",
    "    y='ChurnStatus',\n",
    "    title='Mean Churn Rate by Age Group',\n",
    "    labels={'ChurnStatus': 'Mean Churn Probability', 'AgeGroup': 'Age Group'}\n",
    ")\n",
    "\n",
    "fig.update_layout(\n",
    "        xaxis_title='Age',\n",
    "        yaxis_title='Churn Probability',\n",
    "        xaxis_tickangle=45,\n",
    "        width=800,\n",
    "        height=500\n",
    ")\n",
    "\n",
    "fig.show()\n"
   ]
  },
  {
   "cell_type": "code",
   "execution_count": 96,
   "id": "21c3bcbb",
   "metadata": {},
   "outputs": [
    {
     "name": "stderr",
     "output_type": "stream",
     "text": [
      "C:\\Users\\Admin\\AppData\\Local\\Temp\\ipykernel_6384\\771858114.py:8: FutureWarning:\n",
      "\n",
      "The default of observed=False is deprecated and will be changed to True in a future version of pandas. Pass observed=False to retain current behavior or observed=True to adopt the future default and silence this warning.\n",
      "\n"
     ]
    },
    {
     "data": {
      "application/vnd.plotly.v1+json": {
       "config": {
        "plotlyServerURL": "https://plot.ly"
       },
       "data": [
        {
         "hovertemplate": "Age Group=%{x}<br>Mean Spending Probability=%{y}<extra></extra>",
         "legendgroup": "",
         "marker": {
          "color": "#636efa",
          "pattern": {
           "shape": ""
          }
         },
         "name": "",
         "orientation": "v",
         "showlegend": false,
         "textposition": "auto",
         "type": "bar",
         "x": [
          "35-44",
          "55-64",
          "45-54",
          "18-24",
          "25-34",
          "65-69"
         ],
         "xaxis": "x",
         "y": {
          "bdata": "6JqvNkNqlEAtQYBZWjOUQN9PjZfuv5NAn8TfaLJ+k0At5kXdUTqTQEyB35njq5JA",
          "dtype": "f8"
         },
         "yaxis": "y"
        }
       ],
       "layout": {
        "barmode": "relative",
        "height": 500,
        "legend": {
         "tracegroupgap": 0
        },
        "template": {
         "data": {
          "bar": [
           {
            "error_x": {
             "color": "#2a3f5f"
            },
            "error_y": {
             "color": "#2a3f5f"
            },
            "marker": {
             "line": {
              "color": "#E5ECF6",
              "width": 0.5
             },
             "pattern": {
              "fillmode": "overlay",
              "size": 10,
              "solidity": 0.2
             }
            },
            "type": "bar"
           }
          ],
          "barpolar": [
           {
            "marker": {
             "line": {
              "color": "#E5ECF6",
              "width": 0.5
             },
             "pattern": {
              "fillmode": "overlay",
              "size": 10,
              "solidity": 0.2
             }
            },
            "type": "barpolar"
           }
          ],
          "carpet": [
           {
            "aaxis": {
             "endlinecolor": "#2a3f5f",
             "gridcolor": "white",
             "linecolor": "white",
             "minorgridcolor": "white",
             "startlinecolor": "#2a3f5f"
            },
            "baxis": {
             "endlinecolor": "#2a3f5f",
             "gridcolor": "white",
             "linecolor": "white",
             "minorgridcolor": "white",
             "startlinecolor": "#2a3f5f"
            },
            "type": "carpet"
           }
          ],
          "choropleth": [
           {
            "colorbar": {
             "outlinewidth": 0,
             "ticks": ""
            },
            "type": "choropleth"
           }
          ],
          "contour": [
           {
            "colorbar": {
             "outlinewidth": 0,
             "ticks": ""
            },
            "colorscale": [
             [
              0,
              "#0d0887"
             ],
             [
              0.1111111111111111,
              "#46039f"
             ],
             [
              0.2222222222222222,
              "#7201a8"
             ],
             [
              0.3333333333333333,
              "#9c179e"
             ],
             [
              0.4444444444444444,
              "#bd3786"
             ],
             [
              0.5555555555555556,
              "#d8576b"
             ],
             [
              0.6666666666666666,
              "#ed7953"
             ],
             [
              0.7777777777777778,
              "#fb9f3a"
             ],
             [
              0.8888888888888888,
              "#fdca26"
             ],
             [
              1,
              "#f0f921"
             ]
            ],
            "type": "contour"
           }
          ],
          "contourcarpet": [
           {
            "colorbar": {
             "outlinewidth": 0,
             "ticks": ""
            },
            "type": "contourcarpet"
           }
          ],
          "heatmap": [
           {
            "colorbar": {
             "outlinewidth": 0,
             "ticks": ""
            },
            "colorscale": [
             [
              0,
              "#0d0887"
             ],
             [
              0.1111111111111111,
              "#46039f"
             ],
             [
              0.2222222222222222,
              "#7201a8"
             ],
             [
              0.3333333333333333,
              "#9c179e"
             ],
             [
              0.4444444444444444,
              "#bd3786"
             ],
             [
              0.5555555555555556,
              "#d8576b"
             ],
             [
              0.6666666666666666,
              "#ed7953"
             ],
             [
              0.7777777777777778,
              "#fb9f3a"
             ],
             [
              0.8888888888888888,
              "#fdca26"
             ],
             [
              1,
              "#f0f921"
             ]
            ],
            "type": "heatmap"
           }
          ],
          "histogram": [
           {
            "marker": {
             "pattern": {
              "fillmode": "overlay",
              "size": 10,
              "solidity": 0.2
             }
            },
            "type": "histogram"
           }
          ],
          "histogram2d": [
           {
            "colorbar": {
             "outlinewidth": 0,
             "ticks": ""
            },
            "colorscale": [
             [
              0,
              "#0d0887"
             ],
             [
              0.1111111111111111,
              "#46039f"
             ],
             [
              0.2222222222222222,
              "#7201a8"
             ],
             [
              0.3333333333333333,
              "#9c179e"
             ],
             [
              0.4444444444444444,
              "#bd3786"
             ],
             [
              0.5555555555555556,
              "#d8576b"
             ],
             [
              0.6666666666666666,
              "#ed7953"
             ],
             [
              0.7777777777777778,
              "#fb9f3a"
             ],
             [
              0.8888888888888888,
              "#fdca26"
             ],
             [
              1,
              "#f0f921"
             ]
            ],
            "type": "histogram2d"
           }
          ],
          "histogram2dcontour": [
           {
            "colorbar": {
             "outlinewidth": 0,
             "ticks": ""
            },
            "colorscale": [
             [
              0,
              "#0d0887"
             ],
             [
              0.1111111111111111,
              "#46039f"
             ],
             [
              0.2222222222222222,
              "#7201a8"
             ],
             [
              0.3333333333333333,
              "#9c179e"
             ],
             [
              0.4444444444444444,
              "#bd3786"
             ],
             [
              0.5555555555555556,
              "#d8576b"
             ],
             [
              0.6666666666666666,
              "#ed7953"
             ],
             [
              0.7777777777777778,
              "#fb9f3a"
             ],
             [
              0.8888888888888888,
              "#fdca26"
             ],
             [
              1,
              "#f0f921"
             ]
            ],
            "type": "histogram2dcontour"
           }
          ],
          "mesh3d": [
           {
            "colorbar": {
             "outlinewidth": 0,
             "ticks": ""
            },
            "type": "mesh3d"
           }
          ],
          "parcoords": [
           {
            "line": {
             "colorbar": {
              "outlinewidth": 0,
              "ticks": ""
             }
            },
            "type": "parcoords"
           }
          ],
          "pie": [
           {
            "automargin": true,
            "type": "pie"
           }
          ],
          "scatter": [
           {
            "fillpattern": {
             "fillmode": "overlay",
             "size": 10,
             "solidity": 0.2
            },
            "type": "scatter"
           }
          ],
          "scatter3d": [
           {
            "line": {
             "colorbar": {
              "outlinewidth": 0,
              "ticks": ""
             }
            },
            "marker": {
             "colorbar": {
              "outlinewidth": 0,
              "ticks": ""
             }
            },
            "type": "scatter3d"
           }
          ],
          "scattercarpet": [
           {
            "marker": {
             "colorbar": {
              "outlinewidth": 0,
              "ticks": ""
             }
            },
            "type": "scattercarpet"
           }
          ],
          "scattergeo": [
           {
            "marker": {
             "colorbar": {
              "outlinewidth": 0,
              "ticks": ""
             }
            },
            "type": "scattergeo"
           }
          ],
          "scattergl": [
           {
            "marker": {
             "colorbar": {
              "outlinewidth": 0,
              "ticks": ""
             }
            },
            "type": "scattergl"
           }
          ],
          "scattermap": [
           {
            "marker": {
             "colorbar": {
              "outlinewidth": 0,
              "ticks": ""
             }
            },
            "type": "scattermap"
           }
          ],
          "scattermapbox": [
           {
            "marker": {
             "colorbar": {
              "outlinewidth": 0,
              "ticks": ""
             }
            },
            "type": "scattermapbox"
           }
          ],
          "scatterpolar": [
           {
            "marker": {
             "colorbar": {
              "outlinewidth": 0,
              "ticks": ""
             }
            },
            "type": "scatterpolar"
           }
          ],
          "scatterpolargl": [
           {
            "marker": {
             "colorbar": {
              "outlinewidth": 0,
              "ticks": ""
             }
            },
            "type": "scatterpolargl"
           }
          ],
          "scatterternary": [
           {
            "marker": {
             "colorbar": {
              "outlinewidth": 0,
              "ticks": ""
             }
            },
            "type": "scatterternary"
           }
          ],
          "surface": [
           {
            "colorbar": {
             "outlinewidth": 0,
             "ticks": ""
            },
            "colorscale": [
             [
              0,
              "#0d0887"
             ],
             [
              0.1111111111111111,
              "#46039f"
             ],
             [
              0.2222222222222222,
              "#7201a8"
             ],
             [
              0.3333333333333333,
              "#9c179e"
             ],
             [
              0.4444444444444444,
              "#bd3786"
             ],
             [
              0.5555555555555556,
              "#d8576b"
             ],
             [
              0.6666666666666666,
              "#ed7953"
             ],
             [
              0.7777777777777778,
              "#fb9f3a"
             ],
             [
              0.8888888888888888,
              "#fdca26"
             ],
             [
              1,
              "#f0f921"
             ]
            ],
            "type": "surface"
           }
          ],
          "table": [
           {
            "cells": {
             "fill": {
              "color": "#EBF0F8"
             },
             "line": {
              "color": "white"
             }
            },
            "header": {
             "fill": {
              "color": "#C8D4E3"
             },
             "line": {
              "color": "white"
             }
            },
            "type": "table"
           }
          ]
         },
         "layout": {
          "annotationdefaults": {
           "arrowcolor": "#2a3f5f",
           "arrowhead": 0,
           "arrowwidth": 1
          },
          "autotypenumbers": "strict",
          "coloraxis": {
           "colorbar": {
            "outlinewidth": 0,
            "ticks": ""
           }
          },
          "colorscale": {
           "diverging": [
            [
             0,
             "#8e0152"
            ],
            [
             0.1,
             "#c51b7d"
            ],
            [
             0.2,
             "#de77ae"
            ],
            [
             0.3,
             "#f1b6da"
            ],
            [
             0.4,
             "#fde0ef"
            ],
            [
             0.5,
             "#f7f7f7"
            ],
            [
             0.6,
             "#e6f5d0"
            ],
            [
             0.7,
             "#b8e186"
            ],
            [
             0.8,
             "#7fbc41"
            ],
            [
             0.9,
             "#4d9221"
            ],
            [
             1,
             "#276419"
            ]
           ],
           "sequential": [
            [
             0,
             "#0d0887"
            ],
            [
             0.1111111111111111,
             "#46039f"
            ],
            [
             0.2222222222222222,
             "#7201a8"
            ],
            [
             0.3333333333333333,
             "#9c179e"
            ],
            [
             0.4444444444444444,
             "#bd3786"
            ],
            [
             0.5555555555555556,
             "#d8576b"
            ],
            [
             0.6666666666666666,
             "#ed7953"
            ],
            [
             0.7777777777777778,
             "#fb9f3a"
            ],
            [
             0.8888888888888888,
             "#fdca26"
            ],
            [
             1,
             "#f0f921"
            ]
           ],
           "sequentialminus": [
            [
             0,
             "#0d0887"
            ],
            [
             0.1111111111111111,
             "#46039f"
            ],
            [
             0.2222222222222222,
             "#7201a8"
            ],
            [
             0.3333333333333333,
             "#9c179e"
            ],
            [
             0.4444444444444444,
             "#bd3786"
            ],
            [
             0.5555555555555556,
             "#d8576b"
            ],
            [
             0.6666666666666666,
             "#ed7953"
            ],
            [
             0.7777777777777778,
             "#fb9f3a"
            ],
            [
             0.8888888888888888,
             "#fdca26"
            ],
            [
             1,
             "#f0f921"
            ]
           ]
          },
          "colorway": [
           "#636efa",
           "#EF553B",
           "#00cc96",
           "#ab63fa",
           "#FFA15A",
           "#19d3f3",
           "#FF6692",
           "#B6E880",
           "#FF97FF",
           "#FECB52"
          ],
          "font": {
           "color": "#2a3f5f"
          },
          "geo": {
           "bgcolor": "white",
           "lakecolor": "white",
           "landcolor": "#E5ECF6",
           "showlakes": true,
           "showland": true,
           "subunitcolor": "white"
          },
          "hoverlabel": {
           "align": "left"
          },
          "hovermode": "closest",
          "mapbox": {
           "style": "light"
          },
          "paper_bgcolor": "white",
          "plot_bgcolor": "#E5ECF6",
          "polar": {
           "angularaxis": {
            "gridcolor": "white",
            "linecolor": "white",
            "ticks": ""
           },
           "bgcolor": "#E5ECF6",
           "radialaxis": {
            "gridcolor": "white",
            "linecolor": "white",
            "ticks": ""
           }
          },
          "scene": {
           "xaxis": {
            "backgroundcolor": "#E5ECF6",
            "gridcolor": "white",
            "gridwidth": 2,
            "linecolor": "white",
            "showbackground": true,
            "ticks": "",
            "zerolinecolor": "white"
           },
           "yaxis": {
            "backgroundcolor": "#E5ECF6",
            "gridcolor": "white",
            "gridwidth": 2,
            "linecolor": "white",
            "showbackground": true,
            "ticks": "",
            "zerolinecolor": "white"
           },
           "zaxis": {
            "backgroundcolor": "#E5ECF6",
            "gridcolor": "white",
            "gridwidth": 2,
            "linecolor": "white",
            "showbackground": true,
            "ticks": "",
            "zerolinecolor": "white"
           }
          },
          "shapedefaults": {
           "line": {
            "color": "#2a3f5f"
           }
          },
          "ternary": {
           "aaxis": {
            "gridcolor": "white",
            "linecolor": "white",
            "ticks": ""
           },
           "baxis": {
            "gridcolor": "white",
            "linecolor": "white",
            "ticks": ""
           },
           "bgcolor": "#E5ECF6",
           "caxis": {
            "gridcolor": "white",
            "linecolor": "white",
            "ticks": ""
           }
          },
          "title": {
           "x": 0.05
          },
          "xaxis": {
           "automargin": true,
           "gridcolor": "white",
           "linecolor": "white",
           "ticks": "",
           "title": {
            "standoff": 15
           },
           "zerolinecolor": "white",
           "zerolinewidth": 2
          },
          "yaxis": {
           "automargin": true,
           "gridcolor": "white",
           "linecolor": "white",
           "ticks": "",
           "title": {
            "standoff": 15
           },
           "zerolinecolor": "white",
           "zerolinewidth": 2
          }
         }
        },
        "title": {
         "text": "Mean Churn Rate by Age Group"
        },
        "width": 800,
        "xaxis": {
         "anchor": "y",
         "domain": [
          0,
          1
         ],
         "tickangle": 45,
         "title": {
          "text": "Age"
         }
        },
        "yaxis": {
         "anchor": "x",
         "domain": [
          0,
          1
         ],
         "title": {
          "text": "Spending Probability"
         }
        }
       }
      }
     },
     "metadata": {},
     "output_type": "display_data"
    }
   ],
   "source": [
    "bins = [df['Age'].min(), 25, 35, 45, 55, 65, df['Age'].max()]\n",
    "labels = [f'{df[\"Age\"].min()}-24', '25-34', '35-44', '45-54', '55-64', f'65-{df[\"Age\"].max()}']\n",
    "\n",
    "#new column for age groups\n",
    "df['AgeGroup'] = pd.cut(df['Age'], bins=bins, right=False, labels=labels)\n",
    "\n",
    "\n",
    "churn_by_age_group = df.groupby('AgeGroup')['TotalAmountSpent'].mean().reset_index().sort_values(by='TotalAmountSpent', ascending=False)\n",
    "\n",
    "fig = px.bar(\n",
    "    churn_by_age_group,\n",
    "    x='AgeGroup',\n",
    "    y='TotalAmountSpent',\n",
    "    title='Mean Churn Rate by Age Group',\n",
    "    labels={'TotalAmountSpent': 'Mean Spending Probability', 'AgeGroup': 'Age Group'}\n",
    ")\n",
    "\n",
    "fig.update_layout(\n",
    "        xaxis_title='Age',\n",
    "        yaxis_title='Spending Probability',\n",
    "        xaxis_tickangle=45,\n",
    "        width=800,\n",
    "        height=500\n",
    ")\n",
    "\n",
    "fig.show()"
   ]
  },
  {
   "cell_type": "code",
   "execution_count": 97,
   "id": "9915734d",
   "metadata": {},
   "outputs": [
    {
     "data": {
      "image/png": "[encoded data removed]",
      "text/plain": [
       "<Figure size 2000x1500 with 2 Axes>"
      ]
     },
     "metadata": {},
     "output_type": "display_data"
    }
   ],
   "source": [
    "import seaborn as sns\n",
    "plt.figure(figsize=(20,15))\n",
    "sns.heatmap(df.corr(numeric_only=True), annot=True, cmap='coolwarm')\n",
    "plt.title(\"Correlation Heatmap\")\n",
    "plt.show()\n"
   ]
  },
  {
   "cell_type": "code",
   "execution_count": 98,
   "id": "9aa1dbf8",
   "metadata": {},
   "outputs": [],
   "source": [
    "df.to_csv('customer_churn_analysis_cleaned.csv', index=False)"
   ]
  }
 ],
 "metadata": {
  "kernelspec": {
   "display_name": ".venv",
   "language": "python",
   "name": "python3"
  },
  "language_info": {
   "codemirror_mode": {
    "name": "ipython",
    "version": 3
   },
   "file_extension": ".py",
   "mimetype": "text/x-python",
   "name": "python",
   "nbconvert_exporter": "python",
   "pygments_lexer": "ipython3",
   "version": "3.13.2"
  }
 },
 "nbformat": 4,
 "nbformat_minor": 5
}
