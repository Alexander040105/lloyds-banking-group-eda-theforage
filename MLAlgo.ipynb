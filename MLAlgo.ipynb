{
 "cells": [
  {
   "cell_type": "code",
   "execution_count": 15,
   "id": "fc418c58",
   "metadata": {},
   "outputs": [
    {
     "name": "stdout",
     "output_type": "stream",
     "text": [
      "Accuracy: 0.82\n",
      "\n",
      "Classification Report:\n",
      "               precision    recall  f1-score   support\n",
      "\n",
      "           0       0.88      0.81      0.85        54\n",
      "           1       0.75      0.83      0.79        36\n",
      "\n",
      "    accuracy                           0.82        90\n",
      "   macro avg       0.81      0.82      0.82        90\n",
      "weighted avg       0.83      0.82      0.82        90\n",
      "\n",
      "\n",
      "Sample Passenger: {'Pclass': 2, 'Sex': 1, 'Age': 21.0, 'SibSp': 2, 'Parch': 0, 'Fare': 73.5}\n",
      "Predicted Survival: Did Not Survive\n"
     ]
    }
   ],
   "source": [
    "import pandas as pd\n",
    "from sklearn.model_selection import train_test_split\n",
    "from sklearn.ensemble import RandomForestClassifier\n",
    "from sklearn.metrics import accuracy_score, classification_report\n",
    "import warnings\n",
    "warnings.filterwarnings('ignore')\n",
    "\n",
    "url = \"https://raw.githubusercontent.com/datasciencedojo/datasets/master/titanic.csv\"\n",
    "titanic_data = pd.read_csv(url)\n",
    "\n",
    "titanic_data = titanic_data.dropna(subset=['Survived'])\n",
    "\n",
    "X = titanic_data[['Pclass', 'Sex', 'Age', 'SibSp', 'Parch', 'Fare']]\n",
    "y = titanic_data['Survived']\n",
    "\n",
    "X.loc[:, 'Sex'] = X['Sex'].map({'female': 0, 'male': 1})\n",
    "\n",
    "X.loc[:, 'Age'].fillna(X['Age'].median(), inplace=True)\n",
    "\n",
    "X_train, X_test, y_train, y_test = train_test_split(X, y, test_size=0.1, random_state=42)\n",
    "\n",
    "rf_classifier = RandomForestClassifier(n_estimators=100, random_state=42)\n",
    "\n",
    "rf_classifier.fit(X_train, y_train)\n",
    "\n",
    "y_pred = rf_classifier.predict(X_test)\n",
    "\n",
    "accuracy = accuracy_score(y_test, y_pred)\n",
    "classification_rep = classification_report(y_test, y_pred)\n",
    "\n",
    "print(f\"Accuracy: {accuracy:.2f}\")\n",
    "print(\"\\nClassification Report:\\n\", classification_rep)\n",
    "\n",
    "sample = X_test.sample(n=5, random_state=42)    \n",
    "prediction = rf_classifier.predict(sample)\n",
    "\n",
    "sample_dict = sample.iloc[0].to_dict()\n",
    "print(f\"\\nSample Passenger: {sample_dict}\")\n",
    "print(f\"Predicted Survival: {'Survived' if prediction[0] == 1 else 'Did Not Survive'}\")"
   ]
  }
 ],
 "metadata": {
  "kernelspec": {
   "display_name": ".venv",
   "language": "python",
   "name": "python3"
  },
  "language_info": {
   "codemirror_mode": {
    "name": "ipython",
    "version": 3
   },
   "file_extension": ".py",
   "mimetype": "text/x-python",
   "name": "python",
   "nbconvert_exporter": "python",
   "pygments_lexer": "ipython3",
   "version": "3.13.2"
  }
 },
 "nbformat": 4,
 "nbformat_minor": 5
}
