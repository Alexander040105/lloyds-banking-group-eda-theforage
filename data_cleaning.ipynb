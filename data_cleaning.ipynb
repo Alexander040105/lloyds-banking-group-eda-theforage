{
 "cells": [
  {
   "cell_type": "code",
   "execution_count": 1,
   "id": "652c1f86",
   "metadata": {},
   "outputs": [],
   "source": [
    "import pandas as pd\n",
    "import numpy as np \n",
    "import plotly.express as px\n",
    "import os"
   ]
  },
  {
   "cell_type": "code",
   "execution_count": 2,
   "id": "c0e87189",
   "metadata": {},
   "outputs": [
    {
     "data": {
      "text/plain": [
       "<pandas.io.excel._base.ExcelFile at 0x147440834d0>"
      ]
     },
     "execution_count": 2,
     "metadata": {},
     "output_type": "execute_result"
    }
   ],
   "source": [
    "current_directory = os.getcwd()\n",
    "customer_data = pd.ExcelFile(f'{current_directory}\\\\Customer_Churn_Data_Large.xlsx')\n",
    "customer_data"
   ]
  },
  {
   "cell_type": "code",
   "execution_count": 3,
   "id": "56f0de47",
   "metadata": {},
   "outputs": [
    {
     "data": {
      "text/html": [
       "<div>\n",
       "<style scoped>\n",
       "    .dataframe tbody tr th:only-of-type {\n",
       "        vertical-align: middle;\n",
       "    }\n",
       "\n",
       "    .dataframe tbody tr th {\n",
       "        vertical-align: top;\n",
       "    }\n",
       "\n",
       "    .dataframe thead th {\n",
       "        text-align: right;\n",
       "    }\n",
       "</style>\n",
       "<table border=\"1\" class=\"dataframe\">\n",
       "  <thead>\n",
       "    <tr style=\"text-align: right;\">\n",
       "      <th></th>\n",
       "      <th>CustomerID</th>\n",
       "      <th>Age</th>\n",
       "      <th>Gender</th>\n",
       "      <th>MaritalStatus</th>\n",
       "      <th>IncomeLevel</th>\n",
       "    </tr>\n",
       "  </thead>\n",
       "  <tbody>\n",
       "    <tr>\n",
       "      <th>0</th>\n",
       "      <td>1</td>\n",
       "      <td>62</td>\n",
       "      <td>M</td>\n",
       "      <td>Single</td>\n",
       "      <td>Low</td>\n",
       "    </tr>\n",
       "    <tr>\n",
       "      <th>1</th>\n",
       "      <td>2</td>\n",
       "      <td>65</td>\n",
       "      <td>M</td>\n",
       "      <td>Married</td>\n",
       "      <td>Low</td>\n",
       "    </tr>\n",
       "    <tr>\n",
       "      <th>2</th>\n",
       "      <td>3</td>\n",
       "      <td>18</td>\n",
       "      <td>M</td>\n",
       "      <td>Single</td>\n",
       "      <td>Low</td>\n",
       "    </tr>\n",
       "    <tr>\n",
       "      <th>3</th>\n",
       "      <td>4</td>\n",
       "      <td>21</td>\n",
       "      <td>M</td>\n",
       "      <td>Widowed</td>\n",
       "      <td>Low</td>\n",
       "    </tr>\n",
       "    <tr>\n",
       "      <th>4</th>\n",
       "      <td>5</td>\n",
       "      <td>21</td>\n",
       "      <td>M</td>\n",
       "      <td>Divorced</td>\n",
       "      <td>Medium</td>\n",
       "    </tr>\n",
       "    <tr>\n",
       "      <th>...</th>\n",
       "      <td>...</td>\n",
       "      <td>...</td>\n",
       "      <td>...</td>\n",
       "      <td>...</td>\n",
       "      <td>...</td>\n",
       "    </tr>\n",
       "    <tr>\n",
       "      <th>995</th>\n",
       "      <td>996</td>\n",
       "      <td>54</td>\n",
       "      <td>F</td>\n",
       "      <td>Single</td>\n",
       "      <td>Low</td>\n",
       "    </tr>\n",
       "    <tr>\n",
       "      <th>996</th>\n",
       "      <td>997</td>\n",
       "      <td>19</td>\n",
       "      <td>M</td>\n",
       "      <td>Widowed</td>\n",
       "      <td>High</td>\n",
       "    </tr>\n",
       "    <tr>\n",
       "      <th>997</th>\n",
       "      <td>998</td>\n",
       "      <td>47</td>\n",
       "      <td>M</td>\n",
       "      <td>Married</td>\n",
       "      <td>Low</td>\n",
       "    </tr>\n",
       "    <tr>\n",
       "      <th>998</th>\n",
       "      <td>999</td>\n",
       "      <td>23</td>\n",
       "      <td>M</td>\n",
       "      <td>Widowed</td>\n",
       "      <td>High</td>\n",
       "    </tr>\n",
       "    <tr>\n",
       "      <th>999</th>\n",
       "      <td>1000</td>\n",
       "      <td>34</td>\n",
       "      <td>M</td>\n",
       "      <td>Widowed</td>\n",
       "      <td>Low</td>\n",
       "    </tr>\n",
       "  </tbody>\n",
       "</table>\n",
       "<p>1000 rows × 5 columns</p>\n",
       "</div>"
      ],
      "text/plain": [
       "     CustomerID  Age Gender MaritalStatus IncomeLevel\n",
       "0             1   62      M        Single         Low\n",
       "1             2   65      M       Married         Low\n",
       "2             3   18      M        Single         Low\n",
       "3             4   21      M       Widowed         Low\n",
       "4             5   21      M      Divorced      Medium\n",
       "..          ...  ...    ...           ...         ...\n",
       "995         996   54      F        Single         Low\n",
       "996         997   19      M       Widowed        High\n",
       "997         998   47      M       Married         Low\n",
       "998         999   23      M       Widowed        High\n",
       "999        1000   34      M       Widowed         Low\n",
       "\n",
       "[1000 rows x 5 columns]"
      ]
     },
     "execution_count": 3,
     "metadata": {},
     "output_type": "execute_result"
    }
   ],
   "source": [
    "customer_demographics  = pd.read_excel(customer_data, 'Customer_Demographics')\n",
    "customer_demographics"
   ]
  },
  {
   "cell_type": "code",
   "execution_count": 4,
   "id": "67997130",
   "metadata": {},
   "outputs": [
    {
     "data": {
      "text/plain": [
       "Gender  IncomeLevel\n",
       "M       Medium         159\n",
       "        Low            153\n",
       "        High           175\n",
       "F       Medium         167\n",
       "        Low            172\n",
       "        High           174\n",
       "Name: count, dtype: int64"
      ]
     },
     "execution_count": 4,
     "metadata": {},
     "output_type": "execute_result"
    }
   ],
   "source": [
    "customer_demographics[['Gender', 'IncomeLevel']].value_counts().sort_index(ascending=False)"
   ]
  },
  {
   "cell_type": "code",
   "execution_count": 5,
   "id": "fe56285e",
   "metadata": {},
   "outputs": [
    {
     "data": {
      "text/plain": [
       "Age  IncomeLevel\n",
       "69   Medium          6\n",
       "     Low             7\n",
       "     High           10\n",
       "68   Medium         11\n",
       "     Low             8\n",
       "                    ..\n",
       "19   Low             7\n",
       "     High            7\n",
       "18   Medium         10\n",
       "     Low            10\n",
       "     High            4\n",
       "Name: count, Length: 156, dtype: int64"
      ]
     },
     "execution_count": 5,
     "metadata": {},
     "output_type": "execute_result"
    }
   ],
   "source": [
    "customer_demographics[['Age', 'IncomeLevel']].value_counts().sort_index(ascending=False)"
   ]
  },
  {
   "cell_type": "code",
   "execution_count": 6,
   "id": "ab271b9e",
   "metadata": {},
   "outputs": [
    {
     "data": {
      "text/html": [
       "<div>\n",
       "<style scoped>\n",
       "    .dataframe tbody tr th:only-of-type {\n",
       "        vertical-align: middle;\n",
       "    }\n",
       "\n",
       "    .dataframe tbody tr th {\n",
       "        vertical-align: top;\n",
       "    }\n",
       "\n",
       "    .dataframe thead th {\n",
       "        text-align: right;\n",
       "    }\n",
       "</style>\n",
       "<table border=\"1\" class=\"dataframe\">\n",
       "  <thead>\n",
       "    <tr style=\"text-align: right;\">\n",
       "      <th></th>\n",
       "      <th>Age</th>\n",
       "      <th>IncomeLevel</th>\n",
       "      <th>count</th>\n",
       "    </tr>\n",
       "  </thead>\n",
       "  <tbody>\n",
       "    <tr>\n",
       "      <th>0</th>\n",
       "      <td>69</td>\n",
       "      <td>Medium</td>\n",
       "      <td>6</td>\n",
       "    </tr>\n",
       "    <tr>\n",
       "      <th>1</th>\n",
       "      <td>69</td>\n",
       "      <td>Low</td>\n",
       "      <td>7</td>\n",
       "    </tr>\n",
       "    <tr>\n",
       "      <th>2</th>\n",
       "      <td>69</td>\n",
       "      <td>High</td>\n",
       "      <td>10</td>\n",
       "    </tr>\n",
       "    <tr>\n",
       "      <th>3</th>\n",
       "      <td>68</td>\n",
       "      <td>Medium</td>\n",
       "      <td>11</td>\n",
       "    </tr>\n",
       "    <tr>\n",
       "      <th>4</th>\n",
       "      <td>68</td>\n",
       "      <td>Low</td>\n",
       "      <td>8</td>\n",
       "    </tr>\n",
       "    <tr>\n",
       "      <th>...</th>\n",
       "      <td>...</td>\n",
       "      <td>...</td>\n",
       "      <td>...</td>\n",
       "    </tr>\n",
       "    <tr>\n",
       "      <th>151</th>\n",
       "      <td>19</td>\n",
       "      <td>Low</td>\n",
       "      <td>7</td>\n",
       "    </tr>\n",
       "    <tr>\n",
       "      <th>152</th>\n",
       "      <td>19</td>\n",
       "      <td>High</td>\n",
       "      <td>7</td>\n",
       "    </tr>\n",
       "    <tr>\n",
       "      <th>153</th>\n",
       "      <td>18</td>\n",
       "      <td>Medium</td>\n",
       "      <td>10</td>\n",
       "    </tr>\n",
       "    <tr>\n",
       "      <th>154</th>\n",
       "      <td>18</td>\n",
       "      <td>Low</td>\n",
       "      <td>10</td>\n",
       "    </tr>\n",
       "    <tr>\n",
       "      <th>155</th>\n",
       "      <td>18</td>\n",
       "      <td>High</td>\n",
       "      <td>4</td>\n",
       "    </tr>\n",
       "  </tbody>\n",
       "</table>\n",
       "<p>156 rows × 3 columns</p>\n",
       "</div>"
      ],
      "text/plain": [
       "     Age IncomeLevel  count\n",
       "0     69      Medium      6\n",
       "1     69         Low      7\n",
       "2     69        High     10\n",
       "3     68      Medium     11\n",
       "4     68         Low      8\n",
       "..   ...         ...    ...\n",
       "151   19         Low      7\n",
       "152   19        High      7\n",
       "153   18      Medium     10\n",
       "154   18         Low     10\n",
       "155   18        High      4\n",
       "\n",
       "[156 rows x 3 columns]"
      ]
     },
     "execution_count": 6,
     "metadata": {},
     "output_type": "execute_result"
    }
   ],
   "source": [
    "counts = (\n",
    "    customer_demographics[['Age', 'IncomeLevel']]\n",
    "    .value_counts()\n",
    "    .sort_index(ascending=False)\n",
    ")\n",
    "\n",
    "df = pd.DataFrame(counts).reset_index()\n",
    "df\n",
    "\n"
   ]
  },
  {
   "cell_type": "code",
   "execution_count": 7,
   "id": "cbd2f28e",
   "metadata": {},
   "outputs": [
    {
     "data": {
      "application/vnd.plotly.v1+json": {
       "config": {
        "plotlyServerURL": "https://plot.ly"
       },
       "data": [
        {
         "branchvalues": "total",
         "customdata": [
          [
           "69",
           6
          ],
          [
           "69",
           7
          ],
          [
           "69",
           10
          ],
          [
           "68",
           11
          ],
          [
           "68",
           8
          ],
          [
           "68",
           5
          ],
          [
           "67",
           3
          ],
          [
           "67",
           7
          ],
          [
           "67",
           8
          ],
          [
           "66",
           13
          ],
          [
           "66",
           4
          ],
          [
           "66",
           2
          ],
          [
           "65",
           4
          ],
          [
           "65",
           7
          ],
          [
           "65",
           3
          ],
          [
           "64",
           7
          ],
          [
           "64",
           6
          ],
          [
           "64",
           8
          ],
          [
           "63",
           9
          ],
          [
           "63",
           5
          ],
          [
           "63",
           7
          ],
          [
           "62",
           6
          ],
          [
           "62",
           4
          ],
          [
           "62",
           4
          ],
          [
           "61",
           10
          ],
          [
           "61",
           6
          ],
          [
           "61",
           4
          ],
          [
           "60",
           9
          ],
          [
           "60",
           2
          ],
          [
           "60",
           3
          ],
          [
           "59",
           6
          ],
          [
           "59",
           5
          ],
          [
           "59",
           9
          ],
          [
           "58",
           5
          ],
          [
           "58",
           5
          ],
          [
           "58",
           8
          ],
          [
           "57",
           3
          ],
          [
           "57",
           5
          ],
          [
           "57",
           9
          ],
          [
           "56",
           5
          ],
          [
           "56",
           3
          ],
          [
           "56",
           11
          ],
          [
           "55",
           5
          ],
          [
           "55",
           8
          ],
          [
           "55",
           4
          ],
          [
           "54",
           9
          ],
          [
           "54",
           9
          ],
          [
           "54",
           8
          ],
          [
           "53",
           3
          ],
          [
           "53",
           8
          ],
          [
           "53",
           13
          ],
          [
           "52",
           7
          ],
          [
           "52",
           6
          ],
          [
           "52",
           6
          ],
          [
           "51",
           4
          ],
          [
           "51",
           7
          ],
          [
           "51",
           8
          ],
          [
           "50",
           7
          ],
          [
           "50",
           7
          ],
          [
           "50",
           4
          ],
          [
           "49",
           5
          ],
          [
           "49",
           1
          ],
          [
           "49",
           6
          ],
          [
           "48",
           6
          ],
          [
           "48",
           8
          ],
          [
           "48",
           8
          ],
          [
           "47",
           8
          ],
          [
           "47",
           6
          ],
          [
           "47",
           6
          ],
          [
           "46",
           9
          ],
          [
           "46",
           3
          ],
          [
           "46",
           7
          ],
          [
           "45",
           3
          ],
          [
           "45",
           10
          ],
          [
           "45",
           8
          ],
          [
           "44",
           4
          ],
          [
           "44",
           9
          ],
          [
           "44",
           6
          ],
          [
           "43",
           7
          ],
          [
           "43",
           5
          ],
          [
           "43",
           6
          ],
          [
           "42",
           8
          ],
          [
           "42",
           7
          ],
          [
           "42",
           5
          ],
          [
           "41",
           1
          ],
          [
           "41",
           13
          ],
          [
           "41",
           8
          ],
          [
           "40",
           3
          ],
          [
           "40",
           3
          ],
          [
           "40",
           7
          ],
          [
           "39",
           4
          ],
          [
           "39",
           4
          ],
          [
           "39",
           7
          ],
          [
           "38",
           12
          ],
          [
           "38",
           8
          ],
          [
           "38",
           2
          ],
          [
           "37",
           7
          ],
          [
           "37",
           8
          ],
          [
           "37",
           7
          ],
          [
           "36",
           7
          ],
          [
           "36",
           6
          ],
          [
           "36",
           7
          ],
          [
           "35",
           6
          ],
          [
           "35",
           5
          ],
          [
           "35",
           6
          ],
          [
           "34",
           6
          ],
          [
           "34",
           7
          ],
          [
           "34",
           7
          ],
          [
           "33",
           7
          ],
          [
           "33",
           6
          ],
          [
           "33",
           5
          ],
          [
           "32",
           3
          ],
          [
           "32",
           2
          ],
          [
           "32",
           8
          ],
          [
           "31",
           5
          ],
          [
           "31",
           6
          ],
          [
           "31",
           5
          ],
          [
           "30",
           7
          ],
          [
           "30",
           7
          ],
          [
           "30",
           8
          ],
          [
           "29",
           4
          ],
          [
           "29",
           4
          ],
          [
           "29",
           7
          ],
          [
           "28",
           9
          ],
          [
           "28",
           2
          ],
          [
           "28",
           8
          ],
          [
           "27",
           6
          ],
          [
           "27",
           8
          ],
          [
           "27",
           7
          ],
          [
           "26",
           8
          ],
          [
           "26",
           6
          ],
          [
           "26",
           4
          ],
          [
           "25",
           6
          ],
          [
           "25",
           9
          ],
          [
           "25",
           7
          ],
          [
           "24",
           8
          ],
          [
           "24",
           4
          ],
          [
           "24",
           8
          ],
          [
           "23",
           6
          ],
          [
           "23",
           9
          ],
          [
           "23",
           11
          ],
          [
           "22",
           3
          ],
          [
           "22",
           5
          ],
          [
           "22",
           8
          ],
          [
           "21",
           7
          ],
          [
           "21",
           14
          ],
          [
           "21",
           9
          ],
          [
           "20",
           6
          ],
          [
           "20",
           4
          ],
          [
           "20",
           6
          ],
          [
           "19",
           3
          ],
          [
           "19",
           7
          ],
          [
           "19",
           7
          ],
          [
           "18",
           10
          ],
          [
           "18",
           10
          ],
          [
           "18",
           4
          ],
          [
           "(?)",
           7.282208588957055
          ],
          [
           "(?)",
           7.313846153846153
          ],
          [
           "(?)",
           7.446991404011461
          ]
         ],
         "domain": {
          "x": [
           0,
           1
          ],
          "y": [
           0,
           1
          ]
         },
         "hovertemplate": "<b>Income Level:</b> %{parent}<br><b>Age:</b> %{customdata[0]}<br><b>Count:</b> %{customdata[1]}<extra></extra>",
         "ids": [
          "Medium/69",
          "Low/69",
          "High/69",
          "Medium/68",
          "Low/68",
          "High/68",
          "Medium/67",
          "Low/67",
          "High/67",
          "Medium/66",
          "Low/66",
          "High/66",
          "Medium/65",
          "Low/65",
          "High/65",
          "Medium/64",
          "Low/64",
          "High/64",
          "Medium/63",
          "Low/63",
          "High/63",
          "Medium/62",
          "Low/62",
          "High/62",
          "Medium/61",
          "Low/61",
          "High/61",
          "Medium/60",
          "Low/60",
          "High/60",
          "Medium/59",
          "Low/59",
          "High/59",
          "Medium/58",
          "Low/58",
          "High/58",
          "Medium/57",
          "Low/57",
          "High/57",
          "Medium/56",
          "Low/56",
          "High/56",
          "Medium/55",
          "Low/55",
          "High/55",
          "Medium/54",
          "Low/54",
          "High/54",
          "Medium/53",
          "Low/53",
          "High/53",
          "Medium/52",
          "Low/52",
          "High/52",
          "Medium/51",
          "Low/51",
          "High/51",
          "Medium/50",
          "Low/50",
          "High/50",
          "Medium/49",
          "Low/49",
          "High/49",
          "Medium/48",
          "Low/48",
          "High/48",
          "Medium/47",
          "Low/47",
          "High/47",
          "Medium/46",
          "Low/46",
          "High/46",
          "Medium/45",
          "Low/45",
          "High/45",
          "Medium/44",
          "Low/44",
          "High/44",
          "Medium/43",
          "Low/43",
          "High/43",
          "Medium/42",
          "Low/42",
          "High/42",
          "Medium/41",
          "Low/41",
          "High/41",
          "Medium/40",
          "Low/40",
          "High/40",
          "Medium/39",
          "Low/39",
          "High/39",
          "Medium/38",
          "Low/38",
          "High/38",
          "Medium/37",
          "Low/37",
          "High/37",
          "Medium/36",
          "Low/36",
          "High/36",
          "Medium/35",
          "Low/35",
          "High/35",
          "Medium/34",
          "Low/34",
          "High/34",
          "Medium/33",
          "Low/33",
          "High/33",
          "Medium/32",
          "Low/32",
          "High/32",
          "Medium/31",
          "Low/31",
          "High/31",
          "Medium/30",
          "Low/30",
          "High/30",
          "Medium/29",
          "Low/29",
          "High/29",
          "Medium/28",
          "Low/28",
          "High/28",
          "Medium/27",
          "Low/27",
          "High/27",
          "Medium/26",
          "Low/26",
          "High/26",
          "Medium/25",
          "Low/25",
          "High/25",
          "Medium/24",
          "Low/24",
          "High/24",
          "Medium/23",
          "Low/23",
          "High/23",
          "Medium/22",
          "Low/22",
          "High/22",
          "Medium/21",
          "Low/21",
          "High/21",
          "Medium/20",
          "Low/20",
          "High/20",
          "Medium/19",
          "Low/19",
          "High/19",
          "Medium/18",
          "Low/18",
          "High/18",
          "Medium",
          "Low",
          "High"
         ],
         "labels": [
          "69",
          "69",
          "69",
          "68",
          "68",
          "68",
          "67",
          "67",
          "67",
          "66",
          "66",
          "66",
          "65",
          "65",
          "65",
          "64",
          "64",
          "64",
          "63",
          "63",
          "63",
          "62",
          "62",
          "62",
          "61",
          "61",
          "61",
          "60",
          "60",
          "60",
          "59",
          "59",
          "59",
          "58",
          "58",
          "58",
          "57",
          "57",
          "57",
          "56",
          "56",
          "56",
          "55",
          "55",
          "55",
          "54",
          "54",
          "54",
          "53",
          "53",
          "53",
          "52",
          "52",
          "52",
          "51",
          "51",
          "51",
          "50",
          "50",
          "50",
          "49",
          "49",
          "49",
          "48",
          "48",
          "48",
          "47",
          "47",
          "47",
          "46",
          "46",
          "46",
          "45",
          "45",
          "45",
          "44",
          "44",
          "44",
          "43",
          "43",
          "43",
          "42",
          "42",
          "42",
          "41",
          "41",
          "41",
          "40",
          "40",
          "40",
          "39",
          "39",
          "39",
          "38",
          "38",
          "38",
          "37",
          "37",
          "37",
          "36",
          "36",
          "36",
          "35",
          "35",
          "35",
          "34",
          "34",
          "34",
          "33",
          "33",
          "33",
          "32",
          "32",
          "32",
          "31",
          "31",
          "31",
          "30",
          "30",
          "30",
          "29",
          "29",
          "29",
          "28",
          "28",
          "28",
          "27",
          "27",
          "27",
          "26",
          "26",
          "26",
          "25",
          "25",
          "25",
          "24",
          "24",
          "24",
          "23",
          "23",
          "23",
          "22",
          "22",
          "22",
          "21",
          "21",
          "21",
          "20",
          "20",
          "20",
          "19",
          "19",
          "19",
          "18",
          "18",
          "18",
          "Medium",
          "Low",
          "High"
         ],
         "marker": {
          "coloraxis": "coloraxis",
          "colors": {
           "bdata": "AAAAAAAAGEAAAAAAAAAcQAAAAAAAACRAAAAAAAAAJkAAAAAAAAAgQAAAAAAAABRAAAAAAAAACEAAAAAAAAAcQAAAAAAAACBAAAAAAAAAKkAAAAAAAAAQQAAAAAAAAABAAAAAAAAAEEAAAAAAAAAcQAAAAAAAAAhAAAAAAAAAHEAAAAAAAAAYQAAAAAAAACBAAAAAAAAAIkAAAAAAAAAUQAAAAAAAABxAAAAAAAAAGEAAAAAAAAAQQAAAAAAAABBAAAAAAAAAJEAAAAAAAAAYQAAAAAAAABBAAAAAAAAAIkAAAAAAAAAAQAAAAAAAAAhAAAAAAAAAGEAAAAAAAAAUQAAAAAAAACJAAAAAAAAAFEAAAAAAAAAUQAAAAAAAACBAAAAAAAAACEAAAAAAAAAUQAAAAAAAACJAAAAAAAAAFEAAAAAAAAAIQAAAAAAAACZAAAAAAAAAFEAAAAAAAAAgQAAAAAAAABBAAAAAAAAAIkAAAAAAAAAiQAAAAAAAACBAAAAAAAAACEAAAAAAAAAgQAAAAAAAACpAAAAAAAAAHEAAAAAAAAAYQAAAAAAAABhAAAAAAAAAEEAAAAAAAAAcQAAAAAAAACBAAAAAAAAAHEAAAAAAAAAcQAAAAAAAABBAAAAAAAAAFEAAAAAAAADwPwAAAAAAABhAAAAAAAAAGEAAAAAAAAAgQAAAAAAAACBAAAAAAAAAIEAAAAAAAAAYQAAAAAAAABhAAAAAAAAAIkAAAAAAAAAIQAAAAAAAABxAAAAAAAAACEAAAAAAAAAkQAAAAAAAACBAAAAAAAAAEEAAAAAAAAAiQAAAAAAAABhAAAAAAAAAHEAAAAAAAAAUQAAAAAAAABhAAAAAAAAAIEAAAAAAAAAcQAAAAAAAABRAAAAAAAAA8D8AAAAAAAAqQAAAAAAAACBAAAAAAAAACEAAAAAAAAAIQAAAAAAAABxAAAAAAAAAEEAAAAAAAAAQQAAAAAAAABxAAAAAAAAAKEAAAAAAAAAgQAAAAAAAAABAAAAAAAAAHEAAAAAAAAAgQAAAAAAAABxAAAAAAAAAHEAAAAAAAAAYQAAAAAAAABxAAAAAAAAAGEAAAAAAAAAUQAAAAAAAABhAAAAAAAAAGEAAAAAAAAAcQAAAAAAAABxAAAAAAAAAHEAAAAAAAAAYQAAAAAAAABRAAAAAAAAACEAAAAAAAAAAQAAAAAAAACBAAAAAAAAAFEAAAAAAAAAYQAAAAAAAABRAAAAAAAAAHEAAAAAAAAAcQAAAAAAAACBAAAAAAAAAEEAAAAAAAAAQQAAAAAAAABxAAAAAAAAAIkAAAAAAAAAAQAAAAAAAACBAAAAAAAAAGEAAAAAAAAAgQAAAAAAAABxAAAAAAAAAIEAAAAAAAAAYQAAAAAAAABBAAAAAAAAAGEAAAAAAAAAiQAAAAAAAABxAAAAAAAAAIEAAAAAAAAAQQAAAAAAAACBAAAAAAAAAGEAAAAAAAAAiQAAAAAAAACZAAAAAAAAACEAAAAAAAAAUQAAAAAAAACBAAAAAAAAAHEAAAAAAAAAsQAAAAAAAACJAAAAAAAAAGEAAAAAAAAAQQAAAAAAAABhAAAAAAAAACEAAAAAAAAAcQAAAAAAAABxAAAAAAAAAJEAAAAAAAAAkQAAAAAAAABBAKeLQSfsgHUB8+triYEEdQBZKVx24yR1A",
           "dtype": "f8"
          }
         },
         "name": "",
         "parents": [
          "Medium",
          "Low",
          "High",
          "Medium",
          "Low",
          "High",
          "Medium",
          "Low",
          "High",
          "Medium",
          "Low",
          "High",
          "Medium",
          "Low",
          "High",
          "Medium",
          "Low",
          "High",
          "Medium",
          "Low",
          "High",
          "Medium",
          "Low",
          "High",
          "Medium",
          "Low",
          "High",
          "Medium",
          "Low",
          "High",
          "Medium",
          "Low",
          "High",
          "Medium",
          "Low",
          "High",
          "Medium",
          "Low",
          "High",
          "Medium",
          "Low",
          "High",
          "Medium",
          "Low",
          "High",
          "Medium",
          "Low",
          "High",
          "Medium",
          "Low",
          "High",
          "Medium",
          "Low",
          "High",
          "Medium",
          "Low",
          "High",
          "Medium",
          "Low",
          "High",
          "Medium",
          "Low",
          "High",
          "Medium",
          "Low",
          "High",
          "Medium",
          "Low",
          "High",
          "Medium",
          "Low",
          "High",
          "Medium",
          "Low",
          "High",
          "Medium",
          "Low",
          "High",
          "Medium",
          "Low",
          "High",
          "Medium",
          "Low",
          "High",
          "Medium",
          "Low",
          "High",
          "Medium",
          "Low",
          "High",
          "Medium",
          "Low",
          "High",
          "Medium",
          "Low",
          "High",
          "Medium",
          "Low",
          "High",
          "Medium",
          "Low",
          "High",
          "Medium",
          "Low",
          "High",
          "Medium",
          "Low",
          "High",
          "Medium",
          "Low",
          "High",
          "Medium",
          "Low",
          "High",
          "Medium",
          "Low",
          "High",
          "Medium",
          "Low",
          "High",
          "Medium",
          "Low",
          "High",
          "Medium",
          "Low",
          "High",
          "Medium",
          "Low",
          "High",
          "Medium",
          "Low",
          "High",
          "Medium",
          "Low",
          "High",
          "Medium",
          "Low",
          "High",
          "Medium",
          "Low",
          "High",
          "Medium",
          "Low",
          "High",
          "Medium",
          "Low",
          "High",
          "Medium",
          "Low",
          "High",
          "Medium",
          "Low",
          "High",
          "Medium",
          "Low",
          "High",
          "",
          "",
          ""
         ],
         "text": [
          "Age: 69 | Count: 6",
          "Age: 69 | Count: 7",
          "Age: 69 | Count: 10",
          "Age: 68 | Count: 11",
          "Age: 68 | Count: 8",
          "Age: 68 | Count: 5",
          "Age: 67 | Count: 3",
          "Age: 67 | Count: 7",
          "Age: 67 | Count: 8",
          "Age: 66 | Count: 13",
          "Age: 66 | Count: 4",
          "Age: 66 | Count: 2",
          "Age: 65 | Count: 4",
          "Age: 65 | Count: 7",
          "Age: 65 | Count: 3",
          "Age: 64 | Count: 7",
          "Age: 64 | Count: 6",
          "Age: 64 | Count: 8",
          "Age: 63 | Count: 9",
          "Age: 63 | Count: 5",
          "Age: 63 | Count: 7",
          "Age: 62 | Count: 6",
          "Age: 62 | Count: 4",
          "Age: 62 | Count: 4",
          "Age: 61 | Count: 10",
          "Age: 61 | Count: 6",
          "Age: 61 | Count: 4",
          "Age: 60 | Count: 9",
          "Age: 60 | Count: 2",
          "Age: 60 | Count: 3",
          "Age: 59 | Count: 6",
          "Age: 59 | Count: 5",
          "Age: 59 | Count: 9",
          "Age: 58 | Count: 5",
          "Age: 58 | Count: 5",
          "Age: 58 | Count: 8",
          "Age: 57 | Count: 3",
          "Age: 57 | Count: 5",
          "Age: 57 | Count: 9",
          "Age: 56 | Count: 5",
          "Age: 56 | Count: 3",
          "Age: 56 | Count: 11",
          "Age: 55 | Count: 5",
          "Age: 55 | Count: 8",
          "Age: 55 | Count: 4",
          "Age: 54 | Count: 9",
          "Age: 54 | Count: 9",
          "Age: 54 | Count: 8",
          "Age: 53 | Count: 3",
          "Age: 53 | Count: 8",
          "Age: 53 | Count: 13",
          "Age: 52 | Count: 7",
          "Age: 52 | Count: 6",
          "Age: 52 | Count: 6",
          "Age: 51 | Count: 4",
          "Age: 51 | Count: 7",
          "Age: 51 | Count: 8",
          "Age: 50 | Count: 7",
          "Age: 50 | Count: 7",
          "Age: 50 | Count: 4",
          "Age: 49 | Count: 5",
          "Age: 49 | Count: 1",
          "Age: 49 | Count: 6",
          "Age: 48 | Count: 6",
          "Age: 48 | Count: 8",
          "Age: 48 | Count: 8",
          "Age: 47 | Count: 8",
          "Age: 47 | Count: 6",
          "Age: 47 | Count: 6",
          "Age: 46 | Count: 9",
          "Age: 46 | Count: 3",
          "Age: 46 | Count: 7",
          "Age: 45 | Count: 3",
          "Age: 45 | Count: 10",
          "Age: 45 | Count: 8",
          "Age: 44 | Count: 4",
          "Age: 44 | Count: 9",
          "Age: 44 | Count: 6",
          "Age: 43 | Count: 7",
          "Age: 43 | Count: 5",
          "Age: 43 | Count: 6",
          "Age: 42 | Count: 8",
          "Age: 42 | Count: 7",
          "Age: 42 | Count: 5",
          "Age: 41 | Count: 1",
          "Age: 41 | Count: 13",
          "Age: 41 | Count: 8",
          "Age: 40 | Count: 3",
          "Age: 40 | Count: 3",
          "Age: 40 | Count: 7",
          "Age: 39 | Count: 4",
          "Age: 39 | Count: 4",
          "Age: 39 | Count: 7",
          "Age: 38 | Count: 12",
          "Age: 38 | Count: 8",
          "Age: 38 | Count: 2",
          "Age: 37 | Count: 7",
          "Age: 37 | Count: 8",
          "Age: 37 | Count: 7",
          "Age: 36 | Count: 7",
          "Age: 36 | Count: 6",
          "Age: 36 | Count: 7",
          "Age: 35 | Count: 6",
          "Age: 35 | Count: 5",
          "Age: 35 | Count: 6",
          "Age: 34 | Count: 6",
          "Age: 34 | Count: 7",
          "Age: 34 | Count: 7",
          "Age: 33 | Count: 7",
          "Age: 33 | Count: 6",
          "Age: 33 | Count: 5",
          "Age: 32 | Count: 3",
          "Age: 32 | Count: 2",
          "Age: 32 | Count: 8",
          "Age: 31 | Count: 5",
          "Age: 31 | Count: 6",
          "Age: 31 | Count: 5",
          "Age: 30 | Count: 7",
          "Age: 30 | Count: 7",
          "Age: 30 | Count: 8",
          "Age: 29 | Count: 4",
          "Age: 29 | Count: 4",
          "Age: 29 | Count: 7",
          "Age: 28 | Count: 9",
          "Age: 28 | Count: 2",
          "Age: 28 | Count: 8",
          "Age: 27 | Count: 6",
          "Age: 27 | Count: 8",
          "Age: 27 | Count: 7",
          "Age: 26 | Count: 8",
          "Age: 26 | Count: 6",
          "Age: 26 | Count: 4",
          "Age: 25 | Count: 6",
          "Age: 25 | Count: 9",
          "Age: 25 | Count: 7",
          "Age: 24 | Count: 8",
          "Age: 24 | Count: 4",
          "Age: 24 | Count: 8",
          "Age: 23 | Count: 6",
          "Age: 23 | Count: 9",
          "Age: 23 | Count: 11",
          "Age: 22 | Count: 3",
          "Age: 22 | Count: 5",
          "Age: 22 | Count: 8",
          "Age: 21 | Count: 7",
          "Age: 21 | Count: 14",
          "Age: 21 | Count: 9",
          "Age: 20 | Count: 6",
          "Age: 20 | Count: 4",
          "Age: 20 | Count: 6",
          "Age: 19 | Count: 3",
          "Age: 19 | Count: 7",
          "Age: 19 | Count: 7",
          "Age: 18 | Count: 10",
          "Age: 18 | Count: 10",
          "Age: 18 | Count: 4"
         ],
         "textfont": {
          "size": 8
         },
         "textinfo": "text",
         "type": "treemap",
         "values": {
          "bdata": "AAAAAAAAGEAAAAAAAAAcQAAAAAAAACRAAAAAAAAAJkAAAAAAAAAgQAAAAAAAABRAAAAAAAAACEAAAAAAAAAcQAAAAAAAACBAAAAAAAAAKkAAAAAAAAAQQAAAAAAAAABAAAAAAAAAEEAAAAAAAAAcQAAAAAAAAAhAAAAAAAAAHEAAAAAAAAAYQAAAAAAAACBAAAAAAAAAIkAAAAAAAAAUQAAAAAAAABxAAAAAAAAAGEAAAAAAAAAQQAAAAAAAABBAAAAAAAAAJEAAAAAAAAAYQAAAAAAAABBAAAAAAAAAIkAAAAAAAAAAQAAAAAAAAAhAAAAAAAAAGEAAAAAAAAAUQAAAAAAAACJAAAAAAAAAFEAAAAAAAAAUQAAAAAAAACBAAAAAAAAACEAAAAAAAAAUQAAAAAAAACJAAAAAAAAAFEAAAAAAAAAIQAAAAAAAACZAAAAAAAAAFEAAAAAAAAAgQAAAAAAAABBAAAAAAAAAIkAAAAAAAAAiQAAAAAAAACBAAAAAAAAACEAAAAAAAAAgQAAAAAAAACpAAAAAAAAAHEAAAAAAAAAYQAAAAAAAABhAAAAAAAAAEEAAAAAAAAAcQAAAAAAAACBAAAAAAAAAHEAAAAAAAAAcQAAAAAAAABBAAAAAAAAAFEAAAAAAAADwPwAAAAAAABhAAAAAAAAAGEAAAAAAAAAgQAAAAAAAACBAAAAAAAAAIEAAAAAAAAAYQAAAAAAAABhAAAAAAAAAIkAAAAAAAAAIQAAAAAAAABxAAAAAAAAACEAAAAAAAAAkQAAAAAAAACBAAAAAAAAAEEAAAAAAAAAiQAAAAAAAABhAAAAAAAAAHEAAAAAAAAAUQAAAAAAAABhAAAAAAAAAIEAAAAAAAAAcQAAAAAAAABRAAAAAAAAA8D8AAAAAAAAqQAAAAAAAACBAAAAAAAAACEAAAAAAAAAIQAAAAAAAABxAAAAAAAAAEEAAAAAAAAAQQAAAAAAAABxAAAAAAAAAKEAAAAAAAAAgQAAAAAAAAABAAAAAAAAAHEAAAAAAAAAgQAAAAAAAABxAAAAAAAAAHEAAAAAAAAAYQAAAAAAAABxAAAAAAAAAGEAAAAAAAAAUQAAAAAAAABhAAAAAAAAAGEAAAAAAAAAcQAAAAAAAABxAAAAAAAAAHEAAAAAAAAAYQAAAAAAAABRAAAAAAAAACEAAAAAAAAAAQAAAAAAAACBAAAAAAAAAFEAAAAAAAAAYQAAAAAAAABRAAAAAAAAAHEAAAAAAAAAcQAAAAAAAACBAAAAAAAAAEEAAAAAAAAAQQAAAAAAAABxAAAAAAAAAIkAAAAAAAAAAQAAAAAAAACBAAAAAAAAAGEAAAAAAAAAgQAAAAAAAABxAAAAAAAAAIEAAAAAAAAAYQAAAAAAAABBAAAAAAAAAGEAAAAAAAAAiQAAAAAAAABxAAAAAAAAAIEAAAAAAAAAQQAAAAAAAACBAAAAAAAAAGEAAAAAAAAAiQAAAAAAAACZAAAAAAAAACEAAAAAAAAAUQAAAAAAAACBAAAAAAAAAHEAAAAAAAAAsQAAAAAAAACJAAAAAAAAAGEAAAAAAAAAQQAAAAAAAABhAAAAAAAAACEAAAAAAAAAcQAAAAAAAABxAAAAAAAAAJEAAAAAAAAAkQAAAAAAAABBAAAAAAABgdEAAAAAAAFB0QAAAAAAA0HVA",
          "dtype": "f8"
         }
        }
       ],
       "layout": {
        "coloraxis": {
         "colorbar": {
          "title": {
           "text": "count"
          }
         },
         "colorscale": [
          [
           0,
           "rgb(247,251,255)"
          ],
          [
           0.125,
           "rgb(222,235,247)"
          ],
          [
           0.25,
           "rgb(198,219,239)"
          ],
          [
           0.375,
           "rgb(158,202,225)"
          ],
          [
           0.5,
           "rgb(107,174,214)"
          ],
          [
           0.625,
           "rgb(66,146,198)"
          ],
          [
           0.75,
           "rgb(33,113,181)"
          ],
          [
           0.875,
           "rgb(8,81,156)"
          ],
          [
           1,
           "rgb(8,48,107)"
          ]
         ]
        },
        "height": 1000,
        "legend": {
         "tracegroupgap": 0
        },
        "margin": {
         "b": 25,
         "l": 25,
         "r": 25,
         "t": 50
        },
        "template": {
         "data": {
          "bar": [
           {
            "error_x": {
             "color": "#2a3f5f"
            },
            "error_y": {
             "color": "#2a3f5f"
            },
            "marker": {
             "line": {
              "color": "#E5ECF6",
              "width": 0.5
             },
             "pattern": {
              "fillmode": "overlay",
              "size": 10,
              "solidity": 0.2
             }
            },
            "type": "bar"
           }
          ],
          "barpolar": [
           {
            "marker": {
             "line": {
              "color": "#E5ECF6",
              "width": 0.5
             },
             "pattern": {
              "fillmode": "overlay",
              "size": 10,
              "solidity": 0.2
             }
            },
            "type": "barpolar"
           }
          ],
          "carpet": [
           {
            "aaxis": {
             "endlinecolor": "#2a3f5f",
             "gridcolor": "white",
             "linecolor": "white",
             "minorgridcolor": "white",
             "startlinecolor": "#2a3f5f"
            },
            "baxis": {
             "endlinecolor": "#2a3f5f",
             "gridcolor": "white",
             "linecolor": "white",
             "minorgridcolor": "white",
             "startlinecolor": "#2a3f5f"
            },
            "type": "carpet"
           }
          ],
          "choropleth": [
           {
            "colorbar": {
             "outlinewidth": 0,
             "ticks": ""
            },
            "type": "choropleth"
           }
          ],
          "contour": [
           {
            "colorbar": {
             "outlinewidth": 0,
             "ticks": ""
            },
            "colorscale": [
             [
              0,
              "#0d0887"
             ],
             [
              0.1111111111111111,
              "#46039f"
             ],
             [
              0.2222222222222222,
              "#7201a8"
             ],
             [
              0.3333333333333333,
              "#9c179e"
             ],
             [
              0.4444444444444444,
              "#bd3786"
             ],
             [
              0.5555555555555556,
              "#d8576b"
             ],
             [
              0.6666666666666666,
              "#ed7953"
             ],
             [
              0.7777777777777778,
              "#fb9f3a"
             ],
             [
              0.8888888888888888,
              "#fdca26"
             ],
             [
              1,
              "#f0f921"
             ]
            ],
            "type": "contour"
           }
          ],
          "contourcarpet": [
           {
            "colorbar": {
             "outlinewidth": 0,
             "ticks": ""
            },
            "type": "contourcarpet"
           }
          ],
          "heatmap": [
           {
            "colorbar": {
             "outlinewidth": 0,
             "ticks": ""
            },
            "colorscale": [
             [
              0,
              "#0d0887"
             ],
             [
              0.1111111111111111,
              "#46039f"
             ],
             [
              0.2222222222222222,
              "#7201a8"
             ],
             [
              0.3333333333333333,
              "#9c179e"
             ],
             [
              0.4444444444444444,
              "#bd3786"
             ],
             [
              0.5555555555555556,
              "#d8576b"
             ],
             [
              0.6666666666666666,
              "#ed7953"
             ],
             [
              0.7777777777777778,
              "#fb9f3a"
             ],
             [
              0.8888888888888888,
              "#fdca26"
             ],
             [
              1,
              "#f0f921"
             ]
            ],
            "type": "heatmap"
           }
          ],
          "histogram": [
           {
            "marker": {
             "pattern": {
              "fillmode": "overlay",
              "size": 10,
              "solidity": 0.2
             }
            },
            "type": "histogram"
           }
          ],
          "histogram2d": [
           {
            "colorbar": {
             "outlinewidth": 0,
             "ticks": ""
            },
            "colorscale": [
             [
              0,
              "#0d0887"
             ],
             [
              0.1111111111111111,
              "#46039f"
             ],
             [
              0.2222222222222222,
              "#7201a8"
             ],
             [
              0.3333333333333333,
              "#9c179e"
             ],
             [
              0.4444444444444444,
              "#bd3786"
             ],
             [
              0.5555555555555556,
              "#d8576b"
             ],
             [
              0.6666666666666666,
              "#ed7953"
             ],
             [
              0.7777777777777778,
              "#fb9f3a"
             ],
             [
              0.8888888888888888,
              "#fdca26"
             ],
             [
              1,
              "#f0f921"
             ]
            ],
            "type": "histogram2d"
           }
          ],
          "histogram2dcontour": [
           {
            "colorbar": {
             "outlinewidth": 0,
             "ticks": ""
            },
            "colorscale": [
             [
              0,
              "#0d0887"
             ],
             [
              0.1111111111111111,
              "#46039f"
             ],
             [
              0.2222222222222222,
              "#7201a8"
             ],
             [
              0.3333333333333333,
              "#9c179e"
             ],
             [
              0.4444444444444444,
              "#bd3786"
             ],
             [
              0.5555555555555556,
              "#d8576b"
             ],
             [
              0.6666666666666666,
              "#ed7953"
             ],
             [
              0.7777777777777778,
              "#fb9f3a"
             ],
             [
              0.8888888888888888,
              "#fdca26"
             ],
             [
              1,
              "#f0f921"
             ]
            ],
            "type": "histogram2dcontour"
           }
          ],
          "mesh3d": [
           {
            "colorbar": {
             "outlinewidth": 0,
             "ticks": ""
            },
            "type": "mesh3d"
           }
          ],
          "parcoords": [
           {
            "line": {
             "colorbar": {
              "outlinewidth": 0,
              "ticks": ""
             }
            },
            "type": "parcoords"
           }
          ],
          "pie": [
           {
            "automargin": true,
            "type": "pie"
           }
          ],
          "scatter": [
           {
            "fillpattern": {
             "fillmode": "overlay",
             "size": 10,
             "solidity": 0.2
            },
            "type": "scatter"
           }
          ],
          "scatter3d": [
           {
            "line": {
             "colorbar": {
              "outlinewidth": 0,
              "ticks": ""
             }
            },
            "marker": {
             "colorbar": {
              "outlinewidth": 0,
              "ticks": ""
             }
            },
            "type": "scatter3d"
           }
          ],
          "scattercarpet": [
           {
            "marker": {
             "colorbar": {
              "outlinewidth": 0,
              "ticks": ""
             }
            },
            "type": "scattercarpet"
           }
          ],
          "scattergeo": [
           {
            "marker": {
             "colorbar": {
              "outlinewidth": 0,
              "ticks": ""
             }
            },
            "type": "scattergeo"
           }
          ],
          "scattergl": [
           {
            "marker": {
             "colorbar": {
              "outlinewidth": 0,
              "ticks": ""
             }
            },
            "type": "scattergl"
           }
          ],
          "scattermap": [
           {
            "marker": {
             "colorbar": {
              "outlinewidth": 0,
              "ticks": ""
             }
            },
            "type": "scattermap"
           }
          ],
          "scattermapbox": [
           {
            "marker": {
             "colorbar": {
              "outlinewidth": 0,
              "ticks": ""
             }
            },
            "type": "scattermapbox"
           }
          ],
          "scatterpolar": [
           {
            "marker": {
             "colorbar": {
              "outlinewidth": 0,
              "ticks": ""
             }
            },
            "type": "scatterpolar"
           }
          ],
          "scatterpolargl": [
           {
            "marker": {
             "colorbar": {
              "outlinewidth": 0,
              "ticks": ""
             }
            },
            "type": "scatterpolargl"
           }
          ],
          "scatterternary": [
           {
            "marker": {
             "colorbar": {
              "outlinewidth": 0,
              "ticks": ""
             }
            },
            "type": "scatterternary"
           }
          ],
          "surface": [
           {
            "colorbar": {
             "outlinewidth": 0,
             "ticks": ""
            },
            "colorscale": [
             [
              0,
              "#0d0887"
             ],
             [
              0.1111111111111111,
              "#46039f"
             ],
             [
              0.2222222222222222,
              "#7201a8"
             ],
             [
              0.3333333333333333,
              "#9c179e"
             ],
             [
              0.4444444444444444,
              "#bd3786"
             ],
             [
              0.5555555555555556,
              "#d8576b"
             ],
             [
              0.6666666666666666,
              "#ed7953"
             ],
             [
              0.7777777777777778,
              "#fb9f3a"
             ],
             [
              0.8888888888888888,
              "#fdca26"
             ],
             [
              1,
              "#f0f921"
             ]
            ],
            "type": "surface"
           }
          ],
          "table": [
           {
            "cells": {
             "fill": {
              "color": "#EBF0F8"
             },
             "line": {
              "color": "white"
             }
            },
            "header": {
             "fill": {
              "color": "#C8D4E3"
             },
             "line": {
              "color": "white"
             }
            },
            "type": "table"
           }
          ]
         },
         "layout": {
          "annotationdefaults": {
           "arrowcolor": "#2a3f5f",
           "arrowhead": 0,
           "arrowwidth": 1
          },
          "autotypenumbers": "strict",
          "coloraxis": {
           "colorbar": {
            "outlinewidth": 0,
            "ticks": ""
           }
          },
          "colorscale": {
           "diverging": [
            [
             0,
             "#8e0152"
            ],
            [
             0.1,
             "#c51b7d"
            ],
            [
             0.2,
             "#de77ae"
            ],
            [
             0.3,
             "#f1b6da"
            ],
            [
             0.4,
             "#fde0ef"
            ],
            [
             0.5,
             "#f7f7f7"
            ],
            [
             0.6,
             "#e6f5d0"
            ],
            [
             0.7,
             "#b8e186"
            ],
            [
             0.8,
             "#7fbc41"
            ],
            [
             0.9,
             "#4d9221"
            ],
            [
             1,
             "#276419"
            ]
           ],
           "sequential": [
            [
             0,
             "#0d0887"
            ],
            [
             0.1111111111111111,
             "#46039f"
            ],
            [
             0.2222222222222222,
             "#7201a8"
            ],
            [
             0.3333333333333333,
             "#9c179e"
            ],
            [
             0.4444444444444444,
             "#bd3786"
            ],
            [
             0.5555555555555556,
             "#d8576b"
            ],
            [
             0.6666666666666666,
             "#ed7953"
            ],
            [
             0.7777777777777778,
             "#fb9f3a"
            ],
            [
             0.8888888888888888,
             "#fdca26"
            ],
            [
             1,
             "#f0f921"
            ]
           ],
           "sequentialminus": [
            [
             0,
             "#0d0887"
            ],
            [
             0.1111111111111111,
             "#46039f"
            ],
            [
             0.2222222222222222,
             "#7201a8"
            ],
            [
             0.3333333333333333,
             "#9c179e"
            ],
            [
             0.4444444444444444,
             "#bd3786"
            ],
            [
             0.5555555555555556,
             "#d8576b"
            ],
            [
             0.6666666666666666,
             "#ed7953"
            ],
            [
             0.7777777777777778,
             "#fb9f3a"
            ],
            [
             0.8888888888888888,
             "#fdca26"
            ],
            [
             1,
             "#f0f921"
            ]
           ]
          },
          "colorway": [
           "#636efa",
           "#EF553B",
           "#00cc96",
           "#ab63fa",
           "#FFA15A",
           "#19d3f3",
           "#FF6692",
           "#B6E880",
           "#FF97FF",
           "#FECB52"
          ],
          "font": {
           "color": "#2a3f5f"
          },
          "geo": {
           "bgcolor": "white",
           "lakecolor": "white",
           "landcolor": "#E5ECF6",
           "showlakes": true,
           "showland": true,
           "subunitcolor": "white"
          },
          "hoverlabel": {
           "align": "left"
          },
          "hovermode": "closest",
          "mapbox": {
           "style": "light"
          },
          "paper_bgcolor": "white",
          "plot_bgcolor": "#E5ECF6",
          "polar": {
           "angularaxis": {
            "gridcolor": "white",
            "linecolor": "white",
            "ticks": ""
           },
           "bgcolor": "#E5ECF6",
           "radialaxis": {
            "gridcolor": "white",
            "linecolor": "white",
            "ticks": ""
           }
          },
          "scene": {
           "xaxis": {
            "backgroundcolor": "#E5ECF6",
            "gridcolor": "white",
            "gridwidth": 2,
            "linecolor": "white",
            "showbackground": true,
            "ticks": "",
            "zerolinecolor": "white"
           },
           "yaxis": {
            "backgroundcolor": "#E5ECF6",
            "gridcolor": "white",
            "gridwidth": 2,
            "linecolor": "white",
            "showbackground": true,
            "ticks": "",
            "zerolinecolor": "white"
           },
           "zaxis": {
            "backgroundcolor": "#E5ECF6",
            "gridcolor": "white",
            "gridwidth": 2,
            "linecolor": "white",
            "showbackground": true,
            "ticks": "",
            "zerolinecolor": "white"
           }
          },
          "shapedefaults": {
           "line": {
            "color": "#2a3f5f"
           }
          },
          "ternary": {
           "aaxis": {
            "gridcolor": "white",
            "linecolor": "white",
            "ticks": ""
           },
           "baxis": {
            "gridcolor": "white",
            "linecolor": "white",
            "ticks": ""
           },
           "bgcolor": "#E5ECF6",
           "caxis": {
            "gridcolor": "white",
            "linecolor": "white",
            "ticks": ""
           }
          },
          "title": {
           "x": 0.05
          },
          "xaxis": {
           "automargin": true,
           "gridcolor": "white",
           "linecolor": "white",
           "ticks": "",
           "title": {
            "standoff": 15
           },
           "zerolinecolor": "white",
           "zerolinewidth": 2
          },
          "yaxis": {
           "automargin": true,
           "gridcolor": "white",
           "linecolor": "white",
           "ticks": "",
           "title": {
            "standoff": 15
           },
           "zerolinecolor": "white",
           "zerolinewidth": 2
          }
         }
        },
        "title": {
         "text": "Customer Income and Age Demographics"
        },
        "width": 1200
       }
      }
     },
     "metadata": {},
     "output_type": "display_data"
    }
   ],
   "source": [
    "fig = px.treemap(   \n",
    "    df, \n",
    "    path=['IncomeLevel', 'Age'],\n",
    "    title='Customer Income and Age Demographics',\n",
    "    values='count',\n",
    "    labels={'IncomeLevel': 'Income Level', 'Age': 'Age', 'count': 'Count'},\n",
    "    color='count',\n",
    "    color_continuous_scale='Blues',\n",
    ")\n",
    "\n",
    "\n",
    "df['custom_text'] = 'Age: ' + df['Age'].astype(str) + ' | Count: ' + df['count'].astype(str)\n",
    "\n",
    "fig = px.treemap(\n",
    "    df,\n",
    "    path=['IncomeLevel', 'Age'],\n",
    "    values='count',\n",
    "    color='count',\n",
    "    color_continuous_scale='Blues',\n",
    "    custom_data=['Age', 'count'],\n",
    "\n",
    ")\n",
    "\n",
    "# Set custom text on tiles using 'text'\n",
    "fig.update_traces(\n",
    "    text=df['custom_text'],  # Shows directly on the treemap block\n",
    "    textinfo='text',         # Use 'text' instead of label/value\n",
    "    textfont_size=8,\n",
    "    hovertemplate='<b>Income Level:</b> %{parent}<br>' +\n",
    "                    '<b>Age:</b> %{customdata[0]}<br>' +\n",
    "                    '<b>Count:</b> %{customdata[1]}<extra></extra>'\n",
    ")\n",
    "\n",
    "fig.update_layout(width=1200, height=1000,title='Customer Income and Age Demographics', margin=dict(t=50, l=25, r=25, b=25))\n",
    "fig.show()"
   ]
  },
  {
   "cell_type": "code",
   "execution_count": 8,
   "id": "f493949b",
   "metadata": {},
   "outputs": [
    {
     "data": {
      "application/vnd.plotly.v1+json": {
       "config": {
        "plotlyServerURL": "https://plot.ly"
       },
       "data": [
        {
         "hovertemplate": "IncomeLevel=%{x}<br>count=%{text}<extra></extra>",
         "legendgroup": "",
         "marker": {
          "color": "teal",
          "pattern": {
           "shape": ""
          }
         },
         "name": "",
         "orientation": "v",
         "showlegend": false,
         "text": {
          "bdata": "MzMzMzNzQUDNzMzMzExAQAAAAAAAQEBA",
          "dtype": "f8"
         },
         "textposition": "outside",
         "type": "bar",
         "x": [
          "High",
          "Medium",
          "Low"
         ],
         "xaxis": "x",
         "y": {
          "bdata": "MzMzMzNzQUDNzMzMzExAQAAAAAAAQEBA",
          "dtype": "f8"
         },
         "yaxis": "y"
        }
       ],
       "layout": {
        "barmode": "relative",
        "legend": {
         "tracegroupgap": 0
        },
        "template": {
         "data": {
          "bar": [
           {
            "error_x": {
             "color": "#2a3f5f"
            },
            "error_y": {
             "color": "#2a3f5f"
            },
            "marker": {
             "line": {
              "color": "#E5ECF6",
              "width": 0.5
             },
             "pattern": {
              "fillmode": "overlay",
              "size": 10,
              "solidity": 0.2
             }
            },
            "type": "bar"
           }
          ],
          "barpolar": [
           {
            "marker": {
             "line": {
              "color": "#E5ECF6",
              "width": 0.5
             },
             "pattern": {
              "fillmode": "overlay",
              "size": 10,
              "solidity": 0.2
             }
            },
            "type": "barpolar"
           }
          ],
          "carpet": [
           {
            "aaxis": {
             "endlinecolor": "#2a3f5f",
             "gridcolor": "white",
             "linecolor": "white",
             "minorgridcolor": "white",
             "startlinecolor": "#2a3f5f"
            },
            "baxis": {
             "endlinecolor": "#2a3f5f",
             "gridcolor": "white",
             "linecolor": "white",
             "minorgridcolor": "white",
             "startlinecolor": "#2a3f5f"
            },
            "type": "carpet"
           }
          ],
          "choropleth": [
           {
            "colorbar": {
             "outlinewidth": 0,
             "ticks": ""
            },
            "type": "choropleth"
           }
          ],
          "contour": [
           {
            "colorbar": {
             "outlinewidth": 0,
             "ticks": ""
            },
            "colorscale": [
             [
              0,
              "#0d0887"
             ],
             [
              0.1111111111111111,
              "#46039f"
             ],
             [
              0.2222222222222222,
              "#7201a8"
             ],
             [
              0.3333333333333333,
              "#9c179e"
             ],
             [
              0.4444444444444444,
              "#bd3786"
             ],
             [
              0.5555555555555556,
              "#d8576b"
             ],
             [
              0.6666666666666666,
              "#ed7953"
             ],
             [
              0.7777777777777778,
              "#fb9f3a"
             ],
             [
              0.8888888888888888,
              "#fdca26"
             ],
             [
              1,
              "#f0f921"
             ]
            ],
            "type": "contour"
           }
          ],
          "contourcarpet": [
           {
            "colorbar": {
             "outlinewidth": 0,
             "ticks": ""
            },
            "type": "contourcarpet"
           }
          ],
          "heatmap": [
           {
            "colorbar": {
             "outlinewidth": 0,
             "ticks": ""
            },
            "colorscale": [
             [
              0,
              "#0d0887"
             ],
             [
              0.1111111111111111,
              "#46039f"
             ],
             [
              0.2222222222222222,
              "#7201a8"
             ],
             [
              0.3333333333333333,
              "#9c179e"
             ],
             [
              0.4444444444444444,
              "#bd3786"
             ],
             [
              0.5555555555555556,
              "#d8576b"
             ],
             [
              0.6666666666666666,
              "#ed7953"
             ],
             [
              0.7777777777777778,
              "#fb9f3a"
             ],
             [
              0.8888888888888888,
              "#fdca26"
             ],
             [
              1,
              "#f0f921"
             ]
            ],
            "type": "heatmap"
           }
          ],
          "histogram": [
           {
            "marker": {
             "pattern": {
              "fillmode": "overlay",
              "size": 10,
              "solidity": 0.2
             }
            },
            "type": "histogram"
           }
          ],
          "histogram2d": [
           {
            "colorbar": {
             "outlinewidth": 0,
             "ticks": ""
            },
            "colorscale": [
             [
              0,
              "#0d0887"
             ],
             [
              0.1111111111111111,
              "#46039f"
             ],
             [
              0.2222222222222222,
              "#7201a8"
             ],
             [
              0.3333333333333333,
              "#9c179e"
             ],
             [
              0.4444444444444444,
              "#bd3786"
             ],
             [
              0.5555555555555556,
              "#d8576b"
             ],
             [
              0.6666666666666666,
              "#ed7953"
             ],
             [
              0.7777777777777778,
              "#fb9f3a"
             ],
             [
              0.8888888888888888,
              "#fdca26"
             ],
             [
              1,
              "#f0f921"
             ]
            ],
            "type": "histogram2d"
           }
          ],
          "histogram2dcontour": [
           {
            "colorbar": {
             "outlinewidth": 0,
             "ticks": ""
            },
            "colorscale": [
             [
              0,
              "#0d0887"
             ],
             [
              0.1111111111111111,
              "#46039f"
             ],
             [
              0.2222222222222222,
              "#7201a8"
             ],
             [
              0.3333333333333333,
              "#9c179e"
             ],
             [
              0.4444444444444444,
              "#bd3786"
             ],
             [
              0.5555555555555556,
              "#d8576b"
             ],
             [
              0.6666666666666666,
              "#ed7953"
             ],
             [
              0.7777777777777778,
              "#fb9f3a"
             ],
             [
              0.8888888888888888,
              "#fdca26"
             ],
             [
              1,
              "#f0f921"
             ]
            ],
            "type": "histogram2dcontour"
           }
          ],
          "mesh3d": [
           {
            "colorbar": {
             "outlinewidth": 0,
             "ticks": ""
            },
            "type": "mesh3d"
           }
          ],
          "parcoords": [
           {
            "line": {
             "colorbar": {
              "outlinewidth": 0,
              "ticks": ""
             }
            },
            "type": "parcoords"
           }
          ],
          "pie": [
           {
            "automargin": true,
            "type": "pie"
           }
          ],
          "scatter": [
           {
            "fillpattern": {
             "fillmode": "overlay",
             "size": 10,
             "solidity": 0.2
            },
            "type": "scatter"
           }
          ],
          "scatter3d": [
           {
            "line": {
             "colorbar": {
              "outlinewidth": 0,
              "ticks": ""
             }
            },
            "marker": {
             "colorbar": {
              "outlinewidth": 0,
              "ticks": ""
             }
            },
            "type": "scatter3d"
           }
          ],
          "scattercarpet": [
           {
            "marker": {
             "colorbar": {
              "outlinewidth": 0,
              "ticks": ""
             }
            },
            "type": "scattercarpet"
           }
          ],
          "scattergeo": [
           {
            "marker": {
             "colorbar": {
              "outlinewidth": 0,
              "ticks": ""
             }
            },
            "type": "scattergeo"
           }
          ],
          "scattergl": [
           {
            "marker": {
             "colorbar": {
              "outlinewidth": 0,
              "ticks": ""
             }
            },
            "type": "scattergl"
           }
          ],
          "scattermap": [
           {
            "marker": {
             "colorbar": {
              "outlinewidth": 0,
              "ticks": ""
             }
            },
            "type": "scattermap"
           }
          ],
          "scattermapbox": [
           {
            "marker": {
             "colorbar": {
              "outlinewidth": 0,
              "ticks": ""
             }
            },
            "type": "scattermapbox"
           }
          ],
          "scatterpolar": [
           {
            "marker": {
             "colorbar": {
              "outlinewidth": 0,
              "ticks": ""
             }
            },
            "type": "scatterpolar"
           }
          ],
          "scatterpolargl": [
           {
            "marker": {
             "colorbar": {
              "outlinewidth": 0,
              "ticks": ""
             }
            },
            "type": "scatterpolargl"
           }
          ],
          "scatterternary": [
           {
            "marker": {
             "colorbar": {
              "outlinewidth": 0,
              "ticks": ""
             }
            },
            "type": "scatterternary"
           }
          ],
          "surface": [
           {
            "colorbar": {
             "outlinewidth": 0,
             "ticks": ""
            },
            "colorscale": [
             [
              0,
              "#0d0887"
             ],
             [
              0.1111111111111111,
              "#46039f"
             ],
             [
              0.2222222222222222,
              "#7201a8"
             ],
             [
              0.3333333333333333,
              "#9c179e"
             ],
             [
              0.4444444444444444,
              "#bd3786"
             ],
             [
              0.5555555555555556,
              "#d8576b"
             ],
             [
              0.6666666666666666,
              "#ed7953"
             ],
             [
              0.7777777777777778,
              "#fb9f3a"
             ],
             [
              0.8888888888888888,
              "#fdca26"
             ],
             [
              1,
              "#f0f921"
             ]
            ],
            "type": "surface"
           }
          ],
          "table": [
           {
            "cells": {
             "fill": {
              "color": "#EBF0F8"
             },
             "line": {
              "color": "white"
             }
            },
            "header": {
             "fill": {
              "color": "#C8D4E3"
             },
             "line": {
              "color": "white"
             }
            },
            "type": "table"
           }
          ]
         },
         "layout": {
          "annotationdefaults": {
           "arrowcolor": "#2a3f5f",
           "arrowhead": 0,
           "arrowwidth": 1
          },
          "autotypenumbers": "strict",
          "coloraxis": {
           "colorbar": {
            "outlinewidth": 0,
            "ticks": ""
           }
          },
          "colorscale": {
           "diverging": [
            [
             0,
             "#8e0152"
            ],
            [
             0.1,
             "#c51b7d"
            ],
            [
             0.2,
             "#de77ae"
            ],
            [
             0.3,
             "#f1b6da"
            ],
            [
             0.4,
             "#fde0ef"
            ],
            [
             0.5,
             "#f7f7f7"
            ],
            [
             0.6,
             "#e6f5d0"
            ],
            [
             0.7,
             "#b8e186"
            ],
            [
             0.8,
             "#7fbc41"
            ],
            [
             0.9,
             "#4d9221"
            ],
            [
             1,
             "#276419"
            ]
           ],
           "sequential": [
            [
             0,
             "#0d0887"
            ],
            [
             0.1111111111111111,
             "#46039f"
            ],
            [
             0.2222222222222222,
             "#7201a8"
            ],
            [
             0.3333333333333333,
             "#9c179e"
            ],
            [
             0.4444444444444444,
             "#bd3786"
            ],
            [
             0.5555555555555556,
             "#d8576b"
            ],
            [
             0.6666666666666666,
             "#ed7953"
            ],
            [
             0.7777777777777778,
             "#fb9f3a"
            ],
            [
             0.8888888888888888,
             "#fdca26"
            ],
            [
             1,
             "#f0f921"
            ]
           ],
           "sequentialminus": [
            [
             0,
             "#0d0887"
            ],
            [
             0.1111111111111111,
             "#46039f"
            ],
            [
             0.2222222222222222,
             "#7201a8"
            ],
            [
             0.3333333333333333,
             "#9c179e"
            ],
            [
             0.4444444444444444,
             "#bd3786"
            ],
            [
             0.5555555555555556,
             "#d8576b"
            ],
            [
             0.6666666666666666,
             "#ed7953"
            ],
            [
             0.7777777777777778,
             "#fb9f3a"
            ],
            [
             0.8888888888888888,
             "#fdca26"
            ],
            [
             1,
             "#f0f921"
            ]
           ]
          },
          "colorway": [
           "#636efa",
           "#EF553B",
           "#00cc96",
           "#ab63fa",
           "#FFA15A",
           "#19d3f3",
           "#FF6692",
           "#B6E880",
           "#FF97FF",
           "#FECB52"
          ],
          "font": {
           "color": "#2a3f5f"
          },
          "geo": {
           "bgcolor": "white",
           "lakecolor": "white",
           "landcolor": "#E5ECF6",
           "showlakes": true,
           "showland": true,
           "subunitcolor": "white"
          },
          "hoverlabel": {
           "align": "left"
          },
          "hovermode": "closest",
          "mapbox": {
           "style": "light"
          },
          "paper_bgcolor": "white",
          "plot_bgcolor": "#E5ECF6",
          "polar": {
           "angularaxis": {
            "gridcolor": "white",
            "linecolor": "white",
            "ticks": ""
           },
           "bgcolor": "#E5ECF6",
           "radialaxis": {
            "gridcolor": "white",
            "linecolor": "white",
            "ticks": ""
           }
          },
          "scene": {
           "xaxis": {
            "backgroundcolor": "#E5ECF6",
            "gridcolor": "white",
            "gridwidth": 2,
            "linecolor": "white",
            "showbackground": true,
            "ticks": "",
            "zerolinecolor": "white"
           },
           "yaxis": {
            "backgroundcolor": "#E5ECF6",
            "gridcolor": "white",
            "gridwidth": 2,
            "linecolor": "white",
            "showbackground": true,
            "ticks": "",
            "zerolinecolor": "white"
           },
           "zaxis": {
            "backgroundcolor": "#E5ECF6",
            "gridcolor": "white",
            "gridwidth": 2,
            "linecolor": "white",
            "showbackground": true,
            "ticks": "",
            "zerolinecolor": "white"
           }
          },
          "shapedefaults": {
           "line": {
            "color": "#2a3f5f"
           }
          },
          "ternary": {
           "aaxis": {
            "gridcolor": "white",
            "linecolor": "white",
            "ticks": ""
           },
           "baxis": {
            "gridcolor": "white",
            "linecolor": "white",
            "ticks": ""
           },
           "bgcolor": "#E5ECF6",
           "caxis": {
            "gridcolor": "white",
            "linecolor": "white",
            "ticks": ""
           }
          },
          "title": {
           "x": 0.05
          },
          "xaxis": {
           "automargin": true,
           "gridcolor": "white",
           "linecolor": "white",
           "ticks": "",
           "title": {
            "standoff": 15
           },
           "zerolinecolor": "white",
           "zerolinewidth": 2
          },
          "yaxis": {
           "automargin": true,
           "gridcolor": "white",
           "linecolor": "white",
           "ticks": "",
           "title": {
            "standoff": 15
           },
           "zerolinecolor": "white",
           "zerolinewidth": 2
          }
         }
        },
        "title": {
         "text": "Income Level Distribution"
        },
        "width": 700,
        "xaxis": {
         "anchor": "y",
         "domain": [
          0,
          1
         ],
         "tickangle": 45,
         "title": {
          "text": "Income Level"
         }
        },
        "yaxis": {
         "anchor": "x",
         "domain": [
          0,
          1
         ],
         "title": {
          "text": "Number of Customers"
         }
        }
       }
      }
     },
     "metadata": {},
     "output_type": "display_data"
    }
   ],
   "source": [
    "customer_demographics['IncomeLevel'].value_counts().sort_values(ascending=False).head(20)\n",
    "\n",
    "counts = (\n",
    "    (customer_demographics['IncomeLevel']\n",
    "    .value_counts()\n",
    "    .sort_values(ascending=False)/len(customer_demographics))*100\n",
    ")\n",
    "\n",
    "# Convert to DataFrame for Plotly\n",
    "df = counts.reset_index()\n",
    "df.columns = ['IncomeLevel', 'count']\n",
    "\n",
    "# Create the bar chart\n",
    "fig = px.bar(\n",
    "    df,\n",
    "    x='IncomeLevel',\n",
    "    y='count',\n",
    "    title='Income Level Distribution',\n",
    "    text='count',\n",
    ")\n",
    "\n",
    "fig.update_layout(\n",
    "    xaxis_title='Income Level',\n",
    "    yaxis_title='Number of Customers',\n",
    "    xaxis_tickangle=45\n",
    ")\n",
    "\n",
    "fig.update_traces(marker_color='teal', textposition='outside')\n",
    "fig.update_layout(width=700)\n",
    "\n",
    "fig.show()\n",
    "\n"
   ]
  },
  {
   "cell_type": "code",
   "execution_count": 9,
   "id": "0eca28bf",
   "metadata": {},
   "outputs": [
    {
     "data": {
      "text/html": [
       "<div>\n",
       "<style scoped>\n",
       "    .dataframe tbody tr th:only-of-type {\n",
       "        vertical-align: middle;\n",
       "    }\n",
       "\n",
       "    .dataframe tbody tr th {\n",
       "        vertical-align: top;\n",
       "    }\n",
       "\n",
       "    .dataframe thead th {\n",
       "        text-align: right;\n",
       "    }\n",
       "</style>\n",
       "<table border=\"1\" class=\"dataframe\">\n",
       "  <thead>\n",
       "    <tr style=\"text-align: right;\">\n",
       "      <th></th>\n",
       "      <th>CustomerID</th>\n",
       "      <th>TransactionID</th>\n",
       "      <th>TransactionDate</th>\n",
       "      <th>AmountSpent</th>\n",
       "      <th>ProductCategory</th>\n",
       "    </tr>\n",
       "  </thead>\n",
       "  <tbody>\n",
       "    <tr>\n",
       "      <th>0</th>\n",
       "      <td>1</td>\n",
       "      <td>7194</td>\n",
       "      <td>2022-03-27</td>\n",
       "      <td>416.50</td>\n",
       "      <td>Electronics</td>\n",
       "    </tr>\n",
       "    <tr>\n",
       "      <th>1</th>\n",
       "      <td>2</td>\n",
       "      <td>7250</td>\n",
       "      <td>2022-08-08</td>\n",
       "      <td>54.96</td>\n",
       "      <td>Clothing</td>\n",
       "    </tr>\n",
       "    <tr>\n",
       "      <th>2</th>\n",
       "      <td>2</td>\n",
       "      <td>9660</td>\n",
       "      <td>2022-07-25</td>\n",
       "      <td>197.50</td>\n",
       "      <td>Electronics</td>\n",
       "    </tr>\n",
       "    <tr>\n",
       "      <th>3</th>\n",
       "      <td>2</td>\n",
       "      <td>2998</td>\n",
       "      <td>2022-01-25</td>\n",
       "      <td>101.31</td>\n",
       "      <td>Furniture</td>\n",
       "    </tr>\n",
       "    <tr>\n",
       "      <th>4</th>\n",
       "      <td>2</td>\n",
       "      <td>1228</td>\n",
       "      <td>2022-07-24</td>\n",
       "      <td>397.37</td>\n",
       "      <td>Clothing</td>\n",
       "    </tr>\n",
       "    <tr>\n",
       "      <th>...</th>\n",
       "      <td>...</td>\n",
       "      <td>...</td>\n",
       "      <td>...</td>\n",
       "      <td>...</td>\n",
       "      <td>...</td>\n",
       "    </tr>\n",
       "    <tr>\n",
       "      <th>5049</th>\n",
       "      <td>1000</td>\n",
       "      <td>2724</td>\n",
       "      <td>2022-09-08</td>\n",
       "      <td>232.06</td>\n",
       "      <td>Groceries</td>\n",
       "    </tr>\n",
       "    <tr>\n",
       "      <th>5050</th>\n",
       "      <td>1000</td>\n",
       "      <td>2917</td>\n",
       "      <td>2022-12-13</td>\n",
       "      <td>324.98</td>\n",
       "      <td>Books</td>\n",
       "    </tr>\n",
       "    <tr>\n",
       "      <th>5051</th>\n",
       "      <td>1000</td>\n",
       "      <td>2979</td>\n",
       "      <td>2022-06-15</td>\n",
       "      <td>375.34</td>\n",
       "      <td>Groceries</td>\n",
       "    </tr>\n",
       "    <tr>\n",
       "      <th>5052</th>\n",
       "      <td>1000</td>\n",
       "      <td>8594</td>\n",
       "      <td>2022-04-08</td>\n",
       "      <td>166.73</td>\n",
       "      <td>Books</td>\n",
       "    </tr>\n",
       "    <tr>\n",
       "      <th>5053</th>\n",
       "      <td>1000</td>\n",
       "      <td>5529</td>\n",
       "      <td>2022-11-23</td>\n",
       "      <td>93.73</td>\n",
       "      <td>Furniture</td>\n",
       "    </tr>\n",
       "  </tbody>\n",
       "</table>\n",
       "<p>5054 rows × 5 columns</p>\n",
       "</div>"
      ],
      "text/plain": [
       "      CustomerID  TransactionID TransactionDate  AmountSpent ProductCategory\n",
       "0              1           7194      2022-03-27       416.50     Electronics\n",
       "1              2           7250      2022-08-08        54.96        Clothing\n",
       "2              2           9660      2022-07-25       197.50     Electronics\n",
       "3              2           2998      2022-01-25       101.31       Furniture\n",
       "4              2           1228      2022-07-24       397.37        Clothing\n",
       "...          ...            ...             ...          ...             ...\n",
       "5049        1000           2724      2022-09-08       232.06       Groceries\n",
       "5050        1000           2917      2022-12-13       324.98           Books\n",
       "5051        1000           2979      2022-06-15       375.34       Groceries\n",
       "5052        1000           8594      2022-04-08       166.73           Books\n",
       "5053        1000           5529      2022-11-23        93.73       Furniture\n",
       "\n",
       "[5054 rows x 5 columns]"
      ]
     },
     "execution_count": 9,
     "metadata": {},
     "output_type": "execute_result"
    }
   ],
   "source": [
    "transaction_history  = pd.read_excel(customer_data, 'Transaction_History')\n",
    "transaction_history"
   ]
  },
  {
   "cell_type": "code",
   "execution_count": 10,
   "id": "588f330a",
   "metadata": {},
   "outputs": [
    {
     "data": {
      "text/plain": [
       "1000"
      ]
     },
     "execution_count": 10,
     "metadata": {},
     "output_type": "execute_result"
    }
   ],
   "source": [
    "transaction_history['CustomerID'].unique().shape[0]"
   ]
  },
  {
   "cell_type": "code",
   "execution_count": 11,
   "id": "42540d35",
   "metadata": {},
   "outputs": [
    {
     "data": {
      "text/plain": [
       "ProductCategory\n",
       "Books          1041\n",
       "Groceries      1020\n",
       "Electronics    1001\n",
       "Clothing       1000\n",
       "Furniture       992\n",
       "Name: count, dtype: int64"
      ]
     },
     "execution_count": 11,
     "metadata": {},
     "output_type": "execute_result"
    }
   ],
   "source": [
    "transaction_history['ProductCategory'].value_counts().sort_values(ascending=False)   "
   ]
  },
  {
   "cell_type": "code",
   "execution_count": 12,
   "id": "3f83facc",
   "metadata": {},
   "outputs": [
    {
     "data": {
      "application/vnd.plotly.v1+json": {
       "config": {
        "plotlyServerURL": "https://plot.ly"
       },
       "data": [
        {
         "hovertemplate": "ProductCategory=Books<br>Period=%{x}<br>TransactionCount=%{y}<extra></extra>",
         "legendgroup": "Books",
         "line": {
          "color": "#636efa",
          "dash": "solid"
         },
         "marker": {
          "size": 5,
          "symbol": "circle"
         },
         "mode": "lines+markers",
         "name": "Books",
         "orientation": "v",
         "showlegend": true,
         "type": "scatter",
         "x": [
          "2022-01",
          "2022-02",
          "2022-03",
          "2022-04",
          "2022-05",
          "2022-06",
          "2022-07",
          "2022-08",
          "2022-09",
          "2022-10",
          "2022-11",
          "2022-12"
         ],
         "xaxis": "x",
         "y": {
          "bdata": "VFdZZV1SUE9YT1pZ",
          "dtype": "i1"
         },
         "yaxis": "y"
        },
        {
         "hovertemplate": "ProductCategory=Clothing<br>Period=%{x}<br>TransactionCount=%{y}<extra></extra>",
         "legendgroup": "Clothing",
         "line": {
          "color": "#EF553B",
          "dash": "solid"
         },
         "marker": {
          "size": 5,
          "symbol": "circle"
         },
         "mode": "lines+markers",
         "name": "Clothing",
         "orientation": "v",
         "showlegend": true,
         "type": "scatter",
         "x": [
          "2022-01",
          "2022-02",
          "2022-03",
          "2022-04",
          "2022-05",
          "2022-06",
          "2022-07",
          "2022-08",
          "2022-09",
          "2022-10",
          "2022-11",
          "2022-12"
         ],
         "xaxis": "x",
         "y": {
          "bdata": "U1BEWV1XUVtSWklT",
          "dtype": "i1"
         },
         "yaxis": "y"
        },
        {
         "hovertemplate": "ProductCategory=Electronics<br>Period=%{x}<br>TransactionCount=%{y}<extra></extra>",
         "legendgroup": "Electronics",
         "line": {
          "color": "#00cc96",
          "dash": "solid"
         },
         "marker": {
          "size": 5,
          "symbol": "circle"
         },
         "mode": "lines+markers",
         "name": "Electronics",
         "orientation": "v",
         "showlegend": true,
         "type": "scatter",
         "x": [
          "2022-01",
          "2022-02",
          "2022-03",
          "2022-04",
          "2022-05",
          "2022-06",
          "2022-07",
          "2022-08",
          "2022-09",
          "2022-10",
          "2022-11",
          "2022-12"
         ],
         "xaxis": "x",
         "y": {
          "bdata": "TUdhQmFHalZSTVRX",
          "dtype": "i1"
         },
         "yaxis": "y"
        },
        {
         "hovertemplate": "ProductCategory=Furniture<br>Period=%{x}<br>TransactionCount=%{y}<extra></extra>",
         "legendgroup": "Furniture",
         "line": {
          "color": "#ab63fa",
          "dash": "solid"
         },
         "marker": {
          "size": 5,
          "symbol": "circle"
         },
         "mode": "lines+markers",
         "name": "Furniture",
         "orientation": "v",
         "showlegend": true,
         "type": "scatter",
         "x": [
          "2022-01",
          "2022-02",
          "2022-03",
          "2022-04",
          "2022-05",
          "2022-06",
          "2022-07",
          "2022-08",
          "2022-09",
          "2022-10",
          "2022-11",
          "2022-12"
         ],
         "xaxis": "x",
         "y": {
          "bdata": "V1BWSGNQUVVKT09a",
          "dtype": "i1"
         },
         "yaxis": "y"
        },
        {
         "hovertemplate": "ProductCategory=Groceries<br>Period=%{x}<br>TransactionCount=%{y}<extra></extra>",
         "legendgroup": "Groceries",
         "line": {
          "color": "#FFA15A",
          "dash": "solid"
         },
         "marker": {
          "size": 5,
          "symbol": "circle"
         },
         "mode": "lines+markers",
         "name": "Groceries",
         "orientation": "v",
         "showlegend": true,
         "type": "scatter",
         "x": [
          "2022-01",
          "2022-02",
          "2022-03",
          "2022-04",
          "2022-05",
          "2022-06",
          "2022-07",
          "2022-08",
          "2022-09",
          "2022-10",
          "2022-11",
          "2022-12"
         ],
         "xaxis": "x",
         "y": {
          "bdata": "WUNQVU1dZVNcV1tL",
          "dtype": "i1"
         },
         "yaxis": "y"
        }
       ],
       "layout": {
        "height": 400,
        "hovermode": "x unified",
        "legend": {
         "title": {
          "text": "Product Category"
         },
         "tracegroupgap": 0
        },
        "template": {
         "data": {
          "bar": [
           {
            "error_x": {
             "color": "#2a3f5f"
            },
            "error_y": {
             "color": "#2a3f5f"
            },
            "marker": {
             "line": {
              "color": "#E5ECF6",
              "width": 0.5
             },
             "pattern": {
              "fillmode": "overlay",
              "size": 10,
              "solidity": 0.2
             }
            },
            "type": "bar"
           }
          ],
          "barpolar": [
           {
            "marker": {
             "line": {
              "color": "#E5ECF6",
              "width": 0.5
             },
             "pattern": {
              "fillmode": "overlay",
              "size": 10,
              "solidity": 0.2
             }
            },
            "type": "barpolar"
           }
          ],
          "carpet": [
           {
            "aaxis": {
             "endlinecolor": "#2a3f5f",
             "gridcolor": "white",
             "linecolor": "white",
             "minorgridcolor": "white",
             "startlinecolor": "#2a3f5f"
            },
            "baxis": {
             "endlinecolor": "#2a3f5f",
             "gridcolor": "white",
             "linecolor": "white",
             "minorgridcolor": "white",
             "startlinecolor": "#2a3f5f"
            },
            "type": "carpet"
           }
          ],
          "choropleth": [
           {
            "colorbar": {
             "outlinewidth": 0,
             "ticks": ""
            },
            "type": "choropleth"
           }
          ],
          "contour": [
           {
            "colorbar": {
             "outlinewidth": 0,
             "ticks": ""
            },
            "colorscale": [
             [
              0,
              "#0d0887"
             ],
             [
              0.1111111111111111,
              "#46039f"
             ],
             [
              0.2222222222222222,
              "#7201a8"
             ],
             [
              0.3333333333333333,
              "#9c179e"
             ],
             [
              0.4444444444444444,
              "#bd3786"
             ],
             [
              0.5555555555555556,
              "#d8576b"
             ],
             [
              0.6666666666666666,
              "#ed7953"
             ],
             [
              0.7777777777777778,
              "#fb9f3a"
             ],
             [
              0.8888888888888888,
              "#fdca26"
             ],
             [
              1,
              "#f0f921"
             ]
            ],
            "type": "contour"
           }
          ],
          "contourcarpet": [
           {
            "colorbar": {
             "outlinewidth": 0,
             "ticks": ""
            },
            "type": "contourcarpet"
           }
          ],
          "heatmap": [
           {
            "colorbar": {
             "outlinewidth": 0,
             "ticks": ""
            },
            "colorscale": [
             [
              0,
              "#0d0887"
             ],
             [
              0.1111111111111111,
              "#46039f"
             ],
             [
              0.2222222222222222,
              "#7201a8"
             ],
             [
              0.3333333333333333,
              "#9c179e"
             ],
             [
              0.4444444444444444,
              "#bd3786"
             ],
             [
              0.5555555555555556,
              "#d8576b"
             ],
             [
              0.6666666666666666,
              "#ed7953"
             ],
             [
              0.7777777777777778,
              "#fb9f3a"
             ],
             [
              0.8888888888888888,
              "#fdca26"
             ],
             [
              1,
              "#f0f921"
             ]
            ],
            "type": "heatmap"
           }
          ],
          "histogram": [
           {
            "marker": {
             "pattern": {
              "fillmode": "overlay",
              "size": 10,
              "solidity": 0.2
             }
            },
            "type": "histogram"
           }
          ],
          "histogram2d": [
           {
            "colorbar": {
             "outlinewidth": 0,
             "ticks": ""
            },
            "colorscale": [
             [
              0,
              "#0d0887"
             ],
             [
              0.1111111111111111,
              "#46039f"
             ],
             [
              0.2222222222222222,
              "#7201a8"
             ],
             [
              0.3333333333333333,
              "#9c179e"
             ],
             [
              0.4444444444444444,
              "#bd3786"
             ],
             [
              0.5555555555555556,
              "#d8576b"
             ],
             [
              0.6666666666666666,
              "#ed7953"
             ],
             [
              0.7777777777777778,
              "#fb9f3a"
             ],
             [
              0.8888888888888888,
              "#fdca26"
             ],
             [
              1,
              "#f0f921"
             ]
            ],
            "type": "histogram2d"
           }
          ],
          "histogram2dcontour": [
           {
            "colorbar": {
             "outlinewidth": 0,
             "ticks": ""
            },
            "colorscale": [
             [
              0,
              "#0d0887"
             ],
             [
              0.1111111111111111,
              "#46039f"
             ],
             [
              0.2222222222222222,
              "#7201a8"
             ],
             [
              0.3333333333333333,
              "#9c179e"
             ],
             [
              0.4444444444444444,
              "#bd3786"
             ],
             [
              0.5555555555555556,
              "#d8576b"
             ],
             [
              0.6666666666666666,
              "#ed7953"
             ],
             [
              0.7777777777777778,
              "#fb9f3a"
             ],
             [
              0.8888888888888888,
              "#fdca26"
             ],
             [
              1,
              "#f0f921"
             ]
            ],
            "type": "histogram2dcontour"
           }
          ],
          "mesh3d": [
           {
            "colorbar": {
             "outlinewidth": 0,
             "ticks": ""
            },
            "type": "mesh3d"
           }
          ],
          "parcoords": [
           {
            "line": {
             "colorbar": {
              "outlinewidth": 0,
              "ticks": ""
             }
            },
            "type": "parcoords"
           }
          ],
          "pie": [
           {
            "automargin": true,
            "type": "pie"
           }
          ],
          "scatter": [
           {
            "fillpattern": {
             "fillmode": "overlay",
             "size": 10,
             "solidity": 0.2
            },
            "type": "scatter"
           }
          ],
          "scatter3d": [
           {
            "line": {
             "colorbar": {
              "outlinewidth": 0,
              "ticks": ""
             }
            },
            "marker": {
             "colorbar": {
              "outlinewidth": 0,
              "ticks": ""
             }
            },
            "type": "scatter3d"
           }
          ],
          "scattercarpet": [
           {
            "marker": {
             "colorbar": {
              "outlinewidth": 0,
              "ticks": ""
             }
            },
            "type": "scattercarpet"
           }
          ],
          "scattergeo": [
           {
            "marker": {
             "colorbar": {
              "outlinewidth": 0,
              "ticks": ""
             }
            },
            "type": "scattergeo"
           }
          ],
          "scattergl": [
           {
            "marker": {
             "colorbar": {
              "outlinewidth": 0,
              "ticks": ""
             }
            },
            "type": "scattergl"
           }
          ],
          "scattermap": [
           {
            "marker": {
             "colorbar": {
              "outlinewidth": 0,
              "ticks": ""
             }
            },
            "type": "scattermap"
           }
          ],
          "scattermapbox": [
           {
            "marker": {
             "colorbar": {
              "outlinewidth": 0,
              "ticks": ""
             }
            },
            "type": "scattermapbox"
           }
          ],
          "scatterpolar": [
           {
            "marker": {
             "colorbar": {
              "outlinewidth": 0,
              "ticks": ""
             }
            },
            "type": "scatterpolar"
           }
          ],
          "scatterpolargl": [
           {
            "marker": {
             "colorbar": {
              "outlinewidth": 0,
              "ticks": ""
             }
            },
            "type": "scatterpolargl"
           }
          ],
          "scatterternary": [
           {
            "marker": {
             "colorbar": {
              "outlinewidth": 0,
              "ticks": ""
             }
            },
            "type": "scatterternary"
           }
          ],
          "surface": [
           {
            "colorbar": {
             "outlinewidth": 0,
             "ticks": ""
            },
            "colorscale": [
             [
              0,
              "#0d0887"
             ],
             [
              0.1111111111111111,
              "#46039f"
             ],
             [
              0.2222222222222222,
              "#7201a8"
             ],
             [
              0.3333333333333333,
              "#9c179e"
             ],
             [
              0.4444444444444444,
              "#bd3786"
             ],
             [
              0.5555555555555556,
              "#d8576b"
             ],
             [
              0.6666666666666666,
              "#ed7953"
             ],
             [
              0.7777777777777778,
              "#fb9f3a"
             ],
             [
              0.8888888888888888,
              "#fdca26"
             ],
             [
              1,
              "#f0f921"
             ]
            ],
            "type": "surface"
           }
          ],
          "table": [
           {
            "cells": {
             "fill": {
              "color": "#EBF0F8"
             },
             "line": {
              "color": "white"
             }
            },
            "header": {
             "fill": {
              "color": "#C8D4E3"
             },
             "line": {
              "color": "white"
             }
            },
            "type": "table"
           }
          ]
         },
         "layout": {
          "annotationdefaults": {
           "arrowcolor": "#2a3f5f",
           "arrowhead": 0,
           "arrowwidth": 1
          },
          "autotypenumbers": "strict",
          "coloraxis": {
           "colorbar": {
            "outlinewidth": 0,
            "ticks": ""
           }
          },
          "colorscale": {
           "diverging": [
            [
             0,
             "#8e0152"
            ],
            [
             0.1,
             "#c51b7d"
            ],
            [
             0.2,
             "#de77ae"
            ],
            [
             0.3,
             "#f1b6da"
            ],
            [
             0.4,
             "#fde0ef"
            ],
            [
             0.5,
             "#f7f7f7"
            ],
            [
             0.6,
             "#e6f5d0"
            ],
            [
             0.7,
             "#b8e186"
            ],
            [
             0.8,
             "#7fbc41"
            ],
            [
             0.9,
             "#4d9221"
            ],
            [
             1,
             "#276419"
            ]
           ],
           "sequential": [
            [
             0,
             "#0d0887"
            ],
            [
             0.1111111111111111,
             "#46039f"
            ],
            [
             0.2222222222222222,
             "#7201a8"
            ],
            [
             0.3333333333333333,
             "#9c179e"
            ],
            [
             0.4444444444444444,
             "#bd3786"
            ],
            [
             0.5555555555555556,
             "#d8576b"
            ],
            [
             0.6666666666666666,
             "#ed7953"
            ],
            [
             0.7777777777777778,
             "#fb9f3a"
            ],
            [
             0.8888888888888888,
             "#fdca26"
            ],
            [
             1,
             "#f0f921"
            ]
           ],
           "sequentialminus": [
            [
             0,
             "#0d0887"
            ],
            [
             0.1111111111111111,
             "#46039f"
            ],
            [
             0.2222222222222222,
             "#7201a8"
            ],
            [
             0.3333333333333333,
             "#9c179e"
            ],
            [
             0.4444444444444444,
             "#bd3786"
            ],
            [
             0.5555555555555556,
             "#d8576b"
            ],
            [
             0.6666666666666666,
             "#ed7953"
            ],
            [
             0.7777777777777778,
             "#fb9f3a"
            ],
            [
             0.8888888888888888,
             "#fdca26"
            ],
            [
             1,
             "#f0f921"
            ]
           ]
          },
          "colorway": [
           "#636efa",
           "#EF553B",
           "#00cc96",
           "#ab63fa",
           "#FFA15A",
           "#19d3f3",
           "#FF6692",
           "#B6E880",
           "#FF97FF",
           "#FECB52"
          ],
          "font": {
           "color": "#2a3f5f"
          },
          "geo": {
           "bgcolor": "white",
           "lakecolor": "white",
           "landcolor": "#E5ECF6",
           "showlakes": true,
           "showland": true,
           "subunitcolor": "white"
          },
          "hoverlabel": {
           "align": "left"
          },
          "hovermode": "closest",
          "mapbox": {
           "style": "light"
          },
          "paper_bgcolor": "white",
          "plot_bgcolor": "#E5ECF6",
          "polar": {
           "angularaxis": {
            "gridcolor": "white",
            "linecolor": "white",
            "ticks": ""
           },
           "bgcolor": "#E5ECF6",
           "radialaxis": {
            "gridcolor": "white",
            "linecolor": "white",
            "ticks": ""
           }
          },
          "scene": {
           "xaxis": {
            "backgroundcolor": "#E5ECF6",
            "gridcolor": "white",
            "gridwidth": 2,
            "linecolor": "white",
            "showbackground": true,
            "ticks": "",
            "zerolinecolor": "white"
           },
           "yaxis": {
            "backgroundcolor": "#E5ECF6",
            "gridcolor": "white",
            "gridwidth": 2,
            "linecolor": "white",
            "showbackground": true,
            "ticks": "",
            "zerolinecolor": "white"
           },
           "zaxis": {
            "backgroundcolor": "#E5ECF6",
            "gridcolor": "white",
            "gridwidth": 2,
            "linecolor": "white",
            "showbackground": true,
            "ticks": "",
            "zerolinecolor": "white"
           }
          },
          "shapedefaults": {
           "line": {
            "color": "#2a3f5f"
           }
          },
          "ternary": {
           "aaxis": {
            "gridcolor": "white",
            "linecolor": "white",
            "ticks": ""
           },
           "baxis": {
            "gridcolor": "white",
            "linecolor": "white",
            "ticks": ""
           },
           "bgcolor": "#E5ECF6",
           "caxis": {
            "gridcolor": "white",
            "linecolor": "white",
            "ticks": ""
           }
          },
          "title": {
           "x": 0.05
          },
          "xaxis": {
           "automargin": true,
           "gridcolor": "white",
           "linecolor": "white",
           "ticks": "",
           "title": {
            "standoff": 15
           },
           "zerolinecolor": "white",
           "zerolinewidth": 2
          },
          "yaxis": {
           "automargin": true,
           "gridcolor": "white",
           "linecolor": "white",
           "ticks": "",
           "title": {
            "standoff": 15
           },
           "zerolinecolor": "white",
           "zerolinewidth": 2
          }
         }
        },
        "title": {
         "text": "Top-Selling Product Categories Over Time"
        },
        "width": 1200,
        "xaxis": {
         "anchor": "y",
         "domain": [
          0,
          1
         ],
         "dtick": "M1",
         "tickangle": 45,
         "tickformat": "%b",
         "title": {
          "text": "Period (Monthly)"
         }
        },
        "yaxis": {
         "anchor": "x",
         "domain": [
          0,
          1
         ],
         "title": {
          "text": "Number of Transactions"
         }
        }
       }
      }
     },
     "metadata": {},
     "output_type": "display_data"
    }
   ],
   "source": [
    "import pandas as pd\n",
    "import plotly.express as px\n",
    "\n",
    "# Convert TransactionDate to datetime (if not already)\n",
    "transaction_history['TransactionDate'] = pd.to_datetime(transaction_history['TransactionDate'])\n",
    "\n",
    "# Optional: Group by week or month to make the chart clearer\n",
    "transaction_history['Period'] = transaction_history['TransactionDate'].dt.to_period('M').astype(str)\n",
    "\n",
    "# Aggregate number of transactions per category per period\n",
    "category_sales = (\n",
    "    transaction_history\n",
    "    .groupby(['Period', 'ProductCategory'])\n",
    "    .size()\n",
    "    .reset_index(name='TransactionCount')\n",
    ")\n",
    "\n",
    "# Line chart using Plotly\n",
    "fig = px.line(\n",
    "    category_sales,\n",
    "    x='Period',\n",
    "    y='TransactionCount',\n",
    "    color='ProductCategory',\n",
    "    title='Top-Selling Product Categories Over Time',\n",
    "    markers=True\n",
    ")\n",
    "\n",
    "# Improve layout\n",
    "fig.update_layout(\n",
    "    xaxis_title='Period (Monthly)',\n",
    "    yaxis_title='Number of Transactions',\n",
    "    hovermode='x unified',\n",
    "    width=1200,\n",
    "    height=400\n",
    ")\n",
    "fig.update_traces(mode='lines+markers', marker=dict(size=5))\n",
    "fig.update_layout(legend_title_text='Product Category')\n",
    "fig.update_xaxes(tickangle=45, dtick='M1', tickformat='%b')\n",
    "fig.show()\n"
   ]
  },
  {
   "cell_type": "code",
   "execution_count": 13,
   "id": "d0652c7e",
   "metadata": {},
   "outputs": [
    {
     "data": {
      "application/vnd.plotly.v1+json": {
       "config": {
        "plotlyServerURL": "https://plot.ly"
       },
       "data": [
        {
         "domain": {
          "x": [
           0,
           1
          ],
          "y": [
           0,
           1
          ]
         },
         "hovertemplate": "ProductCategory=%{label}<br>Percentage=%{value}<extra></extra>",
         "labels": [
          "Groceries",
          "Books",
          "Clothing",
          "Electronics",
          "Furniture"
         ],
         "legendgroup": "",
         "name": "",
         "showlegend": true,
         "type": "pie",
         "values": {
          "bdata": "a76GqvKbNEDXXBkzQXw0QPXPAHmE7DNAkAVSsZ+pM0A6Dw34p1EzQA==",
          "dtype": "f8"
         }
        }
       ],
       "layout": {
        "legend": {
         "tracegroupgap": 0
        },
        "margin": {
         "t": 60
        },
        "template": {
         "data": {
          "bar": [
           {
            "error_x": {
             "color": "#2a3f5f"
            },
            "error_y": {
             "color": "#2a3f5f"
            },
            "marker": {
             "line": {
              "color": "#E5ECF6",
              "width": 0.5
             },
             "pattern": {
              "fillmode": "overlay",
              "size": 10,
              "solidity": 0.2
             }
            },
            "type": "bar"
           }
          ],
          "barpolar": [
           {
            "marker": {
             "line": {
              "color": "#E5ECF6",
              "width": 0.5
             },
             "pattern": {
              "fillmode": "overlay",
              "size": 10,
              "solidity": 0.2
             }
            },
            "type": "barpolar"
           }
          ],
          "carpet": [
           {
            "aaxis": {
             "endlinecolor": "#2a3f5f",
             "gridcolor": "white",
             "linecolor": "white",
             "minorgridcolor": "white",
             "startlinecolor": "#2a3f5f"
            },
            "baxis": {
             "endlinecolor": "#2a3f5f",
             "gridcolor": "white",
             "linecolor": "white",
             "minorgridcolor": "white",
             "startlinecolor": "#2a3f5f"
            },
            "type": "carpet"
           }
          ],
          "choropleth": [
           {
            "colorbar": {
             "outlinewidth": 0,
             "ticks": ""
            },
            "type": "choropleth"
           }
          ],
          "contour": [
           {
            "colorbar": {
             "outlinewidth": 0,
             "ticks": ""
            },
            "colorscale": [
             [
              0,
              "#0d0887"
             ],
             [
              0.1111111111111111,
              "#46039f"
             ],
             [
              0.2222222222222222,
              "#7201a8"
             ],
             [
              0.3333333333333333,
              "#9c179e"
             ],
             [
              0.4444444444444444,
              "#bd3786"
             ],
             [
              0.5555555555555556,
              "#d8576b"
             ],
             [
              0.6666666666666666,
              "#ed7953"
             ],
             [
              0.7777777777777778,
              "#fb9f3a"
             ],
             [
              0.8888888888888888,
              "#fdca26"
             ],
             [
              1,
              "#f0f921"
             ]
            ],
            "type": "contour"
           }
          ],
          "contourcarpet": [
           {
            "colorbar": {
             "outlinewidth": 0,
             "ticks": ""
            },
            "type": "contourcarpet"
           }
          ],
          "heatmap": [
           {
            "colorbar": {
             "outlinewidth": 0,
             "ticks": ""
            },
            "colorscale": [
             [
              0,
              "#0d0887"
             ],
             [
              0.1111111111111111,
              "#46039f"
             ],
             [
              0.2222222222222222,
              "#7201a8"
             ],
             [
              0.3333333333333333,
              "#9c179e"
             ],
             [
              0.4444444444444444,
              "#bd3786"
             ],
             [
              0.5555555555555556,
              "#d8576b"
             ],
             [
              0.6666666666666666,
              "#ed7953"
             ],
             [
              0.7777777777777778,
              "#fb9f3a"
             ],
             [
              0.8888888888888888,
              "#fdca26"
             ],
             [
              1,
              "#f0f921"
             ]
            ],
            "type": "heatmap"
           }
          ],
          "histogram": [
           {
            "marker": {
             "pattern": {
              "fillmode": "overlay",
              "size": 10,
              "solidity": 0.2
             }
            },
            "type": "histogram"
           }
          ],
          "histogram2d": [
           {
            "colorbar": {
             "outlinewidth": 0,
             "ticks": ""
            },
            "colorscale": [
             [
              0,
              "#0d0887"
             ],
             [
              0.1111111111111111,
              "#46039f"
             ],
             [
              0.2222222222222222,
              "#7201a8"
             ],
             [
              0.3333333333333333,
              "#9c179e"
             ],
             [
              0.4444444444444444,
              "#bd3786"
             ],
             [
              0.5555555555555556,
              "#d8576b"
             ],
             [
              0.6666666666666666,
              "#ed7953"
             ],
             [
              0.7777777777777778,
              "#fb9f3a"
             ],
             [
              0.8888888888888888,
              "#fdca26"
             ],
             [
              1,
              "#f0f921"
             ]
            ],
            "type": "histogram2d"
           }
          ],
          "histogram2dcontour": [
           {
            "colorbar": {
             "outlinewidth": 0,
             "ticks": ""
            },
            "colorscale": [
             [
              0,
              "#0d0887"
             ],
             [
              0.1111111111111111,
              "#46039f"
             ],
             [
              0.2222222222222222,
              "#7201a8"
             ],
             [
              0.3333333333333333,
              "#9c179e"
             ],
             [
              0.4444444444444444,
              "#bd3786"
             ],
             [
              0.5555555555555556,
              "#d8576b"
             ],
             [
              0.6666666666666666,
              "#ed7953"
             ],
             [
              0.7777777777777778,
              "#fb9f3a"
             ],
             [
              0.8888888888888888,
              "#fdca26"
             ],
             [
              1,
              "#f0f921"
             ]
            ],
            "type": "histogram2dcontour"
           }
          ],
          "mesh3d": [
           {
            "colorbar": {
             "outlinewidth": 0,
             "ticks": ""
            },
            "type": "mesh3d"
           }
          ],
          "parcoords": [
           {
            "line": {
             "colorbar": {
              "outlinewidth": 0,
              "ticks": ""
             }
            },
            "type": "parcoords"
           }
          ],
          "pie": [
           {
            "automargin": true,
            "type": "pie"
           }
          ],
          "scatter": [
           {
            "fillpattern": {
             "fillmode": "overlay",
             "size": 10,
             "solidity": 0.2
            },
            "type": "scatter"
           }
          ],
          "scatter3d": [
           {
            "line": {
             "colorbar": {
              "outlinewidth": 0,
              "ticks": ""
             }
            },
            "marker": {
             "colorbar": {
              "outlinewidth": 0,
              "ticks": ""
             }
            },
            "type": "scatter3d"
           }
          ],
          "scattercarpet": [
           {
            "marker": {
             "colorbar": {
              "outlinewidth": 0,
              "ticks": ""
             }
            },
            "type": "scattercarpet"
           }
          ],
          "scattergeo": [
           {
            "marker": {
             "colorbar": {
              "outlinewidth": 0,
              "ticks": ""
             }
            },
            "type": "scattergeo"
           }
          ],
          "scattergl": [
           {
            "marker": {
             "colorbar": {
              "outlinewidth": 0,
              "ticks": ""
             }
            },
            "type": "scattergl"
           }
          ],
          "scattermap": [
           {
            "marker": {
             "colorbar": {
              "outlinewidth": 0,
              "ticks": ""
             }
            },
            "type": "scattermap"
           }
          ],
          "scattermapbox": [
           {
            "marker": {
             "colorbar": {
              "outlinewidth": 0,
              "ticks": ""
             }
            },
            "type": "scattermapbox"
           }
          ],
          "scatterpolar": [
           {
            "marker": {
             "colorbar": {
              "outlinewidth": 0,
              "ticks": ""
             }
            },
            "type": "scatterpolar"
           }
          ],
          "scatterpolargl": [
           {
            "marker": {
             "colorbar": {
              "outlinewidth": 0,
              "ticks": ""
             }
            },
            "type": "scatterpolargl"
           }
          ],
          "scatterternary": [
           {
            "marker": {
             "colorbar": {
              "outlinewidth": 0,
              "ticks": ""
             }
            },
            "type": "scatterternary"
           }
          ],
          "surface": [
           {
            "colorbar": {
             "outlinewidth": 0,
             "ticks": ""
            },
            "colorscale": [
             [
              0,
              "#0d0887"
             ],
             [
              0.1111111111111111,
              "#46039f"
             ],
             [
              0.2222222222222222,
              "#7201a8"
             ],
             [
              0.3333333333333333,
              "#9c179e"
             ],
             [
              0.4444444444444444,
              "#bd3786"
             ],
             [
              0.5555555555555556,
              "#d8576b"
             ],
             [
              0.6666666666666666,
              "#ed7953"
             ],
             [
              0.7777777777777778,
              "#fb9f3a"
             ],
             [
              0.8888888888888888,
              "#fdca26"
             ],
             [
              1,
              "#f0f921"
             ]
            ],
            "type": "surface"
           }
          ],
          "table": [
           {
            "cells": {
             "fill": {
              "color": "#EBF0F8"
             },
             "line": {
              "color": "white"
             }
            },
            "header": {
             "fill": {
              "color": "#C8D4E3"
             },
             "line": {
              "color": "white"
             }
            },
            "type": "table"
           }
          ]
         },
         "layout": {
          "annotationdefaults": {
           "arrowcolor": "#2a3f5f",
           "arrowhead": 0,
           "arrowwidth": 1
          },
          "autotypenumbers": "strict",
          "coloraxis": {
           "colorbar": {
            "outlinewidth": 0,
            "ticks": ""
           }
          },
          "colorscale": {
           "diverging": [
            [
             0,
             "#8e0152"
            ],
            [
             0.1,
             "#c51b7d"
            ],
            [
             0.2,
             "#de77ae"
            ],
            [
             0.3,
             "#f1b6da"
            ],
            [
             0.4,
             "#fde0ef"
            ],
            [
             0.5,
             "#f7f7f7"
            ],
            [
             0.6,
             "#e6f5d0"
            ],
            [
             0.7,
             "#b8e186"
            ],
            [
             0.8,
             "#7fbc41"
            ],
            [
             0.9,
             "#4d9221"
            ],
            [
             1,
             "#276419"
            ]
           ],
           "sequential": [
            [
             0,
             "#0d0887"
            ],
            [
             0.1111111111111111,
             "#46039f"
            ],
            [
             0.2222222222222222,
             "#7201a8"
            ],
            [
             0.3333333333333333,
             "#9c179e"
            ],
            [
             0.4444444444444444,
             "#bd3786"
            ],
            [
             0.5555555555555556,
             "#d8576b"
            ],
            [
             0.6666666666666666,
             "#ed7953"
            ],
            [
             0.7777777777777778,
             "#fb9f3a"
            ],
            [
             0.8888888888888888,
             "#fdca26"
            ],
            [
             1,
             "#f0f921"
            ]
           ],
           "sequentialminus": [
            [
             0,
             "#0d0887"
            ],
            [
             0.1111111111111111,
             "#46039f"
            ],
            [
             0.2222222222222222,
             "#7201a8"
            ],
            [
             0.3333333333333333,
             "#9c179e"
            ],
            [
             0.4444444444444444,
             "#bd3786"
            ],
            [
             0.5555555555555556,
             "#d8576b"
            ],
            [
             0.6666666666666666,
             "#ed7953"
            ],
            [
             0.7777777777777778,
             "#fb9f3a"
            ],
            [
             0.8888888888888888,
             "#fdca26"
            ],
            [
             1,
             "#f0f921"
            ]
           ]
          },
          "colorway": [
           "#636efa",
           "#EF553B",
           "#00cc96",
           "#ab63fa",
           "#FFA15A",
           "#19d3f3",
           "#FF6692",
           "#B6E880",
           "#FF97FF",
           "#FECB52"
          ],
          "font": {
           "color": "#2a3f5f"
          },
          "geo": {
           "bgcolor": "white",
           "lakecolor": "white",
           "landcolor": "#E5ECF6",
           "showlakes": true,
           "showland": true,
           "subunitcolor": "white"
          },
          "hoverlabel": {
           "align": "left"
          },
          "hovermode": "closest",
          "mapbox": {
           "style": "light"
          },
          "paper_bgcolor": "white",
          "plot_bgcolor": "#E5ECF6",
          "polar": {
           "angularaxis": {
            "gridcolor": "white",
            "linecolor": "white",
            "ticks": ""
           },
           "bgcolor": "#E5ECF6",
           "radialaxis": {
            "gridcolor": "white",
            "linecolor": "white",
            "ticks": ""
           }
          },
          "scene": {
           "xaxis": {
            "backgroundcolor": "#E5ECF6",
            "gridcolor": "white",
            "gridwidth": 2,
            "linecolor": "white",
            "showbackground": true,
            "ticks": "",
            "zerolinecolor": "white"
           },
           "yaxis": {
            "backgroundcolor": "#E5ECF6",
            "gridcolor": "white",
            "gridwidth": 2,
            "linecolor": "white",
            "showbackground": true,
            "ticks": "",
            "zerolinecolor": "white"
           },
           "zaxis": {
            "backgroundcolor": "#E5ECF6",
            "gridcolor": "white",
            "gridwidth": 2,
            "linecolor": "white",
            "showbackground": true,
            "ticks": "",
            "zerolinecolor": "white"
           }
          },
          "shapedefaults": {
           "line": {
            "color": "#2a3f5f"
           }
          },
          "ternary": {
           "aaxis": {
            "gridcolor": "white",
            "linecolor": "white",
            "ticks": ""
           },
           "baxis": {
            "gridcolor": "white",
            "linecolor": "white",
            "ticks": ""
           },
           "bgcolor": "#E5ECF6",
           "caxis": {
            "gridcolor": "white",
            "linecolor": "white",
            "ticks": ""
           }
          },
          "title": {
           "x": 0.05
          },
          "xaxis": {
           "automargin": true,
           "gridcolor": "white",
           "linecolor": "white",
           "ticks": "",
           "title": {
            "standoff": 15
           },
           "zerolinecolor": "white",
           "zerolinewidth": 2
          },
          "yaxis": {
           "automargin": true,
           "gridcolor": "white",
           "linecolor": "white",
           "ticks": "",
           "title": {
            "standoff": 15
           },
           "zerolinecolor": "white",
           "zerolinewidth": 2
          }
         }
        }
       }
      }
     },
     "metadata": {},
     "output_type": "display_data"
    }
   ],
   "source": [
    "most_spent_products = transaction_history.groupby('ProductCategory')['AmountSpent'].sum().reset_index().sort_values(by='AmountSpent', ascending=False)\n",
    "most_spent_products['Percentage'] = most_spent_products['AmountSpent']/transaction_history['AmountSpent'].sum() * 100\n",
    "most_spent_products\n",
    "\n",
    "\n",
    "fig = px.pie(\n",
    "    most_spent_products, \n",
    "    names='ProductCategory',\n",
    "    values='Percentage',\n",
    "    \n",
    ")\n",
    "\n",
    "fig.show()"
   ]
  },
  {
   "cell_type": "code",
   "execution_count": 14,
   "id": "eac882a2",
   "metadata": {},
   "outputs": [
    {
     "data": {
      "text/html": [
       "<div>\n",
       "<style scoped>\n",
       "    .dataframe tbody tr th:only-of-type {\n",
       "        vertical-align: middle;\n",
       "    }\n",
       "\n",
       "    .dataframe tbody tr th {\n",
       "        vertical-align: top;\n",
       "    }\n",
       "\n",
       "    .dataframe thead th {\n",
       "        text-align: right;\n",
       "    }\n",
       "</style>\n",
       "<table border=\"1\" class=\"dataframe\">\n",
       "  <thead>\n",
       "    <tr style=\"text-align: right;\">\n",
       "      <th></th>\n",
       "      <th>CustomerID</th>\n",
       "      <th>NumberOfInteractions</th>\n",
       "    </tr>\n",
       "  </thead>\n",
       "  <tbody>\n",
       "    <tr>\n",
       "      <th>0</th>\n",
       "      <td>1</td>\n",
       "      <td>1</td>\n",
       "    </tr>\n",
       "    <tr>\n",
       "      <th>1</th>\n",
       "      <td>2</td>\n",
       "      <td>7</td>\n",
       "    </tr>\n",
       "    <tr>\n",
       "      <th>2</th>\n",
       "      <td>3</td>\n",
       "      <td>6</td>\n",
       "    </tr>\n",
       "    <tr>\n",
       "      <th>3</th>\n",
       "      <td>4</td>\n",
       "      <td>5</td>\n",
       "    </tr>\n",
       "    <tr>\n",
       "      <th>4</th>\n",
       "      <td>5</td>\n",
       "      <td>8</td>\n",
       "    </tr>\n",
       "    <tr>\n",
       "      <th>...</th>\n",
       "      <td>...</td>\n",
       "      <td>...</td>\n",
       "    </tr>\n",
       "    <tr>\n",
       "      <th>995</th>\n",
       "      <td>996</td>\n",
       "      <td>1</td>\n",
       "    </tr>\n",
       "    <tr>\n",
       "      <th>996</th>\n",
       "      <td>997</td>\n",
       "      <td>2</td>\n",
       "    </tr>\n",
       "    <tr>\n",
       "      <th>997</th>\n",
       "      <td>998</td>\n",
       "      <td>1</td>\n",
       "    </tr>\n",
       "    <tr>\n",
       "      <th>998</th>\n",
       "      <td>999</td>\n",
       "      <td>9</td>\n",
       "    </tr>\n",
       "    <tr>\n",
       "      <th>999</th>\n",
       "      <td>1000</td>\n",
       "      <td>6</td>\n",
       "    </tr>\n",
       "  </tbody>\n",
       "</table>\n",
       "<p>1000 rows × 2 columns</p>\n",
       "</div>"
      ],
      "text/plain": [
       "     CustomerID  NumberOfInteractions\n",
       "0             1                     1\n",
       "1             2                     7\n",
       "2             3                     6\n",
       "3             4                     5\n",
       "4             5                     8\n",
       "..          ...                   ...\n",
       "995         996                     1\n",
       "996         997                     2\n",
       "997         998                     1\n",
       "998         999                     9\n",
       "999        1000                     6\n",
       "\n",
       "[1000 rows x 2 columns]"
      ]
     },
     "execution_count": 14,
     "metadata": {},
     "output_type": "execute_result"
    }
   ],
   "source": [
    "transaction_history['TransactionDate'].dt.month.value_counts().sort_index()\n",
    "\n",
    "# number_of_interactions = transaction_history.groupby('CustomerID').size()\n",
    "number_of_transactions = transaction_history.groupby('CustomerID').size().reset_index(name='NumberOfInteractions')\n",
    "number_of_transactions"
   ]
  },
  {
   "cell_type": "code",
   "execution_count": 15,
   "id": "20b8bbf9",
   "metadata": {},
   "outputs": [
    {
     "data": {
      "text/html": [
       "<div>\n",
       "<style scoped>\n",
       "    .dataframe tbody tr th:only-of-type {\n",
       "        vertical-align: middle;\n",
       "    }\n",
       "\n",
       "    .dataframe tbody tr th {\n",
       "        vertical-align: top;\n",
       "    }\n",
       "\n",
       "    .dataframe thead th {\n",
       "        text-align: right;\n",
       "    }\n",
       "</style>\n",
       "<table border=\"1\" class=\"dataframe\">\n",
       "  <thead>\n",
       "    <tr style=\"text-align: right;\">\n",
       "      <th></th>\n",
       "      <th>CustomerID</th>\n",
       "      <th>TotalSpent</th>\n",
       "    </tr>\n",
       "  </thead>\n",
       "  <tbody>\n",
       "    <tr>\n",
       "      <th>480</th>\n",
       "      <td>481</td>\n",
       "      <td>3386.04</td>\n",
       "    </tr>\n",
       "    <tr>\n",
       "      <th>368</th>\n",
       "      <td>369</td>\n",
       "      <td>3352.34</td>\n",
       "    </tr>\n",
       "    <tr>\n",
       "      <th>715</th>\n",
       "      <td>716</td>\n",
       "      <td>3220.30</td>\n",
       "    </tr>\n",
       "    <tr>\n",
       "      <th>36</th>\n",
       "      <td>37</td>\n",
       "      <td>3166.88</td>\n",
       "    </tr>\n",
       "    <tr>\n",
       "      <th>517</th>\n",
       "      <td>518</td>\n",
       "      <td>3078.60</td>\n",
       "    </tr>\n",
       "    <tr>\n",
       "      <th>...</th>\n",
       "      <td>...</td>\n",
       "      <td>...</td>\n",
       "    </tr>\n",
       "    <tr>\n",
       "      <th>337</th>\n",
       "      <td>338</td>\n",
       "      <td>13.86</td>\n",
       "    </tr>\n",
       "    <tr>\n",
       "      <th>147</th>\n",
       "      <td>148</td>\n",
       "      <td>13.04</td>\n",
       "    </tr>\n",
       "    <tr>\n",
       "      <th>262</th>\n",
       "      <td>263</td>\n",
       "      <td>13.04</td>\n",
       "    </tr>\n",
       "    <tr>\n",
       "      <th>646</th>\n",
       "      <td>647</td>\n",
       "      <td>12.46</td>\n",
       "    </tr>\n",
       "    <tr>\n",
       "      <th>298</th>\n",
       "      <td>299</td>\n",
       "      <td>9.80</td>\n",
       "    </tr>\n",
       "  </tbody>\n",
       "</table>\n",
       "<p>1000 rows × 2 columns</p>\n",
       "</div>"
      ],
      "text/plain": [
       "     CustomerID  TotalSpent\n",
       "480         481     3386.04\n",
       "368         369     3352.34\n",
       "715         716     3220.30\n",
       "36           37     3166.88\n",
       "517         518     3078.60\n",
       "..          ...         ...\n",
       "337         338       13.86\n",
       "147         148       13.04\n",
       "262         263       13.04\n",
       "646         647       12.46\n",
       "298         299        9.80\n",
       "\n",
       "[1000 rows x 2 columns]"
      ]
     },
     "execution_count": 15,
     "metadata": {},
     "output_type": "execute_result"
    }
   ],
   "source": [
    "# Sum of AmountSpent per CustomerID\n",
    "customers_total_spent = transaction_history.groupby('CustomerID')['AmountSpent'].sum().reset_index().sort_values(by='AmountSpent', ascending=False)\n",
    "\n",
    "# Optional: rename for clarity\n",
    "customers_total_spent.rename(columns={'AmountSpent': 'TotalSpent'}, inplace=True)\n",
    "customers_total_spent"
   ]
  },
  {
   "cell_type": "code",
   "execution_count": 16,
   "id": "7e8bfbb3",
   "metadata": {},
   "outputs": [
    {
     "data": {
      "text/plain": [
       "count    5054.000000\n",
       "mean      250.707351\n",
       "std       142.250838\n",
       "min         5.180000\n",
       "25%       127.105000\n",
       "50%       250.525000\n",
       "75%       373.412500\n",
       "max       499.860000\n",
       "Name: AmountSpent, dtype: float64"
      ]
     },
     "execution_count": 16,
     "metadata": {},
     "output_type": "execute_result"
    }
   ],
   "source": [
    "transaction_history['AmountSpent'].describe()\n"
   ]
  },
  {
   "cell_type": "code",
   "execution_count": 17,
   "id": "b8f9d98a",
   "metadata": {},
   "outputs": [
    {
     "data": {
      "text/html": [
       "<div>\n",
       "<style scoped>\n",
       "    .dataframe tbody tr th:only-of-type {\n",
       "        vertical-align: middle;\n",
       "    }\n",
       "\n",
       "    .dataframe tbody tr th {\n",
       "        vertical-align: top;\n",
       "    }\n",
       "\n",
       "    .dataframe thead th {\n",
       "        text-align: right;\n",
       "    }\n",
       "</style>\n",
       "<table border=\"1\" class=\"dataframe\">\n",
       "  <thead>\n",
       "    <tr style=\"text-align: right;\">\n",
       "      <th></th>\n",
       "      <th>CustomerID</th>\n",
       "      <th>InteractionID</th>\n",
       "      <th>InteractionDate</th>\n",
       "      <th>InteractionType</th>\n",
       "      <th>ResolutionStatus</th>\n",
       "    </tr>\n",
       "  </thead>\n",
       "  <tbody>\n",
       "    <tr>\n",
       "      <th>0</th>\n",
       "      <td>1</td>\n",
       "      <td>6363</td>\n",
       "      <td>2022-03-31</td>\n",
       "      <td>Inquiry</td>\n",
       "      <td>Resolved</td>\n",
       "    </tr>\n",
       "    <tr>\n",
       "      <th>1</th>\n",
       "      <td>2</td>\n",
       "      <td>3329</td>\n",
       "      <td>2022-03-17</td>\n",
       "      <td>Inquiry</td>\n",
       "      <td>Resolved</td>\n",
       "    </tr>\n",
       "    <tr>\n",
       "      <th>2</th>\n",
       "      <td>3</td>\n",
       "      <td>9976</td>\n",
       "      <td>2022-08-24</td>\n",
       "      <td>Inquiry</td>\n",
       "      <td>Resolved</td>\n",
       "    </tr>\n",
       "    <tr>\n",
       "      <th>3</th>\n",
       "      <td>4</td>\n",
       "      <td>7354</td>\n",
       "      <td>2022-11-18</td>\n",
       "      <td>Inquiry</td>\n",
       "      <td>Resolved</td>\n",
       "    </tr>\n",
       "    <tr>\n",
       "      <th>4</th>\n",
       "      <td>4</td>\n",
       "      <td>5393</td>\n",
       "      <td>2022-07-03</td>\n",
       "      <td>Inquiry</td>\n",
       "      <td>Unresolved</td>\n",
       "    </tr>\n",
       "    <tr>\n",
       "      <th>...</th>\n",
       "      <td>...</td>\n",
       "      <td>...</td>\n",
       "      <td>...</td>\n",
       "      <td>...</td>\n",
       "      <td>...</td>\n",
       "    </tr>\n",
       "    <tr>\n",
       "      <th>997</th>\n",
       "      <td>990</td>\n",
       "      <td>3671</td>\n",
       "      <td>2022-10-25</td>\n",
       "      <td>Complaint</td>\n",
       "      <td>Unresolved</td>\n",
       "    </tr>\n",
       "    <tr>\n",
       "      <th>998</th>\n",
       "      <td>992</td>\n",
       "      <td>2114</td>\n",
       "      <td>2022-09-29</td>\n",
       "      <td>Feedback</td>\n",
       "      <td>Unresolved</td>\n",
       "    </tr>\n",
       "    <tr>\n",
       "      <th>999</th>\n",
       "      <td>994</td>\n",
       "      <td>3087</td>\n",
       "      <td>2022-07-02</td>\n",
       "      <td>Complaint</td>\n",
       "      <td>Unresolved</td>\n",
       "    </tr>\n",
       "    <tr>\n",
       "      <th>1000</th>\n",
       "      <td>994</td>\n",
       "      <td>8508</td>\n",
       "      <td>2022-05-14</td>\n",
       "      <td>Complaint</td>\n",
       "      <td>Unresolved</td>\n",
       "    </tr>\n",
       "    <tr>\n",
       "      <th>1001</th>\n",
       "      <td>995</td>\n",
       "      <td>9101</td>\n",
       "      <td>2022-05-02</td>\n",
       "      <td>Inquiry</td>\n",
       "      <td>Resolved</td>\n",
       "    </tr>\n",
       "  </tbody>\n",
       "</table>\n",
       "<p>1002 rows × 5 columns</p>\n",
       "</div>"
      ],
      "text/plain": [
       "      CustomerID  InteractionID InteractionDate InteractionType  \\\n",
       "0              1           6363      2022-03-31         Inquiry   \n",
       "1              2           3329      2022-03-17         Inquiry   \n",
       "2              3           9976      2022-08-24         Inquiry   \n",
       "3              4           7354      2022-11-18         Inquiry   \n",
       "4              4           5393      2022-07-03         Inquiry   \n",
       "...          ...            ...             ...             ...   \n",
       "997          990           3671      2022-10-25       Complaint   \n",
       "998          992           2114      2022-09-29        Feedback   \n",
       "999          994           3087      2022-07-02       Complaint   \n",
       "1000         994           8508      2022-05-14       Complaint   \n",
       "1001         995           9101      2022-05-02         Inquiry   \n",
       "\n",
       "     ResolutionStatus  \n",
       "0            Resolved  \n",
       "1            Resolved  \n",
       "2            Resolved  \n",
       "3            Resolved  \n",
       "4          Unresolved  \n",
       "...               ...  \n",
       "997        Unresolved  \n",
       "998        Unresolved  \n",
       "999        Unresolved  \n",
       "1000       Unresolved  \n",
       "1001         Resolved  \n",
       "\n",
       "[1002 rows x 5 columns]"
      ]
     },
     "execution_count": 17,
     "metadata": {},
     "output_type": "execute_result"
    }
   ],
   "source": [
    "customer_service = pd.read_excel(customer_data, 'Customer_Service')\n",
    "customer_service"
   ]
  },
  {
   "cell_type": "code",
   "execution_count": 18,
   "id": "d6e5517b",
   "metadata": {},
   "outputs": [],
   "source": [
    "customer_service['InteractionDate'].dt.month.value_counts().sort_index()\n",
    "\n",
    "number_of_interactions = customer_service.groupby('CustomerID').size().reset_index(name='NumberOfInteractions')\n",
    "number_of_interactions_per_month = {}"
   ]
  },
  {
   "cell_type": "code",
   "execution_count": 19,
   "id": "f3d9e7b4",
   "metadata": {},
   "outputs": [
    {
     "data": {
      "text/plain": [
       "InteractionType\n",
       "Feedback     360\n",
       "Complaint    335\n",
       "Inquiry      307\n",
       "Name: count, dtype: int64"
      ]
     },
     "execution_count": 19,
     "metadata": {},
     "output_type": "execute_result"
    }
   ],
   "source": [
    "customer_service['InteractionType'].value_counts().sort_values(ascending=False)"
   ]
  },
  {
   "cell_type": "code",
   "execution_count": 20,
   "id": "d6d28775",
   "metadata": {},
   "outputs": [
    {
     "data": {
      "text/html": [
       "<div>\n",
       "<style scoped>\n",
       "    .dataframe tbody tr th:only-of-type {\n",
       "        vertical-align: middle;\n",
       "    }\n",
       "\n",
       "    .dataframe tbody tr th {\n",
       "        vertical-align: top;\n",
       "    }\n",
       "\n",
       "    .dataframe thead th {\n",
       "        text-align: right;\n",
       "    }\n",
       "</style>\n",
       "<table border=\"1\" class=\"dataframe\">\n",
       "  <thead>\n",
       "    <tr style=\"text-align: right;\">\n",
       "      <th>InteractionMonth</th>\n",
       "      <th>InteractionType</th>\n",
       "      <th>January</th>\n",
       "      <th>February</th>\n",
       "      <th>March</th>\n",
       "      <th>April</th>\n",
       "      <th>May</th>\n",
       "      <th>June</th>\n",
       "      <th>July</th>\n",
       "      <th>August</th>\n",
       "      <th>September</th>\n",
       "      <th>October</th>\n",
       "      <th>November</th>\n",
       "      <th>December</th>\n",
       "    </tr>\n",
       "  </thead>\n",
       "  <tbody>\n",
       "    <tr>\n",
       "      <th>0</th>\n",
       "      <td>Complaint</td>\n",
       "      <td>25</td>\n",
       "      <td>22</td>\n",
       "      <td>31</td>\n",
       "      <td>25</td>\n",
       "      <td>41</td>\n",
       "      <td>32</td>\n",
       "      <td>33</td>\n",
       "      <td>26</td>\n",
       "      <td>28</td>\n",
       "      <td>32</td>\n",
       "      <td>27</td>\n",
       "      <td>13</td>\n",
       "    </tr>\n",
       "    <tr>\n",
       "      <th>1</th>\n",
       "      <td>Feedback</td>\n",
       "      <td>27</td>\n",
       "      <td>26</td>\n",
       "      <td>36</td>\n",
       "      <td>32</td>\n",
       "      <td>20</td>\n",
       "      <td>31</td>\n",
       "      <td>42</td>\n",
       "      <td>28</td>\n",
       "      <td>33</td>\n",
       "      <td>31</td>\n",
       "      <td>25</td>\n",
       "      <td>29</td>\n",
       "    </tr>\n",
       "    <tr>\n",
       "      <th>2</th>\n",
       "      <td>Inquiry</td>\n",
       "      <td>25</td>\n",
       "      <td>20</td>\n",
       "      <td>26</td>\n",
       "      <td>23</td>\n",
       "      <td>26</td>\n",
       "      <td>24</td>\n",
       "      <td>22</td>\n",
       "      <td>28</td>\n",
       "      <td>21</td>\n",
       "      <td>26</td>\n",
       "      <td>32</td>\n",
       "      <td>34</td>\n",
       "    </tr>\n",
       "  </tbody>\n",
       "</table>\n",
       "</div>"
      ],
      "text/plain": [
       "InteractionMonth InteractionType  January  February  March  April  May  June  \\\n",
       "0                      Complaint       25        22     31     25   41    32   \n",
       "1                       Feedback       27        26     36     32   20    31   \n",
       "2                        Inquiry       25        20     26     23   26    24   \n",
       "\n",
       "InteractionMonth  July  August  September  October  November  December  \n",
       "0                   33      26         28       32        27        13  \n",
       "1                   42      28         33       31        25        29  \n",
       "2                   22      28         21       26        32        34  "
      ]
     },
     "execution_count": 20,
     "metadata": {},
     "output_type": "execute_result"
    }
   ],
   "source": [
    "customer_service['InteractionMonth'] = customer_service['InteractionDate'].dt.month_name()\n",
    "\n",
    "monthly_counts = (\n",
    "    customer_service\n",
    "    .groupby(['InteractionType', 'InteractionMonth'])\n",
    "    .size()\n",
    "    .sort_index()\n",
    "    .unstack(fill_value=0)\n",
    ")\n",
    "\n",
    "monthly_line_df = pd.DataFrame(monthly_counts)\n",
    "\n",
    "monthly_line_df.sort_index(inplace=True)\n",
    "monthly_line_df = monthly_line_df.reindex(\n",
    "    ['January', 'February', 'March', 'April', 'May', 'June', \n",
    "        'July', 'August', 'September', 'October', 'November', 'December'], \n",
    "    axis=1\n",
    ")   \n",
    "monthly_line_df.reset_index(inplace=True)\n",
    "monthly_line_df"
   ]
  },
  {
   "cell_type": "code",
   "execution_count": 21,
   "id": "e5f7744a",
   "metadata": {},
   "outputs": [
    {
     "data": {
      "application/vnd.plotly.v1+json": {
       "config": {
        "plotlyServerURL": "https://plot.ly"
       },
       "data": [
        {
         "hovertemplate": "InteractionType=Complaint<br>Month=%{x}<br>Number of Interactions=%{y}<extra></extra>",
         "legendgroup": "Complaint",
         "line": {
          "color": "#636efa",
          "dash": "solid"
         },
         "marker": {
          "symbol": "circle"
         },
         "mode": "lines+markers",
         "name": "Complaint",
         "orientation": "v",
         "showlegend": true,
         "type": "scatter",
         "x": [
          "January",
          "February",
          "March",
          "April",
          "May",
          "June",
          "July",
          "August",
          "September",
          "October",
          "November",
          "December"
         ],
         "xaxis": "x",
         "y": {
          "bdata": "GRYfGSkgIRocIBsN",
          "dtype": "i1"
         },
         "yaxis": "y"
        },
        {
         "hovertemplate": "InteractionType=Feedback<br>Month=%{x}<br>Number of Interactions=%{y}<extra></extra>",
         "legendgroup": "Feedback",
         "line": {
          "color": "#EF553B",
          "dash": "solid"
         },
         "marker": {
          "symbol": "circle"
         },
         "mode": "lines+markers",
         "name": "Feedback",
         "orientation": "v",
         "showlegend": true,
         "type": "scatter",
         "x": [
          "January",
          "February",
          "March",
          "April",
          "May",
          "June",
          "July",
          "August",
          "September",
          "October",
          "November",
          "December"
         ],
         "xaxis": "x",
         "y": {
          "bdata": "GxokIBQfKhwhHxkd",
          "dtype": "i1"
         },
         "yaxis": "y"
        },
        {
         "hovertemplate": "InteractionType=Inquiry<br>Month=%{x}<br>Number of Interactions=%{y}<extra></extra>",
         "legendgroup": "Inquiry",
         "line": {
          "color": "#00cc96",
          "dash": "solid"
         },
         "marker": {
          "symbol": "circle"
         },
         "mode": "lines+markers",
         "name": "Inquiry",
         "orientation": "v",
         "showlegend": true,
         "type": "scatter",
         "x": [
          "January",
          "February",
          "March",
          "April",
          "May",
          "June",
          "July",
          "August",
          "September",
          "October",
          "November",
          "December"
         ],
         "xaxis": "x",
         "y": {
          "bdata": "GRQaFxoYFhwVGiAi",
          "dtype": "i1"
         },
         "yaxis": "y"
        }
       ],
       "layout": {
        "legend": {
         "title": {
          "text": "InteractionType"
         },
         "tracegroupgap": 0
        },
        "template": {
         "data": {
          "bar": [
           {
            "error_x": {
             "color": "#2a3f5f"
            },
            "error_y": {
             "color": "#2a3f5f"
            },
            "marker": {
             "line": {
              "color": "#E5ECF6",
              "width": 0.5
             },
             "pattern": {
              "fillmode": "overlay",
              "size": 10,
              "solidity": 0.2
             }
            },
            "type": "bar"
           }
          ],
          "barpolar": [
           {
            "marker": {
             "line": {
              "color": "#E5ECF6",
              "width": 0.5
             },
             "pattern": {
              "fillmode": "overlay",
              "size": 10,
              "solidity": 0.2
             }
            },
            "type": "barpolar"
           }
          ],
          "carpet": [
           {
            "aaxis": {
             "endlinecolor": "#2a3f5f",
             "gridcolor": "white",
             "linecolor": "white",
             "minorgridcolor": "white",
             "startlinecolor": "#2a3f5f"
            },
            "baxis": {
             "endlinecolor": "#2a3f5f",
             "gridcolor": "white",
             "linecolor": "white",
             "minorgridcolor": "white",
             "startlinecolor": "#2a3f5f"
            },
            "type": "carpet"
           }
          ],
          "choropleth": [
           {
            "colorbar": {
             "outlinewidth": 0,
             "ticks": ""
            },
            "type": "choropleth"
           }
          ],
          "contour": [
           {
            "colorbar": {
             "outlinewidth": 0,
             "ticks": ""
            },
            "colorscale": [
             [
              0,
              "#0d0887"
             ],
             [
              0.1111111111111111,
              "#46039f"
             ],
             [
              0.2222222222222222,
              "#7201a8"
             ],
             [
              0.3333333333333333,
              "#9c179e"
             ],
             [
              0.4444444444444444,
              "#bd3786"
             ],
             [
              0.5555555555555556,
              "#d8576b"
             ],
             [
              0.6666666666666666,
              "#ed7953"
             ],
             [
              0.7777777777777778,
              "#fb9f3a"
             ],
             [
              0.8888888888888888,
              "#fdca26"
             ],
             [
              1,
              "#f0f921"
             ]
            ],
            "type": "contour"
           }
          ],
          "contourcarpet": [
           {
            "colorbar": {
             "outlinewidth": 0,
             "ticks": ""
            },
            "type": "contourcarpet"
           }
          ],
          "heatmap": [
           {
            "colorbar": {
             "outlinewidth": 0,
             "ticks": ""
            },
            "colorscale": [
             [
              0,
              "#0d0887"
             ],
             [
              0.1111111111111111,
              "#46039f"
             ],
             [
              0.2222222222222222,
              "#7201a8"
             ],
             [
              0.3333333333333333,
              "#9c179e"
             ],
             [
              0.4444444444444444,
              "#bd3786"
             ],
             [
              0.5555555555555556,
              "#d8576b"
             ],
             [
              0.6666666666666666,
              "#ed7953"
             ],
             [
              0.7777777777777778,
              "#fb9f3a"
             ],
             [
              0.8888888888888888,
              "#fdca26"
             ],
             [
              1,
              "#f0f921"
             ]
            ],
            "type": "heatmap"
           }
          ],
          "histogram": [
           {
            "marker": {
             "pattern": {
              "fillmode": "overlay",
              "size": 10,
              "solidity": 0.2
             }
            },
            "type": "histogram"
           }
          ],
          "histogram2d": [
           {
            "colorbar": {
             "outlinewidth": 0,
             "ticks": ""
            },
            "colorscale": [
             [
              0,
              "#0d0887"
             ],
             [
              0.1111111111111111,
              "#46039f"
             ],
             [
              0.2222222222222222,
              "#7201a8"
             ],
             [
              0.3333333333333333,
              "#9c179e"
             ],
             [
              0.4444444444444444,
              "#bd3786"
             ],
             [
              0.5555555555555556,
              "#d8576b"
             ],
             [
              0.6666666666666666,
              "#ed7953"
             ],
             [
              0.7777777777777778,
              "#fb9f3a"
             ],
             [
              0.8888888888888888,
              "#fdca26"
             ],
             [
              1,
              "#f0f921"
             ]
            ],
            "type": "histogram2d"
           }
          ],
          "histogram2dcontour": [
           {
            "colorbar": {
             "outlinewidth": 0,
             "ticks": ""
            },
            "colorscale": [
             [
              0,
              "#0d0887"
             ],
             [
              0.1111111111111111,
              "#46039f"
             ],
             [
              0.2222222222222222,
              "#7201a8"
             ],
             [
              0.3333333333333333,
              "#9c179e"
             ],
             [
              0.4444444444444444,
              "#bd3786"
             ],
             [
              0.5555555555555556,
              "#d8576b"
             ],
             [
              0.6666666666666666,
              "#ed7953"
             ],
             [
              0.7777777777777778,
              "#fb9f3a"
             ],
             [
              0.8888888888888888,
              "#fdca26"
             ],
             [
              1,
              "#f0f921"
             ]
            ],
            "type": "histogram2dcontour"
           }
          ],
          "mesh3d": [
           {
            "colorbar": {
             "outlinewidth": 0,
             "ticks": ""
            },
            "type": "mesh3d"
           }
          ],
          "parcoords": [
           {
            "line": {
             "colorbar": {
              "outlinewidth": 0,
              "ticks": ""
             }
            },
            "type": "parcoords"
           }
          ],
          "pie": [
           {
            "automargin": true,
            "type": "pie"
           }
          ],
          "scatter": [
           {
            "fillpattern": {
             "fillmode": "overlay",
             "size": 10,
             "solidity": 0.2
            },
            "type": "scatter"
           }
          ],
          "scatter3d": [
           {
            "line": {
             "colorbar": {
              "outlinewidth": 0,
              "ticks": ""
             }
            },
            "marker": {
             "colorbar": {
              "outlinewidth": 0,
              "ticks": ""
             }
            },
            "type": "scatter3d"
           }
          ],
          "scattercarpet": [
           {
            "marker": {
             "colorbar": {
              "outlinewidth": 0,
              "ticks": ""
             }
            },
            "type": "scattercarpet"
           }
          ],
          "scattergeo": [
           {
            "marker": {
             "colorbar": {
              "outlinewidth": 0,
              "ticks": ""
             }
            },
            "type": "scattergeo"
           }
          ],
          "scattergl": [
           {
            "marker": {
             "colorbar": {
              "outlinewidth": 0,
              "ticks": ""
             }
            },
            "type": "scattergl"
           }
          ],
          "scattermap": [
           {
            "marker": {
             "colorbar": {
              "outlinewidth": 0,
              "ticks": ""
             }
            },
            "type": "scattermap"
           }
          ],
          "scattermapbox": [
           {
            "marker": {
             "colorbar": {
              "outlinewidth": 0,
              "ticks": ""
             }
            },
            "type": "scattermapbox"
           }
          ],
          "scatterpolar": [
           {
            "marker": {
             "colorbar": {
              "outlinewidth": 0,
              "ticks": ""
             }
            },
            "type": "scatterpolar"
           }
          ],
          "scatterpolargl": [
           {
            "marker": {
             "colorbar": {
              "outlinewidth": 0,
              "ticks": ""
             }
            },
            "type": "scatterpolargl"
           }
          ],
          "scatterternary": [
           {
            "marker": {
             "colorbar": {
              "outlinewidth": 0,
              "ticks": ""
             }
            },
            "type": "scatterternary"
           }
          ],
          "surface": [
           {
            "colorbar": {
             "outlinewidth": 0,
             "ticks": ""
            },
            "colorscale": [
             [
              0,
              "#0d0887"
             ],
             [
              0.1111111111111111,
              "#46039f"
             ],
             [
              0.2222222222222222,
              "#7201a8"
             ],
             [
              0.3333333333333333,
              "#9c179e"
             ],
             [
              0.4444444444444444,
              "#bd3786"
             ],
             [
              0.5555555555555556,
              "#d8576b"
             ],
             [
              0.6666666666666666,
              "#ed7953"
             ],
             [
              0.7777777777777778,
              "#fb9f3a"
             ],
             [
              0.8888888888888888,
              "#fdca26"
             ],
             [
              1,
              "#f0f921"
             ]
            ],
            "type": "surface"
           }
          ],
          "table": [
           {
            "cells": {
             "fill": {
              "color": "#EBF0F8"
             },
             "line": {
              "color": "white"
             }
            },
            "header": {
             "fill": {
              "color": "#C8D4E3"
             },
             "line": {
              "color": "white"
             }
            },
            "type": "table"
           }
          ]
         },
         "layout": {
          "annotationdefaults": {
           "arrowcolor": "#2a3f5f",
           "arrowhead": 0,
           "arrowwidth": 1
          },
          "autotypenumbers": "strict",
          "coloraxis": {
           "colorbar": {
            "outlinewidth": 0,
            "ticks": ""
           }
          },
          "colorscale": {
           "diverging": [
            [
             0,
             "#8e0152"
            ],
            [
             0.1,
             "#c51b7d"
            ],
            [
             0.2,
             "#de77ae"
            ],
            [
             0.3,
             "#f1b6da"
            ],
            [
             0.4,
             "#fde0ef"
            ],
            [
             0.5,
             "#f7f7f7"
            ],
            [
             0.6,
             "#e6f5d0"
            ],
            [
             0.7,
             "#b8e186"
            ],
            [
             0.8,
             "#7fbc41"
            ],
            [
             0.9,
             "#4d9221"
            ],
            [
             1,
             "#276419"
            ]
           ],
           "sequential": [
            [
             0,
             "#0d0887"
            ],
            [
             0.1111111111111111,
             "#46039f"
            ],
            [
             0.2222222222222222,
             "#7201a8"
            ],
            [
             0.3333333333333333,
             "#9c179e"
            ],
            [
             0.4444444444444444,
             "#bd3786"
            ],
            [
             0.5555555555555556,
             "#d8576b"
            ],
            [
             0.6666666666666666,
             "#ed7953"
            ],
            [
             0.7777777777777778,
             "#fb9f3a"
            ],
            [
             0.8888888888888888,
             "#fdca26"
            ],
            [
             1,
             "#f0f921"
            ]
           ],
           "sequentialminus": [
            [
             0,
             "#0d0887"
            ],
            [
             0.1111111111111111,
             "#46039f"
            ],
            [
             0.2222222222222222,
             "#7201a8"
            ],
            [
             0.3333333333333333,
             "#9c179e"
            ],
            [
             0.4444444444444444,
             "#bd3786"
            ],
            [
             0.5555555555555556,
             "#d8576b"
            ],
            [
             0.6666666666666666,
             "#ed7953"
            ],
            [
             0.7777777777777778,
             "#fb9f3a"
            ],
            [
             0.8888888888888888,
             "#fdca26"
            ],
            [
             1,
             "#f0f921"
            ]
           ]
          },
          "colorway": [
           "#636efa",
           "#EF553B",
           "#00cc96",
           "#ab63fa",
           "#FFA15A",
           "#19d3f3",
           "#FF6692",
           "#B6E880",
           "#FF97FF",
           "#FECB52"
          ],
          "font": {
           "color": "#2a3f5f"
          },
          "geo": {
           "bgcolor": "white",
           "lakecolor": "white",
           "landcolor": "#E5ECF6",
           "showlakes": true,
           "showland": true,
           "subunitcolor": "white"
          },
          "hoverlabel": {
           "align": "left"
          },
          "hovermode": "closest",
          "mapbox": {
           "style": "light"
          },
          "paper_bgcolor": "white",
          "plot_bgcolor": "#E5ECF6",
          "polar": {
           "angularaxis": {
            "gridcolor": "white",
            "linecolor": "white",
            "ticks": ""
           },
           "bgcolor": "#E5ECF6",
           "radialaxis": {
            "gridcolor": "white",
            "linecolor": "white",
            "ticks": ""
           }
          },
          "scene": {
           "xaxis": {
            "backgroundcolor": "#E5ECF6",
            "gridcolor": "white",
            "gridwidth": 2,
            "linecolor": "white",
            "showbackground": true,
            "ticks": "",
            "zerolinecolor": "white"
           },
           "yaxis": {
            "backgroundcolor": "#E5ECF6",
            "gridcolor": "white",
            "gridwidth": 2,
            "linecolor": "white",
            "showbackground": true,
            "ticks": "",
            "zerolinecolor": "white"
           },
           "zaxis": {
            "backgroundcolor": "#E5ECF6",
            "gridcolor": "white",
            "gridwidth": 2,
            "linecolor": "white",
            "showbackground": true,
            "ticks": "",
            "zerolinecolor": "white"
           }
          },
          "shapedefaults": {
           "line": {
            "color": "#2a3f5f"
           }
          },
          "ternary": {
           "aaxis": {
            "gridcolor": "white",
            "linecolor": "white",
            "ticks": ""
           },
           "baxis": {
            "gridcolor": "white",
            "linecolor": "white",
            "ticks": ""
           },
           "bgcolor": "#E5ECF6",
           "caxis": {
            "gridcolor": "white",
            "linecolor": "white",
            "ticks": ""
           }
          },
          "title": {
           "x": 0.05
          },
          "xaxis": {
           "automargin": true,
           "gridcolor": "white",
           "linecolor": "white",
           "ticks": "",
           "title": {
            "standoff": 15
           },
           "zerolinecolor": "white",
           "zerolinewidth": 2
          },
          "yaxis": {
           "automargin": true,
           "gridcolor": "white",
           "linecolor": "white",
           "ticks": "",
           "title": {
            "standoff": 15
           },
           "zerolinecolor": "white",
           "zerolinewidth": 2
          }
         }
        },
        "title": {
         "text": "Monthly Customer Service Interactions by Type"
        },
        "xaxis": {
         "anchor": "y",
         "domain": [
          0,
          1
         ],
         "dtick": 1,
         "tickmode": "linear",
         "title": {
          "text": "Month"
         }
        },
        "yaxis": {
         "anchor": "x",
         "domain": [
          0,
          1
         ],
         "title": {
          "text": "Number of Interactions"
         }
        }
       }
      }
     },
     "metadata": {},
     "output_type": "display_data"
    }
   ],
   "source": [
    "\n",
    "monthly_line_long = monthly_line_df.melt(id_vars='InteractionType', var_name='Month', value_name='Count')\n",
    "\n",
    "monthly_line_long['Month'] = monthly_line_long['Month']\n",
    "\n",
    "# Sort for proper line plot rendering\n",
    "monthly_line_long = monthly_line_long.sort_index()\n",
    "\n",
    "# Plot the line chart\n",
    "fig = px.line(\n",
    "    monthly_line_long,\n",
    "    x='Month',\n",
    "    y='Count',\n",
    "    color='InteractionType',\n",
    "    markers=True,\n",
    "    title='Monthly Customer Service Interactions by Type',\n",
    "    labels={'Month': 'Month', 'Count': 'Number of Interactions'}\n",
    ")\n",
    "\n",
    "fig.update_layout(xaxis=dict(tickmode='linear', dtick=1))\n",
    "fig.show()"
   ]
  },
  {
   "cell_type": "code",
   "execution_count": 22,
   "id": "70d5c4aa",
   "metadata": {},
   "outputs": [
    {
     "data": {
      "text/plain": [
       "ResolutionStatus\n",
       "Resolved      523\n",
       "Unresolved    479\n",
       "Name: count, dtype: int64"
      ]
     },
     "execution_count": 22,
     "metadata": {},
     "output_type": "execute_result"
    }
   ],
   "source": [
    "customer_service['ResolutionStatus'].value_counts().sort_values(ascending=False)"
   ]
  },
  {
   "cell_type": "code",
   "execution_count": 23,
   "id": "50997ebd",
   "metadata": {},
   "outputs": [
    {
     "data": {
      "text/html": [
       "<div>\n",
       "<style scoped>\n",
       "    .dataframe tbody tr th:only-of-type {\n",
       "        vertical-align: middle;\n",
       "    }\n",
       "\n",
       "    .dataframe tbody tr th {\n",
       "        vertical-align: top;\n",
       "    }\n",
       "\n",
       "    .dataframe thead th {\n",
       "        text-align: right;\n",
       "    }\n",
       "</style>\n",
       "<table border=\"1\" class=\"dataframe\">\n",
       "  <thead>\n",
       "    <tr style=\"text-align: right;\">\n",
       "      <th></th>\n",
       "      <th>CustomerID</th>\n",
       "      <th>LastLoginDate</th>\n",
       "      <th>LoginFrequency</th>\n",
       "      <th>ServiceUsage</th>\n",
       "    </tr>\n",
       "  </thead>\n",
       "  <tbody>\n",
       "    <tr>\n",
       "      <th>0</th>\n",
       "      <td>1</td>\n",
       "      <td>2023-10-21</td>\n",
       "      <td>34</td>\n",
       "      <td>Mobile App</td>\n",
       "    </tr>\n",
       "    <tr>\n",
       "      <th>1</th>\n",
       "      <td>2</td>\n",
       "      <td>2023-12-05</td>\n",
       "      <td>5</td>\n",
       "      <td>Website</td>\n",
       "    </tr>\n",
       "    <tr>\n",
       "      <th>2</th>\n",
       "      <td>3</td>\n",
       "      <td>2023-11-15</td>\n",
       "      <td>3</td>\n",
       "      <td>Website</td>\n",
       "    </tr>\n",
       "    <tr>\n",
       "      <th>3</th>\n",
       "      <td>4</td>\n",
       "      <td>2023-08-25</td>\n",
       "      <td>2</td>\n",
       "      <td>Website</td>\n",
       "    </tr>\n",
       "    <tr>\n",
       "      <th>4</th>\n",
       "      <td>5</td>\n",
       "      <td>2023-10-27</td>\n",
       "      <td>41</td>\n",
       "      <td>Website</td>\n",
       "    </tr>\n",
       "    <tr>\n",
       "      <th>...</th>\n",
       "      <td>...</td>\n",
       "      <td>...</td>\n",
       "      <td>...</td>\n",
       "      <td>...</td>\n",
       "    </tr>\n",
       "    <tr>\n",
       "      <th>995</th>\n",
       "      <td>996</td>\n",
       "      <td>2023-01-29</td>\n",
       "      <td>38</td>\n",
       "      <td>Mobile App</td>\n",
       "    </tr>\n",
       "    <tr>\n",
       "      <th>996</th>\n",
       "      <td>997</td>\n",
       "      <td>2023-04-01</td>\n",
       "      <td>5</td>\n",
       "      <td>Mobile App</td>\n",
       "    </tr>\n",
       "    <tr>\n",
       "      <th>997</th>\n",
       "      <td>998</td>\n",
       "      <td>2023-07-10</td>\n",
       "      <td>47</td>\n",
       "      <td>Website</td>\n",
       "    </tr>\n",
       "    <tr>\n",
       "      <th>998</th>\n",
       "      <td>999</td>\n",
       "      <td>2023-01-08</td>\n",
       "      <td>23</td>\n",
       "      <td>Website</td>\n",
       "    </tr>\n",
       "    <tr>\n",
       "      <th>999</th>\n",
       "      <td>1000</td>\n",
       "      <td>2023-08-13</td>\n",
       "      <td>22</td>\n",
       "      <td>Mobile App</td>\n",
       "    </tr>\n",
       "  </tbody>\n",
       "</table>\n",
       "<p>1000 rows × 4 columns</p>\n",
       "</div>"
      ],
      "text/plain": [
       "     CustomerID LastLoginDate  LoginFrequency ServiceUsage\n",
       "0             1    2023-10-21              34   Mobile App\n",
       "1             2    2023-12-05               5      Website\n",
       "2             3    2023-11-15               3      Website\n",
       "3             4    2023-08-25               2      Website\n",
       "4             5    2023-10-27              41      Website\n",
       "..          ...           ...             ...          ...\n",
       "995         996    2023-01-29              38   Mobile App\n",
       "996         997    2023-04-01               5   Mobile App\n",
       "997         998    2023-07-10              47      Website\n",
       "998         999    2023-01-08              23      Website\n",
       "999        1000    2023-08-13              22   Mobile App\n",
       "\n",
       "[1000 rows x 4 columns]"
      ]
     },
     "execution_count": 23,
     "metadata": {},
     "output_type": "execute_result"
    }
   ],
   "source": [
    "online_activity = pd.read_excel(customer_data, 'Online_Activity')\n",
    "online_activity"
   ]
  },
  {
   "cell_type": "code",
   "execution_count": 24,
   "id": "e4caa75b",
   "metadata": {},
   "outputs": [
    {
     "data": {
      "text/html": [
       "<div>\n",
       "<style scoped>\n",
       "    .dataframe tbody tr th:only-of-type {\n",
       "        vertical-align: middle;\n",
       "    }\n",
       "\n",
       "    .dataframe tbody tr th {\n",
       "        vertical-align: top;\n",
       "    }\n",
       "\n",
       "    .dataframe thead th {\n",
       "        text-align: right;\n",
       "    }\n",
       "</style>\n",
       "<table border=\"1\" class=\"dataframe\">\n",
       "  <thead>\n",
       "    <tr style=\"text-align: right;\">\n",
       "      <th></th>\n",
       "      <th>CustomerID</th>\n",
       "      <th>LastLoginDate</th>\n",
       "      <th>LoginFrequency</th>\n",
       "    </tr>\n",
       "  </thead>\n",
       "  <tbody>\n",
       "    <tr>\n",
       "      <th>count</th>\n",
       "      <td>1000.000000</td>\n",
       "      <td>1000</td>\n",
       "      <td>1000.000000</td>\n",
       "    </tr>\n",
       "    <tr>\n",
       "      <th>mean</th>\n",
       "      <td>500.500000</td>\n",
       "      <td>2023-07-05 21:28:48</td>\n",
       "      <td>25.912000</td>\n",
       "    </tr>\n",
       "    <tr>\n",
       "      <th>min</th>\n",
       "      <td>1.000000</td>\n",
       "      <td>2023-01-01 00:00:00</td>\n",
       "      <td>1.000000</td>\n",
       "    </tr>\n",
       "    <tr>\n",
       "      <th>25%</th>\n",
       "      <td>250.750000</td>\n",
       "      <td>2023-04-08 00:00:00</td>\n",
       "      <td>13.750000</td>\n",
       "    </tr>\n",
       "    <tr>\n",
       "      <th>50%</th>\n",
       "      <td>500.500000</td>\n",
       "      <td>2023-07-10 12:00:00</td>\n",
       "      <td>27.000000</td>\n",
       "    </tr>\n",
       "    <tr>\n",
       "      <th>75%</th>\n",
       "      <td>750.250000</td>\n",
       "      <td>2023-10-01 06:00:00</td>\n",
       "      <td>38.000000</td>\n",
       "    </tr>\n",
       "    <tr>\n",
       "      <th>max</th>\n",
       "      <td>1000.000000</td>\n",
       "      <td>2023-12-31 00:00:00</td>\n",
       "      <td>49.000000</td>\n",
       "    </tr>\n",
       "    <tr>\n",
       "      <th>std</th>\n",
       "      <td>288.819436</td>\n",
       "      <td>NaN</td>\n",
       "      <td>14.055953</td>\n",
       "    </tr>\n",
       "  </tbody>\n",
       "</table>\n",
       "</div>"
      ],
      "text/plain": [
       "        CustomerID        LastLoginDate  LoginFrequency\n",
       "count  1000.000000                 1000     1000.000000\n",
       "mean    500.500000  2023-07-05 21:28:48       25.912000\n",
       "min       1.000000  2023-01-01 00:00:00        1.000000\n",
       "25%     250.750000  2023-04-08 00:00:00       13.750000\n",
       "50%     500.500000  2023-07-10 12:00:00       27.000000\n",
       "75%     750.250000  2023-10-01 06:00:00       38.000000\n",
       "max    1000.000000  2023-12-31 00:00:00       49.000000\n",
       "std     288.819436                  NaN       14.055953"
      ]
     },
     "execution_count": 24,
     "metadata": {},
     "output_type": "execute_result"
    }
   ],
   "source": [
    "online_activity.describe()"
   ]
  },
  {
   "cell_type": "code",
   "execution_count": 25,
   "id": "08be6f01",
   "metadata": {},
   "outputs": [
    {
     "data": {
      "application/vnd.plotly.v1+json": {
       "config": {
        "plotlyServerURL": "https://plot.ly"
       },
       "data": [
        {
         "hovertemplate": "ServiceUsage=%{x}<br>TotalLoginFrequency=%{text}<extra></extra>",
         "legendgroup": "",
         "marker": {
          "color": "#636efa",
          "pattern": {
           "shape": ""
          }
         },
         "name": "",
         "orientation": "v",
         "showlegend": false,
         "text": {
          "bdata": "AAAAAIBPwkAAAAAAgLrAQAAAAAAAJL9A",
          "dtype": "f8"
         },
         "textposition": "auto",
         "type": "bar",
         "x": [
          "Online Banking",
          "Mobile App",
          "Website"
         ],
         "xaxis": "x",
         "y": {
          "bdata": "nyR1ISQf",
          "dtype": "i2"
         },
         "yaxis": "y"
        }
       ],
       "layout": {
        "barmode": "relative",
        "height": 500,
        "legend": {
         "tracegroupgap": 0
        },
        "template": {
         "data": {
          "bar": [
           {
            "error_x": {
             "color": "#2a3f5f"
            },
            "error_y": {
             "color": "#2a3f5f"
            },
            "marker": {
             "line": {
              "color": "#E5ECF6",
              "width": 0.5
             },
             "pattern": {
              "fillmode": "overlay",
              "size": 10,
              "solidity": 0.2
             }
            },
            "type": "bar"
           }
          ],
          "barpolar": [
           {
            "marker": {
             "line": {
              "color": "#E5ECF6",
              "width": 0.5
             },
             "pattern": {
              "fillmode": "overlay",
              "size": 10,
              "solidity": 0.2
             }
            },
            "type": "barpolar"
           }
          ],
          "carpet": [
           {
            "aaxis": {
             "endlinecolor": "#2a3f5f",
             "gridcolor": "white",
             "linecolor": "white",
             "minorgridcolor": "white",
             "startlinecolor": "#2a3f5f"
            },
            "baxis": {
             "endlinecolor": "#2a3f5f",
             "gridcolor": "white",
             "linecolor": "white",
             "minorgridcolor": "white",
             "startlinecolor": "#2a3f5f"
            },
            "type": "carpet"
           }
          ],
          "choropleth": [
           {
            "colorbar": {
             "outlinewidth": 0,
             "ticks": ""
            },
            "type": "choropleth"
           }
          ],
          "contour": [
           {
            "colorbar": {
             "outlinewidth": 0,
             "ticks": ""
            },
            "colorscale": [
             [
              0,
              "#0d0887"
             ],
             [
              0.1111111111111111,
              "#46039f"
             ],
             [
              0.2222222222222222,
              "#7201a8"
             ],
             [
              0.3333333333333333,
              "#9c179e"
             ],
             [
              0.4444444444444444,
              "#bd3786"
             ],
             [
              0.5555555555555556,
              "#d8576b"
             ],
             [
              0.6666666666666666,
              "#ed7953"
             ],
             [
              0.7777777777777778,
              "#fb9f3a"
             ],
             [
              0.8888888888888888,
              "#fdca26"
             ],
             [
              1,
              "#f0f921"
             ]
            ],
            "type": "contour"
           }
          ],
          "contourcarpet": [
           {
            "colorbar": {
             "outlinewidth": 0,
             "ticks": ""
            },
            "type": "contourcarpet"
           }
          ],
          "heatmap": [
           {
            "colorbar": {
             "outlinewidth": 0,
             "ticks": ""
            },
            "colorscale": [
             [
              0,
              "#0d0887"
             ],
             [
              0.1111111111111111,
              "#46039f"
             ],
             [
              0.2222222222222222,
              "#7201a8"
             ],
             [
              0.3333333333333333,
              "#9c179e"
             ],
             [
              0.4444444444444444,
              "#bd3786"
             ],
             [
              0.5555555555555556,
              "#d8576b"
             ],
             [
              0.6666666666666666,
              "#ed7953"
             ],
             [
              0.7777777777777778,
              "#fb9f3a"
             ],
             [
              0.8888888888888888,
              "#fdca26"
             ],
             [
              1,
              "#f0f921"
             ]
            ],
            "type": "heatmap"
           }
          ],
          "histogram": [
           {
            "marker": {
             "pattern": {
              "fillmode": "overlay",
              "size": 10,
              "solidity": 0.2
             }
            },
            "type": "histogram"
           }
          ],
          "histogram2d": [
           {
            "colorbar": {
             "outlinewidth": 0,
             "ticks": ""
            },
            "colorscale": [
             [
              0,
              "#0d0887"
             ],
             [
              0.1111111111111111,
              "#46039f"
             ],
             [
              0.2222222222222222,
              "#7201a8"
             ],
             [
              0.3333333333333333,
              "#9c179e"
             ],
             [
              0.4444444444444444,
              "#bd3786"
             ],
             [
              0.5555555555555556,
              "#d8576b"
             ],
             [
              0.6666666666666666,
              "#ed7953"
             ],
             [
              0.7777777777777778,
              "#fb9f3a"
             ],
             [
              0.8888888888888888,
              "#fdca26"
             ],
             [
              1,
              "#f0f921"
             ]
            ],
            "type": "histogram2d"
           }
          ],
          "histogram2dcontour": [
           {
            "colorbar": {
             "outlinewidth": 0,
             "ticks": ""
            },
            "colorscale": [
             [
              0,
              "#0d0887"
             ],
             [
              0.1111111111111111,
              "#46039f"
             ],
             [
              0.2222222222222222,
              "#7201a8"
             ],
             [
              0.3333333333333333,
              "#9c179e"
             ],
             [
              0.4444444444444444,
              "#bd3786"
             ],
             [
              0.5555555555555556,
              "#d8576b"
             ],
             [
              0.6666666666666666,
              "#ed7953"
             ],
             [
              0.7777777777777778,
              "#fb9f3a"
             ],
             [
              0.8888888888888888,
              "#fdca26"
             ],
             [
              1,
              "#f0f921"
             ]
            ],
            "type": "histogram2dcontour"
           }
          ],
          "mesh3d": [
           {
            "colorbar": {
             "outlinewidth": 0,
             "ticks": ""
            },
            "type": "mesh3d"
           }
          ],
          "parcoords": [
           {
            "line": {
             "colorbar": {
              "outlinewidth": 0,
              "ticks": ""
             }
            },
            "type": "parcoords"
           }
          ],
          "pie": [
           {
            "automargin": true,
            "type": "pie"
           }
          ],
          "scatter": [
           {
            "fillpattern": {
             "fillmode": "overlay",
             "size": 10,
             "solidity": 0.2
            },
            "type": "scatter"
           }
          ],
          "scatter3d": [
           {
            "line": {
             "colorbar": {
              "outlinewidth": 0,
              "ticks": ""
             }
            },
            "marker": {
             "colorbar": {
              "outlinewidth": 0,
              "ticks": ""
             }
            },
            "type": "scatter3d"
           }
          ],
          "scattercarpet": [
           {
            "marker": {
             "colorbar": {
              "outlinewidth": 0,
              "ticks": ""
             }
            },
            "type": "scattercarpet"
           }
          ],
          "scattergeo": [
           {
            "marker": {
             "colorbar": {
              "outlinewidth": 0,
              "ticks": ""
             }
            },
            "type": "scattergeo"
           }
          ],
          "scattergl": [
           {
            "marker": {
             "colorbar": {
              "outlinewidth": 0,
              "ticks": ""
             }
            },
            "type": "scattergl"
           }
          ],
          "scattermap": [
           {
            "marker": {
             "colorbar": {
              "outlinewidth": 0,
              "ticks": ""
             }
            },
            "type": "scattermap"
           }
          ],
          "scattermapbox": [
           {
            "marker": {
             "colorbar": {
              "outlinewidth": 0,
              "ticks": ""
             }
            },
            "type": "scattermapbox"
           }
          ],
          "scatterpolar": [
           {
            "marker": {
             "colorbar": {
              "outlinewidth": 0,
              "ticks": ""
             }
            },
            "type": "scatterpolar"
           }
          ],
          "scatterpolargl": [
           {
            "marker": {
             "colorbar": {
              "outlinewidth": 0,
              "ticks": ""
             }
            },
            "type": "scatterpolargl"
           }
          ],
          "scatterternary": [
           {
            "marker": {
             "colorbar": {
              "outlinewidth": 0,
              "ticks": ""
             }
            },
            "type": "scatterternary"
           }
          ],
          "surface": [
           {
            "colorbar": {
             "outlinewidth": 0,
             "ticks": ""
            },
            "colorscale": [
             [
              0,
              "#0d0887"
             ],
             [
              0.1111111111111111,
              "#46039f"
             ],
             [
              0.2222222222222222,
              "#7201a8"
             ],
             [
              0.3333333333333333,
              "#9c179e"
             ],
             [
              0.4444444444444444,
              "#bd3786"
             ],
             [
              0.5555555555555556,
              "#d8576b"
             ],
             [
              0.6666666666666666,
              "#ed7953"
             ],
             [
              0.7777777777777778,
              "#fb9f3a"
             ],
             [
              0.8888888888888888,
              "#fdca26"
             ],
             [
              1,
              "#f0f921"
             ]
            ],
            "type": "surface"
           }
          ],
          "table": [
           {
            "cells": {
             "fill": {
              "color": "#EBF0F8"
             },
             "line": {
              "color": "white"
             }
            },
            "header": {
             "fill": {
              "color": "#C8D4E3"
             },
             "line": {
              "color": "white"
             }
            },
            "type": "table"
           }
          ]
         },
         "layout": {
          "annotationdefaults": {
           "arrowcolor": "#2a3f5f",
           "arrowhead": 0,
           "arrowwidth": 1
          },
          "autotypenumbers": "strict",
          "coloraxis": {
           "colorbar": {
            "outlinewidth": 0,
            "ticks": ""
           }
          },
          "colorscale": {
           "diverging": [
            [
             0,
             "#8e0152"
            ],
            [
             0.1,
             "#c51b7d"
            ],
            [
             0.2,
             "#de77ae"
            ],
            [
             0.3,
             "#f1b6da"
            ],
            [
             0.4,
             "#fde0ef"
            ],
            [
             0.5,
             "#f7f7f7"
            ],
            [
             0.6,
             "#e6f5d0"
            ],
            [
             0.7,
             "#b8e186"
            ],
            [
             0.8,
             "#7fbc41"
            ],
            [
             0.9,
             "#4d9221"
            ],
            [
             1,
             "#276419"
            ]
           ],
           "sequential": [
            [
             0,
             "#0d0887"
            ],
            [
             0.1111111111111111,
             "#46039f"
            ],
            [
             0.2222222222222222,
             "#7201a8"
            ],
            [
             0.3333333333333333,
             "#9c179e"
            ],
            [
             0.4444444444444444,
             "#bd3786"
            ],
            [
             0.5555555555555556,
             "#d8576b"
            ],
            [
             0.6666666666666666,
             "#ed7953"
            ],
            [
             0.7777777777777778,
             "#fb9f3a"
            ],
            [
             0.8888888888888888,
             "#fdca26"
            ],
            [
             1,
             "#f0f921"
            ]
           ],
           "sequentialminus": [
            [
             0,
             "#0d0887"
            ],
            [
             0.1111111111111111,
             "#46039f"
            ],
            [
             0.2222222222222222,
             "#7201a8"
            ],
            [
             0.3333333333333333,
             "#9c179e"
            ],
            [
             0.4444444444444444,
             "#bd3786"
            ],
            [
             0.5555555555555556,
             "#d8576b"
            ],
            [
             0.6666666666666666,
             "#ed7953"
            ],
            [
             0.7777777777777778,
             "#fb9f3a"
            ],
            [
             0.8888888888888888,
             "#fdca26"
            ],
            [
             1,
             "#f0f921"
            ]
           ]
          },
          "colorway": [
           "#636efa",
           "#EF553B",
           "#00cc96",
           "#ab63fa",
           "#FFA15A",
           "#19d3f3",
           "#FF6692",
           "#B6E880",
           "#FF97FF",
           "#FECB52"
          ],
          "font": {
           "color": "#2a3f5f"
          },
          "geo": {
           "bgcolor": "white",
           "lakecolor": "white",
           "landcolor": "#E5ECF6",
           "showlakes": true,
           "showland": true,
           "subunitcolor": "white"
          },
          "hoverlabel": {
           "align": "left"
          },
          "hovermode": "closest",
          "mapbox": {
           "style": "light"
          },
          "paper_bgcolor": "white",
          "plot_bgcolor": "#E5ECF6",
          "polar": {
           "angularaxis": {
            "gridcolor": "white",
            "linecolor": "white",
            "ticks": ""
           },
           "bgcolor": "#E5ECF6",
           "radialaxis": {
            "gridcolor": "white",
            "linecolor": "white",
            "ticks": ""
           }
          },
          "scene": {
           "xaxis": {
            "backgroundcolor": "#E5ECF6",
            "gridcolor": "white",
            "gridwidth": 2,
            "linecolor": "white",
            "showbackground": true,
            "ticks": "",
            "zerolinecolor": "white"
           },
           "yaxis": {
            "backgroundcolor": "#E5ECF6",
            "gridcolor": "white",
            "gridwidth": 2,
            "linecolor": "white",
            "showbackground": true,
            "ticks": "",
            "zerolinecolor": "white"
           },
           "zaxis": {
            "backgroundcolor": "#E5ECF6",
            "gridcolor": "white",
            "gridwidth": 2,
            "linecolor": "white",
            "showbackground": true,
            "ticks": "",
            "zerolinecolor": "white"
           }
          },
          "shapedefaults": {
           "line": {
            "color": "#2a3f5f"
           }
          },
          "ternary": {
           "aaxis": {
            "gridcolor": "white",
            "linecolor": "white",
            "ticks": ""
           },
           "baxis": {
            "gridcolor": "white",
            "linecolor": "white",
            "ticks": ""
           },
           "bgcolor": "#E5ECF6",
           "caxis": {
            "gridcolor": "white",
            "linecolor": "white",
            "ticks": ""
           }
          },
          "title": {
           "x": 0.05
          },
          "xaxis": {
           "automargin": true,
           "gridcolor": "white",
           "linecolor": "white",
           "ticks": "",
           "title": {
            "standoff": 15
           },
           "zerolinecolor": "white",
           "zerolinewidth": 2
          },
          "yaxis": {
           "automargin": true,
           "gridcolor": "white",
           "linecolor": "white",
           "ticks": "",
           "title": {
            "standoff": 15
           },
           "zerolinecolor": "white",
           "zerolinewidth": 2
          }
         }
        },
        "title": {
         "text": "Total Login Frequency by Service Usage"
        },
        "width": 500,
        "xaxis": {
         "anchor": "y",
         "domain": [
          0,
          1
         ],
         "tickangle": 45,
         "title": {
          "text": "Service Type"
         }
        },
        "yaxis": {
         "anchor": "x",
         "domain": [
          0,
          1
         ],
         "title": {
          "text": "Number of Users"
         }
        }
       }
      }
     },
     "metadata": {},
     "output_type": "display_data"
    }
   ],
   "source": [
    "login_df = online_activity['LoginFrequency'].groupby(online_activity['ServiceUsage']).sum().sort_values(ascending=False).reset_index()\n",
    "login_df.rename(columns={'LoginFrequency': 'TotalLoginFrequency'}, inplace=True)\n",
    "login_df\n",
    "\n",
    "fig = px.bar(\n",
    "    login_df,\n",
    "    x='ServiceUsage',\n",
    "    y='TotalLoginFrequency',\n",
    "    title='Total Login Frequency by Service Usage',\n",
    "    text='TotalLoginFrequency',\n",
    ")\n",
    "\n",
    "fig.update_layout(\n",
    "    xaxis_title='Service Type',\n",
    "    yaxis_title='Number of Users',\n",
    "    xaxis_tickangle=45,\n",
    "    width=500,\n",
    "    height=500\n",
    ")\n",
    "\n",
    "fig.show()"
   ]
  },
  {
   "cell_type": "code",
   "execution_count": 26,
   "id": "5273a9f8",
   "metadata": {},
   "outputs": [],
   "source": [
    "service_usage = online_activity['ServiceUsage'].value_counts().sort_values(ascending=False).reset_index()"
   ]
  },
  {
   "cell_type": "code",
   "execution_count": 27,
   "id": "16e5fa54",
   "metadata": {},
   "outputs": [
    {
     "data": {
      "application/vnd.plotly.v1+json": {
       "config": {
        "plotlyServerURL": "https://plot.ly"
       },
       "data": [
        {
         "hovertemplate": "Number of Users=%{x}<br>count=%{text}<extra></extra>",
         "legendgroup": "",
         "marker": {
          "color": "#636efa",
          "pattern": {
           "shape": ""
          }
         },
         "name": "",
         "orientation": "v",
         "showlegend": false,
         "text": {
          "bdata": "AAAAAADQdUAAAAAAAGB1QAAAAAAAUHNA",
          "dtype": "f8"
         },
         "textposition": "auto",
         "type": "bar",
         "x": [
          "Online Banking",
          "Mobile App",
          "Website"
         ],
         "xaxis": "x",
         "y": {
          "bdata": "XQFWATUB",
          "dtype": "i2"
         },
         "yaxis": "y"
        }
       ],
       "layout": {
        "barmode": "relative",
        "height": 600,
        "legend": {
         "tracegroupgap": 0
        },
        "template": {
         "data": {
          "bar": [
           {
            "error_x": {
             "color": "#2a3f5f"
            },
            "error_y": {
             "color": "#2a3f5f"
            },
            "marker": {
             "line": {
              "color": "#E5ECF6",
              "width": 0.5
             },
             "pattern": {
              "fillmode": "overlay",
              "size": 10,
              "solidity": 0.2
             }
            },
            "type": "bar"
           }
          ],
          "barpolar": [
           {
            "marker": {
             "line": {
              "color": "#E5ECF6",
              "width": 0.5
             },
             "pattern": {
              "fillmode": "overlay",
              "size": 10,
              "solidity": 0.2
             }
            },
            "type": "barpolar"
           }
          ],
          "carpet": [
           {
            "aaxis": {
             "endlinecolor": "#2a3f5f",
             "gridcolor": "white",
             "linecolor": "white",
             "minorgridcolor": "white",
             "startlinecolor": "#2a3f5f"
            },
            "baxis": {
             "endlinecolor": "#2a3f5f",
             "gridcolor": "white",
             "linecolor": "white",
             "minorgridcolor": "white",
             "startlinecolor": "#2a3f5f"
            },
            "type": "carpet"
           }
          ],
          "choropleth": [
           {
            "colorbar": {
             "outlinewidth": 0,
             "ticks": ""
            },
            "type": "choropleth"
           }
          ],
          "contour": [
           {
            "colorbar": {
             "outlinewidth": 0,
             "ticks": ""
            },
            "colorscale": [
             [
              0,
              "#0d0887"
             ],
             [
              0.1111111111111111,
              "#46039f"
             ],
             [
              0.2222222222222222,
              "#7201a8"
             ],
             [
              0.3333333333333333,
              "#9c179e"
             ],
             [
              0.4444444444444444,
              "#bd3786"
             ],
             [
              0.5555555555555556,
              "#d8576b"
             ],
             [
              0.6666666666666666,
              "#ed7953"
             ],
             [
              0.7777777777777778,
              "#fb9f3a"
             ],
             [
              0.8888888888888888,
              "#fdca26"
             ],
             [
              1,
              "#f0f921"
             ]
            ],
            "type": "contour"
           }
          ],
          "contourcarpet": [
           {
            "colorbar": {
             "outlinewidth": 0,
             "ticks": ""
            },
            "type": "contourcarpet"
           }
          ],
          "heatmap": [
           {
            "colorbar": {
             "outlinewidth": 0,
             "ticks": ""
            },
            "colorscale": [
             [
              0,
              "#0d0887"
             ],
             [
              0.1111111111111111,
              "#46039f"
             ],
             [
              0.2222222222222222,
              "#7201a8"
             ],
             [
              0.3333333333333333,
              "#9c179e"
             ],
             [
              0.4444444444444444,
              "#bd3786"
             ],
             [
              0.5555555555555556,
              "#d8576b"
             ],
             [
              0.6666666666666666,
              "#ed7953"
             ],
             [
              0.7777777777777778,
              "#fb9f3a"
             ],
             [
              0.8888888888888888,
              "#fdca26"
             ],
             [
              1,
              "#f0f921"
             ]
            ],
            "type": "heatmap"
           }
          ],
          "histogram": [
           {
            "marker": {
             "pattern": {
              "fillmode": "overlay",
              "size": 10,
              "solidity": 0.2
             }
            },
            "type": "histogram"
           }
          ],
          "histogram2d": [
           {
            "colorbar": {
             "outlinewidth": 0,
             "ticks": ""
            },
            "colorscale": [
             [
              0,
              "#0d0887"
             ],
             [
              0.1111111111111111,
              "#46039f"
             ],
             [
              0.2222222222222222,
              "#7201a8"
             ],
             [
              0.3333333333333333,
              "#9c179e"
             ],
             [
              0.4444444444444444,
              "#bd3786"
             ],
             [
              0.5555555555555556,
              "#d8576b"
             ],
             [
              0.6666666666666666,
              "#ed7953"
             ],
             [
              0.7777777777777778,
              "#fb9f3a"
             ],
             [
              0.8888888888888888,
              "#fdca26"
             ],
             [
              1,
              "#f0f921"
             ]
            ],
            "type": "histogram2d"
           }
          ],
          "histogram2dcontour": [
           {
            "colorbar": {
             "outlinewidth": 0,
             "ticks": ""
            },
            "colorscale": [
             [
              0,
              "#0d0887"
             ],
             [
              0.1111111111111111,
              "#46039f"
             ],
             [
              0.2222222222222222,
              "#7201a8"
             ],
             [
              0.3333333333333333,
              "#9c179e"
             ],
             [
              0.4444444444444444,
              "#bd3786"
             ],
             [
              0.5555555555555556,
              "#d8576b"
             ],
             [
              0.6666666666666666,
              "#ed7953"
             ],
             [
              0.7777777777777778,
              "#fb9f3a"
             ],
             [
              0.8888888888888888,
              "#fdca26"
             ],
             [
              1,
              "#f0f921"
             ]
            ],
            "type": "histogram2dcontour"
           }
          ],
          "mesh3d": [
           {
            "colorbar": {
             "outlinewidth": 0,
             "ticks": ""
            },
            "type": "mesh3d"
           }
          ],
          "parcoords": [
           {
            "line": {
             "colorbar": {
              "outlinewidth": 0,
              "ticks": ""
             }
            },
            "type": "parcoords"
           }
          ],
          "pie": [
           {
            "automargin": true,
            "type": "pie"
           }
          ],
          "scatter": [
           {
            "fillpattern": {
             "fillmode": "overlay",
             "size": 10,
             "solidity": 0.2
            },
            "type": "scatter"
           }
          ],
          "scatter3d": [
           {
            "line": {
             "colorbar": {
              "outlinewidth": 0,
              "ticks": ""
             }
            },
            "marker": {
             "colorbar": {
              "outlinewidth": 0,
              "ticks": ""
             }
            },
            "type": "scatter3d"
           }
          ],
          "scattercarpet": [
           {
            "marker": {
             "colorbar": {
              "outlinewidth": 0,
              "ticks": ""
             }
            },
            "type": "scattercarpet"
           }
          ],
          "scattergeo": [
           {
            "marker": {
             "colorbar": {
              "outlinewidth": 0,
              "ticks": ""
             }
            },
            "type": "scattergeo"
           }
          ],
          "scattergl": [
           {
            "marker": {
             "colorbar": {
              "outlinewidth": 0,
              "ticks": ""
             }
            },
            "type": "scattergl"
           }
          ],
          "scattermap": [
           {
            "marker": {
             "colorbar": {
              "outlinewidth": 0,
              "ticks": ""
             }
            },
            "type": "scattermap"
           }
          ],
          "scattermapbox": [
           {
            "marker": {
             "colorbar": {
              "outlinewidth": 0,
              "ticks": ""
             }
            },
            "type": "scattermapbox"
           }
          ],
          "scatterpolar": [
           {
            "marker": {
             "colorbar": {
              "outlinewidth": 0,
              "ticks": ""
             }
            },
            "type": "scatterpolar"
           }
          ],
          "scatterpolargl": [
           {
            "marker": {
             "colorbar": {
              "outlinewidth": 0,
              "ticks": ""
             }
            },
            "type": "scatterpolargl"
           }
          ],
          "scatterternary": [
           {
            "marker": {
             "colorbar": {
              "outlinewidth": 0,
              "ticks": ""
             }
            },
            "type": "scatterternary"
           }
          ],
          "surface": [
           {
            "colorbar": {
             "outlinewidth": 0,
             "ticks": ""
            },
            "colorscale": [
             [
              0,
              "#0d0887"
             ],
             [
              0.1111111111111111,
              "#46039f"
             ],
             [
              0.2222222222222222,
              "#7201a8"
             ],
             [
              0.3333333333333333,
              "#9c179e"
             ],
             [
              0.4444444444444444,
              "#bd3786"
             ],
             [
              0.5555555555555556,
              "#d8576b"
             ],
             [
              0.6666666666666666,
              "#ed7953"
             ],
             [
              0.7777777777777778,
              "#fb9f3a"
             ],
             [
              0.8888888888888888,
              "#fdca26"
             ],
             [
              1,
              "#f0f921"
             ]
            ],
            "type": "surface"
           }
          ],
          "table": [
           {
            "cells": {
             "fill": {
              "color": "#EBF0F8"
             },
             "line": {
              "color": "white"
             }
            },
            "header": {
             "fill": {
              "color": "#C8D4E3"
             },
             "line": {
              "color": "white"
             }
            },
            "type": "table"
           }
          ]
         },
         "layout": {
          "annotationdefaults": {
           "arrowcolor": "#2a3f5f",
           "arrowhead": 0,
           "arrowwidth": 1
          },
          "autotypenumbers": "strict",
          "coloraxis": {
           "colorbar": {
            "outlinewidth": 0,
            "ticks": ""
           }
          },
          "colorscale": {
           "diverging": [
            [
             0,
             "#8e0152"
            ],
            [
             0.1,
             "#c51b7d"
            ],
            [
             0.2,
             "#de77ae"
            ],
            [
             0.3,
             "#f1b6da"
            ],
            [
             0.4,
             "#fde0ef"
            ],
            [
             0.5,
             "#f7f7f7"
            ],
            [
             0.6,
             "#e6f5d0"
            ],
            [
             0.7,
             "#b8e186"
            ],
            [
             0.8,
             "#7fbc41"
            ],
            [
             0.9,
             "#4d9221"
            ],
            [
             1,
             "#276419"
            ]
           ],
           "sequential": [
            [
             0,
             "#0d0887"
            ],
            [
             0.1111111111111111,
             "#46039f"
            ],
            [
             0.2222222222222222,
             "#7201a8"
            ],
            [
             0.3333333333333333,
             "#9c179e"
            ],
            [
             0.4444444444444444,
             "#bd3786"
            ],
            [
             0.5555555555555556,
             "#d8576b"
            ],
            [
             0.6666666666666666,
             "#ed7953"
            ],
            [
             0.7777777777777778,
             "#fb9f3a"
            ],
            [
             0.8888888888888888,
             "#fdca26"
            ],
            [
             1,
             "#f0f921"
            ]
           ],
           "sequentialminus": [
            [
             0,
             "#0d0887"
            ],
            [
             0.1111111111111111,
             "#46039f"
            ],
            [
             0.2222222222222222,
             "#7201a8"
            ],
            [
             0.3333333333333333,
             "#9c179e"
            ],
            [
             0.4444444444444444,
             "#bd3786"
            ],
            [
             0.5555555555555556,
             "#d8576b"
            ],
            [
             0.6666666666666666,
             "#ed7953"
            ],
            [
             0.7777777777777778,
             "#fb9f3a"
            ],
            [
             0.8888888888888888,
             "#fdca26"
            ],
            [
             1,
             "#f0f921"
            ]
           ]
          },
          "colorway": [
           "#636efa",
           "#EF553B",
           "#00cc96",
           "#ab63fa",
           "#FFA15A",
           "#19d3f3",
           "#FF6692",
           "#B6E880",
           "#FF97FF",
           "#FECB52"
          ],
          "font": {
           "color": "#2a3f5f"
          },
          "geo": {
           "bgcolor": "white",
           "lakecolor": "white",
           "landcolor": "#E5ECF6",
           "showlakes": true,
           "showland": true,
           "subunitcolor": "white"
          },
          "hoverlabel": {
           "align": "left"
          },
          "hovermode": "closest",
          "mapbox": {
           "style": "light"
          },
          "paper_bgcolor": "white",
          "plot_bgcolor": "#E5ECF6",
          "polar": {
           "angularaxis": {
            "gridcolor": "white",
            "linecolor": "white",
            "ticks": ""
           },
           "bgcolor": "#E5ECF6",
           "radialaxis": {
            "gridcolor": "white",
            "linecolor": "white",
            "ticks": ""
           }
          },
          "scene": {
           "xaxis": {
            "backgroundcolor": "#E5ECF6",
            "gridcolor": "white",
            "gridwidth": 2,
            "linecolor": "white",
            "showbackground": true,
            "ticks": "",
            "zerolinecolor": "white"
           },
           "yaxis": {
            "backgroundcolor": "#E5ECF6",
            "gridcolor": "white",
            "gridwidth": 2,
            "linecolor": "white",
            "showbackground": true,
            "ticks": "",
            "zerolinecolor": "white"
           },
           "zaxis": {
            "backgroundcolor": "#E5ECF6",
            "gridcolor": "white",
            "gridwidth": 2,
            "linecolor": "white",
            "showbackground": true,
            "ticks": "",
            "zerolinecolor": "white"
           }
          },
          "shapedefaults": {
           "line": {
            "color": "#2a3f5f"
           }
          },
          "ternary": {
           "aaxis": {
            "gridcolor": "white",
            "linecolor": "white",
            "ticks": ""
           },
           "baxis": {
            "gridcolor": "white",
            "linecolor": "white",
            "ticks": ""
           },
           "bgcolor": "#E5ECF6",
           "caxis": {
            "gridcolor": "white",
            "linecolor": "white",
            "ticks": ""
           }
          },
          "title": {
           "x": 0.05
          },
          "xaxis": {
           "automargin": true,
           "gridcolor": "white",
           "linecolor": "white",
           "ticks": "",
           "title": {
            "standoff": 15
           },
           "zerolinecolor": "white",
           "zerolinewidth": 2
          },
          "yaxis": {
           "automargin": true,
           "gridcolor": "white",
           "linecolor": "white",
           "ticks": "",
           "title": {
            "standoff": 15
           },
           "zerolinecolor": "white",
           "zerolinewidth": 2
          }
         }
        },
        "title": {
         "text": "Service Usage Distribution"
        },
        "width": 600,
        "xaxis": {
         "anchor": "y",
         "domain": [
          0,
          1
         ],
         "tickangle": 45,
         "title": {
          "text": "Service Type"
         }
        },
        "yaxis": {
         "anchor": "x",
         "domain": [
          0,
          1
         ],
         "title": {
          "text": "Number of Users"
         }
        }
       }
      }
     },
     "metadata": {},
     "output_type": "display_data"
    }
   ],
   "source": [
    "fig = px.bar(\n",
    "    service_usage, \n",
    "    x='ServiceUsage', \n",
    "    y='count', \n",
    "    title='Service Usage Distribution',\n",
    "    labels={'index': 'Service Type', 'ServiceUsage': 'Number of Users'},\n",
    "    text='count'\n",
    ")\n",
    "\n",
    "fig.update_layout(\n",
    "    xaxis_title='Service Type',\n",
    "    yaxis_title='Number of Users',\n",
    "    xaxis_tickangle=45,\n",
    "    width=600,\n",
    "    height=600\n",
    ")\n",
    "fig.show()"
   ]
  },
  {
   "cell_type": "code",
   "execution_count": 28,
   "id": "f20b42a1",
   "metadata": {},
   "outputs": [
    {
     "data": {
      "application/vnd.plotly.v1+json": {
       "config": {
        "plotlyServerURL": "https://plot.ly"
       },
       "data": [
        {
         "hovertemplate": "Month=%{x}<br>Number of Logins=%{y}<extra></extra>",
         "legendgroup": "",
         "line": {
          "color": "#636efa",
          "dash": "solid"
         },
         "marker": {
          "symbol": "circle"
         },
         "mode": "lines+markers",
         "name": "",
         "orientation": "v",
         "showlegend": false,
         "type": "scatter",
         "x": [
          "2023-01",
          "2023-02",
          "2023-03",
          "2023-04",
          "2023-05",
          "2023-06",
          "2023-07",
          "2023-08",
          "2023-09",
          "2023-10",
          "2023-11",
          "2023-12"
         ],
         "xaxis": "x",
         "y": {
          "bdata": "WklGSkRlVGJYXElZ",
          "dtype": "i1"
         },
         "yaxis": "y"
        }
       ],
       "layout": {
        "legend": {
         "tracegroupgap": 0
        },
        "template": {
         "data": {
          "bar": [
           {
            "error_x": {
             "color": "#2a3f5f"
            },
            "error_y": {
             "color": "#2a3f5f"
            },
            "marker": {
             "line": {
              "color": "#E5ECF6",
              "width": 0.5
             },
             "pattern": {
              "fillmode": "overlay",
              "size": 10,
              "solidity": 0.2
             }
            },
            "type": "bar"
           }
          ],
          "barpolar": [
           {
            "marker": {
             "line": {
              "color": "#E5ECF6",
              "width": 0.5
             },
             "pattern": {
              "fillmode": "overlay",
              "size": 10,
              "solidity": 0.2
             }
            },
            "type": "barpolar"
           }
          ],
          "carpet": [
           {
            "aaxis": {
             "endlinecolor": "#2a3f5f",
             "gridcolor": "white",
             "linecolor": "white",
             "minorgridcolor": "white",
             "startlinecolor": "#2a3f5f"
            },
            "baxis": {
             "endlinecolor": "#2a3f5f",
             "gridcolor": "white",
             "linecolor": "white",
             "minorgridcolor": "white",
             "startlinecolor": "#2a3f5f"
            },
            "type": "carpet"
           }
          ],
          "choropleth": [
           {
            "colorbar": {
             "outlinewidth": 0,
             "ticks": ""
            },
            "type": "choropleth"
           }
          ],
          "contour": [
           {
            "colorbar": {
             "outlinewidth": 0,
             "ticks": ""
            },
            "colorscale": [
             [
              0,
              "#0d0887"
             ],
             [
              0.1111111111111111,
              "#46039f"
             ],
             [
              0.2222222222222222,
              "#7201a8"
             ],
             [
              0.3333333333333333,
              "#9c179e"
             ],
             [
              0.4444444444444444,
              "#bd3786"
             ],
             [
              0.5555555555555556,
              "#d8576b"
             ],
             [
              0.6666666666666666,
              "#ed7953"
             ],
             [
              0.7777777777777778,
              "#fb9f3a"
             ],
             [
              0.8888888888888888,
              "#fdca26"
             ],
             [
              1,
              "#f0f921"
             ]
            ],
            "type": "contour"
           }
          ],
          "contourcarpet": [
           {
            "colorbar": {
             "outlinewidth": 0,
             "ticks": ""
            },
            "type": "contourcarpet"
           }
          ],
          "heatmap": [
           {
            "colorbar": {
             "outlinewidth": 0,
             "ticks": ""
            },
            "colorscale": [
             [
              0,
              "#0d0887"
             ],
             [
              0.1111111111111111,
              "#46039f"
             ],
             [
              0.2222222222222222,
              "#7201a8"
             ],
             [
              0.3333333333333333,
              "#9c179e"
             ],
             [
              0.4444444444444444,
              "#bd3786"
             ],
             [
              0.5555555555555556,
              "#d8576b"
             ],
             [
              0.6666666666666666,
              "#ed7953"
             ],
             [
              0.7777777777777778,
              "#fb9f3a"
             ],
             [
              0.8888888888888888,
              "#fdca26"
             ],
             [
              1,
              "#f0f921"
             ]
            ],
            "type": "heatmap"
           }
          ],
          "histogram": [
           {
            "marker": {
             "pattern": {
              "fillmode": "overlay",
              "size": 10,
              "solidity": 0.2
             }
            },
            "type": "histogram"
           }
          ],
          "histogram2d": [
           {
            "colorbar": {
             "outlinewidth": 0,
             "ticks": ""
            },
            "colorscale": [
             [
              0,
              "#0d0887"
             ],
             [
              0.1111111111111111,
              "#46039f"
             ],
             [
              0.2222222222222222,
              "#7201a8"
             ],
             [
              0.3333333333333333,
              "#9c179e"
             ],
             [
              0.4444444444444444,
              "#bd3786"
             ],
             [
              0.5555555555555556,
              "#d8576b"
             ],
             [
              0.6666666666666666,
              "#ed7953"
             ],
             [
              0.7777777777777778,
              "#fb9f3a"
             ],
             [
              0.8888888888888888,
              "#fdca26"
             ],
             [
              1,
              "#f0f921"
             ]
            ],
            "type": "histogram2d"
           }
          ],
          "histogram2dcontour": [
           {
            "colorbar": {
             "outlinewidth": 0,
             "ticks": ""
            },
            "colorscale": [
             [
              0,
              "#0d0887"
             ],
             [
              0.1111111111111111,
              "#46039f"
             ],
             [
              0.2222222222222222,
              "#7201a8"
             ],
             [
              0.3333333333333333,
              "#9c179e"
             ],
             [
              0.4444444444444444,
              "#bd3786"
             ],
             [
              0.5555555555555556,
              "#d8576b"
             ],
             [
              0.6666666666666666,
              "#ed7953"
             ],
             [
              0.7777777777777778,
              "#fb9f3a"
             ],
             [
              0.8888888888888888,
              "#fdca26"
             ],
             [
              1,
              "#f0f921"
             ]
            ],
            "type": "histogram2dcontour"
           }
          ],
          "mesh3d": [
           {
            "colorbar": {
             "outlinewidth": 0,
             "ticks": ""
            },
            "type": "mesh3d"
           }
          ],
          "parcoords": [
           {
            "line": {
             "colorbar": {
              "outlinewidth": 0,
              "ticks": ""
             }
            },
            "type": "parcoords"
           }
          ],
          "pie": [
           {
            "automargin": true,
            "type": "pie"
           }
          ],
          "scatter": [
           {
            "fillpattern": {
             "fillmode": "overlay",
             "size": 10,
             "solidity": 0.2
            },
            "type": "scatter"
           }
          ],
          "scatter3d": [
           {
            "line": {
             "colorbar": {
              "outlinewidth": 0,
              "ticks": ""
             }
            },
            "marker": {
             "colorbar": {
              "outlinewidth": 0,
              "ticks": ""
             }
            },
            "type": "scatter3d"
           }
          ],
          "scattercarpet": [
           {
            "marker": {
             "colorbar": {
              "outlinewidth": 0,
              "ticks": ""
             }
            },
            "type": "scattercarpet"
           }
          ],
          "scattergeo": [
           {
            "marker": {
             "colorbar": {
              "outlinewidth": 0,
              "ticks": ""
             }
            },
            "type": "scattergeo"
           }
          ],
          "scattergl": [
           {
            "marker": {
             "colorbar": {
              "outlinewidth": 0,
              "ticks": ""
             }
            },
            "type": "scattergl"
           }
          ],
          "scattermap": [
           {
            "marker": {
             "colorbar": {
              "outlinewidth": 0,
              "ticks": ""
             }
            },
            "type": "scattermap"
           }
          ],
          "scattermapbox": [
           {
            "marker": {
             "colorbar": {
              "outlinewidth": 0,
              "ticks": ""
             }
            },
            "type": "scattermapbox"
           }
          ],
          "scatterpolar": [
           {
            "marker": {
             "colorbar": {
              "outlinewidth": 0,
              "ticks": ""
             }
            },
            "type": "scatterpolar"
           }
          ],
          "scatterpolargl": [
           {
            "marker": {
             "colorbar": {
              "outlinewidth": 0,
              "ticks": ""
             }
            },
            "type": "scatterpolargl"
           }
          ],
          "scatterternary": [
           {
            "marker": {
             "colorbar": {
              "outlinewidth": 0,
              "ticks": ""
             }
            },
            "type": "scatterternary"
           }
          ],
          "surface": [
           {
            "colorbar": {
             "outlinewidth": 0,
             "ticks": ""
            },
            "colorscale": [
             [
              0,
              "#0d0887"
             ],
             [
              0.1111111111111111,
              "#46039f"
             ],
             [
              0.2222222222222222,
              "#7201a8"
             ],
             [
              0.3333333333333333,
              "#9c179e"
             ],
             [
              0.4444444444444444,
              "#bd3786"
             ],
             [
              0.5555555555555556,
              "#d8576b"
             ],
             [
              0.6666666666666666,
              "#ed7953"
             ],
             [
              0.7777777777777778,
              "#fb9f3a"
             ],
             [
              0.8888888888888888,
              "#fdca26"
             ],
             [
              1,
              "#f0f921"
             ]
            ],
            "type": "surface"
           }
          ],
          "table": [
           {
            "cells": {
             "fill": {
              "color": "#EBF0F8"
             },
             "line": {
              "color": "white"
             }
            },
            "header": {
             "fill": {
              "color": "#C8D4E3"
             },
             "line": {
              "color": "white"
             }
            },
            "type": "table"
           }
          ]
         },
         "layout": {
          "annotationdefaults": {
           "arrowcolor": "#2a3f5f",
           "arrowhead": 0,
           "arrowwidth": 1
          },
          "autotypenumbers": "strict",
          "coloraxis": {
           "colorbar": {
            "outlinewidth": 0,
            "ticks": ""
           }
          },
          "colorscale": {
           "diverging": [
            [
             0,
             "#8e0152"
            ],
            [
             0.1,
             "#c51b7d"
            ],
            [
             0.2,
             "#de77ae"
            ],
            [
             0.3,
             "#f1b6da"
            ],
            [
             0.4,
             "#fde0ef"
            ],
            [
             0.5,
             "#f7f7f7"
            ],
            [
             0.6,
             "#e6f5d0"
            ],
            [
             0.7,
             "#b8e186"
            ],
            [
             0.8,
             "#7fbc41"
            ],
            [
             0.9,
             "#4d9221"
            ],
            [
             1,
             "#276419"
            ]
           ],
           "sequential": [
            [
             0,
             "#0d0887"
            ],
            [
             0.1111111111111111,
             "#46039f"
            ],
            [
             0.2222222222222222,
             "#7201a8"
            ],
            [
             0.3333333333333333,
             "#9c179e"
            ],
            [
             0.4444444444444444,
             "#bd3786"
            ],
            [
             0.5555555555555556,
             "#d8576b"
            ],
            [
             0.6666666666666666,
             "#ed7953"
            ],
            [
             0.7777777777777778,
             "#fb9f3a"
            ],
            [
             0.8888888888888888,
             "#fdca26"
            ],
            [
             1,
             "#f0f921"
            ]
           ],
           "sequentialminus": [
            [
             0,
             "#0d0887"
            ],
            [
             0.1111111111111111,
             "#46039f"
            ],
            [
             0.2222222222222222,
             "#7201a8"
            ],
            [
             0.3333333333333333,
             "#9c179e"
            ],
            [
             0.4444444444444444,
             "#bd3786"
            ],
            [
             0.5555555555555556,
             "#d8576b"
            ],
            [
             0.6666666666666666,
             "#ed7953"
            ],
            [
             0.7777777777777778,
             "#fb9f3a"
            ],
            [
             0.8888888888888888,
             "#fdca26"
            ],
            [
             1,
             "#f0f921"
            ]
           ]
          },
          "colorway": [
           "#636efa",
           "#EF553B",
           "#00cc96",
           "#ab63fa",
           "#FFA15A",
           "#19d3f3",
           "#FF6692",
           "#B6E880",
           "#FF97FF",
           "#FECB52"
          ],
          "font": {
           "color": "#2a3f5f"
          },
          "geo": {
           "bgcolor": "white",
           "lakecolor": "white",
           "landcolor": "#E5ECF6",
           "showlakes": true,
           "showland": true,
           "subunitcolor": "white"
          },
          "hoverlabel": {
           "align": "left"
          },
          "hovermode": "closest",
          "mapbox": {
           "style": "light"
          },
          "paper_bgcolor": "white",
          "plot_bgcolor": "#E5ECF6",
          "polar": {
           "angularaxis": {
            "gridcolor": "white",
            "linecolor": "white",
            "ticks": ""
           },
           "bgcolor": "#E5ECF6",
           "radialaxis": {
            "gridcolor": "white",
            "linecolor": "white",
            "ticks": ""
           }
          },
          "scene": {
           "xaxis": {
            "backgroundcolor": "#E5ECF6",
            "gridcolor": "white",
            "gridwidth": 2,
            "linecolor": "white",
            "showbackground": true,
            "ticks": "",
            "zerolinecolor": "white"
           },
           "yaxis": {
            "backgroundcolor": "#E5ECF6",
            "gridcolor": "white",
            "gridwidth": 2,
            "linecolor": "white",
            "showbackground": true,
            "ticks": "",
            "zerolinecolor": "white"
           },
           "zaxis": {
            "backgroundcolor": "#E5ECF6",
            "gridcolor": "white",
            "gridwidth": 2,
            "linecolor": "white",
            "showbackground": true,
            "ticks": "",
            "zerolinecolor": "white"
           }
          },
          "shapedefaults": {
           "line": {
            "color": "#2a3f5f"
           }
          },
          "ternary": {
           "aaxis": {
            "gridcolor": "white",
            "linecolor": "white",
            "ticks": ""
           },
           "baxis": {
            "gridcolor": "white",
            "linecolor": "white",
            "ticks": ""
           },
           "bgcolor": "#E5ECF6",
           "caxis": {
            "gridcolor": "white",
            "linecolor": "white",
            "ticks": ""
           }
          },
          "title": {
           "x": 0.05
          },
          "xaxis": {
           "automargin": true,
           "gridcolor": "white",
           "linecolor": "white",
           "ticks": "",
           "title": {
            "standoff": 15
           },
           "zerolinecolor": "white",
           "zerolinewidth": 2
          },
          "yaxis": {
           "automargin": true,
           "gridcolor": "white",
           "linecolor": "white",
           "ticks": "",
           "title": {
            "standoff": 15
           },
           "zerolinecolor": "white",
           "zerolinewidth": 2
          }
         }
        },
        "title": {
         "text": "Monthly Last Login Counts"
        },
        "xaxis": {
         "anchor": "y",
         "domain": [
          0,
          1
         ],
         "title": {
          "text": "Month"
         },
         "type": "category"
        },
        "yaxis": {
         "anchor": "x",
         "domain": [
          0,
          1
         ],
         "title": {
          "text": "Number of Logins"
         }
        }
       }
      }
     },
     "metadata": {},
     "output_type": "display_data"
    }
   ],
   "source": [
    "# Ensure LastLoginDate is datetime\n",
    "online_activity['LastLoginDate'] = pd.to_datetime(online_activity['LastLoginDate'])\n",
    "\n",
    "# Create a Year-Month column for grouping\n",
    "online_activity['YearMonth'] = online_activity['LastLoginDate'].dt.to_period('M').astype(str)\n",
    "\n",
    "# Count logins per month\n",
    "monthly_counts = online_activity['YearMonth'].value_counts().sort_index()\n",
    "monthly_counts_df = monthly_counts.reset_index()\n",
    "monthly_counts_df.columns = ['YearMonth', 'LoginCount']\n",
    "\n",
    "# Plot the line chart\n",
    "fig = px.line(\n",
    "    monthly_counts_df, \n",
    "    x='YearMonth', \n",
    "    y='LoginCount',\n",
    "    title='Monthly Last Login Counts',\n",
    "    labels={'YearMonth': 'Month', 'LoginCount': 'Number of Logins'}\n",
    ")\n",
    "fig.update_traces(mode='lines+markers')\n",
    "fig.update_xaxes(type='category')  # Ensures months are shown in order\n",
    "\n",
    "fig.show()"
   ]
  },
  {
   "cell_type": "code",
   "execution_count": 29,
   "id": "8b56853e",
   "metadata": {},
   "outputs": [
    {
     "data": {
      "text/html": [
       "<div>\n",
       "<style scoped>\n",
       "    .dataframe tbody tr th:only-of-type {\n",
       "        vertical-align: middle;\n",
       "    }\n",
       "\n",
       "    .dataframe tbody tr th {\n",
       "        vertical-align: top;\n",
       "    }\n",
       "\n",
       "    .dataframe thead th {\n",
       "        text-align: right;\n",
       "    }\n",
       "</style>\n",
       "<table border=\"1\" class=\"dataframe\">\n",
       "  <thead>\n",
       "    <tr style=\"text-align: right;\">\n",
       "      <th></th>\n",
       "      <th>CustomerID</th>\n",
       "      <th>ChurnStatus</th>\n",
       "    </tr>\n",
       "  </thead>\n",
       "  <tbody>\n",
       "    <tr>\n",
       "      <th>0</th>\n",
       "      <td>1</td>\n",
       "      <td>0</td>\n",
       "    </tr>\n",
       "    <tr>\n",
       "      <th>1</th>\n",
       "      <td>2</td>\n",
       "      <td>1</td>\n",
       "    </tr>\n",
       "    <tr>\n",
       "      <th>2</th>\n",
       "      <td>3</td>\n",
       "      <td>0</td>\n",
       "    </tr>\n",
       "    <tr>\n",
       "      <th>3</th>\n",
       "      <td>4</td>\n",
       "      <td>0</td>\n",
       "    </tr>\n",
       "    <tr>\n",
       "      <th>4</th>\n",
       "      <td>5</td>\n",
       "      <td>0</td>\n",
       "    </tr>\n",
       "    <tr>\n",
       "      <th>...</th>\n",
       "      <td>...</td>\n",
       "      <td>...</td>\n",
       "    </tr>\n",
       "    <tr>\n",
       "      <th>995</th>\n",
       "      <td>996</td>\n",
       "      <td>0</td>\n",
       "    </tr>\n",
       "    <tr>\n",
       "      <th>996</th>\n",
       "      <td>997</td>\n",
       "      <td>0</td>\n",
       "    </tr>\n",
       "    <tr>\n",
       "      <th>997</th>\n",
       "      <td>998</td>\n",
       "      <td>0</td>\n",
       "    </tr>\n",
       "    <tr>\n",
       "      <th>998</th>\n",
       "      <td>999</td>\n",
       "      <td>0</td>\n",
       "    </tr>\n",
       "    <tr>\n",
       "      <th>999</th>\n",
       "      <td>1000</td>\n",
       "      <td>0</td>\n",
       "    </tr>\n",
       "  </tbody>\n",
       "</table>\n",
       "<p>1000 rows × 2 columns</p>\n",
       "</div>"
      ],
      "text/plain": [
       "     CustomerID  ChurnStatus\n",
       "0             1            0\n",
       "1             2            1\n",
       "2             3            0\n",
       "3             4            0\n",
       "4             5            0\n",
       "..          ...          ...\n",
       "995         996            0\n",
       "996         997            0\n",
       "997         998            0\n",
       "998         999            0\n",
       "999        1000            0\n",
       "\n",
       "[1000 rows x 2 columns]"
      ]
     },
     "execution_count": 29,
     "metadata": {},
     "output_type": "execute_result"
    }
   ],
   "source": [
    "churn_status = pd.read_excel(customer_data, 'Churn_Status')\n",
    "churn_status\n"
   ]
  },
  {
   "cell_type": "code",
   "execution_count": 30,
   "id": "9f3c622c",
   "metadata": {},
   "outputs": [
    {
     "data": {
      "text/html": [
       "<div>\n",
       "<style scoped>\n",
       "    .dataframe tbody tr th:only-of-type {\n",
       "        vertical-align: middle;\n",
       "    }\n",
       "\n",
       "    .dataframe tbody tr th {\n",
       "        vertical-align: top;\n",
       "    }\n",
       "\n",
       "    .dataframe thead th {\n",
       "        text-align: right;\n",
       "    }\n",
       "</style>\n",
       "<table border=\"1\" class=\"dataframe\">\n",
       "  <thead>\n",
       "    <tr style=\"text-align: right;\">\n",
       "      <th></th>\n",
       "      <th>CustomerID</th>\n",
       "      <th>ChurnStatus</th>\n",
       "    </tr>\n",
       "  </thead>\n",
       "  <tbody>\n",
       "    <tr>\n",
       "      <th>0</th>\n",
       "      <td>1</td>\n",
       "      <td>Active</td>\n",
       "    </tr>\n",
       "    <tr>\n",
       "      <th>1</th>\n",
       "      <td>2</td>\n",
       "      <td>Churned</td>\n",
       "    </tr>\n",
       "    <tr>\n",
       "      <th>2</th>\n",
       "      <td>3</td>\n",
       "      <td>Active</td>\n",
       "    </tr>\n",
       "    <tr>\n",
       "      <th>3</th>\n",
       "      <td>4</td>\n",
       "      <td>Active</td>\n",
       "    </tr>\n",
       "    <tr>\n",
       "      <th>4</th>\n",
       "      <td>5</td>\n",
       "      <td>Active</td>\n",
       "    </tr>\n",
       "    <tr>\n",
       "      <th>...</th>\n",
       "      <td>...</td>\n",
       "      <td>...</td>\n",
       "    </tr>\n",
       "    <tr>\n",
       "      <th>995</th>\n",
       "      <td>996</td>\n",
       "      <td>Active</td>\n",
       "    </tr>\n",
       "    <tr>\n",
       "      <th>996</th>\n",
       "      <td>997</td>\n",
       "      <td>Active</td>\n",
       "    </tr>\n",
       "    <tr>\n",
       "      <th>997</th>\n",
       "      <td>998</td>\n",
       "      <td>Active</td>\n",
       "    </tr>\n",
       "    <tr>\n",
       "      <th>998</th>\n",
       "      <td>999</td>\n",
       "      <td>Active</td>\n",
       "    </tr>\n",
       "    <tr>\n",
       "      <th>999</th>\n",
       "      <td>1000</td>\n",
       "      <td>Active</td>\n",
       "    </tr>\n",
       "  </tbody>\n",
       "</table>\n",
       "<p>1000 rows × 2 columns</p>\n",
       "</div>"
      ],
      "text/plain": [
       "     CustomerID ChurnStatus\n",
       "0             1      Active\n",
       "1             2     Churned\n",
       "2             3      Active\n",
       "3             4      Active\n",
       "4             5      Active\n",
       "..          ...         ...\n",
       "995         996      Active\n",
       "996         997      Active\n",
       "997         998      Active\n",
       "998         999      Active\n",
       "999        1000      Active\n",
       "\n",
       "[1000 rows x 2 columns]"
      ]
     },
     "execution_count": 30,
     "metadata": {},
     "output_type": "execute_result"
    }
   ],
   "source": [
    "churn_status_copy = churn_status.copy()\n",
    "churn_status_copy['ChurnStatus'] = churn_status_copy['ChurnStatus'].astype('bool')\n",
    "churn_status_copy['ChurnStatus'] = churn_status_copy['ChurnStatus'].replace({True: 'Churned', False: 'Active'})\n",
    "churn_status_copy"
   ]
  },
  {
   "cell_type": "code",
   "execution_count": 31,
   "id": "336674f8",
   "metadata": {},
   "outputs": [
    {
     "data": {
      "text/plain": [
       "ChurnStatus\n",
       "Active     796\n",
       "Churned    204\n",
       "Name: count, dtype: int64"
      ]
     },
     "execution_count": 31,
     "metadata": {},
     "output_type": "execute_result"
    }
   ],
   "source": [
    "\n",
    "churn_status_copy['ChurnStatus'].value_counts().sort_values(ascending=False)"
   ]
  },
  {
   "cell_type": "code",
   "execution_count": 32,
   "id": "34517c64",
   "metadata": {},
   "outputs": [
    {
     "data": {
      "text/plain": [
       "CustomerID     20.4\n",
       "ChurnStatus    20.4\n",
       "dtype: float64"
      ]
     },
     "execution_count": 32,
     "metadata": {},
     "output_type": "execute_result"
    }
   ],
   "source": [
    "churn_status_copy[churn_status_copy['ChurnStatus'] == 'Churned'].count()/churn_status_copy['ChurnStatus'].count()*100"
   ]
  },
  {
   "cell_type": "code",
   "execution_count": 33,
   "id": "7d057cf9",
   "metadata": {},
   "outputs": [
    {
     "data": {
      "text/plain": [
       "CustomerID     79.6\n",
       "ChurnStatus    79.6\n",
       "dtype: float64"
      ]
     },
     "execution_count": 33,
     "metadata": {},
     "output_type": "execute_result"
    }
   ],
   "source": [
    "churn_status_copy[churn_status_copy['ChurnStatus'] == 'Active'].count()/churn_status_copy['ChurnStatus'].count()*100"
   ]
  },
  {
   "cell_type": "code",
   "execution_count": 34,
   "id": "5a8f2a6c",
   "metadata": {},
   "outputs": [
    {
     "data": {
      "application/vnd.plotly.v1+json": {
       "config": {
        "plotlyServerURL": "https://plot.ly"
       },
       "data": [
        {
         "domain": {
          "x": [
           0,
           1
          ],
          "y": [
           0,
           1
          ]
         },
         "hovertemplate": "label=%{label}<br>value=%{value}<extra></extra>",
         "labels": [
          "Active",
          "Churned"
         ],
         "legendgroup": "",
         "name": "",
         "showlegend": true,
         "type": "pie",
         "values": {
          "bdata": "HAPMAA==",
          "dtype": "i2"
         }
        }
       ],
       "layout": {
        "legend": {
         "tracegroupgap": 0
        },
        "template": {
         "data": {
          "bar": [
           {
            "error_x": {
             "color": "#2a3f5f"
            },
            "error_y": {
             "color": "#2a3f5f"
            },
            "marker": {
             "line": {
              "color": "#E5ECF6",
              "width": 0.5
             },
             "pattern": {
              "fillmode": "overlay",
              "size": 10,
              "solidity": 0.2
             }
            },
            "type": "bar"
           }
          ],
          "barpolar": [
           {
            "marker": {
             "line": {
              "color": "#E5ECF6",
              "width": 0.5
             },
             "pattern": {
              "fillmode": "overlay",
              "size": 10,
              "solidity": 0.2
             }
            },
            "type": "barpolar"
           }
          ],
          "carpet": [
           {
            "aaxis": {
             "endlinecolor": "#2a3f5f",
             "gridcolor": "white",
             "linecolor": "white",
             "minorgridcolor": "white",
             "startlinecolor": "#2a3f5f"
            },
            "baxis": {
             "endlinecolor": "#2a3f5f",
             "gridcolor": "white",
             "linecolor": "white",
             "minorgridcolor": "white",
             "startlinecolor": "#2a3f5f"
            },
            "type": "carpet"
           }
          ],
          "choropleth": [
           {
            "colorbar": {
             "outlinewidth": 0,
             "ticks": ""
            },
            "type": "choropleth"
           }
          ],
          "contour": [
           {
            "colorbar": {
             "outlinewidth": 0,
             "ticks": ""
            },
            "colorscale": [
             [
              0,
              "#0d0887"
             ],
             [
              0.1111111111111111,
              "#46039f"
             ],
             [
              0.2222222222222222,
              "#7201a8"
             ],
             [
              0.3333333333333333,
              "#9c179e"
             ],
             [
              0.4444444444444444,
              "#bd3786"
             ],
             [
              0.5555555555555556,
              "#d8576b"
             ],
             [
              0.6666666666666666,
              "#ed7953"
             ],
             [
              0.7777777777777778,
              "#fb9f3a"
             ],
             [
              0.8888888888888888,
              "#fdca26"
             ],
             [
              1,
              "#f0f921"
             ]
            ],
            "type": "contour"
           }
          ],
          "contourcarpet": [
           {
            "colorbar": {
             "outlinewidth": 0,
             "ticks": ""
            },
            "type": "contourcarpet"
           }
          ],
          "heatmap": [
           {
            "colorbar": {
             "outlinewidth": 0,
             "ticks": ""
            },
            "colorscale": [
             [
              0,
              "#0d0887"
             ],
             [
              0.1111111111111111,
              "#46039f"
             ],
             [
              0.2222222222222222,
              "#7201a8"
             ],
             [
              0.3333333333333333,
              "#9c179e"
             ],
             [
              0.4444444444444444,
              "#bd3786"
             ],
             [
              0.5555555555555556,
              "#d8576b"
             ],
             [
              0.6666666666666666,
              "#ed7953"
             ],
             [
              0.7777777777777778,
              "#fb9f3a"
             ],
             [
              0.8888888888888888,
              "#fdca26"
             ],
             [
              1,
              "#f0f921"
             ]
            ],
            "type": "heatmap"
           }
          ],
          "histogram": [
           {
            "marker": {
             "pattern": {
              "fillmode": "overlay",
              "size": 10,
              "solidity": 0.2
             }
            },
            "type": "histogram"
           }
          ],
          "histogram2d": [
           {
            "colorbar": {
             "outlinewidth": 0,
             "ticks": ""
            },
            "colorscale": [
             [
              0,
              "#0d0887"
             ],
             [
              0.1111111111111111,
              "#46039f"
             ],
             [
              0.2222222222222222,
              "#7201a8"
             ],
             [
              0.3333333333333333,
              "#9c179e"
             ],
             [
              0.4444444444444444,
              "#bd3786"
             ],
             [
              0.5555555555555556,
              "#d8576b"
             ],
             [
              0.6666666666666666,
              "#ed7953"
             ],
             [
              0.7777777777777778,
              "#fb9f3a"
             ],
             [
              0.8888888888888888,
              "#fdca26"
             ],
             [
              1,
              "#f0f921"
             ]
            ],
            "type": "histogram2d"
           }
          ],
          "histogram2dcontour": [
           {
            "colorbar": {
             "outlinewidth": 0,
             "ticks": ""
            },
            "colorscale": [
             [
              0,
              "#0d0887"
             ],
             [
              0.1111111111111111,
              "#46039f"
             ],
             [
              0.2222222222222222,
              "#7201a8"
             ],
             [
              0.3333333333333333,
              "#9c179e"
             ],
             [
              0.4444444444444444,
              "#bd3786"
             ],
             [
              0.5555555555555556,
              "#d8576b"
             ],
             [
              0.6666666666666666,
              "#ed7953"
             ],
             [
              0.7777777777777778,
              "#fb9f3a"
             ],
             [
              0.8888888888888888,
              "#fdca26"
             ],
             [
              1,
              "#f0f921"
             ]
            ],
            "type": "histogram2dcontour"
           }
          ],
          "mesh3d": [
           {
            "colorbar": {
             "outlinewidth": 0,
             "ticks": ""
            },
            "type": "mesh3d"
           }
          ],
          "parcoords": [
           {
            "line": {
             "colorbar": {
              "outlinewidth": 0,
              "ticks": ""
             }
            },
            "type": "parcoords"
           }
          ],
          "pie": [
           {
            "automargin": true,
            "type": "pie"
           }
          ],
          "scatter": [
           {
            "fillpattern": {
             "fillmode": "overlay",
             "size": 10,
             "solidity": 0.2
            },
            "type": "scatter"
           }
          ],
          "scatter3d": [
           {
            "line": {
             "colorbar": {
              "outlinewidth": 0,
              "ticks": ""
             }
            },
            "marker": {
             "colorbar": {
              "outlinewidth": 0,
              "ticks": ""
             }
            },
            "type": "scatter3d"
           }
          ],
          "scattercarpet": [
           {
            "marker": {
             "colorbar": {
              "outlinewidth": 0,
              "ticks": ""
             }
            },
            "type": "scattercarpet"
           }
          ],
          "scattergeo": [
           {
            "marker": {
             "colorbar": {
              "outlinewidth": 0,
              "ticks": ""
             }
            },
            "type": "scattergeo"
           }
          ],
          "scattergl": [
           {
            "marker": {
             "colorbar": {
              "outlinewidth": 0,
              "ticks": ""
             }
            },
            "type": "scattergl"
           }
          ],
          "scattermap": [
           {
            "marker": {
             "colorbar": {
              "outlinewidth": 0,
              "ticks": ""
             }
            },
            "type": "scattermap"
           }
          ],
          "scattermapbox": [
           {
            "marker": {
             "colorbar": {
              "outlinewidth": 0,
              "ticks": ""
             }
            },
            "type": "scattermapbox"
           }
          ],
          "scatterpolar": [
           {
            "marker": {
             "colorbar": {
              "outlinewidth": 0,
              "ticks": ""
             }
            },
            "type": "scatterpolar"
           }
          ],
          "scatterpolargl": [
           {
            "marker": {
             "colorbar": {
              "outlinewidth": 0,
              "ticks": ""
             }
            },
            "type": "scatterpolargl"
           }
          ],
          "scatterternary": [
           {
            "marker": {
             "colorbar": {
              "outlinewidth": 0,
              "ticks": ""
             }
            },
            "type": "scatterternary"
           }
          ],
          "surface": [
           {
            "colorbar": {
             "outlinewidth": 0,
             "ticks": ""
            },
            "colorscale": [
             [
              0,
              "#0d0887"
             ],
             [
              0.1111111111111111,
              "#46039f"
             ],
             [
              0.2222222222222222,
              "#7201a8"
             ],
             [
              0.3333333333333333,
              "#9c179e"
             ],
             [
              0.4444444444444444,
              "#bd3786"
             ],
             [
              0.5555555555555556,
              "#d8576b"
             ],
             [
              0.6666666666666666,
              "#ed7953"
             ],
             [
              0.7777777777777778,
              "#fb9f3a"
             ],
             [
              0.8888888888888888,
              "#fdca26"
             ],
             [
              1,
              "#f0f921"
             ]
            ],
            "type": "surface"
           }
          ],
          "table": [
           {
            "cells": {
             "fill": {
              "color": "#EBF0F8"
             },
             "line": {
              "color": "white"
             }
            },
            "header": {
             "fill": {
              "color": "#C8D4E3"
             },
             "line": {
              "color": "white"
             }
            },
            "type": "table"
           }
          ]
         },
         "layout": {
          "annotationdefaults": {
           "arrowcolor": "#2a3f5f",
           "arrowhead": 0,
           "arrowwidth": 1
          },
          "autotypenumbers": "strict",
          "coloraxis": {
           "colorbar": {
            "outlinewidth": 0,
            "ticks": ""
           }
          },
          "colorscale": {
           "diverging": [
            [
             0,
             "#8e0152"
            ],
            [
             0.1,
             "#c51b7d"
            ],
            [
             0.2,
             "#de77ae"
            ],
            [
             0.3,
             "#f1b6da"
            ],
            [
             0.4,
             "#fde0ef"
            ],
            [
             0.5,
             "#f7f7f7"
            ],
            [
             0.6,
             "#e6f5d0"
            ],
            [
             0.7,
             "#b8e186"
            ],
            [
             0.8,
             "#7fbc41"
            ],
            [
             0.9,
             "#4d9221"
            ],
            [
             1,
             "#276419"
            ]
           ],
           "sequential": [
            [
             0,
             "#0d0887"
            ],
            [
             0.1111111111111111,
             "#46039f"
            ],
            [
             0.2222222222222222,
             "#7201a8"
            ],
            [
             0.3333333333333333,
             "#9c179e"
            ],
            [
             0.4444444444444444,
             "#bd3786"
            ],
            [
             0.5555555555555556,
             "#d8576b"
            ],
            [
             0.6666666666666666,
             "#ed7953"
            ],
            [
             0.7777777777777778,
             "#fb9f3a"
            ],
            [
             0.8888888888888888,
             "#fdca26"
            ],
            [
             1,
             "#f0f921"
            ]
           ],
           "sequentialminus": [
            [
             0,
             "#0d0887"
            ],
            [
             0.1111111111111111,
             "#46039f"
            ],
            [
             0.2222222222222222,
             "#7201a8"
            ],
            [
             0.3333333333333333,
             "#9c179e"
            ],
            [
             0.4444444444444444,
             "#bd3786"
            ],
            [
             0.5555555555555556,
             "#d8576b"
            ],
            [
             0.6666666666666666,
             "#ed7953"
            ],
            [
             0.7777777777777778,
             "#fb9f3a"
            ],
            [
             0.8888888888888888,
             "#fdca26"
            ],
            [
             1,
             "#f0f921"
            ]
           ]
          },
          "colorway": [
           "#636efa",
           "#EF553B",
           "#00cc96",
           "#ab63fa",
           "#FFA15A",
           "#19d3f3",
           "#FF6692",
           "#B6E880",
           "#FF97FF",
           "#FECB52"
          ],
          "font": {
           "color": "#2a3f5f"
          },
          "geo": {
           "bgcolor": "white",
           "lakecolor": "white",
           "landcolor": "#E5ECF6",
           "showlakes": true,
           "showland": true,
           "subunitcolor": "white"
          },
          "hoverlabel": {
           "align": "left"
          },
          "hovermode": "closest",
          "mapbox": {
           "style": "light"
          },
          "paper_bgcolor": "white",
          "plot_bgcolor": "#E5ECF6",
          "polar": {
           "angularaxis": {
            "gridcolor": "white",
            "linecolor": "white",
            "ticks": ""
           },
           "bgcolor": "#E5ECF6",
           "radialaxis": {
            "gridcolor": "white",
            "linecolor": "white",
            "ticks": ""
           }
          },
          "scene": {
           "xaxis": {
            "backgroundcolor": "#E5ECF6",
            "gridcolor": "white",
            "gridwidth": 2,
            "linecolor": "white",
            "showbackground": true,
            "ticks": "",
            "zerolinecolor": "white"
           },
           "yaxis": {
            "backgroundcolor": "#E5ECF6",
            "gridcolor": "white",
            "gridwidth": 2,
            "linecolor": "white",
            "showbackground": true,
            "ticks": "",
            "zerolinecolor": "white"
           },
           "zaxis": {
            "backgroundcolor": "#E5ECF6",
            "gridcolor": "white",
            "gridwidth": 2,
            "linecolor": "white",
            "showbackground": true,
            "ticks": "",
            "zerolinecolor": "white"
           }
          },
          "shapedefaults": {
           "line": {
            "color": "#2a3f5f"
           }
          },
          "ternary": {
           "aaxis": {
            "gridcolor": "white",
            "linecolor": "white",
            "ticks": ""
           },
           "baxis": {
            "gridcolor": "white",
            "linecolor": "white",
            "ticks": ""
           },
           "bgcolor": "#E5ECF6",
           "caxis": {
            "gridcolor": "white",
            "linecolor": "white",
            "ticks": ""
           }
          },
          "title": {
           "x": 0.05
          },
          "xaxis": {
           "automargin": true,
           "gridcolor": "white",
           "linecolor": "white",
           "ticks": "",
           "title": {
            "standoff": 15
           },
           "zerolinecolor": "white",
           "zerolinewidth": 2
          },
          "yaxis": {
           "automargin": true,
           "gridcolor": "white",
           "linecolor": "white",
           "ticks": "",
           "title": {
            "standoff": 15
           },
           "zerolinecolor": "white",
           "zerolinewidth": 2
          }
         }
        },
        "title": {
         "text": "Churn Status Distribution"
        }
       }
      }
     },
     "metadata": {},
     "output_type": "display_data"
    }
   ],
   "source": [
    "churn_counts = churn_status_copy['ChurnStatus'].value_counts().sort_values(ascending=False)\n",
    "fig = px.pie(\n",
    "    names=churn_counts.index,\n",
    "    values=churn_counts.values,\n",
    "    title=\"Churn Status Distribution\"\n",
    ")\n",
    "fig.show()"
   ]
  },
  {
   "cell_type": "code",
   "execution_count": 35,
   "id": "3037e727",
   "metadata": {},
   "outputs": [
    {
     "data": {
      "text/html": [
       "<div>\n",
       "<style scoped>\n",
       "    .dataframe tbody tr th:only-of-type {\n",
       "        vertical-align: middle;\n",
       "    }\n",
       "\n",
       "    .dataframe tbody tr th {\n",
       "        vertical-align: top;\n",
       "    }\n",
       "\n",
       "    .dataframe thead th {\n",
       "        text-align: right;\n",
       "    }\n",
       "</style>\n",
       "<table border=\"1\" class=\"dataframe\">\n",
       "  <thead>\n",
       "    <tr style=\"text-align: right;\">\n",
       "      <th></th>\n",
       "      <th>CustomerID</th>\n",
       "      <th>FirstTransactionDate</th>\n",
       "    </tr>\n",
       "  </thead>\n",
       "  <tbody>\n",
       "    <tr>\n",
       "      <th>0</th>\n",
       "      <td>1</td>\n",
       "      <td>2022-03-27</td>\n",
       "    </tr>\n",
       "    <tr>\n",
       "      <th>1</th>\n",
       "      <td>2</td>\n",
       "      <td>2022-01-09</td>\n",
       "    </tr>\n",
       "    <tr>\n",
       "      <th>2</th>\n",
       "      <td>3</td>\n",
       "      <td>2022-02-11</td>\n",
       "    </tr>\n",
       "    <tr>\n",
       "      <th>3</th>\n",
       "      <td>4</td>\n",
       "      <td>2022-05-22</td>\n",
       "    </tr>\n",
       "    <tr>\n",
       "      <th>4</th>\n",
       "      <td>5</td>\n",
       "      <td>2022-02-21</td>\n",
       "    </tr>\n",
       "    <tr>\n",
       "      <th>...</th>\n",
       "      <td>...</td>\n",
       "      <td>...</td>\n",
       "    </tr>\n",
       "    <tr>\n",
       "      <th>995</th>\n",
       "      <td>996</td>\n",
       "      <td>2022-07-24</td>\n",
       "    </tr>\n",
       "    <tr>\n",
       "      <th>996</th>\n",
       "      <td>997</td>\n",
       "      <td>2022-08-06</td>\n",
       "    </tr>\n",
       "    <tr>\n",
       "      <th>997</th>\n",
       "      <td>998</td>\n",
       "      <td>2022-09-18</td>\n",
       "    </tr>\n",
       "    <tr>\n",
       "      <th>998</th>\n",
       "      <td>999</td>\n",
       "      <td>2022-01-20</td>\n",
       "    </tr>\n",
       "    <tr>\n",
       "      <th>999</th>\n",
       "      <td>1000</td>\n",
       "      <td>2022-04-08</td>\n",
       "    </tr>\n",
       "  </tbody>\n",
       "</table>\n",
       "<p>1000 rows × 2 columns</p>\n",
       "</div>"
      ],
      "text/plain": [
       "     CustomerID FirstTransactionDate\n",
       "0             1           2022-03-27\n",
       "1             2           2022-01-09\n",
       "2             3           2022-02-11\n",
       "3             4           2022-05-22\n",
       "4             5           2022-02-21\n",
       "..          ...                  ...\n",
       "995         996           2022-07-24\n",
       "996         997           2022-08-06\n",
       "997         998           2022-09-18\n",
       "998         999           2022-01-20\n",
       "999        1000           2022-04-08\n",
       "\n",
       "[1000 rows x 2 columns]"
      ]
     },
     "execution_count": 35,
     "metadata": {},
     "output_type": "execute_result"
    }
   ],
   "source": [
    "first_customer_transaction = transaction_history.groupby('CustomerID')['TransactionDate'].min().reset_index()\n",
    "first_customer_transaction.rename(columns={'TransactionDate': 'FirstTransactionDate'}, inplace=True)\n",
    "first_customer_transaction"
   ]
  },
  {
   "cell_type": "code",
   "execution_count": 36,
   "id": "0d7b032b",
   "metadata": {},
   "outputs": [
    {
     "data": {
      "text/html": [
       "<div>\n",
       "<style scoped>\n",
       "    .dataframe tbody tr th:only-of-type {\n",
       "        vertical-align: middle;\n",
       "    }\n",
       "\n",
       "    .dataframe tbody tr th {\n",
       "        vertical-align: top;\n",
       "    }\n",
       "\n",
       "    .dataframe thead th {\n",
       "        text-align: right;\n",
       "    }\n",
       "</style>\n",
       "<table border=\"1\" class=\"dataframe\">\n",
       "  <thead>\n",
       "    <tr style=\"text-align: right;\">\n",
       "      <th></th>\n",
       "      <th>CustomerID</th>\n",
       "      <th>LastTransactionDate</th>\n",
       "    </tr>\n",
       "  </thead>\n",
       "  <tbody>\n",
       "    <tr>\n",
       "      <th>0</th>\n",
       "      <td>1</td>\n",
       "      <td>2022-03-27</td>\n",
       "    </tr>\n",
       "    <tr>\n",
       "      <th>1</th>\n",
       "      <td>2</td>\n",
       "      <td>2022-11-19</td>\n",
       "    </tr>\n",
       "    <tr>\n",
       "      <th>2</th>\n",
       "      <td>3</td>\n",
       "      <td>2022-10-08</td>\n",
       "    </tr>\n",
       "    <tr>\n",
       "      <th>3</th>\n",
       "      <td>4</td>\n",
       "      <td>2022-12-27</td>\n",
       "    </tr>\n",
       "    <tr>\n",
       "      <th>4</th>\n",
       "      <td>5</td>\n",
       "      <td>2022-12-21</td>\n",
       "    </tr>\n",
       "    <tr>\n",
       "      <th>...</th>\n",
       "      <td>...</td>\n",
       "      <td>...</td>\n",
       "    </tr>\n",
       "    <tr>\n",
       "      <th>995</th>\n",
       "      <td>996</td>\n",
       "      <td>2022-07-24</td>\n",
       "    </tr>\n",
       "    <tr>\n",
       "      <th>996</th>\n",
       "      <td>997</td>\n",
       "      <td>2022-10-25</td>\n",
       "    </tr>\n",
       "    <tr>\n",
       "      <th>997</th>\n",
       "      <td>998</td>\n",
       "      <td>2022-09-18</td>\n",
       "    </tr>\n",
       "    <tr>\n",
       "      <th>998</th>\n",
       "      <td>999</td>\n",
       "      <td>2022-12-07</td>\n",
       "    </tr>\n",
       "    <tr>\n",
       "      <th>999</th>\n",
       "      <td>1000</td>\n",
       "      <td>2022-12-13</td>\n",
       "    </tr>\n",
       "  </tbody>\n",
       "</table>\n",
       "<p>1000 rows × 2 columns</p>\n",
       "</div>"
      ],
      "text/plain": [
       "     CustomerID LastTransactionDate\n",
       "0             1          2022-03-27\n",
       "1             2          2022-11-19\n",
       "2             3          2022-10-08\n",
       "3             4          2022-12-27\n",
       "4             5          2022-12-21\n",
       "..          ...                 ...\n",
       "995         996          2022-07-24\n",
       "996         997          2022-10-25\n",
       "997         998          2022-09-18\n",
       "998         999          2022-12-07\n",
       "999        1000          2022-12-13\n",
       "\n",
       "[1000 rows x 2 columns]"
      ]
     },
     "execution_count": 36,
     "metadata": {},
     "output_type": "execute_result"
    }
   ],
   "source": [
    "last_customer_transaction = transaction_history.groupby('CustomerID')['TransactionDate'].max().reset_index()\n",
    "last_customer_transaction.rename(columns={'TransactionDate': 'LastTransactionDate'}, inplace=True)\n",
    "last_customer_transaction"
   ]
  },
  {
   "cell_type": "code",
   "execution_count": 37,
   "id": "aff5e2e4",
   "metadata": {},
   "outputs": [],
   "source": [
    "# Count of online actions\n",
    "online_activity_count = online_activity[['CustomerID', 'LoginFrequency']].drop_duplicates('CustomerID')\n",
    "transaction_count_per_customer = (\n",
    "    transaction_history\n",
    "    .groupby('CustomerID')\n",
    "    .size()\n",
    "    .reset_index(name='TransactionCount')\n",
    ")\n",
    "# Most recent login date\n",
    "last_login_df = (\n",
    "    online_activity\n",
    "    .groupby('CustomerID')['LastLoginDate']\n",
    "    .max()\n",
    "    .reset_index(name='LastLoginDate')\n",
    ")\n",
    "\n",
    "\n",
    "\n",
    "# Merge both\n",
    "merged_df = (\n",
    "    customer_demographics\n",
    "    .merge(\n",
    "        transaction_history.groupby('CustomerID')['AmountSpent'].sum().reset_index(name='TotalSpent'),\n",
    "        on='CustomerID',\n",
    "        how='left'\n",
    "    )\n",
    "    .merge(\n",
    "        transaction_count_per_customer,\n",
    "        on='CustomerID',\n",
    "        how='left'\n",
    "    )\n",
    "    .merge(\n",
    "        first_customer_transaction,\n",
    "        on='CustomerID',\n",
    "        how='left'\n",
    "    )\n",
    "    .merge(\n",
    "        last_customer_transaction,\n",
    "        on='CustomerID',\n",
    "        how='left'\n",
    "    )\n",
    "    .merge(last_login_df, on='CustomerID', how='left')\n",
    "    .merge(\n",
    "        customer_service.groupby('CustomerID').size().reset_index(name='NumServiceInteractions'),\n",
    "        on='CustomerID',\n",
    "        how='left'\n",
    "    )\n",
    "    .merge(online_activity_count, on='CustomerID', how='left')\n",
    "    .merge(online_activity[['CustomerID', 'ServiceUsage']].drop_duplicates('CustomerID'), on='CustomerID', how='left')\n",
    "    .merge(churn_status, on='CustomerID', how='left')\n",
    ")\n"
   ]
  },
  {
   "cell_type": "code",
   "execution_count": 38,
   "id": "1a70f64c",
   "metadata": {},
   "outputs": [
    {
     "data": {
      "text/html": [
       "<div>\n",
       "<style scoped>\n",
       "    .dataframe tbody tr th:only-of-type {\n",
       "        vertical-align: middle;\n",
       "    }\n",
       "\n",
       "    .dataframe tbody tr th {\n",
       "        vertical-align: top;\n",
       "    }\n",
       "\n",
       "    .dataframe thead th {\n",
       "        text-align: right;\n",
       "    }\n",
       "</style>\n",
       "<table border=\"1\" class=\"dataframe\">\n",
       "  <thead>\n",
       "    <tr style=\"text-align: right;\">\n",
       "      <th></th>\n",
       "      <th>CustomerID</th>\n",
       "      <th>Age</th>\n",
       "      <th>Gender</th>\n",
       "      <th>MaritalStatus</th>\n",
       "      <th>IncomeLevel</th>\n",
       "      <th>TotalSpent</th>\n",
       "      <th>TransactionCount</th>\n",
       "      <th>FirstTransactionDate</th>\n",
       "      <th>LastTransactionDate</th>\n",
       "      <th>LastLoginDate</th>\n",
       "      <th>NumServiceInteractions</th>\n",
       "      <th>LoginFrequency</th>\n",
       "      <th>ServiceUsage</th>\n",
       "      <th>ChurnStatus</th>\n",
       "    </tr>\n",
       "  </thead>\n",
       "  <tbody>\n",
       "    <tr>\n",
       "      <th>0</th>\n",
       "      <td>1</td>\n",
       "      <td>62</td>\n",
       "      <td>M</td>\n",
       "      <td>Single</td>\n",
       "      <td>Low</td>\n",
       "      <td>416.50</td>\n",
       "      <td>1</td>\n",
       "      <td>2022-03-27</td>\n",
       "      <td>2022-03-27</td>\n",
       "      <td>2023-10-21</td>\n",
       "      <td>1.0</td>\n",
       "      <td>34</td>\n",
       "      <td>Mobile App</td>\n",
       "      <td>0</td>\n",
       "    </tr>\n",
       "    <tr>\n",
       "      <th>1</th>\n",
       "      <td>2</td>\n",
       "      <td>65</td>\n",
       "      <td>M</td>\n",
       "      <td>Married</td>\n",
       "      <td>Low</td>\n",
       "      <td>1547.42</td>\n",
       "      <td>7</td>\n",
       "      <td>2022-01-09</td>\n",
       "      <td>2022-11-19</td>\n",
       "      <td>2023-12-05</td>\n",
       "      <td>1.0</td>\n",
       "      <td>5</td>\n",
       "      <td>Website</td>\n",
       "      <td>1</td>\n",
       "    </tr>\n",
       "    <tr>\n",
       "      <th>2</th>\n",
       "      <td>3</td>\n",
       "      <td>18</td>\n",
       "      <td>M</td>\n",
       "      <td>Single</td>\n",
       "      <td>Low</td>\n",
       "      <td>1702.98</td>\n",
       "      <td>6</td>\n",
       "      <td>2022-02-11</td>\n",
       "      <td>2022-10-08</td>\n",
       "      <td>2023-11-15</td>\n",
       "      <td>1.0</td>\n",
       "      <td>3</td>\n",
       "      <td>Website</td>\n",
       "      <td>0</td>\n",
       "    </tr>\n",
       "    <tr>\n",
       "      <th>3</th>\n",
       "      <td>4</td>\n",
       "      <td>21</td>\n",
       "      <td>M</td>\n",
       "      <td>Widowed</td>\n",
       "      <td>Low</td>\n",
       "      <td>917.29</td>\n",
       "      <td>5</td>\n",
       "      <td>2022-05-22</td>\n",
       "      <td>2022-12-27</td>\n",
       "      <td>2023-08-25</td>\n",
       "      <td>2.0</td>\n",
       "      <td>2</td>\n",
       "      <td>Website</td>\n",
       "      <td>0</td>\n",
       "    </tr>\n",
       "    <tr>\n",
       "      <th>4</th>\n",
       "      <td>5</td>\n",
       "      <td>21</td>\n",
       "      <td>M</td>\n",
       "      <td>Divorced</td>\n",
       "      <td>Medium</td>\n",
       "      <td>2001.49</td>\n",
       "      <td>8</td>\n",
       "      <td>2022-02-21</td>\n",
       "      <td>2022-12-21</td>\n",
       "      <td>2023-10-27</td>\n",
       "      <td>NaN</td>\n",
       "      <td>41</td>\n",
       "      <td>Website</td>\n",
       "      <td>0</td>\n",
       "    </tr>\n",
       "  </tbody>\n",
       "</table>\n",
       "</div>"
      ],
      "text/plain": [
       "   CustomerID  Age Gender MaritalStatus IncomeLevel  TotalSpent  \\\n",
       "0           1   62      M        Single         Low      416.50   \n",
       "1           2   65      M       Married         Low     1547.42   \n",
       "2           3   18      M        Single         Low     1702.98   \n",
       "3           4   21      M       Widowed         Low      917.29   \n",
       "4           5   21      M      Divorced      Medium     2001.49   \n",
       "\n",
       "   TransactionCount FirstTransactionDate LastTransactionDate LastLoginDate  \\\n",
       "0                 1           2022-03-27          2022-03-27    2023-10-21   \n",
       "1                 7           2022-01-09          2022-11-19    2023-12-05   \n",
       "2                 6           2022-02-11          2022-10-08    2023-11-15   \n",
       "3                 5           2022-05-22          2022-12-27    2023-08-25   \n",
       "4                 8           2022-02-21          2022-12-21    2023-10-27   \n",
       "\n",
       "   NumServiceInteractions  LoginFrequency ServiceUsage  ChurnStatus  \n",
       "0                     1.0              34   Mobile App            0  \n",
       "1                     1.0               5      Website            1  \n",
       "2                     1.0               3      Website            0  \n",
       "3                     2.0               2      Website            0  \n",
       "4                     NaN              41      Website            0  "
      ]
     },
     "execution_count": 38,
     "metadata": {},
     "output_type": "execute_result"
    }
   ],
   "source": [
    "merged_df.head()"
   ]
  },
  {
   "cell_type": "code",
   "execution_count": 39,
   "id": "ea780503",
   "metadata": {},
   "outputs": [
    {
     "data": {
      "text/plain": [
       "CustomerID                  0\n",
       "Age                         0\n",
       "Gender                      0\n",
       "MaritalStatus               0\n",
       "IncomeLevel                 0\n",
       "TotalSpent                  0\n",
       "TransactionCount            0\n",
       "FirstTransactionDate        0\n",
       "LastTransactionDate         0\n",
       "LastLoginDate               0\n",
       "NumServiceInteractions    332\n",
       "LoginFrequency              0\n",
       "ServiceUsage                0\n",
       "ChurnStatus                 0\n",
       "dtype: int64"
      ]
     },
     "execution_count": 39,
     "metadata": {},
     "output_type": "execute_result"
    }
   ],
   "source": [
    "merged_df.isnull().sum()\n"
   ]
  },
  {
   "cell_type": "code",
   "execution_count": 40,
   "id": "e8680aec",
   "metadata": {},
   "outputs": [
    {
     "data": {
      "text/html": [
       "<div>\n",
       "<style scoped>\n",
       "    .dataframe tbody tr th:only-of-type {\n",
       "        vertical-align: middle;\n",
       "    }\n",
       "\n",
       "    .dataframe tbody tr th {\n",
       "        vertical-align: top;\n",
       "    }\n",
       "\n",
       "    .dataframe thead th {\n",
       "        text-align: right;\n",
       "    }\n",
       "</style>\n",
       "<table border=\"1\" class=\"dataframe\">\n",
       "  <thead>\n",
       "    <tr style=\"text-align: right;\">\n",
       "      <th></th>\n",
       "      <th>CustomerID</th>\n",
       "      <th>Age</th>\n",
       "      <th>Gender</th>\n",
       "      <th>MaritalStatus</th>\n",
       "      <th>IncomeLevel</th>\n",
       "      <th>TotalSpent</th>\n",
       "      <th>TransactionCount</th>\n",
       "      <th>FirstTransactionDate</th>\n",
       "      <th>LastTransactionDate</th>\n",
       "      <th>LastLoginDate</th>\n",
       "      <th>NumServiceInteractions</th>\n",
       "      <th>LoginFrequency</th>\n",
       "      <th>ServiceUsage</th>\n",
       "      <th>ChurnStatus</th>\n",
       "    </tr>\n",
       "  </thead>\n",
       "  <tbody>\n",
       "    <tr>\n",
       "      <th>0</th>\n",
       "      <td>1</td>\n",
       "      <td>62</td>\n",
       "      <td>M</td>\n",
       "      <td>Single</td>\n",
       "      <td>Low</td>\n",
       "      <td>416.50</td>\n",
       "      <td>1</td>\n",
       "      <td>2022-03-27</td>\n",
       "      <td>2022-03-27</td>\n",
       "      <td>2023-10-21</td>\n",
       "      <td>1.0</td>\n",
       "      <td>34</td>\n",
       "      <td>Mobile App</td>\n",
       "      <td>0</td>\n",
       "    </tr>\n",
       "    <tr>\n",
       "      <th>1</th>\n",
       "      <td>2</td>\n",
       "      <td>65</td>\n",
       "      <td>M</td>\n",
       "      <td>Married</td>\n",
       "      <td>Low</td>\n",
       "      <td>1547.42</td>\n",
       "      <td>7</td>\n",
       "      <td>2022-01-09</td>\n",
       "      <td>2022-11-19</td>\n",
       "      <td>2023-12-05</td>\n",
       "      <td>1.0</td>\n",
       "      <td>5</td>\n",
       "      <td>Website</td>\n",
       "      <td>1</td>\n",
       "    </tr>\n",
       "    <tr>\n",
       "      <th>2</th>\n",
       "      <td>3</td>\n",
       "      <td>18</td>\n",
       "      <td>M</td>\n",
       "      <td>Single</td>\n",
       "      <td>Low</td>\n",
       "      <td>1702.98</td>\n",
       "      <td>6</td>\n",
       "      <td>2022-02-11</td>\n",
       "      <td>2022-10-08</td>\n",
       "      <td>2023-11-15</td>\n",
       "      <td>1.0</td>\n",
       "      <td>3</td>\n",
       "      <td>Website</td>\n",
       "      <td>0</td>\n",
       "    </tr>\n",
       "    <tr>\n",
       "      <th>3</th>\n",
       "      <td>4</td>\n",
       "      <td>21</td>\n",
       "      <td>M</td>\n",
       "      <td>Widowed</td>\n",
       "      <td>Low</td>\n",
       "      <td>917.29</td>\n",
       "      <td>5</td>\n",
       "      <td>2022-05-22</td>\n",
       "      <td>2022-12-27</td>\n",
       "      <td>2023-08-25</td>\n",
       "      <td>2.0</td>\n",
       "      <td>2</td>\n",
       "      <td>Website</td>\n",
       "      <td>0</td>\n",
       "    </tr>\n",
       "    <tr>\n",
       "      <th>4</th>\n",
       "      <td>5</td>\n",
       "      <td>21</td>\n",
       "      <td>M</td>\n",
       "      <td>Divorced</td>\n",
       "      <td>Medium</td>\n",
       "      <td>2001.49</td>\n",
       "      <td>8</td>\n",
       "      <td>2022-02-21</td>\n",
       "      <td>2022-12-21</td>\n",
       "      <td>2023-10-27</td>\n",
       "      <td>0.0</td>\n",
       "      <td>41</td>\n",
       "      <td>Website</td>\n",
       "      <td>0</td>\n",
       "    </tr>\n",
       "    <tr>\n",
       "      <th>...</th>\n",
       "      <td>...</td>\n",
       "      <td>...</td>\n",
       "      <td>...</td>\n",
       "      <td>...</td>\n",
       "      <td>...</td>\n",
       "      <td>...</td>\n",
       "      <td>...</td>\n",
       "      <td>...</td>\n",
       "      <td>...</td>\n",
       "      <td>...</td>\n",
       "      <td>...</td>\n",
       "      <td>...</td>\n",
       "      <td>...</td>\n",
       "      <td>...</td>\n",
       "    </tr>\n",
       "    <tr>\n",
       "      <th>995</th>\n",
       "      <td>996</td>\n",
       "      <td>54</td>\n",
       "      <td>F</td>\n",
       "      <td>Single</td>\n",
       "      <td>Low</td>\n",
       "      <td>227.25</td>\n",
       "      <td>1</td>\n",
       "      <td>2022-07-24</td>\n",
       "      <td>2022-07-24</td>\n",
       "      <td>2023-01-29</td>\n",
       "      <td>0.0</td>\n",
       "      <td>38</td>\n",
       "      <td>Mobile App</td>\n",
       "      <td>0</td>\n",
       "    </tr>\n",
       "    <tr>\n",
       "      <th>996</th>\n",
       "      <td>997</td>\n",
       "      <td>19</td>\n",
       "      <td>M</td>\n",
       "      <td>Widowed</td>\n",
       "      <td>High</td>\n",
       "      <td>419.82</td>\n",
       "      <td>2</td>\n",
       "      <td>2022-08-06</td>\n",
       "      <td>2022-10-25</td>\n",
       "      <td>2023-04-01</td>\n",
       "      <td>0.0</td>\n",
       "      <td>5</td>\n",
       "      <td>Mobile App</td>\n",
       "      <td>0</td>\n",
       "    </tr>\n",
       "    <tr>\n",
       "      <th>997</th>\n",
       "      <td>998</td>\n",
       "      <td>47</td>\n",
       "      <td>M</td>\n",
       "      <td>Married</td>\n",
       "      <td>Low</td>\n",
       "      <td>252.15</td>\n",
       "      <td>1</td>\n",
       "      <td>2022-09-18</td>\n",
       "      <td>2022-09-18</td>\n",
       "      <td>2023-07-10</td>\n",
       "      <td>0.0</td>\n",
       "      <td>47</td>\n",
       "      <td>Website</td>\n",
       "      <td>0</td>\n",
       "    </tr>\n",
       "    <tr>\n",
       "      <th>998</th>\n",
       "      <td>999</td>\n",
       "      <td>23</td>\n",
       "      <td>M</td>\n",
       "      <td>Widowed</td>\n",
       "      <td>High</td>\n",
       "      <td>2393.26</td>\n",
       "      <td>9</td>\n",
       "      <td>2022-01-20</td>\n",
       "      <td>2022-12-07</td>\n",
       "      <td>2023-01-08</td>\n",
       "      <td>0.0</td>\n",
       "      <td>23</td>\n",
       "      <td>Website</td>\n",
       "      <td>0</td>\n",
       "    </tr>\n",
       "    <tr>\n",
       "      <th>999</th>\n",
       "      <td>1000</td>\n",
       "      <td>34</td>\n",
       "      <td>M</td>\n",
       "      <td>Widowed</td>\n",
       "      <td>Low</td>\n",
       "      <td>1670.79</td>\n",
       "      <td>6</td>\n",
       "      <td>2022-04-08</td>\n",
       "      <td>2022-12-13</td>\n",
       "      <td>2023-08-13</td>\n",
       "      <td>0.0</td>\n",
       "      <td>22</td>\n",
       "      <td>Mobile App</td>\n",
       "      <td>0</td>\n",
       "    </tr>\n",
       "  </tbody>\n",
       "</table>\n",
       "<p>1000 rows × 14 columns</p>\n",
       "</div>"
      ],
      "text/plain": [
       "     CustomerID  Age Gender MaritalStatus IncomeLevel  TotalSpent  \\\n",
       "0             1   62      M        Single         Low      416.50   \n",
       "1             2   65      M       Married         Low     1547.42   \n",
       "2             3   18      M        Single         Low     1702.98   \n",
       "3             4   21      M       Widowed         Low      917.29   \n",
       "4             5   21      M      Divorced      Medium     2001.49   \n",
       "..          ...  ...    ...           ...         ...         ...   \n",
       "995         996   54      F        Single         Low      227.25   \n",
       "996         997   19      M       Widowed        High      419.82   \n",
       "997         998   47      M       Married         Low      252.15   \n",
       "998         999   23      M       Widowed        High     2393.26   \n",
       "999        1000   34      M       Widowed         Low     1670.79   \n",
       "\n",
       "     TransactionCount FirstTransactionDate LastTransactionDate LastLoginDate  \\\n",
       "0                   1           2022-03-27          2022-03-27    2023-10-21   \n",
       "1                   7           2022-01-09          2022-11-19    2023-12-05   \n",
       "2                   6           2022-02-11          2022-10-08    2023-11-15   \n",
       "3                   5           2022-05-22          2022-12-27    2023-08-25   \n",
       "4                   8           2022-02-21          2022-12-21    2023-10-27   \n",
       "..                ...                  ...                 ...           ...   \n",
       "995                 1           2022-07-24          2022-07-24    2023-01-29   \n",
       "996                 2           2022-08-06          2022-10-25    2023-04-01   \n",
       "997                 1           2022-09-18          2022-09-18    2023-07-10   \n",
       "998                 9           2022-01-20          2022-12-07    2023-01-08   \n",
       "999                 6           2022-04-08          2022-12-13    2023-08-13   \n",
       "\n",
       "     NumServiceInteractions  LoginFrequency ServiceUsage  ChurnStatus  \n",
       "0                       1.0              34   Mobile App            0  \n",
       "1                       1.0               5      Website            1  \n",
       "2                       1.0               3      Website            0  \n",
       "3                       2.0               2      Website            0  \n",
       "4                       0.0              41      Website            0  \n",
       "..                      ...             ...          ...          ...  \n",
       "995                     0.0              38   Mobile App            0  \n",
       "996                     0.0               5   Mobile App            0  \n",
       "997                     0.0              47      Website            0  \n",
       "998                     0.0              23      Website            0  \n",
       "999                     0.0              22   Mobile App            0  \n",
       "\n",
       "[1000 rows x 14 columns]"
      ]
     },
     "execution_count": 40,
     "metadata": {},
     "output_type": "execute_result"
    }
   ],
   "source": [
    "merged_df_copy = merged_df.copy()\n",
    "\n",
    "merged_df_copy.fillna({'LastLoginDate': merged_df_copy['LastLoginDate'].median(),\n",
    "                        'ServiceUsage': 'Unknown',\n",
    "                        'TotalSpent': merged_df_copy['TotalSpent'].mean(),\n",
    "                        'NumServiceInteractions': 0}, inplace=True\n",
    "                        )\n",
    "merged_df_copy\n"
   ]
  },
  {
   "cell_type": "code",
   "execution_count": 41,
   "id": "d99ffd49",
   "metadata": {},
   "outputs": [
    {
     "data": {
      "text/plain": [
       "CustomerID                0\n",
       "Age                       0\n",
       "Gender                    0\n",
       "MaritalStatus             0\n",
       "IncomeLevel               0\n",
       "TotalSpent                0\n",
       "TransactionCount          0\n",
       "FirstTransactionDate      0\n",
       "LastTransactionDate       0\n",
       "LastLoginDate             0\n",
       "NumServiceInteractions    0\n",
       "LoginFrequency            0\n",
       "ServiceUsage              0\n",
       "ChurnStatus               0\n",
       "dtype: int64"
      ]
     },
     "execution_count": 41,
     "metadata": {},
     "output_type": "execute_result"
    }
   ],
   "source": [
    "merged_df_copy.isnull().sum()\n"
   ]
  },
  {
   "cell_type": "code",
   "execution_count": 42,
   "id": "3f07fa0a",
   "metadata": {},
   "outputs": [
    {
     "data": {
      "application/vnd.plotly.v1+json": {
       "config": {
        "plotlyServerURL": "https://plot.ly"
       },
       "data": [
        {
         "alignmentgroup": "True",
         "hovertemplate": "ChurnStatus=%{x}<br>TotalSpent=%{y}<extra></extra>",
         "legendgroup": "",
         "marker": {
          "color": "#636efa"
         },
         "name": "",
         "notched": false,
         "offsetgroup": "",
         "orientation": "v",
         "showlegend": false,
         "type": "box",
         "x": {
          "bdata": "AAEAAAAAAAEAAQAAAAAAAQABAAAAAAAAAAEAAAAAAAABAAAAAAAAAAEAAAAAAQAAAAABAAAAAAAAAAAAAQAAAAAAAAEAAAEBAQABAQAAAQABAAAAAAAAAAAAAAAAAAAAAAAAAQAAAAEAAAEBAAEBAAAAAAAAAAEAAAEBAAAAAAEAAAAAAAAAAAEAAAAAAAABAAAAAAAAAAAAAAAAAAAAAQAAAAEAAAABAAEAAAABAAEAAAAAAAABAAAAAAAAAQAAAAAAAAEAAAABAAAAAAAAAAAAAAABAAAAAQAAAAEAAAAAAAEAAAEBAAABAAEBAQEAAAEAAAAAAAEAAAEBAAEAAAAAAAEBAQAAAAAAAAAAAQEAAAABAAAAAAABAQAAAQAAAAAAAAAAAAAAAAAAAAAAAAAAAAAAAAEAAAABAAAAAAAAAAEAAAAAAAAAAAAAAAEAAAAAAAABAAAAAAAAAAABAAEAAAAAAQAAAAEAAAEAAAAAAAAAAAAAAAAAAAABAAAAAQAAAQEAAAAAAAEBAAAAAAABAAEAAAEAAAABAAAAAAAAAAEAAAEAAAAAAAAAAAAAAQAAAAAAAAABAAAAAAAAAAABAAAAAAAAAAAAAAABAAAAAQAAAQEAAAAAAAAAAQABAAEAAAAAAAEAAAEAAAAAAAABAAAAAAAAAAEBAAEBAQAAAAABAAEAAAEAAAAAAAAAAAEBAAAAAAABAAAAAAABAAEAAAAAAAAAAAAAAAAAAAEAAQAAAQAAAAAAAAAAAQABAQABAAAAAAAAAQABAQAAAAAAAAAAAAAAAAEAAAEAAQAAAAAAAAEAAQEBAQAAAAAAAQABAAABAAAAAAAAAAAAAAEAAQEAAQAAAAEAAAAAAAABAQAAAAAAAAAAAAAAAAAAAAEAAAEAAAAAAQAAAQAAAAAAAQAAAAEBAAABAAABAAAAAAAAAAAAAAAAAAEAAAAAAAAAAAAAAAAAAAAAAQAAAAAAAAAAAQAAAAAAAQAAAAABAAAAAQAAAAABAQAAAAAAAAAAAAAAAQABAAAAAAEAAAAAAAEBAAEAAAAAAAAAAQAAAAAAAAEBAAAAAAEAAAAAAAAAAAAAAQAAAQEAAAABAAAAAAEAAAAAAQAAAAAAAAEAAQAAAAAAAAEAAAAAAAAAAAAAAAEAAAAAAAAAAAAAAAAAAAAAAAAAAAAAAAAAAAAAAAEAAAABAAABAAAAAAAAAAAAAAABAQAAAAABAQEBAAAAAAAAAAEAAQAAAAAAAAAAAAEBAAAAAAAAAAAAAAAAAAEAAAEBAAAAAQEAAAABAAAAAQAAAQAAAAABAAEBAAAAAAEAAAAAAA==",
          "dtype": "i1"
         },
         "x0": " ",
         "xaxis": "x",
         "y": {
          "bdata": "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",
          "dtype": "f8"
         },
         "y0": " ",
         "yaxis": "y"
        }
       ],
       "layout": {
        "boxmode": "group",
        "legend": {
         "tracegroupgap": 0
        },
        "margin": {
         "t": 60
        },
        "template": {
         "data": {
          "bar": [
           {
            "error_x": {
             "color": "#2a3f5f"
            },
            "error_y": {
             "color": "#2a3f5f"
            },
            "marker": {
             "line": {
              "color": "#E5ECF6",
              "width": 0.5
             },
             "pattern": {
              "fillmode": "overlay",
              "size": 10,
              "solidity": 0.2
             }
            },
            "type": "bar"
           }
          ],
          "barpolar": [
           {
            "marker": {
             "line": {
              "color": "#E5ECF6",
              "width": 0.5
             },
             "pattern": {
              "fillmode": "overlay",
              "size": 10,
              "solidity": 0.2
             }
            },
            "type": "barpolar"
           }
          ],
          "carpet": [
           {
            "aaxis": {
             "endlinecolor": "#2a3f5f",
             "gridcolor": "white",
             "linecolor": "white",
             "minorgridcolor": "white",
             "startlinecolor": "#2a3f5f"
            },
            "baxis": {
             "endlinecolor": "#2a3f5f",
             "gridcolor": "white",
             "linecolor": "white",
             "minorgridcolor": "white",
             "startlinecolor": "#2a3f5f"
            },
            "type": "carpet"
           }
          ],
          "choropleth": [
           {
            "colorbar": {
             "outlinewidth": 0,
             "ticks": ""
            },
            "type": "choropleth"
           }
          ],
          "contour": [
           {
            "colorbar": {
             "outlinewidth": 0,
             "ticks": ""
            },
            "colorscale": [
             [
              0,
              "#0d0887"
             ],
             [
              0.1111111111111111,
              "#46039f"
             ],
             [
              0.2222222222222222,
              "#7201a8"
             ],
             [
              0.3333333333333333,
              "#9c179e"
             ],
             [
              0.4444444444444444,
              "#bd3786"
             ],
             [
              0.5555555555555556,
              "#d8576b"
             ],
             [
              0.6666666666666666,
              "#ed7953"
             ],
             [
              0.7777777777777778,
              "#fb9f3a"
             ],
             [
              0.8888888888888888,
              "#fdca26"
             ],
             [
              1,
              "#f0f921"
             ]
            ],
            "type": "contour"
           }
          ],
          "contourcarpet": [
           {
            "colorbar": {
             "outlinewidth": 0,
             "ticks": ""
            },
            "type": "contourcarpet"
           }
          ],
          "heatmap": [
           {
            "colorbar": {
             "outlinewidth": 0,
             "ticks": ""
            },
            "colorscale": [
             [
              0,
              "#0d0887"
             ],
             [
              0.1111111111111111,
              "#46039f"
             ],
             [
              0.2222222222222222,
              "#7201a8"
             ],
             [
              0.3333333333333333,
              "#9c179e"
             ],
             [
              0.4444444444444444,
              "#bd3786"
             ],
             [
              0.5555555555555556,
              "#d8576b"
             ],
             [
              0.6666666666666666,
              "#ed7953"
             ],
             [
              0.7777777777777778,
              "#fb9f3a"
             ],
             [
              0.8888888888888888,
              "#fdca26"
             ],
             [
              1,
              "#f0f921"
             ]
            ],
            "type": "heatmap"
           }
          ],
          "histogram": [
           {
            "marker": {
             "pattern": {
              "fillmode": "overlay",
              "size": 10,
              "solidity": 0.2
             }
            },
            "type": "histogram"
           }
          ],
          "histogram2d": [
           {
            "colorbar": {
             "outlinewidth": 0,
             "ticks": ""
            },
            "colorscale": [
             [
              0,
              "#0d0887"
             ],
             [
              0.1111111111111111,
              "#46039f"
             ],
             [
              0.2222222222222222,
              "#7201a8"
             ],
             [
              0.3333333333333333,
              "#9c179e"
             ],
             [
              0.4444444444444444,
              "#bd3786"
             ],
             [
              0.5555555555555556,
              "#d8576b"
             ],
             [
              0.6666666666666666,
              "#ed7953"
             ],
             [
              0.7777777777777778,
              "#fb9f3a"
             ],
             [
              0.8888888888888888,
              "#fdca26"
             ],
             [
              1,
              "#f0f921"
             ]
            ],
            "type": "histogram2d"
           }
          ],
          "histogram2dcontour": [
           {
            "colorbar": {
             "outlinewidth": 0,
             "ticks": ""
            },
            "colorscale": [
             [
              0,
              "#0d0887"
             ],
             [
              0.1111111111111111,
              "#46039f"
             ],
             [
              0.2222222222222222,
              "#7201a8"
             ],
             [
              0.3333333333333333,
              "#9c179e"
             ],
             [
              0.4444444444444444,
              "#bd3786"
             ],
             [
              0.5555555555555556,
              "#d8576b"
             ],
             [
              0.6666666666666666,
              "#ed7953"
             ],
             [
              0.7777777777777778,
              "#fb9f3a"
             ],
             [
              0.8888888888888888,
              "#fdca26"
             ],
             [
              1,
              "#f0f921"
             ]
            ],
            "type": "histogram2dcontour"
           }
          ],
          "mesh3d": [
           {
            "colorbar": {
             "outlinewidth": 0,
             "ticks": ""
            },
            "type": "mesh3d"
           }
          ],
          "parcoords": [
           {
            "line": {
             "colorbar": {
              "outlinewidth": 0,
              "ticks": ""
             }
            },
            "type": "parcoords"
           }
          ],
          "pie": [
           {
            "automargin": true,
            "type": "pie"
           }
          ],
          "scatter": [
           {
            "fillpattern": {
             "fillmode": "overlay",
             "size": 10,
             "solidity": 0.2
            },
            "type": "scatter"
           }
          ],
          "scatter3d": [
           {
            "line": {
             "colorbar": {
              "outlinewidth": 0,
              "ticks": ""
             }
            },
            "marker": {
             "colorbar": {
              "outlinewidth": 0,
              "ticks": ""
             }
            },
            "type": "scatter3d"
           }
          ],
          "scattercarpet": [
           {
            "marker": {
             "colorbar": {
              "outlinewidth": 0,
              "ticks": ""
             }
            },
            "type": "scattercarpet"
           }
          ],
          "scattergeo": [
           {
            "marker": {
             "colorbar": {
              "outlinewidth": 0,
              "ticks": ""
             }
            },
            "type": "scattergeo"
           }
          ],
          "scattergl": [
           {
            "marker": {
             "colorbar": {
              "outlinewidth": 0,
              "ticks": ""
             }
            },
            "type": "scattergl"
           }
          ],
          "scattermap": [
           {
            "marker": {
             "colorbar": {
              "outlinewidth": 0,
              "ticks": ""
             }
            },
            "type": "scattermap"
           }
          ],
          "scattermapbox": [
           {
            "marker": {
             "colorbar": {
              "outlinewidth": 0,
              "ticks": ""
             }
            },
            "type": "scattermapbox"
           }
          ],
          "scatterpolar": [
           {
            "marker": {
             "colorbar": {
              "outlinewidth": 0,
              "ticks": ""
             }
            },
            "type": "scatterpolar"
           }
          ],
          "scatterpolargl": [
           {
            "marker": {
             "colorbar": {
              "outlinewidth": 0,
              "ticks": ""
             }
            },
            "type": "scatterpolargl"
           }
          ],
          "scatterternary": [
           {
            "marker": {
             "colorbar": {
              "outlinewidth": 0,
              "ticks": ""
             }
            },
            "type": "scatterternary"
           }
          ],
          "surface": [
           {
            "colorbar": {
             "outlinewidth": 0,
             "ticks": ""
            },
            "colorscale": [
             [
              0,
              "#0d0887"
             ],
             [
              0.1111111111111111,
              "#46039f"
             ],
             [
              0.2222222222222222,
              "#7201a8"
             ],
             [
              0.3333333333333333,
              "#9c179e"
             ],
             [
              0.4444444444444444,
              "#bd3786"
             ],
             [
              0.5555555555555556,
              "#d8576b"
             ],
             [
              0.6666666666666666,
              "#ed7953"
             ],
             [
              0.7777777777777778,
              "#fb9f3a"
             ],
             [
              0.8888888888888888,
              "#fdca26"
             ],
             [
              1,
              "#f0f921"
             ]
            ],
            "type": "surface"
           }
          ],
          "table": [
           {
            "cells": {
             "fill": {
              "color": "#EBF0F8"
             },
             "line": {
              "color": "white"
             }
            },
            "header": {
             "fill": {
              "color": "#C8D4E3"
             },
             "line": {
              "color": "white"
             }
            },
            "type": "table"
           }
          ]
         },
         "layout": {
          "annotationdefaults": {
           "arrowcolor": "#2a3f5f",
           "arrowhead": 0,
           "arrowwidth": 1
          },
          "autotypenumbers": "strict",
          "coloraxis": {
           "colorbar": {
            "outlinewidth": 0,
            "ticks": ""
           }
          },
          "colorscale": {
           "diverging": [
            [
             0,
             "#8e0152"
            ],
            [
             0.1,
             "#c51b7d"
            ],
            [
             0.2,
             "#de77ae"
            ],
            [
             0.3,
             "#f1b6da"
            ],
            [
             0.4,
             "#fde0ef"
            ],
            [
             0.5,
             "#f7f7f7"
            ],
            [
             0.6,
             "#e6f5d0"
            ],
            [
             0.7,
             "#b8e186"
            ],
            [
             0.8,
             "#7fbc41"
            ],
            [
             0.9,
             "#4d9221"
            ],
            [
             1,
             "#276419"
            ]
           ],
           "sequential": [
            [
             0,
             "#0d0887"
            ],
            [
             0.1111111111111111,
             "#46039f"
            ],
            [
             0.2222222222222222,
             "#7201a8"
            ],
            [
             0.3333333333333333,
             "#9c179e"
            ],
            [
             0.4444444444444444,
             "#bd3786"
            ],
            [
             0.5555555555555556,
             "#d8576b"
            ],
            [
             0.6666666666666666,
             "#ed7953"
            ],
            [
             0.7777777777777778,
             "#fb9f3a"
            ],
            [
             0.8888888888888888,
             "#fdca26"
            ],
            [
             1,
             "#f0f921"
            ]
           ],
           "sequentialminus": [
            [
             0,
             "#0d0887"
            ],
            [
             0.1111111111111111,
             "#46039f"
            ],
            [
             0.2222222222222222,
             "#7201a8"
            ],
            [
             0.3333333333333333,
             "#9c179e"
            ],
            [
             0.4444444444444444,
             "#bd3786"
            ],
            [
             0.5555555555555556,
             "#d8576b"
            ],
            [
             0.6666666666666666,
             "#ed7953"
            ],
            [
             0.7777777777777778,
             "#fb9f3a"
            ],
            [
             0.8888888888888888,
             "#fdca26"
            ],
            [
             1,
             "#f0f921"
            ]
           ]
          },
          "colorway": [
           "#636efa",
           "#EF553B",
           "#00cc96",
           "#ab63fa",
           "#FFA15A",
           "#19d3f3",
           "#FF6692",
           "#B6E880",
           "#FF97FF",
           "#FECB52"
          ],
          "font": {
           "color": "#2a3f5f"
          },
          "geo": {
           "bgcolor": "white",
           "lakecolor": "white",
           "landcolor": "#E5ECF6",
           "showlakes": true,
           "showland": true,
           "subunitcolor": "white"
          },
          "hoverlabel": {
           "align": "left"
          },
          "hovermode": "closest",
          "mapbox": {
           "style": "light"
          },
          "paper_bgcolor": "white",
          "plot_bgcolor": "#E5ECF6",
          "polar": {
           "angularaxis": {
            "gridcolor": "white",
            "linecolor": "white",
            "ticks": ""
           },
           "bgcolor": "#E5ECF6",
           "radialaxis": {
            "gridcolor": "white",
            "linecolor": "white",
            "ticks": ""
           }
          },
          "scene": {
           "xaxis": {
            "backgroundcolor": "#E5ECF6",
            "gridcolor": "white",
            "gridwidth": 2,
            "linecolor": "white",
            "showbackground": true,
            "ticks": "",
            "zerolinecolor": "white"
           },
           "yaxis": {
            "backgroundcolor": "#E5ECF6",
            "gridcolor": "white",
            "gridwidth": 2,
            "linecolor": "white",
            "showbackground": true,
            "ticks": "",
            "zerolinecolor": "white"
           },
           "zaxis": {
            "backgroundcolor": "#E5ECF6",
            "gridcolor": "white",
            "gridwidth": 2,
            "linecolor": "white",
            "showbackground": true,
            "ticks": "",
            "zerolinecolor": "white"
           }
          },
          "shapedefaults": {
           "line": {
            "color": "#2a3f5f"
           }
          },
          "ternary": {
           "aaxis": {
            "gridcolor": "white",
            "linecolor": "white",
            "ticks": ""
           },
           "baxis": {
            "gridcolor": "white",
            "linecolor": "white",
            "ticks": ""
           },
           "bgcolor": "#E5ECF6",
           "caxis": {
            "gridcolor": "white",
            "linecolor": "white",
            "ticks": ""
           }
          },
          "title": {
           "x": 0.05
          },
          "xaxis": {
           "automargin": true,
           "gridcolor": "white",
           "linecolor": "white",
           "ticks": "",
           "title": {
            "standoff": 15
           },
           "zerolinecolor": "white",
           "zerolinewidth": 2
          },
          "yaxis": {
           "automargin": true,
           "gridcolor": "white",
           "linecolor": "white",
           "ticks": "",
           "title": {
            "standoff": 15
           },
           "zerolinecolor": "white",
           "zerolinewidth": 2
          }
         }
        },
        "xaxis": {
         "anchor": "y",
         "domain": [
          0,
          1
         ],
         "title": {
          "text": "ChurnStatus"
         }
        },
        "yaxis": {
         "anchor": "x",
         "domain": [
          0,
          1
         ],
         "title": {
          "text": "TotalSpent"
         }
        }
       }
      }
     },
     "metadata": {},
     "output_type": "display_data"
    }
   ],
   "source": [
    "px.box(merged_df, x='ChurnStatus', y='TotalSpent')\n"
   ]
  },
  {
   "cell_type": "code",
   "execution_count": 43,
   "id": "67f44bc7",
   "metadata": {},
   "outputs": [
    {
     "data": {
      "application/vnd.plotly.v1+json": {
       "config": {
        "plotlyServerURL": "https://plot.ly"
       },
       "data": [
        {
         "hovertemplate": "IncomeLevel=%{x}<br>Churn Probability=%{y}<extra></extra>",
         "legendgroup": "",
         "marker": {
          "color": "#636efa",
          "pattern": {
           "shape": ""
          }
         },
         "name": "",
         "orientation": "v",
         "showlegend": false,
         "textposition": "auto",
         "type": "bar",
         "x": [
          "Low",
          "Medium",
          "High"
         ],
         "xaxis": "x",
         "y": {
          "bdata": "g5KOT19bzD+xJfg2f4XJP1YHbnK0ksg/",
          "dtype": "f8"
         },
         "yaxis": "y"
        }
       ],
       "layout": {
        "barmode": "relative",
        "height": 500,
        "legend": {
         "tracegroupgap": 0
        },
        "template": {
         "data": {
          "bar": [
           {
            "error_x": {
             "color": "#2a3f5f"
            },
            "error_y": {
             "color": "#2a3f5f"
            },
            "marker": {
             "line": {
              "color": "#E5ECF6",
              "width": 0.5
             },
             "pattern": {
              "fillmode": "overlay",
              "size": 10,
              "solidity": 0.2
             }
            },
            "type": "bar"
           }
          ],
          "barpolar": [
           {
            "marker": {
             "line": {
              "color": "#E5ECF6",
              "width": 0.5
             },
             "pattern": {
              "fillmode": "overlay",
              "size": 10,
              "solidity": 0.2
             }
            },
            "type": "barpolar"
           }
          ],
          "carpet": [
           {
            "aaxis": {
             "endlinecolor": "#2a3f5f",
             "gridcolor": "white",
             "linecolor": "white",
             "minorgridcolor": "white",
             "startlinecolor": "#2a3f5f"
            },
            "baxis": {
             "endlinecolor": "#2a3f5f",
             "gridcolor": "white",
             "linecolor": "white",
             "minorgridcolor": "white",
             "startlinecolor": "#2a3f5f"
            },
            "type": "carpet"
           }
          ],
          "choropleth": [
           {
            "colorbar": {
             "outlinewidth": 0,
             "ticks": ""
            },
            "type": "choropleth"
           }
          ],
          "contour": [
           {
            "colorbar": {
             "outlinewidth": 0,
             "ticks": ""
            },
            "colorscale": [
             [
              0,
              "#0d0887"
             ],
             [
              0.1111111111111111,
              "#46039f"
             ],
             [
              0.2222222222222222,
              "#7201a8"
             ],
             [
              0.3333333333333333,
              "#9c179e"
             ],
             [
              0.4444444444444444,
              "#bd3786"
             ],
             [
              0.5555555555555556,
              "#d8576b"
             ],
             [
              0.6666666666666666,
              "#ed7953"
             ],
             [
              0.7777777777777778,
              "#fb9f3a"
             ],
             [
              0.8888888888888888,
              "#fdca26"
             ],
             [
              1,
              "#f0f921"
             ]
            ],
            "type": "contour"
           }
          ],
          "contourcarpet": [
           {
            "colorbar": {
             "outlinewidth": 0,
             "ticks": ""
            },
            "type": "contourcarpet"
           }
          ],
          "heatmap": [
           {
            "colorbar": {
             "outlinewidth": 0,
             "ticks": ""
            },
            "colorscale": [
             [
              0,
              "#0d0887"
             ],
             [
              0.1111111111111111,
              "#46039f"
             ],
             [
              0.2222222222222222,
              "#7201a8"
             ],
             [
              0.3333333333333333,
              "#9c179e"
             ],
             [
              0.4444444444444444,
              "#bd3786"
             ],
             [
              0.5555555555555556,
              "#d8576b"
             ],
             [
              0.6666666666666666,
              "#ed7953"
             ],
             [
              0.7777777777777778,
              "#fb9f3a"
             ],
             [
              0.8888888888888888,
              "#fdca26"
             ],
             [
              1,
              "#f0f921"
             ]
            ],
            "type": "heatmap"
           }
          ],
          "histogram": [
           {
            "marker": {
             "pattern": {
              "fillmode": "overlay",
              "size": 10,
              "solidity": 0.2
             }
            },
            "type": "histogram"
           }
          ],
          "histogram2d": [
           {
            "colorbar": {
             "outlinewidth": 0,
             "ticks": ""
            },
            "colorscale": [
             [
              0,
              "#0d0887"
             ],
             [
              0.1111111111111111,
              "#46039f"
             ],
             [
              0.2222222222222222,
              "#7201a8"
             ],
             [
              0.3333333333333333,
              "#9c179e"
             ],
             [
              0.4444444444444444,
              "#bd3786"
             ],
             [
              0.5555555555555556,
              "#d8576b"
             ],
             [
              0.6666666666666666,
              "#ed7953"
             ],
             [
              0.7777777777777778,
              "#fb9f3a"
             ],
             [
              0.8888888888888888,
              "#fdca26"
             ],
             [
              1,
              "#f0f921"
             ]
            ],
            "type": "histogram2d"
           }
          ],
          "histogram2dcontour": [
           {
            "colorbar": {
             "outlinewidth": 0,
             "ticks": ""
            },
            "colorscale": [
             [
              0,
              "#0d0887"
             ],
             [
              0.1111111111111111,
              "#46039f"
             ],
             [
              0.2222222222222222,
              "#7201a8"
             ],
             [
              0.3333333333333333,
              "#9c179e"
             ],
             [
              0.4444444444444444,
              "#bd3786"
             ],
             [
              0.5555555555555556,
              "#d8576b"
             ],
             [
              0.6666666666666666,
              "#ed7953"
             ],
             [
              0.7777777777777778,
              "#fb9f3a"
             ],
             [
              0.8888888888888888,
              "#fdca26"
             ],
             [
              1,
              "#f0f921"
             ]
            ],
            "type": "histogram2dcontour"
           }
          ],
          "mesh3d": [
           {
            "colorbar": {
             "outlinewidth": 0,
             "ticks": ""
            },
            "type": "mesh3d"
           }
          ],
          "parcoords": [
           {
            "line": {
             "colorbar": {
              "outlinewidth": 0,
              "ticks": ""
             }
            },
            "type": "parcoords"
           }
          ],
          "pie": [
           {
            "automargin": true,
            "type": "pie"
           }
          ],
          "scatter": [
           {
            "fillpattern": {
             "fillmode": "overlay",
             "size": 10,
             "solidity": 0.2
            },
            "type": "scatter"
           }
          ],
          "scatter3d": [
           {
            "line": {
             "colorbar": {
              "outlinewidth": 0,
              "ticks": ""
             }
            },
            "marker": {
             "colorbar": {
              "outlinewidth": 0,
              "ticks": ""
             }
            },
            "type": "scatter3d"
           }
          ],
          "scattercarpet": [
           {
            "marker": {
             "colorbar": {
              "outlinewidth": 0,
              "ticks": ""
             }
            },
            "type": "scattercarpet"
           }
          ],
          "scattergeo": [
           {
            "marker": {
             "colorbar": {
              "outlinewidth": 0,
              "ticks": ""
             }
            },
            "type": "scattergeo"
           }
          ],
          "scattergl": [
           {
            "marker": {
             "colorbar": {
              "outlinewidth": 0,
              "ticks": ""
             }
            },
            "type": "scattergl"
           }
          ],
          "scattermap": [
           {
            "marker": {
             "colorbar": {
              "outlinewidth": 0,
              "ticks": ""
             }
            },
            "type": "scattermap"
           }
          ],
          "scattermapbox": [
           {
            "marker": {
             "colorbar": {
              "outlinewidth": 0,
              "ticks": ""
             }
            },
            "type": "scattermapbox"
           }
          ],
          "scatterpolar": [
           {
            "marker": {
             "colorbar": {
              "outlinewidth": 0,
              "ticks": ""
             }
            },
            "type": "scatterpolar"
           }
          ],
          "scatterpolargl": [
           {
            "marker": {
             "colorbar": {
              "outlinewidth": 0,
              "ticks": ""
             }
            },
            "type": "scatterpolargl"
           }
          ],
          "scatterternary": [
           {
            "marker": {
             "colorbar": {
              "outlinewidth": 0,
              "ticks": ""
             }
            },
            "type": "scatterternary"
           }
          ],
          "surface": [
           {
            "colorbar": {
             "outlinewidth": 0,
             "ticks": ""
            },
            "colorscale": [
             [
              0,
              "#0d0887"
             ],
             [
              0.1111111111111111,
              "#46039f"
             ],
             [
              0.2222222222222222,
              "#7201a8"
             ],
             [
              0.3333333333333333,
              "#9c179e"
             ],
             [
              0.4444444444444444,
              "#bd3786"
             ],
             [
              0.5555555555555556,
              "#d8576b"
             ],
             [
              0.6666666666666666,
              "#ed7953"
             ],
             [
              0.7777777777777778,
              "#fb9f3a"
             ],
             [
              0.8888888888888888,
              "#fdca26"
             ],
             [
              1,
              "#f0f921"
             ]
            ],
            "type": "surface"
           }
          ],
          "table": [
           {
            "cells": {
             "fill": {
              "color": "#EBF0F8"
             },
             "line": {
              "color": "white"
             }
            },
            "header": {
             "fill": {
              "color": "#C8D4E3"
             },
             "line": {
              "color": "white"
             }
            },
            "type": "table"
           }
          ]
         },
         "layout": {
          "annotationdefaults": {
           "arrowcolor": "#2a3f5f",
           "arrowhead": 0,
           "arrowwidth": 1
          },
          "autotypenumbers": "strict",
          "coloraxis": {
           "colorbar": {
            "outlinewidth": 0,
            "ticks": ""
           }
          },
          "colorscale": {
           "diverging": [
            [
             0,
             "#8e0152"
            ],
            [
             0.1,
             "#c51b7d"
            ],
            [
             0.2,
             "#de77ae"
            ],
            [
             0.3,
             "#f1b6da"
            ],
            [
             0.4,
             "#fde0ef"
            ],
            [
             0.5,
             "#f7f7f7"
            ],
            [
             0.6,
             "#e6f5d0"
            ],
            [
             0.7,
             "#b8e186"
            ],
            [
             0.8,
             "#7fbc41"
            ],
            [
             0.9,
             "#4d9221"
            ],
            [
             1,
             "#276419"
            ]
           ],
           "sequential": [
            [
             0,
             "#0d0887"
            ],
            [
             0.1111111111111111,
             "#46039f"
            ],
            [
             0.2222222222222222,
             "#7201a8"
            ],
            [
             0.3333333333333333,
             "#9c179e"
            ],
            [
             0.4444444444444444,
             "#bd3786"
            ],
            [
             0.5555555555555556,
             "#d8576b"
            ],
            [
             0.6666666666666666,
             "#ed7953"
            ],
            [
             0.7777777777777778,
             "#fb9f3a"
            ],
            [
             0.8888888888888888,
             "#fdca26"
            ],
            [
             1,
             "#f0f921"
            ]
           ],
           "sequentialminus": [
            [
             0,
             "#0d0887"
            ],
            [
             0.1111111111111111,
             "#46039f"
            ],
            [
             0.2222222222222222,
             "#7201a8"
            ],
            [
             0.3333333333333333,
             "#9c179e"
            ],
            [
             0.4444444444444444,
             "#bd3786"
            ],
            [
             0.5555555555555556,
             "#d8576b"
            ],
            [
             0.6666666666666666,
             "#ed7953"
            ],
            [
             0.7777777777777778,
             "#fb9f3a"
            ],
            [
             0.8888888888888888,
             "#fdca26"
            ],
            [
             1,
             "#f0f921"
            ]
           ]
          },
          "colorway": [
           "#636efa",
           "#EF553B",
           "#00cc96",
           "#ab63fa",
           "#FFA15A",
           "#19d3f3",
           "#FF6692",
           "#B6E880",
           "#FF97FF",
           "#FECB52"
          ],
          "font": {
           "color": "#2a3f5f"
          },
          "geo": {
           "bgcolor": "white",
           "lakecolor": "white",
           "landcolor": "#E5ECF6",
           "showlakes": true,
           "showland": true,
           "subunitcolor": "white"
          },
          "hoverlabel": {
           "align": "left"
          },
          "hovermode": "closest",
          "mapbox": {
           "style": "light"
          },
          "paper_bgcolor": "white",
          "plot_bgcolor": "#E5ECF6",
          "polar": {
           "angularaxis": {
            "gridcolor": "white",
            "linecolor": "white",
            "ticks": ""
           },
           "bgcolor": "#E5ECF6",
           "radialaxis": {
            "gridcolor": "white",
            "linecolor": "white",
            "ticks": ""
           }
          },
          "scene": {
           "xaxis": {
            "backgroundcolor": "#E5ECF6",
            "gridcolor": "white",
            "gridwidth": 2,
            "linecolor": "white",
            "showbackground": true,
            "ticks": "",
            "zerolinecolor": "white"
           },
           "yaxis": {
            "backgroundcolor": "#E5ECF6",
            "gridcolor": "white",
            "gridwidth": 2,
            "linecolor": "white",
            "showbackground": true,
            "ticks": "",
            "zerolinecolor": "white"
           },
           "zaxis": {
            "backgroundcolor": "#E5ECF6",
            "gridcolor": "white",
            "gridwidth": 2,
            "linecolor": "white",
            "showbackground": true,
            "ticks": "",
            "zerolinecolor": "white"
           }
          },
          "shapedefaults": {
           "line": {
            "color": "#2a3f5f"
           }
          },
          "ternary": {
           "aaxis": {
            "gridcolor": "white",
            "linecolor": "white",
            "ticks": ""
           },
           "baxis": {
            "gridcolor": "white",
            "linecolor": "white",
            "ticks": ""
           },
           "bgcolor": "#E5ECF6",
           "caxis": {
            "gridcolor": "white",
            "linecolor": "white",
            "ticks": ""
           }
          },
          "title": {
           "x": 0.05
          },
          "xaxis": {
           "automargin": true,
           "gridcolor": "white",
           "linecolor": "white",
           "ticks": "",
           "title": {
            "standoff": 15
           },
           "zerolinecolor": "white",
           "zerolinewidth": 2
          },
          "yaxis": {
           "automargin": true,
           "gridcolor": "white",
           "linecolor": "white",
           "ticks": "",
           "title": {
            "standoff": 15
           },
           "zerolinecolor": "white",
           "zerolinewidth": 2
          }
         }
        },
        "title": {
         "text": "Churn Rate Probability by Income Level"
        },
        "width": 500,
        "xaxis": {
         "anchor": "y",
         "domain": [
          0,
          1
         ],
         "tickangle": 45,
         "title": {
          "text": "Income Level"
         }
        },
        "yaxis": {
         "anchor": "x",
         "domain": [
          0,
          1
         ],
         "title": {
          "text": "Churn Probability"
         }
        }
       }
      }
     },
     "metadata": {},
     "output_type": "display_data"
    }
   ],
   "source": [
    "# Churn rate by income level\n",
    "churn_by_income = merged_df_copy.groupby('IncomeLevel')['ChurnStatus'].mean().sort_values(ascending=False).reset_index()\n",
    "fig = px.bar(churn_by_income, x='IncomeLevel', y='ChurnStatus', \n",
    "        title='Churn Rate Probability by Income Level', labels={'ChurnStatus':'Churn Probability'})\n",
    "\n",
    "fig.update_layout(\n",
    "        xaxis_title='Income Level',\n",
    "        yaxis_title='Churn Probability',\n",
    "        xaxis_tickangle=45,\n",
    "        width=500,\n",
    "        height=500\n",
    ")\n",
    "\n",
    "fig.show()"
   ]
  },
  {
   "cell_type": "code",
   "execution_count": 44,
   "id": "65cb350c",
   "metadata": {},
   "outputs": [
    {
     "name": "stderr",
     "output_type": "stream",
     "text": [
      "C:\\Users\\Admin\\AppData\\Local\\Temp\\ipykernel_13280\\447999251.py:8: FutureWarning:\n",
      "\n",
      "The default of observed=False is deprecated and will be changed to True in a future version of pandas. Pass observed=False to retain current behavior or observed=True to adopt the future default and silence this warning.\n",
      "\n"
     ]
    },
    {
     "data": {
      "application/vnd.plotly.v1+json": {
       "config": {
        "plotlyServerURL": "https://plot.ly"
       },
       "data": [
        {
         "hovertemplate": "Age Group=%{x}<br>Mean Churn Probability=%{y}<extra></extra>",
         "legendgroup": "",
         "marker": {
          "color": "#636efa",
          "pattern": {
           "shape": ""
          }
         },
         "name": "",
         "orientation": "v",
         "showlegend": false,
         "textposition": "auto",
         "type": "bar",
         "x": [
          "18-24",
          "25-34",
          "35-44",
          "45-54",
          "55-64",
          "65-69"
         ],
         "xaxis": "x",
         "y": {
          "bdata": "4UlB8udVxj9605ve9KbHP/vORn1no84/rkfhehSuxz80T6gFjEnMP5qZmZmZmck/",
          "dtype": "f8"
         },
         "yaxis": "y"
        }
       ],
       "layout": {
        "barmode": "relative",
        "height": 500,
        "legend": {
         "tracegroupgap": 0
        },
        "template": {
         "data": {
          "bar": [
           {
            "error_x": {
             "color": "#2a3f5f"
            },
            "error_y": {
             "color": "#2a3f5f"
            },
            "marker": {
             "line": {
              "color": "#E5ECF6",
              "width": 0.5
             },
             "pattern": {
              "fillmode": "overlay",
              "size": 10,
              "solidity": 0.2
             }
            },
            "type": "bar"
           }
          ],
          "barpolar": [
           {
            "marker": {
             "line": {
              "color": "#E5ECF6",
              "width": 0.5
             },
             "pattern": {
              "fillmode": "overlay",
              "size": 10,
              "solidity": 0.2
             }
            },
            "type": "barpolar"
           }
          ],
          "carpet": [
           {
            "aaxis": {
             "endlinecolor": "#2a3f5f",
             "gridcolor": "white",
             "linecolor": "white",
             "minorgridcolor": "white",
             "startlinecolor": "#2a3f5f"
            },
            "baxis": {
             "endlinecolor": "#2a3f5f",
             "gridcolor": "white",
             "linecolor": "white",
             "minorgridcolor": "white",
             "startlinecolor": "#2a3f5f"
            },
            "type": "carpet"
           }
          ],
          "choropleth": [
           {
            "colorbar": {
             "outlinewidth": 0,
             "ticks": ""
            },
            "type": "choropleth"
           }
          ],
          "contour": [
           {
            "colorbar": {
             "outlinewidth": 0,
             "ticks": ""
            },
            "colorscale": [
             [
              0,
              "#0d0887"
             ],
             [
              0.1111111111111111,
              "#46039f"
             ],
             [
              0.2222222222222222,
              "#7201a8"
             ],
             [
              0.3333333333333333,
              "#9c179e"
             ],
             [
              0.4444444444444444,
              "#bd3786"
             ],
             [
              0.5555555555555556,
              "#d8576b"
             ],
             [
              0.6666666666666666,
              "#ed7953"
             ],
             [
              0.7777777777777778,
              "#fb9f3a"
             ],
             [
              0.8888888888888888,
              "#fdca26"
             ],
             [
              1,
              "#f0f921"
             ]
            ],
            "type": "contour"
           }
          ],
          "contourcarpet": [
           {
            "colorbar": {
             "outlinewidth": 0,
             "ticks": ""
            },
            "type": "contourcarpet"
           }
          ],
          "heatmap": [
           {
            "colorbar": {
             "outlinewidth": 0,
             "ticks": ""
            },
            "colorscale": [
             [
              0,
              "#0d0887"
             ],
             [
              0.1111111111111111,
              "#46039f"
             ],
             [
              0.2222222222222222,
              "#7201a8"
             ],
             [
              0.3333333333333333,
              "#9c179e"
             ],
             [
              0.4444444444444444,
              "#bd3786"
             ],
             [
              0.5555555555555556,
              "#d8576b"
             ],
             [
              0.6666666666666666,
              "#ed7953"
             ],
             [
              0.7777777777777778,
              "#fb9f3a"
             ],
             [
              0.8888888888888888,
              "#fdca26"
             ],
             [
              1,
              "#f0f921"
             ]
            ],
            "type": "heatmap"
           }
          ],
          "histogram": [
           {
            "marker": {
             "pattern": {
              "fillmode": "overlay",
              "size": 10,
              "solidity": 0.2
             }
            },
            "type": "histogram"
           }
          ],
          "histogram2d": [
           {
            "colorbar": {
             "outlinewidth": 0,
             "ticks": ""
            },
            "colorscale": [
             [
              0,
              "#0d0887"
             ],
             [
              0.1111111111111111,
              "#46039f"
             ],
             [
              0.2222222222222222,
              "#7201a8"
             ],
             [
              0.3333333333333333,
              "#9c179e"
             ],
             [
              0.4444444444444444,
              "#bd3786"
             ],
             [
              0.5555555555555556,
              "#d8576b"
             ],
             [
              0.6666666666666666,
              "#ed7953"
             ],
             [
              0.7777777777777778,
              "#fb9f3a"
             ],
             [
              0.8888888888888888,
              "#fdca26"
             ],
             [
              1,
              "#f0f921"
             ]
            ],
            "type": "histogram2d"
           }
          ],
          "histogram2dcontour": [
           {
            "colorbar": {
             "outlinewidth": 0,
             "ticks": ""
            },
            "colorscale": [
             [
              0,
              "#0d0887"
             ],
             [
              0.1111111111111111,
              "#46039f"
             ],
             [
              0.2222222222222222,
              "#7201a8"
             ],
             [
              0.3333333333333333,
              "#9c179e"
             ],
             [
              0.4444444444444444,
              "#bd3786"
             ],
             [
              0.5555555555555556,
              "#d8576b"
             ],
             [
              0.6666666666666666,
              "#ed7953"
             ],
             [
              0.7777777777777778,
              "#fb9f3a"
             ],
             [
              0.8888888888888888,
              "#fdca26"
             ],
             [
              1,
              "#f0f921"
             ]
            ],
            "type": "histogram2dcontour"
           }
          ],
          "mesh3d": [
           {
            "colorbar": {
             "outlinewidth": 0,
             "ticks": ""
            },
            "type": "mesh3d"
           }
          ],
          "parcoords": [
           {
            "line": {
             "colorbar": {
              "outlinewidth": 0,
              "ticks": ""
             }
            },
            "type": "parcoords"
           }
          ],
          "pie": [
           {
            "automargin": true,
            "type": "pie"
           }
          ],
          "scatter": [
           {
            "fillpattern": {
             "fillmode": "overlay",
             "size": 10,
             "solidity": 0.2
            },
            "type": "scatter"
           }
          ],
          "scatter3d": [
           {
            "line": {
             "colorbar": {
              "outlinewidth": 0,
              "ticks": ""
             }
            },
            "marker": {
             "colorbar": {
              "outlinewidth": 0,
              "ticks": ""
             }
            },
            "type": "scatter3d"
           }
          ],
          "scattercarpet": [
           {
            "marker": {
             "colorbar": {
              "outlinewidth": 0,
              "ticks": ""
             }
            },
            "type": "scattercarpet"
           }
          ],
          "scattergeo": [
           {
            "marker": {
             "colorbar": {
              "outlinewidth": 0,
              "ticks": ""
             }
            },
            "type": "scattergeo"
           }
          ],
          "scattergl": [
           {
            "marker": {
             "colorbar": {
              "outlinewidth": 0,
              "ticks": ""
             }
            },
            "type": "scattergl"
           }
          ],
          "scattermap": [
           {
            "marker": {
             "colorbar": {
              "outlinewidth": 0,
              "ticks": ""
             }
            },
            "type": "scattermap"
           }
          ],
          "scattermapbox": [
           {
            "marker": {
             "colorbar": {
              "outlinewidth": 0,
              "ticks": ""
             }
            },
            "type": "scattermapbox"
           }
          ],
          "scatterpolar": [
           {
            "marker": {
             "colorbar": {
              "outlinewidth": 0,
              "ticks": ""
             }
            },
            "type": "scatterpolar"
           }
          ],
          "scatterpolargl": [
           {
            "marker": {
             "colorbar": {
              "outlinewidth": 0,
              "ticks": ""
             }
            },
            "type": "scatterpolargl"
           }
          ],
          "scatterternary": [
           {
            "marker": {
             "colorbar": {
              "outlinewidth": 0,
              "ticks": ""
             }
            },
            "type": "scatterternary"
           }
          ],
          "surface": [
           {
            "colorbar": {
             "outlinewidth": 0,
             "ticks": ""
            },
            "colorscale": [
             [
              0,
              "#0d0887"
             ],
             [
              0.1111111111111111,
              "#46039f"
             ],
             [
              0.2222222222222222,
              "#7201a8"
             ],
             [
              0.3333333333333333,
              "#9c179e"
             ],
             [
              0.4444444444444444,
              "#bd3786"
             ],
             [
              0.5555555555555556,
              "#d8576b"
             ],
             [
              0.6666666666666666,
              "#ed7953"
             ],
             [
              0.7777777777777778,
              "#fb9f3a"
             ],
             [
              0.8888888888888888,
              "#fdca26"
             ],
             [
              1,
              "#f0f921"
             ]
            ],
            "type": "surface"
           }
          ],
          "table": [
           {
            "cells": {
             "fill": {
              "color": "#EBF0F8"
             },
             "line": {
              "color": "white"
             }
            },
            "header": {
             "fill": {
              "color": "#C8D4E3"
             },
             "line": {
              "color": "white"
             }
            },
            "type": "table"
           }
          ]
         },
         "layout": {
          "annotationdefaults": {
           "arrowcolor": "#2a3f5f",
           "arrowhead": 0,
           "arrowwidth": 1
          },
          "autotypenumbers": "strict",
          "coloraxis": {
           "colorbar": {
            "outlinewidth": 0,
            "ticks": ""
           }
          },
          "colorscale": {
           "diverging": [
            [
             0,
             "#8e0152"
            ],
            [
             0.1,
             "#c51b7d"
            ],
            [
             0.2,
             "#de77ae"
            ],
            [
             0.3,
             "#f1b6da"
            ],
            [
             0.4,
             "#fde0ef"
            ],
            [
             0.5,
             "#f7f7f7"
            ],
            [
             0.6,
             "#e6f5d0"
            ],
            [
             0.7,
             "#b8e186"
            ],
            [
             0.8,
             "#7fbc41"
            ],
            [
             0.9,
             "#4d9221"
            ],
            [
             1,
             "#276419"
            ]
           ],
           "sequential": [
            [
             0,
             "#0d0887"
            ],
            [
             0.1111111111111111,
             "#46039f"
            ],
            [
             0.2222222222222222,
             "#7201a8"
            ],
            [
             0.3333333333333333,
             "#9c179e"
            ],
            [
             0.4444444444444444,
             "#bd3786"
            ],
            [
             0.5555555555555556,
             "#d8576b"
            ],
            [
             0.6666666666666666,
             "#ed7953"
            ],
            [
             0.7777777777777778,
             "#fb9f3a"
            ],
            [
             0.8888888888888888,
             "#fdca26"
            ],
            [
             1,
             "#f0f921"
            ]
           ],
           "sequentialminus": [
            [
             0,
             "#0d0887"
            ],
            [
             0.1111111111111111,
             "#46039f"
            ],
            [
             0.2222222222222222,
             "#7201a8"
            ],
            [
             0.3333333333333333,
             "#9c179e"
            ],
            [
             0.4444444444444444,
             "#bd3786"
            ],
            [
             0.5555555555555556,
             "#d8576b"
            ],
            [
             0.6666666666666666,
             "#ed7953"
            ],
            [
             0.7777777777777778,
             "#fb9f3a"
            ],
            [
             0.8888888888888888,
             "#fdca26"
            ],
            [
             1,
             "#f0f921"
            ]
           ]
          },
          "colorway": [
           "#636efa",
           "#EF553B",
           "#00cc96",
           "#ab63fa",
           "#FFA15A",
           "#19d3f3",
           "#FF6692",
           "#B6E880",
           "#FF97FF",
           "#FECB52"
          ],
          "font": {
           "color": "#2a3f5f"
          },
          "geo": {
           "bgcolor": "white",
           "lakecolor": "white",
           "landcolor": "#E5ECF6",
           "showlakes": true,
           "showland": true,
           "subunitcolor": "white"
          },
          "hoverlabel": {
           "align": "left"
          },
          "hovermode": "closest",
          "mapbox": {
           "style": "light"
          },
          "paper_bgcolor": "white",
          "plot_bgcolor": "#E5ECF6",
          "polar": {
           "angularaxis": {
            "gridcolor": "white",
            "linecolor": "white",
            "ticks": ""
           },
           "bgcolor": "#E5ECF6",
           "radialaxis": {
            "gridcolor": "white",
            "linecolor": "white",
            "ticks": ""
           }
          },
          "scene": {
           "xaxis": {
            "backgroundcolor": "#E5ECF6",
            "gridcolor": "white",
            "gridwidth": 2,
            "linecolor": "white",
            "showbackground": true,
            "ticks": "",
            "zerolinecolor": "white"
           },
           "yaxis": {
            "backgroundcolor": "#E5ECF6",
            "gridcolor": "white",
            "gridwidth": 2,
            "linecolor": "white",
            "showbackground": true,
            "ticks": "",
            "zerolinecolor": "white"
           },
           "zaxis": {
            "backgroundcolor": "#E5ECF6",
            "gridcolor": "white",
            "gridwidth": 2,
            "linecolor": "white",
            "showbackground": true,
            "ticks": "",
            "zerolinecolor": "white"
           }
          },
          "shapedefaults": {
           "line": {
            "color": "#2a3f5f"
           }
          },
          "ternary": {
           "aaxis": {
            "gridcolor": "white",
            "linecolor": "white",
            "ticks": ""
           },
           "baxis": {
            "gridcolor": "white",
            "linecolor": "white",
            "ticks": ""
           },
           "bgcolor": "#E5ECF6",
           "caxis": {
            "gridcolor": "white",
            "linecolor": "white",
            "ticks": ""
           }
          },
          "title": {
           "x": 0.05
          },
          "xaxis": {
           "automargin": true,
           "gridcolor": "white",
           "linecolor": "white",
           "ticks": "",
           "title": {
            "standoff": 15
           },
           "zerolinecolor": "white",
           "zerolinewidth": 2
          },
          "yaxis": {
           "automargin": true,
           "gridcolor": "white",
           "linecolor": "white",
           "ticks": "",
           "title": {
            "standoff": 15
           },
           "zerolinecolor": "white",
           "zerolinewidth": 2
          }
         }
        },
        "title": {
         "text": "Mean Churn Rate by Age Group"
        },
        "width": 800,
        "xaxis": {
         "anchor": "y",
         "domain": [
          0,
          1
         ],
         "tickangle": 45,
         "title": {
          "text": "Age"
         }
        },
        "yaxis": {
         "anchor": "x",
         "domain": [
          0,
          1
         ],
         "title": {
          "text": "Churn Probability"
         }
        }
       }
      }
     },
     "metadata": {},
     "output_type": "display_data"
    }
   ],
   "source": [
    "bins = [merged_df['Age'].min(), 25, 35, 45, 55, 65, merged_df['Age'].max()]\n",
    "labels = [f'{merged_df[\"Age\"].min()}-24', '25-34', '35-44', '45-54', '55-64', f'65-{merged_df[\"Age\"].max()}']\n",
    "\n",
    "#new column for age groups\n",
    "merged_df_copy['AgeGroup'] = pd.cut(merged_df['Age'], bins=bins, right=False, labels=labels)\n",
    "\n",
    "# Group by AgeGroup and get the mean churn rate\n",
    "churn_by_age_group = merged_df_copy.groupby('AgeGroup')['ChurnStatus'].mean().reset_index()\n",
    "\n",
    "# Plot using bar chart\n",
    "fig = px.bar(\n",
    "    churn_by_age_group,\n",
    "    x='AgeGroup',\n",
    "    y='ChurnStatus',\n",
    "    title='Mean Churn Rate by Age Group',\n",
    "    labels={'ChurnStatus': 'Mean Churn Probability', 'AgeGroup': 'Age Group'}\n",
    ")\n",
    "\n",
    "fig.update_layout(\n",
    "        xaxis_title='Age',\n",
    "        yaxis_title='Churn Probability',\n",
    "        xaxis_tickangle=45,\n",
    "        width=800,\n",
    "        height=500\n",
    ")\n",
    "\n",
    "fig.show()\n"
   ]
  },
  {
   "cell_type": "code",
   "execution_count": 45,
   "id": "91d859a5",
   "metadata": {},
   "outputs": [
    {
     "data": {
      "text/html": [
       "<div>\n",
       "<style scoped>\n",
       "    .dataframe tbody tr th:only-of-type {\n",
       "        vertical-align: middle;\n",
       "    }\n",
       "\n",
       "    .dataframe tbody tr th {\n",
       "        vertical-align: top;\n",
       "    }\n",
       "\n",
       "    .dataframe thead th {\n",
       "        text-align: right;\n",
       "    }\n",
       "</style>\n",
       "<table border=\"1\" class=\"dataframe\">\n",
       "  <thead>\n",
       "    <tr style=\"text-align: right;\">\n",
       "      <th></th>\n",
       "      <th>CustomerID</th>\n",
       "      <th>Age</th>\n",
       "      <th>Gender</th>\n",
       "      <th>MaritalStatus</th>\n",
       "      <th>IncomeLevel</th>\n",
       "      <th>TotalSpent</th>\n",
       "      <th>TransactionCount</th>\n",
       "      <th>FirstTransactionDate</th>\n",
       "      <th>LastTransactionDate</th>\n",
       "      <th>LastLoginDate</th>\n",
       "      <th>NumServiceInteractions</th>\n",
       "      <th>LoginFrequency</th>\n",
       "      <th>ServiceUsage</th>\n",
       "      <th>ChurnStatus</th>\n",
       "    </tr>\n",
       "  </thead>\n",
       "  <tbody>\n",
       "    <tr>\n",
       "      <th>0</th>\n",
       "      <td>1</td>\n",
       "      <td>62</td>\n",
       "      <td>M</td>\n",
       "      <td>Single</td>\n",
       "      <td>Low</td>\n",
       "      <td>416.50</td>\n",
       "      <td>1</td>\n",
       "      <td>2022-03-27</td>\n",
       "      <td>2022-03-27</td>\n",
       "      <td>2023-10-21</td>\n",
       "      <td>1.0</td>\n",
       "      <td>34</td>\n",
       "      <td>Mobile App</td>\n",
       "      <td>0</td>\n",
       "    </tr>\n",
       "    <tr>\n",
       "      <th>1</th>\n",
       "      <td>2</td>\n",
       "      <td>65</td>\n",
       "      <td>M</td>\n",
       "      <td>Married</td>\n",
       "      <td>Low</td>\n",
       "      <td>1547.42</td>\n",
       "      <td>7</td>\n",
       "      <td>2022-01-09</td>\n",
       "      <td>2022-11-19</td>\n",
       "      <td>2023-12-05</td>\n",
       "      <td>1.0</td>\n",
       "      <td>5</td>\n",
       "      <td>Website</td>\n",
       "      <td>1</td>\n",
       "    </tr>\n",
       "    <tr>\n",
       "      <th>2</th>\n",
       "      <td>3</td>\n",
       "      <td>18</td>\n",
       "      <td>M</td>\n",
       "      <td>Single</td>\n",
       "      <td>Low</td>\n",
       "      <td>1702.98</td>\n",
       "      <td>6</td>\n",
       "      <td>2022-02-11</td>\n",
       "      <td>2022-10-08</td>\n",
       "      <td>2023-11-15</td>\n",
       "      <td>1.0</td>\n",
       "      <td>3</td>\n",
       "      <td>Website</td>\n",
       "      <td>0</td>\n",
       "    </tr>\n",
       "    <tr>\n",
       "      <th>3</th>\n",
       "      <td>4</td>\n",
       "      <td>21</td>\n",
       "      <td>M</td>\n",
       "      <td>Widowed</td>\n",
       "      <td>Low</td>\n",
       "      <td>917.29</td>\n",
       "      <td>5</td>\n",
       "      <td>2022-05-22</td>\n",
       "      <td>2022-12-27</td>\n",
       "      <td>2023-08-25</td>\n",
       "      <td>2.0</td>\n",
       "      <td>2</td>\n",
       "      <td>Website</td>\n",
       "      <td>0</td>\n",
       "    </tr>\n",
       "    <tr>\n",
       "      <th>4</th>\n",
       "      <td>5</td>\n",
       "      <td>21</td>\n",
       "      <td>M</td>\n",
       "      <td>Divorced</td>\n",
       "      <td>Medium</td>\n",
       "      <td>2001.49</td>\n",
       "      <td>8</td>\n",
       "      <td>2022-02-21</td>\n",
       "      <td>2022-12-21</td>\n",
       "      <td>2023-10-27</td>\n",
       "      <td>NaN</td>\n",
       "      <td>41</td>\n",
       "      <td>Website</td>\n",
       "      <td>0</td>\n",
       "    </tr>\n",
       "    <tr>\n",
       "      <th>...</th>\n",
       "      <td>...</td>\n",
       "      <td>...</td>\n",
       "      <td>...</td>\n",
       "      <td>...</td>\n",
       "      <td>...</td>\n",
       "      <td>...</td>\n",
       "      <td>...</td>\n",
       "      <td>...</td>\n",
       "      <td>...</td>\n",
       "      <td>...</td>\n",
       "      <td>...</td>\n",
       "      <td>...</td>\n",
       "      <td>...</td>\n",
       "      <td>...</td>\n",
       "    </tr>\n",
       "    <tr>\n",
       "      <th>995</th>\n",
       "      <td>996</td>\n",
       "      <td>54</td>\n",
       "      <td>F</td>\n",
       "      <td>Single</td>\n",
       "      <td>Low</td>\n",
       "      <td>227.25</td>\n",
       "      <td>1</td>\n",
       "      <td>2022-07-24</td>\n",
       "      <td>2022-07-24</td>\n",
       "      <td>2023-01-29</td>\n",
       "      <td>NaN</td>\n",
       "      <td>38</td>\n",
       "      <td>Mobile App</td>\n",
       "      <td>0</td>\n",
       "    </tr>\n",
       "    <tr>\n",
       "      <th>996</th>\n",
       "      <td>997</td>\n",
       "      <td>19</td>\n",
       "      <td>M</td>\n",
       "      <td>Widowed</td>\n",
       "      <td>High</td>\n",
       "      <td>419.82</td>\n",
       "      <td>2</td>\n",
       "      <td>2022-08-06</td>\n",
       "      <td>2022-10-25</td>\n",
       "      <td>2023-04-01</td>\n",
       "      <td>NaN</td>\n",
       "      <td>5</td>\n",
       "      <td>Mobile App</td>\n",
       "      <td>0</td>\n",
       "    </tr>\n",
       "    <tr>\n",
       "      <th>997</th>\n",
       "      <td>998</td>\n",
       "      <td>47</td>\n",
       "      <td>M</td>\n",
       "      <td>Married</td>\n",
       "      <td>Low</td>\n",
       "      <td>252.15</td>\n",
       "      <td>1</td>\n",
       "      <td>2022-09-18</td>\n",
       "      <td>2022-09-18</td>\n",
       "      <td>2023-07-10</td>\n",
       "      <td>NaN</td>\n",
       "      <td>47</td>\n",
       "      <td>Website</td>\n",
       "      <td>0</td>\n",
       "    </tr>\n",
       "    <tr>\n",
       "      <th>998</th>\n",
       "      <td>999</td>\n",
       "      <td>23</td>\n",
       "      <td>M</td>\n",
       "      <td>Widowed</td>\n",
       "      <td>High</td>\n",
       "      <td>2393.26</td>\n",
       "      <td>9</td>\n",
       "      <td>2022-01-20</td>\n",
       "      <td>2022-12-07</td>\n",
       "      <td>2023-01-08</td>\n",
       "      <td>NaN</td>\n",
       "      <td>23</td>\n",
       "      <td>Website</td>\n",
       "      <td>0</td>\n",
       "    </tr>\n",
       "    <tr>\n",
       "      <th>999</th>\n",
       "      <td>1000</td>\n",
       "      <td>34</td>\n",
       "      <td>M</td>\n",
       "      <td>Widowed</td>\n",
       "      <td>Low</td>\n",
       "      <td>1670.79</td>\n",
       "      <td>6</td>\n",
       "      <td>2022-04-08</td>\n",
       "      <td>2022-12-13</td>\n",
       "      <td>2023-08-13</td>\n",
       "      <td>NaN</td>\n",
       "      <td>22</td>\n",
       "      <td>Mobile App</td>\n",
       "      <td>0</td>\n",
       "    </tr>\n",
       "  </tbody>\n",
       "</table>\n",
       "<p>1000 rows × 14 columns</p>\n",
       "</div>"
      ],
      "text/plain": [
       "     CustomerID  Age Gender MaritalStatus IncomeLevel  TotalSpent  \\\n",
       "0             1   62      M        Single         Low      416.50   \n",
       "1             2   65      M       Married         Low     1547.42   \n",
       "2             3   18      M        Single         Low     1702.98   \n",
       "3             4   21      M       Widowed         Low      917.29   \n",
       "4             5   21      M      Divorced      Medium     2001.49   \n",
       "..          ...  ...    ...           ...         ...         ...   \n",
       "995         996   54      F        Single         Low      227.25   \n",
       "996         997   19      M       Widowed        High      419.82   \n",
       "997         998   47      M       Married         Low      252.15   \n",
       "998         999   23      M       Widowed        High     2393.26   \n",
       "999        1000   34      M       Widowed         Low     1670.79   \n",
       "\n",
       "     TransactionCount FirstTransactionDate LastTransactionDate LastLoginDate  \\\n",
       "0                   1           2022-03-27          2022-03-27    2023-10-21   \n",
       "1                   7           2022-01-09          2022-11-19    2023-12-05   \n",
       "2                   6           2022-02-11          2022-10-08    2023-11-15   \n",
       "3                   5           2022-05-22          2022-12-27    2023-08-25   \n",
       "4                   8           2022-02-21          2022-12-21    2023-10-27   \n",
       "..                ...                  ...                 ...           ...   \n",
       "995                 1           2022-07-24          2022-07-24    2023-01-29   \n",
       "996                 2           2022-08-06          2022-10-25    2023-04-01   \n",
       "997                 1           2022-09-18          2022-09-18    2023-07-10   \n",
       "998                 9           2022-01-20          2022-12-07    2023-01-08   \n",
       "999                 6           2022-04-08          2022-12-13    2023-08-13   \n",
       "\n",
       "     NumServiceInteractions  LoginFrequency ServiceUsage  ChurnStatus  \n",
       "0                       1.0              34   Mobile App            0  \n",
       "1                       1.0               5      Website            1  \n",
       "2                       1.0               3      Website            0  \n",
       "3                       2.0               2      Website            0  \n",
       "4                       NaN              41      Website            0  \n",
       "..                      ...             ...          ...          ...  \n",
       "995                     NaN              38   Mobile App            0  \n",
       "996                     NaN               5   Mobile App            0  \n",
       "997                     NaN              47      Website            0  \n",
       "998                     NaN              23      Website            0  \n",
       "999                     NaN              22   Mobile App            0  \n",
       "\n",
       "[1000 rows x 14 columns]"
      ]
     },
     "execution_count": 45,
     "metadata": {},
     "output_type": "execute_result"
    }
   ],
   "source": [
    "merged_df"
   ]
  },
  {
   "cell_type": "code",
   "execution_count": 46,
   "id": "ac0727a3",
   "metadata": {},
   "outputs": [],
   "source": [
    "merged_df_copy['ChurnStatus'] = merged_df_copy['ChurnStatus'].astype('bool')\n",
    "merged_df_copy['ChurnStatus'] = merged_df_copy['ChurnStatus'].replace({True: 'True', False: 'False'})"
   ]
  },
  {
   "cell_type": "code",
   "execution_count": 47,
   "id": "ce149f0f",
   "metadata": {},
   "outputs": [
    {
     "data": {
      "text/html": [
       "<div>\n",
       "<style scoped>\n",
       "    .dataframe tbody tr th:only-of-type {\n",
       "        vertical-align: middle;\n",
       "    }\n",
       "\n",
       "    .dataframe tbody tr th {\n",
       "        vertical-align: top;\n",
       "    }\n",
       "\n",
       "    .dataframe thead th {\n",
       "        text-align: right;\n",
       "    }\n",
       "</style>\n",
       "<table border=\"1\" class=\"dataframe\">\n",
       "  <thead>\n",
       "    <tr style=\"text-align: right;\">\n",
       "      <th></th>\n",
       "      <th>CustomerID</th>\n",
       "      <th>Age</th>\n",
       "      <th>TotalSpent</th>\n",
       "      <th>TransactionCount</th>\n",
       "      <th>FirstTransactionDate</th>\n",
       "      <th>LastTransactionDate</th>\n",
       "      <th>LastLoginDate</th>\n",
       "      <th>NumServiceInteractions</th>\n",
       "      <th>LoginFrequency</th>\n",
       "      <th>ServiceUsage</th>\n",
       "      <th>ChurnStatus</th>\n",
       "      <th>Gender_F</th>\n",
       "      <th>Gender_M</th>\n",
       "      <th>MaritalStatus_Divorced</th>\n",
       "      <th>MaritalStatus_Married</th>\n",
       "      <th>MaritalStatus_Single</th>\n",
       "      <th>MaritalStatus_Widowed</th>\n",
       "      <th>IncomeLevel_High</th>\n",
       "      <th>IncomeLevel_Low</th>\n",
       "      <th>IncomeLevel_Medium</th>\n",
       "    </tr>\n",
       "  </thead>\n",
       "  <tbody>\n",
       "    <tr>\n",
       "      <th>0</th>\n",
       "      <td>1</td>\n",
       "      <td>62</td>\n",
       "      <td>416.50</td>\n",
       "      <td>1</td>\n",
       "      <td>2022-03-27</td>\n",
       "      <td>2022-03-27</td>\n",
       "      <td>2023-10-21</td>\n",
       "      <td>1.0</td>\n",
       "      <td>34</td>\n",
       "      <td>Mobile App</td>\n",
       "      <td>0</td>\n",
       "      <td>False</td>\n",
       "      <td>True</td>\n",
       "      <td>False</td>\n",
       "      <td>False</td>\n",
       "      <td>True</td>\n",
       "      <td>False</td>\n",
       "      <td>False</td>\n",
       "      <td>True</td>\n",
       "      <td>False</td>\n",
       "    </tr>\n",
       "    <tr>\n",
       "      <th>1</th>\n",
       "      <td>2</td>\n",
       "      <td>65</td>\n",
       "      <td>1547.42</td>\n",
       "      <td>7</td>\n",
       "      <td>2022-01-09</td>\n",
       "      <td>2022-11-19</td>\n",
       "      <td>2023-12-05</td>\n",
       "      <td>1.0</td>\n",
       "      <td>5</td>\n",
       "      <td>Website</td>\n",
       "      <td>1</td>\n",
       "      <td>False</td>\n",
       "      <td>True</td>\n",
       "      <td>False</td>\n",
       "      <td>True</td>\n",
       "      <td>False</td>\n",
       "      <td>False</td>\n",
       "      <td>False</td>\n",
       "      <td>True</td>\n",
       "      <td>False</td>\n",
       "    </tr>\n",
       "    <tr>\n",
       "      <th>2</th>\n",
       "      <td>3</td>\n",
       "      <td>18</td>\n",
       "      <td>1702.98</td>\n",
       "      <td>6</td>\n",
       "      <td>2022-02-11</td>\n",
       "      <td>2022-10-08</td>\n",
       "      <td>2023-11-15</td>\n",
       "      <td>1.0</td>\n",
       "      <td>3</td>\n",
       "      <td>Website</td>\n",
       "      <td>0</td>\n",
       "      <td>False</td>\n",
       "      <td>True</td>\n",
       "      <td>False</td>\n",
       "      <td>False</td>\n",
       "      <td>True</td>\n",
       "      <td>False</td>\n",
       "      <td>False</td>\n",
       "      <td>True</td>\n",
       "      <td>False</td>\n",
       "    </tr>\n",
       "    <tr>\n",
       "      <th>3</th>\n",
       "      <td>4</td>\n",
       "      <td>21</td>\n",
       "      <td>917.29</td>\n",
       "      <td>5</td>\n",
       "      <td>2022-05-22</td>\n",
       "      <td>2022-12-27</td>\n",
       "      <td>2023-08-25</td>\n",
       "      <td>2.0</td>\n",
       "      <td>2</td>\n",
       "      <td>Website</td>\n",
       "      <td>0</td>\n",
       "      <td>False</td>\n",
       "      <td>True</td>\n",
       "      <td>False</td>\n",
       "      <td>False</td>\n",
       "      <td>False</td>\n",
       "      <td>True</td>\n",
       "      <td>False</td>\n",
       "      <td>True</td>\n",
       "      <td>False</td>\n",
       "    </tr>\n",
       "    <tr>\n",
       "      <th>4</th>\n",
       "      <td>5</td>\n",
       "      <td>21</td>\n",
       "      <td>2001.49</td>\n",
       "      <td>8</td>\n",
       "      <td>2022-02-21</td>\n",
       "      <td>2022-12-21</td>\n",
       "      <td>2023-10-27</td>\n",
       "      <td>NaN</td>\n",
       "      <td>41</td>\n",
       "      <td>Website</td>\n",
       "      <td>0</td>\n",
       "      <td>False</td>\n",
       "      <td>True</td>\n",
       "      <td>True</td>\n",
       "      <td>False</td>\n",
       "      <td>False</td>\n",
       "      <td>False</td>\n",
       "      <td>False</td>\n",
       "      <td>False</td>\n",
       "      <td>True</td>\n",
       "    </tr>\n",
       "    <tr>\n",
       "      <th>...</th>\n",
       "      <td>...</td>\n",
       "      <td>...</td>\n",
       "      <td>...</td>\n",
       "      <td>...</td>\n",
       "      <td>...</td>\n",
       "      <td>...</td>\n",
       "      <td>...</td>\n",
       "      <td>...</td>\n",
       "      <td>...</td>\n",
       "      <td>...</td>\n",
       "      <td>...</td>\n",
       "      <td>...</td>\n",
       "      <td>...</td>\n",
       "      <td>...</td>\n",
       "      <td>...</td>\n",
       "      <td>...</td>\n",
       "      <td>...</td>\n",
       "      <td>...</td>\n",
       "      <td>...</td>\n",
       "      <td>...</td>\n",
       "    </tr>\n",
       "    <tr>\n",
       "      <th>995</th>\n",
       "      <td>996</td>\n",
       "      <td>54</td>\n",
       "      <td>227.25</td>\n",
       "      <td>1</td>\n",
       "      <td>2022-07-24</td>\n",
       "      <td>2022-07-24</td>\n",
       "      <td>2023-01-29</td>\n",
       "      <td>NaN</td>\n",
       "      <td>38</td>\n",
       "      <td>Mobile App</td>\n",
       "      <td>0</td>\n",
       "      <td>True</td>\n",
       "      <td>False</td>\n",
       "      <td>False</td>\n",
       "      <td>False</td>\n",
       "      <td>True</td>\n",
       "      <td>False</td>\n",
       "      <td>False</td>\n",
       "      <td>True</td>\n",
       "      <td>False</td>\n",
       "    </tr>\n",
       "    <tr>\n",
       "      <th>996</th>\n",
       "      <td>997</td>\n",
       "      <td>19</td>\n",
       "      <td>419.82</td>\n",
       "      <td>2</td>\n",
       "      <td>2022-08-06</td>\n",
       "      <td>2022-10-25</td>\n",
       "      <td>2023-04-01</td>\n",
       "      <td>NaN</td>\n",
       "      <td>5</td>\n",
       "      <td>Mobile App</td>\n",
       "      <td>0</td>\n",
       "      <td>False</td>\n",
       "      <td>True</td>\n",
       "      <td>False</td>\n",
       "      <td>False</td>\n",
       "      <td>False</td>\n",
       "      <td>True</td>\n",
       "      <td>True</td>\n",
       "      <td>False</td>\n",
       "      <td>False</td>\n",
       "    </tr>\n",
       "    <tr>\n",
       "      <th>997</th>\n",
       "      <td>998</td>\n",
       "      <td>47</td>\n",
       "      <td>252.15</td>\n",
       "      <td>1</td>\n",
       "      <td>2022-09-18</td>\n",
       "      <td>2022-09-18</td>\n",
       "      <td>2023-07-10</td>\n",
       "      <td>NaN</td>\n",
       "      <td>47</td>\n",
       "      <td>Website</td>\n",
       "      <td>0</td>\n",
       "      <td>False</td>\n",
       "      <td>True</td>\n",
       "      <td>False</td>\n",
       "      <td>True</td>\n",
       "      <td>False</td>\n",
       "      <td>False</td>\n",
       "      <td>False</td>\n",
       "      <td>True</td>\n",
       "      <td>False</td>\n",
       "    </tr>\n",
       "    <tr>\n",
       "      <th>998</th>\n",
       "      <td>999</td>\n",
       "      <td>23</td>\n",
       "      <td>2393.26</td>\n",
       "      <td>9</td>\n",
       "      <td>2022-01-20</td>\n",
       "      <td>2022-12-07</td>\n",
       "      <td>2023-01-08</td>\n",
       "      <td>NaN</td>\n",
       "      <td>23</td>\n",
       "      <td>Website</td>\n",
       "      <td>0</td>\n",
       "      <td>False</td>\n",
       "      <td>True</td>\n",
       "      <td>False</td>\n",
       "      <td>False</td>\n",
       "      <td>False</td>\n",
       "      <td>True</td>\n",
       "      <td>True</td>\n",
       "      <td>False</td>\n",
       "      <td>False</td>\n",
       "    </tr>\n",
       "    <tr>\n",
       "      <th>999</th>\n",
       "      <td>1000</td>\n",
       "      <td>34</td>\n",
       "      <td>1670.79</td>\n",
       "      <td>6</td>\n",
       "      <td>2022-04-08</td>\n",
       "      <td>2022-12-13</td>\n",
       "      <td>2023-08-13</td>\n",
       "      <td>NaN</td>\n",
       "      <td>22</td>\n",
       "      <td>Mobile App</td>\n",
       "      <td>0</td>\n",
       "      <td>False</td>\n",
       "      <td>True</td>\n",
       "      <td>False</td>\n",
       "      <td>False</td>\n",
       "      <td>False</td>\n",
       "      <td>True</td>\n",
       "      <td>False</td>\n",
       "      <td>True</td>\n",
       "      <td>False</td>\n",
       "    </tr>\n",
       "  </tbody>\n",
       "</table>\n",
       "<p>1000 rows × 20 columns</p>\n",
       "</div>"
      ],
      "text/plain": [
       "     CustomerID  Age  TotalSpent  TransactionCount FirstTransactionDate  \\\n",
       "0             1   62      416.50                 1           2022-03-27   \n",
       "1             2   65     1547.42                 7           2022-01-09   \n",
       "2             3   18     1702.98                 6           2022-02-11   \n",
       "3             4   21      917.29                 5           2022-05-22   \n",
       "4             5   21     2001.49                 8           2022-02-21   \n",
       "..          ...  ...         ...               ...                  ...   \n",
       "995         996   54      227.25                 1           2022-07-24   \n",
       "996         997   19      419.82                 2           2022-08-06   \n",
       "997         998   47      252.15                 1           2022-09-18   \n",
       "998         999   23     2393.26                 9           2022-01-20   \n",
       "999        1000   34     1670.79                 6           2022-04-08   \n",
       "\n",
       "    LastTransactionDate LastLoginDate  NumServiceInteractions  LoginFrequency  \\\n",
       "0            2022-03-27    2023-10-21                     1.0              34   \n",
       "1            2022-11-19    2023-12-05                     1.0               5   \n",
       "2            2022-10-08    2023-11-15                     1.0               3   \n",
       "3            2022-12-27    2023-08-25                     2.0               2   \n",
       "4            2022-12-21    2023-10-27                     NaN              41   \n",
       "..                  ...           ...                     ...             ...   \n",
       "995          2022-07-24    2023-01-29                     NaN              38   \n",
       "996          2022-10-25    2023-04-01                     NaN               5   \n",
       "997          2022-09-18    2023-07-10                     NaN              47   \n",
       "998          2022-12-07    2023-01-08                     NaN              23   \n",
       "999          2022-12-13    2023-08-13                     NaN              22   \n",
       "\n",
       "    ServiceUsage  ChurnStatus  Gender_F  Gender_M  MaritalStatus_Divorced  \\\n",
       "0     Mobile App            0     False      True                   False   \n",
       "1        Website            1     False      True                   False   \n",
       "2        Website            0     False      True                   False   \n",
       "3        Website            0     False      True                   False   \n",
       "4        Website            0     False      True                    True   \n",
       "..           ...          ...       ...       ...                     ...   \n",
       "995   Mobile App            0      True     False                   False   \n",
       "996   Mobile App            0     False      True                   False   \n",
       "997      Website            0     False      True                   False   \n",
       "998      Website            0     False      True                   False   \n",
       "999   Mobile App            0     False      True                   False   \n",
       "\n",
       "     MaritalStatus_Married  MaritalStatus_Single  MaritalStatus_Widowed  \\\n",
       "0                    False                  True                  False   \n",
       "1                     True                 False                  False   \n",
       "2                    False                  True                  False   \n",
       "3                    False                 False                   True   \n",
       "4                    False                 False                  False   \n",
       "..                     ...                   ...                    ...   \n",
       "995                  False                  True                  False   \n",
       "996                  False                 False                   True   \n",
       "997                   True                 False                  False   \n",
       "998                  False                 False                   True   \n",
       "999                  False                 False                   True   \n",
       "\n",
       "     IncomeLevel_High  IncomeLevel_Low  IncomeLevel_Medium  \n",
       "0               False             True               False  \n",
       "1               False             True               False  \n",
       "2               False             True               False  \n",
       "3               False             True               False  \n",
       "4               False            False                True  \n",
       "..                ...              ...                 ...  \n",
       "995             False             True               False  \n",
       "996              True            False               False  \n",
       "997             False             True               False  \n",
       "998              True            False               False  \n",
       "999             False             True               False  \n",
       "\n",
       "[1000 rows x 20 columns]"
      ]
     },
     "execution_count": 47,
     "metadata": {},
     "output_type": "execute_result"
    }
   ],
   "source": [
    "# One-hot encoding for ML readiness\n",
    "merged_df_copy = pd.get_dummies(merged_df, columns=['Gender', 'MaritalStatus', 'IncomeLevel'])\n",
    "merged_df_copy\n"
   ]
  },
  {
   "cell_type": "code",
   "execution_count": 48,
   "id": "f3f77e61",
   "metadata": {},
   "outputs": [
    {
     "name": "stdout",
     "output_type": "stream",
     "text": [
      "Churn Risk Hotspots:\n",
      "- High Income Churn Rate: 19.2%\n",
      "- Low Login Churners: 13 customers\n"
     ]
    }
   ],
   "source": [
    "print(f\"\"\"Churn Risk Hotspots:\n",
    "- High Income Churn Rate: {churn_by_income[churn_by_income['IncomeLevel']=='High']['ChurnStatus'].values[0]:.1%}\n",
    "- Low Login Churners: {merged_df[(merged_df['LoginFrequency']<3) & merged_df['ChurnStatus']].shape[0]} customers\"\"\")\n"
   ]
  },
  {
   "cell_type": "code",
   "execution_count": 49,
   "id": "a38ca1c3",
   "metadata": {},
   "outputs": [],
   "source": [
    "from datetime import datetime\n",
    "merged_df_copy['Tenure'] = (\n",
    "    pd.to_datetime(merged_df['LastLoginDate']) -  # Project's reference date\n",
    "    pd.to_datetime(merged_df['FirstTransactionDate'])\n",
    ").dt.days"
   ]
  },
  {
   "cell_type": "code",
   "execution_count": 50,
   "id": "1aca58fe",
   "metadata": {},
   "outputs": [
    {
     "data": {
      "text/html": [
       "<div>\n",
       "<style scoped>\n",
       "    .dataframe tbody tr th:only-of-type {\n",
       "        vertical-align: middle;\n",
       "    }\n",
       "\n",
       "    .dataframe tbody tr th {\n",
       "        vertical-align: top;\n",
       "    }\n",
       "\n",
       "    .dataframe thead th {\n",
       "        text-align: right;\n",
       "    }\n",
       "</style>\n",
       "<table border=\"1\" class=\"dataframe\">\n",
       "  <thead>\n",
       "    <tr style=\"text-align: right;\">\n",
       "      <th></th>\n",
       "      <th>CustomerID</th>\n",
       "      <th>Age</th>\n",
       "      <th>TotalSpent</th>\n",
       "      <th>TransactionCount</th>\n",
       "      <th>FirstTransactionDate</th>\n",
       "      <th>LastTransactionDate</th>\n",
       "      <th>LastLoginDate</th>\n",
       "      <th>NumServiceInteractions</th>\n",
       "      <th>LoginFrequency</th>\n",
       "      <th>ServiceUsage</th>\n",
       "      <th>...</th>\n",
       "      <th>Gender_F</th>\n",
       "      <th>Gender_M</th>\n",
       "      <th>MaritalStatus_Divorced</th>\n",
       "      <th>MaritalStatus_Married</th>\n",
       "      <th>MaritalStatus_Single</th>\n",
       "      <th>MaritalStatus_Widowed</th>\n",
       "      <th>IncomeLevel_High</th>\n",
       "      <th>IncomeLevel_Low</th>\n",
       "      <th>IncomeLevel_Medium</th>\n",
       "      <th>Tenure</th>\n",
       "    </tr>\n",
       "  </thead>\n",
       "  <tbody>\n",
       "    <tr>\n",
       "      <th>0</th>\n",
       "      <td>1</td>\n",
       "      <td>62</td>\n",
       "      <td>416.50</td>\n",
       "      <td>1</td>\n",
       "      <td>2022-03-27</td>\n",
       "      <td>2022-03-27</td>\n",
       "      <td>2023-10-21</td>\n",
       "      <td>1.0</td>\n",
       "      <td>34</td>\n",
       "      <td>Mobile App</td>\n",
       "      <td>...</td>\n",
       "      <td>False</td>\n",
       "      <td>True</td>\n",
       "      <td>False</td>\n",
       "      <td>False</td>\n",
       "      <td>True</td>\n",
       "      <td>False</td>\n",
       "      <td>False</td>\n",
       "      <td>True</td>\n",
       "      <td>False</td>\n",
       "      <td>573</td>\n",
       "    </tr>\n",
       "    <tr>\n",
       "      <th>1</th>\n",
       "      <td>2</td>\n",
       "      <td>65</td>\n",
       "      <td>1547.42</td>\n",
       "      <td>7</td>\n",
       "      <td>2022-01-09</td>\n",
       "      <td>2022-11-19</td>\n",
       "      <td>2023-12-05</td>\n",
       "      <td>1.0</td>\n",
       "      <td>5</td>\n",
       "      <td>Website</td>\n",
       "      <td>...</td>\n",
       "      <td>False</td>\n",
       "      <td>True</td>\n",
       "      <td>False</td>\n",
       "      <td>True</td>\n",
       "      <td>False</td>\n",
       "      <td>False</td>\n",
       "      <td>False</td>\n",
       "      <td>True</td>\n",
       "      <td>False</td>\n",
       "      <td>695</td>\n",
       "    </tr>\n",
       "    <tr>\n",
       "      <th>2</th>\n",
       "      <td>3</td>\n",
       "      <td>18</td>\n",
       "      <td>1702.98</td>\n",
       "      <td>6</td>\n",
       "      <td>2022-02-11</td>\n",
       "      <td>2022-10-08</td>\n",
       "      <td>2023-11-15</td>\n",
       "      <td>1.0</td>\n",
       "      <td>3</td>\n",
       "      <td>Website</td>\n",
       "      <td>...</td>\n",
       "      <td>False</td>\n",
       "      <td>True</td>\n",
       "      <td>False</td>\n",
       "      <td>False</td>\n",
       "      <td>True</td>\n",
       "      <td>False</td>\n",
       "      <td>False</td>\n",
       "      <td>True</td>\n",
       "      <td>False</td>\n",
       "      <td>642</td>\n",
       "    </tr>\n",
       "    <tr>\n",
       "      <th>3</th>\n",
       "      <td>4</td>\n",
       "      <td>21</td>\n",
       "      <td>917.29</td>\n",
       "      <td>5</td>\n",
       "      <td>2022-05-22</td>\n",
       "      <td>2022-12-27</td>\n",
       "      <td>2023-08-25</td>\n",
       "      <td>2.0</td>\n",
       "      <td>2</td>\n",
       "      <td>Website</td>\n",
       "      <td>...</td>\n",
       "      <td>False</td>\n",
       "      <td>True</td>\n",
       "      <td>False</td>\n",
       "      <td>False</td>\n",
       "      <td>False</td>\n",
       "      <td>True</td>\n",
       "      <td>False</td>\n",
       "      <td>True</td>\n",
       "      <td>False</td>\n",
       "      <td>460</td>\n",
       "    </tr>\n",
       "    <tr>\n",
       "      <th>4</th>\n",
       "      <td>5</td>\n",
       "      <td>21</td>\n",
       "      <td>2001.49</td>\n",
       "      <td>8</td>\n",
       "      <td>2022-02-21</td>\n",
       "      <td>2022-12-21</td>\n",
       "      <td>2023-10-27</td>\n",
       "      <td>NaN</td>\n",
       "      <td>41</td>\n",
       "      <td>Website</td>\n",
       "      <td>...</td>\n",
       "      <td>False</td>\n",
       "      <td>True</td>\n",
       "      <td>True</td>\n",
       "      <td>False</td>\n",
       "      <td>False</td>\n",
       "      <td>False</td>\n",
       "      <td>False</td>\n",
       "      <td>False</td>\n",
       "      <td>True</td>\n",
       "      <td>613</td>\n",
       "    </tr>\n",
       "    <tr>\n",
       "      <th>...</th>\n",
       "      <td>...</td>\n",
       "      <td>...</td>\n",
       "      <td>...</td>\n",
       "      <td>...</td>\n",
       "      <td>...</td>\n",
       "      <td>...</td>\n",
       "      <td>...</td>\n",
       "      <td>...</td>\n",
       "      <td>...</td>\n",
       "      <td>...</td>\n",
       "      <td>...</td>\n",
       "      <td>...</td>\n",
       "      <td>...</td>\n",
       "      <td>...</td>\n",
       "      <td>...</td>\n",
       "      <td>...</td>\n",
       "      <td>...</td>\n",
       "      <td>...</td>\n",
       "      <td>...</td>\n",
       "      <td>...</td>\n",
       "      <td>...</td>\n",
       "    </tr>\n",
       "    <tr>\n",
       "      <th>995</th>\n",
       "      <td>996</td>\n",
       "      <td>54</td>\n",
       "      <td>227.25</td>\n",
       "      <td>1</td>\n",
       "      <td>2022-07-24</td>\n",
       "      <td>2022-07-24</td>\n",
       "      <td>2023-01-29</td>\n",
       "      <td>NaN</td>\n",
       "      <td>38</td>\n",
       "      <td>Mobile App</td>\n",
       "      <td>...</td>\n",
       "      <td>True</td>\n",
       "      <td>False</td>\n",
       "      <td>False</td>\n",
       "      <td>False</td>\n",
       "      <td>True</td>\n",
       "      <td>False</td>\n",
       "      <td>False</td>\n",
       "      <td>True</td>\n",
       "      <td>False</td>\n",
       "      <td>189</td>\n",
       "    </tr>\n",
       "    <tr>\n",
       "      <th>996</th>\n",
       "      <td>997</td>\n",
       "      <td>19</td>\n",
       "      <td>419.82</td>\n",
       "      <td>2</td>\n",
       "      <td>2022-08-06</td>\n",
       "      <td>2022-10-25</td>\n",
       "      <td>2023-04-01</td>\n",
       "      <td>NaN</td>\n",
       "      <td>5</td>\n",
       "      <td>Mobile App</td>\n",
       "      <td>...</td>\n",
       "      <td>False</td>\n",
       "      <td>True</td>\n",
       "      <td>False</td>\n",
       "      <td>False</td>\n",
       "      <td>False</td>\n",
       "      <td>True</td>\n",
       "      <td>True</td>\n",
       "      <td>False</td>\n",
       "      <td>False</td>\n",
       "      <td>238</td>\n",
       "    </tr>\n",
       "    <tr>\n",
       "      <th>997</th>\n",
       "      <td>998</td>\n",
       "      <td>47</td>\n",
       "      <td>252.15</td>\n",
       "      <td>1</td>\n",
       "      <td>2022-09-18</td>\n",
       "      <td>2022-09-18</td>\n",
       "      <td>2023-07-10</td>\n",
       "      <td>NaN</td>\n",
       "      <td>47</td>\n",
       "      <td>Website</td>\n",
       "      <td>...</td>\n",
       "      <td>False</td>\n",
       "      <td>True</td>\n",
       "      <td>False</td>\n",
       "      <td>True</td>\n",
       "      <td>False</td>\n",
       "      <td>False</td>\n",
       "      <td>False</td>\n",
       "      <td>True</td>\n",
       "      <td>False</td>\n",
       "      <td>295</td>\n",
       "    </tr>\n",
       "    <tr>\n",
       "      <th>998</th>\n",
       "      <td>999</td>\n",
       "      <td>23</td>\n",
       "      <td>2393.26</td>\n",
       "      <td>9</td>\n",
       "      <td>2022-01-20</td>\n",
       "      <td>2022-12-07</td>\n",
       "      <td>2023-01-08</td>\n",
       "      <td>NaN</td>\n",
       "      <td>23</td>\n",
       "      <td>Website</td>\n",
       "      <td>...</td>\n",
       "      <td>False</td>\n",
       "      <td>True</td>\n",
       "      <td>False</td>\n",
       "      <td>False</td>\n",
       "      <td>False</td>\n",
       "      <td>True</td>\n",
       "      <td>True</td>\n",
       "      <td>False</td>\n",
       "      <td>False</td>\n",
       "      <td>353</td>\n",
       "    </tr>\n",
       "    <tr>\n",
       "      <th>999</th>\n",
       "      <td>1000</td>\n",
       "      <td>34</td>\n",
       "      <td>1670.79</td>\n",
       "      <td>6</td>\n",
       "      <td>2022-04-08</td>\n",
       "      <td>2022-12-13</td>\n",
       "      <td>2023-08-13</td>\n",
       "      <td>NaN</td>\n",
       "      <td>22</td>\n",
       "      <td>Mobile App</td>\n",
       "      <td>...</td>\n",
       "      <td>False</td>\n",
       "      <td>True</td>\n",
       "      <td>False</td>\n",
       "      <td>False</td>\n",
       "      <td>False</td>\n",
       "      <td>True</td>\n",
       "      <td>False</td>\n",
       "      <td>True</td>\n",
       "      <td>False</td>\n",
       "      <td>492</td>\n",
       "    </tr>\n",
       "  </tbody>\n",
       "</table>\n",
       "<p>1000 rows × 21 columns</p>\n",
       "</div>"
      ],
      "text/plain": [
       "     CustomerID  Age  TotalSpent  TransactionCount FirstTransactionDate  \\\n",
       "0             1   62      416.50                 1           2022-03-27   \n",
       "1             2   65     1547.42                 7           2022-01-09   \n",
       "2             3   18     1702.98                 6           2022-02-11   \n",
       "3             4   21      917.29                 5           2022-05-22   \n",
       "4             5   21     2001.49                 8           2022-02-21   \n",
       "..          ...  ...         ...               ...                  ...   \n",
       "995         996   54      227.25                 1           2022-07-24   \n",
       "996         997   19      419.82                 2           2022-08-06   \n",
       "997         998   47      252.15                 1           2022-09-18   \n",
       "998         999   23     2393.26                 9           2022-01-20   \n",
       "999        1000   34     1670.79                 6           2022-04-08   \n",
       "\n",
       "    LastTransactionDate LastLoginDate  NumServiceInteractions  LoginFrequency  \\\n",
       "0            2022-03-27    2023-10-21                     1.0              34   \n",
       "1            2022-11-19    2023-12-05                     1.0               5   \n",
       "2            2022-10-08    2023-11-15                     1.0               3   \n",
       "3            2022-12-27    2023-08-25                     2.0               2   \n",
       "4            2022-12-21    2023-10-27                     NaN              41   \n",
       "..                  ...           ...                     ...             ...   \n",
       "995          2022-07-24    2023-01-29                     NaN              38   \n",
       "996          2022-10-25    2023-04-01                     NaN               5   \n",
       "997          2022-09-18    2023-07-10                     NaN              47   \n",
       "998          2022-12-07    2023-01-08                     NaN              23   \n",
       "999          2022-12-13    2023-08-13                     NaN              22   \n",
       "\n",
       "    ServiceUsage  ...  Gender_F  Gender_M  MaritalStatus_Divorced  \\\n",
       "0     Mobile App  ...     False      True                   False   \n",
       "1        Website  ...     False      True                   False   \n",
       "2        Website  ...     False      True                   False   \n",
       "3        Website  ...     False      True                   False   \n",
       "4        Website  ...     False      True                    True   \n",
       "..           ...  ...       ...       ...                     ...   \n",
       "995   Mobile App  ...      True     False                   False   \n",
       "996   Mobile App  ...     False      True                   False   \n",
       "997      Website  ...     False      True                   False   \n",
       "998      Website  ...     False      True                   False   \n",
       "999   Mobile App  ...     False      True                   False   \n",
       "\n",
       "     MaritalStatus_Married  MaritalStatus_Single  MaritalStatus_Widowed  \\\n",
       "0                    False                  True                  False   \n",
       "1                     True                 False                  False   \n",
       "2                    False                  True                  False   \n",
       "3                    False                 False                   True   \n",
       "4                    False                 False                  False   \n",
       "..                     ...                   ...                    ...   \n",
       "995                  False                  True                  False   \n",
       "996                  False                 False                   True   \n",
       "997                   True                 False                  False   \n",
       "998                  False                 False                   True   \n",
       "999                  False                 False                   True   \n",
       "\n",
       "     IncomeLevel_High  IncomeLevel_Low  IncomeLevel_Medium  Tenure  \n",
       "0               False             True               False     573  \n",
       "1               False             True               False     695  \n",
       "2               False             True               False     642  \n",
       "3               False             True               False     460  \n",
       "4               False            False                True     613  \n",
       "..                ...              ...                 ...     ...  \n",
       "995             False             True               False     189  \n",
       "996              True            False               False     238  \n",
       "997             False             True               False     295  \n",
       "998              True            False               False     353  \n",
       "999             False             True               False     492  \n",
       "\n",
       "[1000 rows x 21 columns]"
      ]
     },
     "execution_count": 50,
     "metadata": {},
     "output_type": "execute_result"
    }
   ],
   "source": [
    "merged_df_copy"
   ]
  },
  {
   "cell_type": "code",
   "execution_count": 51,
   "id": "5622c1ee",
   "metadata": {},
   "outputs": [
    {
     "name": "stderr",
     "output_type": "stream",
     "text": [
      "C:\\Users\\Admin\\AppData\\Local\\Temp\\ipykernel_13280\\1226170124.py:3: FutureWarning:\n",
      "\n",
      "The default of observed=False is deprecated and will be changed to True in a future version of pandas. Pass observed=False to retain current behavior or observed=True to adopt the future default and silence this warning.\n",
      "\n"
     ]
    },
    {
     "data": {
      "application/vnd.plotly.v1+json": {
       "config": {
        "plotlyServerURL": "https://plot.ly"
       },
       "data": [
        {
         "hovertemplate": "Tenure Quartile=%{x}<br>Churn Probability=%{y}<extra></extra>",
         "legendgroup": "",
         "marker": {
          "color": "#636efa",
          "pattern": {
           "shape": ""
          }
         },
         "name": "",
         "orientation": "v",
         "showlegend": false,
         "textposition": "auto",
         "type": "bar",
         "x": [
          "Q1",
          "Q2",
          "Q3",
          "Q4"
         ],
         "xaxis": "x",
         "y": {
          "bdata": "u67ruq7ryj9TSimllFLKP/r9qThozck/SZZJz4hkyT8=",
          "dtype": "f8"
         },
         "yaxis": "y"
        }
       ],
       "layout": {
        "barmode": "relative",
        "legend": {
         "tracegroupgap": 0
        },
        "template": {
         "data": {
          "bar": [
           {
            "error_x": {
             "color": "#2a3f5f"
            },
            "error_y": {
             "color": "#2a3f5f"
            },
            "marker": {
             "line": {
              "color": "#E5ECF6",
              "width": 0.5
             },
             "pattern": {
              "fillmode": "overlay",
              "size": 10,
              "solidity": 0.2
             }
            },
            "type": "bar"
           }
          ],
          "barpolar": [
           {
            "marker": {
             "line": {
              "color": "#E5ECF6",
              "width": 0.5
             },
             "pattern": {
              "fillmode": "overlay",
              "size": 10,
              "solidity": 0.2
             }
            },
            "type": "barpolar"
           }
          ],
          "carpet": [
           {
            "aaxis": {
             "endlinecolor": "#2a3f5f",
             "gridcolor": "white",
             "linecolor": "white",
             "minorgridcolor": "white",
             "startlinecolor": "#2a3f5f"
            },
            "baxis": {
             "endlinecolor": "#2a3f5f",
             "gridcolor": "white",
             "linecolor": "white",
             "minorgridcolor": "white",
             "startlinecolor": "#2a3f5f"
            },
            "type": "carpet"
           }
          ],
          "choropleth": [
           {
            "colorbar": {
             "outlinewidth": 0,
             "ticks": ""
            },
            "type": "choropleth"
           }
          ],
          "contour": [
           {
            "colorbar": {
             "outlinewidth": 0,
             "ticks": ""
            },
            "colorscale": [
             [
              0,
              "#0d0887"
             ],
             [
              0.1111111111111111,
              "#46039f"
             ],
             [
              0.2222222222222222,
              "#7201a8"
             ],
             [
              0.3333333333333333,
              "#9c179e"
             ],
             [
              0.4444444444444444,
              "#bd3786"
             ],
             [
              0.5555555555555556,
              "#d8576b"
             ],
             [
              0.6666666666666666,
              "#ed7953"
             ],
             [
              0.7777777777777778,
              "#fb9f3a"
             ],
             [
              0.8888888888888888,
              "#fdca26"
             ],
             [
              1,
              "#f0f921"
             ]
            ],
            "type": "contour"
           }
          ],
          "contourcarpet": [
           {
            "colorbar": {
             "outlinewidth": 0,
             "ticks": ""
            },
            "type": "contourcarpet"
           }
          ],
          "heatmap": [
           {
            "colorbar": {
             "outlinewidth": 0,
             "ticks": ""
            },
            "colorscale": [
             [
              0,
              "#0d0887"
             ],
             [
              0.1111111111111111,
              "#46039f"
             ],
             [
              0.2222222222222222,
              "#7201a8"
             ],
             [
              0.3333333333333333,
              "#9c179e"
             ],
             [
              0.4444444444444444,
              "#bd3786"
             ],
             [
              0.5555555555555556,
              "#d8576b"
             ],
             [
              0.6666666666666666,
              "#ed7953"
             ],
             [
              0.7777777777777778,
              "#fb9f3a"
             ],
             [
              0.8888888888888888,
              "#fdca26"
             ],
             [
              1,
              "#f0f921"
             ]
            ],
            "type": "heatmap"
           }
          ],
          "histogram": [
           {
            "marker": {
             "pattern": {
              "fillmode": "overlay",
              "size": 10,
              "solidity": 0.2
             }
            },
            "type": "histogram"
           }
          ],
          "histogram2d": [
           {
            "colorbar": {
             "outlinewidth": 0,
             "ticks": ""
            },
            "colorscale": [
             [
              0,
              "#0d0887"
             ],
             [
              0.1111111111111111,
              "#46039f"
             ],
             [
              0.2222222222222222,
              "#7201a8"
             ],
             [
              0.3333333333333333,
              "#9c179e"
             ],
             [
              0.4444444444444444,
              "#bd3786"
             ],
             [
              0.5555555555555556,
              "#d8576b"
             ],
             [
              0.6666666666666666,
              "#ed7953"
             ],
             [
              0.7777777777777778,
              "#fb9f3a"
             ],
             [
              0.8888888888888888,
              "#fdca26"
             ],
             [
              1,
              "#f0f921"
             ]
            ],
            "type": "histogram2d"
           }
          ],
          "histogram2dcontour": [
           {
            "colorbar": {
             "outlinewidth": 0,
             "ticks": ""
            },
            "colorscale": [
             [
              0,
              "#0d0887"
             ],
             [
              0.1111111111111111,
              "#46039f"
             ],
             [
              0.2222222222222222,
              "#7201a8"
             ],
             [
              0.3333333333333333,
              "#9c179e"
             ],
             [
              0.4444444444444444,
              "#bd3786"
             ],
             [
              0.5555555555555556,
              "#d8576b"
             ],
             [
              0.6666666666666666,
              "#ed7953"
             ],
             [
              0.7777777777777778,
              "#fb9f3a"
             ],
             [
              0.8888888888888888,
              "#fdca26"
             ],
             [
              1,
              "#f0f921"
             ]
            ],
            "type": "histogram2dcontour"
           }
          ],
          "mesh3d": [
           {
            "colorbar": {
             "outlinewidth": 0,
             "ticks": ""
            },
            "type": "mesh3d"
           }
          ],
          "parcoords": [
           {
            "line": {
             "colorbar": {
              "outlinewidth": 0,
              "ticks": ""
             }
            },
            "type": "parcoords"
           }
          ],
          "pie": [
           {
            "automargin": true,
            "type": "pie"
           }
          ],
          "scatter": [
           {
            "fillpattern": {
             "fillmode": "overlay",
             "size": 10,
             "solidity": 0.2
            },
            "type": "scatter"
           }
          ],
          "scatter3d": [
           {
            "line": {
             "colorbar": {
              "outlinewidth": 0,
              "ticks": ""
             }
            },
            "marker": {
             "colorbar": {
              "outlinewidth": 0,
              "ticks": ""
             }
            },
            "type": "scatter3d"
           }
          ],
          "scattercarpet": [
           {
            "marker": {
             "colorbar": {
              "outlinewidth": 0,
              "ticks": ""
             }
            },
            "type": "scattercarpet"
           }
          ],
          "scattergeo": [
           {
            "marker": {
             "colorbar": {
              "outlinewidth": 0,
              "ticks": ""
             }
            },
            "type": "scattergeo"
           }
          ],
          "scattergl": [
           {
            "marker": {
             "colorbar": {
              "outlinewidth": 0,
              "ticks": ""
             }
            },
            "type": "scattergl"
           }
          ],
          "scattermap": [
           {
            "marker": {
             "colorbar": {
              "outlinewidth": 0,
              "ticks": ""
             }
            },
            "type": "scattermap"
           }
          ],
          "scattermapbox": [
           {
            "marker": {
             "colorbar": {
              "outlinewidth": 0,
              "ticks": ""
             }
            },
            "type": "scattermapbox"
           }
          ],
          "scatterpolar": [
           {
            "marker": {
             "colorbar": {
              "outlinewidth": 0,
              "ticks": ""
             }
            },
            "type": "scatterpolar"
           }
          ],
          "scatterpolargl": [
           {
            "marker": {
             "colorbar": {
              "outlinewidth": 0,
              "ticks": ""
             }
            },
            "type": "scatterpolargl"
           }
          ],
          "scatterternary": [
           {
            "marker": {
             "colorbar": {
              "outlinewidth": 0,
              "ticks": ""
             }
            },
            "type": "scatterternary"
           }
          ],
          "surface": [
           {
            "colorbar": {
             "outlinewidth": 0,
             "ticks": ""
            },
            "colorscale": [
             [
              0,
              "#0d0887"
             ],
             [
              0.1111111111111111,
              "#46039f"
             ],
             [
              0.2222222222222222,
              "#7201a8"
             ],
             [
              0.3333333333333333,
              "#9c179e"
             ],
             [
              0.4444444444444444,
              "#bd3786"
             ],
             [
              0.5555555555555556,
              "#d8576b"
             ],
             [
              0.6666666666666666,
              "#ed7953"
             ],
             [
              0.7777777777777778,
              "#fb9f3a"
             ],
             [
              0.8888888888888888,
              "#fdca26"
             ],
             [
              1,
              "#f0f921"
             ]
            ],
            "type": "surface"
           }
          ],
          "table": [
           {
            "cells": {
             "fill": {
              "color": "#EBF0F8"
             },
             "line": {
              "color": "white"
             }
            },
            "header": {
             "fill": {
              "color": "#C8D4E3"
             },
             "line": {
              "color": "white"
             }
            },
            "type": "table"
           }
          ]
         },
         "layout": {
          "annotationdefaults": {
           "arrowcolor": "#2a3f5f",
           "arrowhead": 0,
           "arrowwidth": 1
          },
          "autotypenumbers": "strict",
          "coloraxis": {
           "colorbar": {
            "outlinewidth": 0,
            "ticks": ""
           }
          },
          "colorscale": {
           "diverging": [
            [
             0,
             "#8e0152"
            ],
            [
             0.1,
             "#c51b7d"
            ],
            [
             0.2,
             "#de77ae"
            ],
            [
             0.3,
             "#f1b6da"
            ],
            [
             0.4,
             "#fde0ef"
            ],
            [
             0.5,
             "#f7f7f7"
            ],
            [
             0.6,
             "#e6f5d0"
            ],
            [
             0.7,
             "#b8e186"
            ],
            [
             0.8,
             "#7fbc41"
            ],
            [
             0.9,
             "#4d9221"
            ],
            [
             1,
             "#276419"
            ]
           ],
           "sequential": [
            [
             0,
             "#0d0887"
            ],
            [
             0.1111111111111111,
             "#46039f"
            ],
            [
             0.2222222222222222,
             "#7201a8"
            ],
            [
             0.3333333333333333,
             "#9c179e"
            ],
            [
             0.4444444444444444,
             "#bd3786"
            ],
            [
             0.5555555555555556,
             "#d8576b"
            ],
            [
             0.6666666666666666,
             "#ed7953"
            ],
            [
             0.7777777777777778,
             "#fb9f3a"
            ],
            [
             0.8888888888888888,
             "#fdca26"
            ],
            [
             1,
             "#f0f921"
            ]
           ],
           "sequentialminus": [
            [
             0,
             "#0d0887"
            ],
            [
             0.1111111111111111,
             "#46039f"
            ],
            [
             0.2222222222222222,
             "#7201a8"
            ],
            [
             0.3333333333333333,
             "#9c179e"
            ],
            [
             0.4444444444444444,
             "#bd3786"
            ],
            [
             0.5555555555555556,
             "#d8576b"
            ],
            [
             0.6666666666666666,
             "#ed7953"
            ],
            [
             0.7777777777777778,
             "#fb9f3a"
            ],
            [
             0.8888888888888888,
             "#fdca26"
            ],
            [
             1,
             "#f0f921"
            ]
           ]
          },
          "colorway": [
           "#636efa",
           "#EF553B",
           "#00cc96",
           "#ab63fa",
           "#FFA15A",
           "#19d3f3",
           "#FF6692",
           "#B6E880",
           "#FF97FF",
           "#FECB52"
          ],
          "font": {
           "color": "#2a3f5f"
          },
          "geo": {
           "bgcolor": "white",
           "lakecolor": "white",
           "landcolor": "#E5ECF6",
           "showlakes": true,
           "showland": true,
           "subunitcolor": "white"
          },
          "hoverlabel": {
           "align": "left"
          },
          "hovermode": "closest",
          "mapbox": {
           "style": "light"
          },
          "paper_bgcolor": "white",
          "plot_bgcolor": "#E5ECF6",
          "polar": {
           "angularaxis": {
            "gridcolor": "white",
            "linecolor": "white",
            "ticks": ""
           },
           "bgcolor": "#E5ECF6",
           "radialaxis": {
            "gridcolor": "white",
            "linecolor": "white",
            "ticks": ""
           }
          },
          "scene": {
           "xaxis": {
            "backgroundcolor": "#E5ECF6",
            "gridcolor": "white",
            "gridwidth": 2,
            "linecolor": "white",
            "showbackground": true,
            "ticks": "",
            "zerolinecolor": "white"
           },
           "yaxis": {
            "backgroundcolor": "#E5ECF6",
            "gridcolor": "white",
            "gridwidth": 2,
            "linecolor": "white",
            "showbackground": true,
            "ticks": "",
            "zerolinecolor": "white"
           },
           "zaxis": {
            "backgroundcolor": "#E5ECF6",
            "gridcolor": "white",
            "gridwidth": 2,
            "linecolor": "white",
            "showbackground": true,
            "ticks": "",
            "zerolinecolor": "white"
           }
          },
          "shapedefaults": {
           "line": {
            "color": "#2a3f5f"
           }
          },
          "ternary": {
           "aaxis": {
            "gridcolor": "white",
            "linecolor": "white",
            "ticks": ""
           },
           "baxis": {
            "gridcolor": "white",
            "linecolor": "white",
            "ticks": ""
           },
           "bgcolor": "#E5ECF6",
           "caxis": {
            "gridcolor": "white",
            "linecolor": "white",
            "ticks": ""
           }
          },
          "title": {
           "x": 0.05
          },
          "xaxis": {
           "automargin": true,
           "gridcolor": "white",
           "linecolor": "white",
           "ticks": "",
           "title": {
            "standoff": 15
           },
           "zerolinecolor": "white",
           "zerolinewidth": 2
          },
          "yaxis": {
           "automargin": true,
           "gridcolor": "white",
           "linecolor": "white",
           "ticks": "",
           "title": {
            "standoff": 15
           },
           "zerolinecolor": "white",
           "zerolinewidth": 2
          }
         }
        },
        "title": {
         "text": "Churn Rate by Tenure Quartile"
        },
        "xaxis": {
         "anchor": "y",
         "domain": [
          0,
          1
         ],
         "title": {
          "text": "Tenure Quartile"
         }
        },
        "yaxis": {
         "anchor": "x",
         "domain": [
          0,
          1
         ],
         "title": {
          "text": "Churn Probability"
         }
        }
       }
      }
     },
     "metadata": {},
     "output_type": "display_data"
    }
   ],
   "source": [
    "# Churn rate by tenure quartile\n",
    "merged_df_copy['TenureQuartile'] = pd.qcut(merged_df_copy['Tenure'], 4, labels=['Q1','Q2','Q3','Q4'])\n",
    "churn_by_tenure = merged_df_copy.groupby('TenureQuartile')['ChurnStatus'].mean()\n",
    "fig = px.bar(\n",
    "    churn_by_tenure.reset_index(),\n",
    "    x='TenureQuartile',\n",
    "    y='ChurnStatus',\n",
    "    title='Churn Rate by Tenure Quartile',\n",
    "    labels={'ChurnStatus': 'Churn Probability', 'TenureQuartile': 'Tenure Quartile'}\n",
    ")\n",
    "\n",
    "fig.show()"
   ]
  },
  {
   "cell_type": "code",
   "execution_count": 52,
   "id": "a644f671",
   "metadata": {},
   "outputs": [
    {
     "data": {
      "text/plain": [
       "CustomerID                0\n",
       "Age                       0\n",
       "Gender                    0\n",
       "MaritalStatus             0\n",
       "IncomeLevel               0\n",
       "TotalSpent                0\n",
       "TransactionCount          0\n",
       "FirstTransactionDate      0\n",
       "LastTransactionDate       0\n",
       "LastLoginDate             0\n",
       "NumServiceInteractions    0\n",
       "LoginFrequency            0\n",
       "ServiceUsage              0\n",
       "ChurnStatus               0\n",
       "dtype: int64"
      ]
     },
     "execution_count": 52,
     "metadata": {},
     "output_type": "execute_result"
    }
   ],
   "source": [
    "merged_df_copy = merged_df.copy()\n",
    "\n",
    "merged_df_copy.fillna({'LastLoginDate': merged_df_copy['LastLoginDate'].median(),\n",
    "                        'ServiceUsage': 'Unknown',\n",
    "                        'TotalSpent': merged_df_copy['TotalSpent'].mean(),\n",
    "                        'NumServiceInteractions': 0}, inplace=True\n",
    "                        )\n",
    "\n",
    "merged_df_copy.isnull().sum()"
   ]
  },
  {
   "cell_type": "code",
   "execution_count": 53,
   "id": "a69f83cf",
   "metadata": {},
   "outputs": [],
   "source": [
    "merged_df_copy.to_csv('cleaned_customer_data.csv', index=False)"
   ]
  }
 ],
 "metadata": {
  "kernelspec": {
   "display_name": ".venv",
   "language": "python",
   "name": "python3"
  },
  "language_info": {
   "codemirror_mode": {
    "name": "ipython",
    "version": 3
   },
   "file_extension": ".py",
   "mimetype": "text/x-python",
   "name": "python",
   "nbconvert_exporter": "python",
   "pygments_lexer": "ipython3",
   "version": "3.13.2"
  }
 },
 "nbformat": 4,
 "nbformat_minor": 5
}
