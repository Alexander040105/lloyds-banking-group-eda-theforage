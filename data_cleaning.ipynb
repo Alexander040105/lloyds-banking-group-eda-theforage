{
 "cells": [
  {
   "cell_type": "code",
   "execution_count": 186,
   "id": "34ba1dd4",
   "metadata": {},
   "outputs": [],
   "source": [
    "import pandas as pd\n",
    "import numpy as np\n",
    "from pathlib import Path\n",
    "from datetime import datetime\n",
    "import matplotlib.pyplot as plt\n",
    "import plotly.express as px\n",
    "import seaborn as sns\n",
    "from sklearn.preprocessing import StandardScaler\n",
    "import joblib"
   ]
  },
  {
   "cell_type": "code",
   "execution_count": 187,
   "id": "d50bdcdf",
   "metadata": {},
   "outputs": [],
   "source": [
    "DATA_FILE = Path.cwd() / \"Customer_Churn_Data_Large.xlsx\"\n",
    "OUTPUT_CSV = Path.cwd() / \"customer_churn_analysis_cleaned.csv\"\n",
    "SCALER_FILE = Path.cwd() / \"numeric_scaler.save\"\n",
    "REFERENCE_DATE = None"
   ]
  },
  {
   "cell_type": "markdown",
   "id": "fee93e4a",
   "metadata": {},
   "source": [
    "Functions to easily load the data and the sheets"
   ]
  },
  {
   "cell_type": "code",
   "execution_count": 188,
   "id": "18c23a93",
   "metadata": {},
   "outputs": [],
   "source": [
    "def read_all_sheets(xlsx_path: Path):\n",
    "    xls = pd.ExcelFile(xlsx_path)\n",
    "    sheets = {name: pd.read_excel(xls, name) for name in xls.sheet_names}\n",
    "    return sheets\n",
    "\n",
    "def safe_to_datetime(df, col):\n",
    "    if col in df.columns:\n",
    "        return pd.to_datetime(df[col], errors='coerce')\n",
    "    return pd.Series(dtype='datetime64[ns]')"
   ]
  },
  {
   "cell_type": "code",
   "execution_count": 189,
   "id": "ec8f228f",
   "metadata": {},
   "outputs": [],
   "source": [
    "sheets = read_all_sheets(DATA_FILE)\n",
    "\n",
    "customer_demographics = sheets.get('Customer_Demographics', pd.DataFrame())\n",
    "transaction_history = sheets.get('Transaction_History', pd.DataFrame())\n",
    "customer_service = sheets.get('Customer_Service', pd.DataFrame())\n",
    "online_activity = sheets.get('Online_Activity', pd.DataFrame())\n",
    "churn_status = sheets.get('Churn_Status', pd.DataFrame())"
   ]
  },
  {
   "cell_type": "code",
   "execution_count": 190,
   "id": "c92a1cd2",
   "metadata": {},
   "outputs": [],
   "source": [
    "# Convert known date columns safely\n",
    "transaction_history['TransactionDate'] = safe_to_datetime(transaction_history, 'TransactionDate')\n",
    "customer_service['InteractionDate'] = safe_to_datetime(customer_service, 'InteractionDate')\n",
    "online_activity['LastLoginDate'] = safe_to_datetime(online_activity, 'LastLoginDate')\n",
    "\n",
    "# If no REFERENCE_DATE provided, use the latest transaction date found (keeps recency consistent)\n",
    "if REFERENCE_DATE is None:\n",
    "    if transaction_history['TransactionDate'].notna().any():\n",
    "        REFERENCE_DATE = transaction_history['TransactionDate'].max()\n",
    "    else:\n",
    "        REFERENCE_DATE = pd.to_datetime('today')\n"
   ]
  },
  {
   "cell_type": "code",
   "execution_count": 191,
   "id": "acf993f4",
   "metadata": {},
   "outputs": [
    {
     "data": {
      "text/html": [
       "<div>\n",
       "<style scoped>\n",
       "    .dataframe tbody tr th:only-of-type {\n",
       "        vertical-align: middle;\n",
       "    }\n",
       "\n",
       "    .dataframe tbody tr th {\n",
       "        vertical-align: top;\n",
       "    }\n",
       "\n",
       "    .dataframe thead th {\n",
       "        text-align: right;\n",
       "    }\n",
       "</style>\n",
       "<table border=\"1\" class=\"dataframe\">\n",
       "  <thead>\n",
       "    <tr style=\"text-align: right;\">\n",
       "      <th></th>\n",
       "      <th>CustomerID</th>\n",
       "      <th>Age</th>\n",
       "      <th>Gender</th>\n",
       "      <th>MaritalStatus</th>\n",
       "      <th>IncomeLevel</th>\n",
       "    </tr>\n",
       "  </thead>\n",
       "  <tbody>\n",
       "    <tr>\n",
       "      <th>0</th>\n",
       "      <td>1</td>\n",
       "      <td>62</td>\n",
       "      <td>M</td>\n",
       "      <td>Single</td>\n",
       "      <td>Low</td>\n",
       "    </tr>\n",
       "  </tbody>\n",
       "</table>\n",
       "</div>"
      ],
      "text/plain": [
       "   CustomerID  Age Gender MaritalStatus IncomeLevel\n",
       "0           1   62      M        Single         Low"
      ]
     },
     "execution_count": 191,
     "metadata": {},
     "output_type": "execute_result"
    }
   ],
   "source": [
    "customer_demographics.head(1)"
   ]
  },
  {
   "cell_type": "code",
   "execution_count": 192,
   "id": "c21b5151",
   "metadata": {},
   "outputs": [
    {
     "data": {
      "text/html": [
       "<div>\n",
       "<style scoped>\n",
       "    .dataframe tbody tr th:only-of-type {\n",
       "        vertical-align: middle;\n",
       "    }\n",
       "\n",
       "    .dataframe tbody tr th {\n",
       "        vertical-align: top;\n",
       "    }\n",
       "\n",
       "    .dataframe thead th {\n",
       "        text-align: right;\n",
       "    }\n",
       "</style>\n",
       "<table border=\"1\" class=\"dataframe\">\n",
       "  <thead>\n",
       "    <tr style=\"text-align: right;\">\n",
       "      <th></th>\n",
       "      <th>CustomerID</th>\n",
       "      <th>TransactionID</th>\n",
       "      <th>TransactionDate</th>\n",
       "      <th>AmountSpent</th>\n",
       "      <th>ProductCategory</th>\n",
       "    </tr>\n",
       "  </thead>\n",
       "  <tbody>\n",
       "    <tr>\n",
       "      <th>0</th>\n",
       "      <td>1</td>\n",
       "      <td>7194</td>\n",
       "      <td>2022-03-27</td>\n",
       "      <td>416.5</td>\n",
       "      <td>Electronics</td>\n",
       "    </tr>\n",
       "  </tbody>\n",
       "</table>\n",
       "</div>"
      ],
      "text/plain": [
       "   CustomerID  TransactionID TransactionDate  AmountSpent ProductCategory\n",
       "0           1           7194      2022-03-27        416.5     Electronics"
      ]
     },
     "execution_count": 192,
     "metadata": {},
     "output_type": "execute_result"
    }
   ],
   "source": [
    "transaction_history.head(1)"
   ]
  },
  {
   "cell_type": "code",
   "execution_count": 193,
   "id": "ba32f6ec",
   "metadata": {},
   "outputs": [
    {
     "data": {
      "text/html": [
       "<div>\n",
       "<style scoped>\n",
       "    .dataframe tbody tr th:only-of-type {\n",
       "        vertical-align: middle;\n",
       "    }\n",
       "\n",
       "    .dataframe tbody tr th {\n",
       "        vertical-align: top;\n",
       "    }\n",
       "\n",
       "    .dataframe thead th {\n",
       "        text-align: right;\n",
       "    }\n",
       "</style>\n",
       "<table border=\"1\" class=\"dataframe\">\n",
       "  <thead>\n",
       "    <tr style=\"text-align: right;\">\n",
       "      <th></th>\n",
       "      <th>CustomerID</th>\n",
       "      <th>InteractionID</th>\n",
       "      <th>InteractionDate</th>\n",
       "      <th>InteractionType</th>\n",
       "      <th>ResolutionStatus</th>\n",
       "    </tr>\n",
       "  </thead>\n",
       "  <tbody>\n",
       "    <tr>\n",
       "      <th>0</th>\n",
       "      <td>1</td>\n",
       "      <td>6363</td>\n",
       "      <td>2022-03-31</td>\n",
       "      <td>Inquiry</td>\n",
       "      <td>Resolved</td>\n",
       "    </tr>\n",
       "  </tbody>\n",
       "</table>\n",
       "</div>"
      ],
      "text/plain": [
       "   CustomerID  InteractionID InteractionDate InteractionType ResolutionStatus\n",
       "0           1           6363      2022-03-31         Inquiry         Resolved"
      ]
     },
     "execution_count": 193,
     "metadata": {},
     "output_type": "execute_result"
    }
   ],
   "source": [
    "customer_service.head(1)"
   ]
  },
  {
   "cell_type": "code",
   "execution_count": 194,
   "id": "179bed21",
   "metadata": {},
   "outputs": [
    {
     "data": {
      "text/html": [
       "<div>\n",
       "<style scoped>\n",
       "    .dataframe tbody tr th:only-of-type {\n",
       "        vertical-align: middle;\n",
       "    }\n",
       "\n",
       "    .dataframe tbody tr th {\n",
       "        vertical-align: top;\n",
       "    }\n",
       "\n",
       "    .dataframe thead th {\n",
       "        text-align: right;\n",
       "    }\n",
       "</style>\n",
       "<table border=\"1\" class=\"dataframe\">\n",
       "  <thead>\n",
       "    <tr style=\"text-align: right;\">\n",
       "      <th></th>\n",
       "      <th>CustomerID</th>\n",
       "      <th>LastLoginDate</th>\n",
       "      <th>LoginFrequency</th>\n",
       "      <th>ServiceUsage</th>\n",
       "    </tr>\n",
       "  </thead>\n",
       "  <tbody>\n",
       "    <tr>\n",
       "      <th>0</th>\n",
       "      <td>1</td>\n",
       "      <td>2023-10-21</td>\n",
       "      <td>34</td>\n",
       "      <td>Mobile App</td>\n",
       "    </tr>\n",
       "  </tbody>\n",
       "</table>\n",
       "</div>"
      ],
      "text/plain": [
       "   CustomerID LastLoginDate  LoginFrequency ServiceUsage\n",
       "0           1    2023-10-21              34   Mobile App"
      ]
     },
     "execution_count": 194,
     "metadata": {},
     "output_type": "execute_result"
    }
   ],
   "source": [
    "online_activity.head(1)"
   ]
  },
  {
   "cell_type": "code",
   "execution_count": 195,
   "id": "c0048b87",
   "metadata": {},
   "outputs": [
    {
     "data": {
      "text/html": [
       "<div>\n",
       "<style scoped>\n",
       "    .dataframe tbody tr th:only-of-type {\n",
       "        vertical-align: middle;\n",
       "    }\n",
       "\n",
       "    .dataframe tbody tr th {\n",
       "        vertical-align: top;\n",
       "    }\n",
       "\n",
       "    .dataframe thead th {\n",
       "        text-align: right;\n",
       "    }\n",
       "</style>\n",
       "<table border=\"1\" class=\"dataframe\">\n",
       "  <thead>\n",
       "    <tr style=\"text-align: right;\">\n",
       "      <th></th>\n",
       "      <th>CustomerID</th>\n",
       "      <th>ChurnStatus</th>\n",
       "    </tr>\n",
       "  </thead>\n",
       "  <tbody>\n",
       "    <tr>\n",
       "      <th>0</th>\n",
       "      <td>1</td>\n",
       "      <td>0</td>\n",
       "    </tr>\n",
       "  </tbody>\n",
       "</table>\n",
       "</div>"
      ],
      "text/plain": [
       "   CustomerID  ChurnStatus\n",
       "0           1            0"
      ]
     },
     "execution_count": 195,
     "metadata": {},
     "output_type": "execute_result"
    }
   ],
   "source": [
    "churn_status.head(1)"
   ]
  },
  {
   "cell_type": "code",
   "execution_count": 196,
   "id": "ad98af48",
   "metadata": {},
   "outputs": [
    {
     "data": {
      "text/html": [
       "<div>\n",
       "<style scoped>\n",
       "    .dataframe tbody tr th:only-of-type {\n",
       "        vertical-align: middle;\n",
       "    }\n",
       "\n",
       "    .dataframe tbody tr th {\n",
       "        vertical-align: top;\n",
       "    }\n",
       "\n",
       "    .dataframe thead th {\n",
       "        text-align: right;\n",
       "    }\n",
       "</style>\n",
       "<table border=\"1\" class=\"dataframe\">\n",
       "  <thead>\n",
       "    <tr style=\"text-align: right;\">\n",
       "      <th></th>\n",
       "      <th>CustomerID</th>\n",
       "      <th>Age</th>\n",
       "    </tr>\n",
       "  </thead>\n",
       "  <tbody>\n",
       "    <tr>\n",
       "      <th>count</th>\n",
       "      <td>1000.000000</td>\n",
       "      <td>1000.000000</td>\n",
       "    </tr>\n",
       "    <tr>\n",
       "      <th>mean</th>\n",
       "      <td>500.500000</td>\n",
       "      <td>43.267000</td>\n",
       "    </tr>\n",
       "    <tr>\n",
       "      <th>std</th>\n",
       "      <td>288.819436</td>\n",
       "      <td>15.242311</td>\n",
       "    </tr>\n",
       "    <tr>\n",
       "      <th>min</th>\n",
       "      <td>1.000000</td>\n",
       "      <td>18.000000</td>\n",
       "    </tr>\n",
       "    <tr>\n",
       "      <th>25%</th>\n",
       "      <td>250.750000</td>\n",
       "      <td>30.000000</td>\n",
       "    </tr>\n",
       "    <tr>\n",
       "      <th>50%</th>\n",
       "      <td>500.500000</td>\n",
       "      <td>43.000000</td>\n",
       "    </tr>\n",
       "    <tr>\n",
       "      <th>75%</th>\n",
       "      <td>750.250000</td>\n",
       "      <td>56.000000</td>\n",
       "    </tr>\n",
       "    <tr>\n",
       "      <th>max</th>\n",
       "      <td>1000.000000</td>\n",
       "      <td>69.000000</td>\n",
       "    </tr>\n",
       "  </tbody>\n",
       "</table>\n",
       "</div>"
      ],
      "text/plain": [
       "        CustomerID          Age\n",
       "count  1000.000000  1000.000000\n",
       "mean    500.500000    43.267000\n",
       "std     288.819436    15.242311\n",
       "min       1.000000    18.000000\n",
       "25%     250.750000    30.000000\n",
       "50%     500.500000    43.000000\n",
       "75%     750.250000    56.000000\n",
       "max    1000.000000    69.000000"
      ]
     },
     "execution_count": 196,
     "metadata": {},
     "output_type": "execute_result"
    }
   ],
   "source": [
    "customer_demographics.describe()"
   ]
  },
  {
   "cell_type": "code",
   "execution_count": 197,
   "id": "3373e544",
   "metadata": {},
   "outputs": [
    {
     "name": "stdout",
     "output_type": "stream",
     "text": [
      "<class 'pandas.core.frame.DataFrame'>\n",
      "RangeIndex: 1000 entries, 0 to 999\n",
      "Data columns (total 5 columns):\n",
      " #   Column         Non-Null Count  Dtype \n",
      "---  ------         --------------  ----- \n",
      " 0   CustomerID     1000 non-null   int64 \n",
      " 1   Age            1000 non-null   int64 \n",
      " 2   Gender         1000 non-null   object\n",
      " 3   MaritalStatus  1000 non-null   object\n",
      " 4   IncomeLevel    1000 non-null   object\n",
      "dtypes: int64(2), object(3)\n",
      "memory usage: 39.2+ KB\n"
     ]
    }
   ],
   "source": [
    "customer_demographics.info()"
   ]
  },
  {
   "cell_type": "code",
   "execution_count": 198,
   "id": "d4241009",
   "metadata": {},
   "outputs": [
    {
     "data": {
      "text/plain": [
       "CustomerID       0\n",
       "Age              0\n",
       "Gender           0\n",
       "MaritalStatus    0\n",
       "IncomeLevel      0\n",
       "dtype: int64"
      ]
     },
     "execution_count": 198,
     "metadata": {},
     "output_type": "execute_result"
    }
   ],
   "source": [
    "customer_demographics.isnull().sum()"
   ]
  },
  {
   "cell_type": "code",
   "execution_count": 199,
   "id": "9bc76966",
   "metadata": {},
   "outputs": [
    {
     "data": {
      "text/html": [
       "<div>\n",
       "<style scoped>\n",
       "    .dataframe tbody tr th:only-of-type {\n",
       "        vertical-align: middle;\n",
       "    }\n",
       "\n",
       "    .dataframe tbody tr th {\n",
       "        vertical-align: top;\n",
       "    }\n",
       "\n",
       "    .dataframe thead th {\n",
       "        text-align: right;\n",
       "    }\n",
       "</style>\n",
       "<table border=\"1\" class=\"dataframe\">\n",
       "  <thead>\n",
       "    <tr style=\"text-align: right;\">\n",
       "      <th></th>\n",
       "      <th>CustomerID</th>\n",
       "      <th>TransactionID</th>\n",
       "      <th>TransactionDate</th>\n",
       "      <th>AmountSpent</th>\n",
       "    </tr>\n",
       "  </thead>\n",
       "  <tbody>\n",
       "    <tr>\n",
       "      <th>count</th>\n",
       "      <td>5054.000000</td>\n",
       "      <td>5054.000000</td>\n",
       "      <td>5054</td>\n",
       "      <td>5054.000000</td>\n",
       "    </tr>\n",
       "    <tr>\n",
       "      <th>mean</th>\n",
       "      <td>501.424218</td>\n",
       "      <td>5510.538979</td>\n",
       "      <td>2022-07-01 19:25:37.158686208</td>\n",
       "      <td>250.707351</td>\n",
       "    </tr>\n",
       "    <tr>\n",
       "      <th>min</th>\n",
       "      <td>1.000000</td>\n",
       "      <td>1000.000000</td>\n",
       "      <td>2022-01-01 00:00:00</td>\n",
       "      <td>5.180000</td>\n",
       "    </tr>\n",
       "    <tr>\n",
       "      <th>25%</th>\n",
       "      <td>251.000000</td>\n",
       "      <td>3242.000000</td>\n",
       "      <td>2022-04-03 00:00:00</td>\n",
       "      <td>127.105000</td>\n",
       "    </tr>\n",
       "    <tr>\n",
       "      <th>50%</th>\n",
       "      <td>506.000000</td>\n",
       "      <td>5530.000000</td>\n",
       "      <td>2022-07-01 00:00:00</td>\n",
       "      <td>250.525000</td>\n",
       "    </tr>\n",
       "    <tr>\n",
       "      <th>75%</th>\n",
       "      <td>749.000000</td>\n",
       "      <td>7680.750000</td>\n",
       "      <td>2022-09-29 00:00:00</td>\n",
       "      <td>373.412500</td>\n",
       "    </tr>\n",
       "    <tr>\n",
       "      <th>max</th>\n",
       "      <td>1000.000000</td>\n",
       "      <td>9997.000000</td>\n",
       "      <td>2022-12-31 00:00:00</td>\n",
       "      <td>499.860000</td>\n",
       "    </tr>\n",
       "    <tr>\n",
       "      <th>std</th>\n",
       "      <td>285.172780</td>\n",
       "      <td>2582.088012</td>\n",
       "      <td>NaN</td>\n",
       "      <td>142.250838</td>\n",
       "    </tr>\n",
       "  </tbody>\n",
       "</table>\n",
       "</div>"
      ],
      "text/plain": [
       "        CustomerID  TransactionID                TransactionDate  AmountSpent\n",
       "count  5054.000000    5054.000000                           5054  5054.000000\n",
       "mean    501.424218    5510.538979  2022-07-01 19:25:37.158686208   250.707351\n",
       "min       1.000000    1000.000000            2022-01-01 00:00:00     5.180000\n",
       "25%     251.000000    3242.000000            2022-04-03 00:00:00   127.105000\n",
       "50%     506.000000    5530.000000            2022-07-01 00:00:00   250.525000\n",
       "75%     749.000000    7680.750000            2022-09-29 00:00:00   373.412500\n",
       "max    1000.000000    9997.000000            2022-12-31 00:00:00   499.860000\n",
       "std     285.172780    2582.088012                            NaN   142.250838"
      ]
     },
     "execution_count": 199,
     "metadata": {},
     "output_type": "execute_result"
    }
   ],
   "source": [
    "transaction_history.describe()"
   ]
  },
  {
   "cell_type": "code",
   "execution_count": 200,
   "id": "43f77f33",
   "metadata": {},
   "outputs": [
    {
     "name": "stdout",
     "output_type": "stream",
     "text": [
      "<class 'pandas.core.frame.DataFrame'>\n",
      "RangeIndex: 5054 entries, 0 to 5053\n",
      "Data columns (total 5 columns):\n",
      " #   Column           Non-Null Count  Dtype         \n",
      "---  ------           --------------  -----         \n",
      " 0   CustomerID       5054 non-null   int64         \n",
      " 1   TransactionID    5054 non-null   int64         \n",
      " 2   TransactionDate  5054 non-null   datetime64[ns]\n",
      " 3   AmountSpent      5054 non-null   float64       \n",
      " 4   ProductCategory  5054 non-null   object        \n",
      "dtypes: datetime64[ns](1), float64(1), int64(2), object(1)\n",
      "memory usage: 197.6+ KB\n"
     ]
    }
   ],
   "source": [
    "transaction_history.info()"
   ]
  },
  {
   "cell_type": "code",
   "execution_count": 201,
   "id": "99de3ef9",
   "metadata": {},
   "outputs": [
    {
     "data": {
      "text/plain": [
       "CustomerID         0\n",
       "TransactionID      0\n",
       "TransactionDate    0\n",
       "AmountSpent        0\n",
       "ProductCategory    0\n",
       "dtype: int64"
      ]
     },
     "execution_count": 201,
     "metadata": {},
     "output_type": "execute_result"
    }
   ],
   "source": [
    "transaction_history.isnull().sum()"
   ]
  },
  {
   "cell_type": "code",
   "execution_count": 202,
   "id": "c3407bc0",
   "metadata": {},
   "outputs": [
    {
     "data": {
      "text/html": [
       "<div>\n",
       "<style scoped>\n",
       "    .dataframe tbody tr th:only-of-type {\n",
       "        vertical-align: middle;\n",
       "    }\n",
       "\n",
       "    .dataframe tbody tr th {\n",
       "        vertical-align: top;\n",
       "    }\n",
       "\n",
       "    .dataframe thead th {\n",
       "        text-align: right;\n",
       "    }\n",
       "</style>\n",
       "<table border=\"1\" class=\"dataframe\">\n",
       "  <thead>\n",
       "    <tr style=\"text-align: right;\">\n",
       "      <th></th>\n",
       "      <th>CustomerID</th>\n",
       "      <th>TransactionID</th>\n",
       "      <th>TransactionDate</th>\n",
       "      <th>AmountSpent</th>\n",
       "      <th>ProductCategory</th>\n",
       "    </tr>\n",
       "  </thead>\n",
       "  <tbody>\n",
       "    <tr>\n",
       "      <th>0</th>\n",
       "      <td>1</td>\n",
       "      <td>7194</td>\n",
       "      <td>2022-03-27</td>\n",
       "      <td>416.5</td>\n",
       "      <td>Electronics</td>\n",
       "    </tr>\n",
       "  </tbody>\n",
       "</table>\n",
       "</div>"
      ],
      "text/plain": [
       "   CustomerID  TransactionID TransactionDate  AmountSpent ProductCategory\n",
       "0           1           7194      2022-03-27        416.5     Electronics"
      ]
     },
     "execution_count": 202,
     "metadata": {},
     "output_type": "execute_result"
    }
   ],
   "source": [
    "transaction_history.head(1)"
   ]
  },
  {
   "cell_type": "code",
   "execution_count": 203,
   "id": "b9135517",
   "metadata": {},
   "outputs": [
    {
     "data": {
      "text/plain": [
       "CustomerID         1000\n",
       "TransactionID      3864\n",
       "TransactionDate     365\n",
       "AmountSpent        4797\n",
       "ProductCategory       5\n",
       "dtype: int64"
      ]
     },
     "execution_count": 203,
     "metadata": {},
     "output_type": "execute_result"
    }
   ],
   "source": [
    "transaction_history.nunique()"
   ]
  },
  {
   "cell_type": "code",
   "execution_count": 204,
   "id": "552bbd6a",
   "metadata": {},
   "outputs": [
    {
     "data": {
      "text/html": [
       "<div>\n",
       "<style scoped>\n",
       "    .dataframe tbody tr th:only-of-type {\n",
       "        vertical-align: middle;\n",
       "    }\n",
       "\n",
       "    .dataframe tbody tr th {\n",
       "        vertical-align: top;\n",
       "    }\n",
       "\n",
       "    .dataframe thead th {\n",
       "        text-align: right;\n",
       "    }\n",
       "</style>\n",
       "<table border=\"1\" class=\"dataframe\">\n",
       "  <thead>\n",
       "    <tr style=\"text-align: right;\">\n",
       "      <th></th>\n",
       "      <th>CustomerID</th>\n",
       "      <th>InteractionID</th>\n",
       "      <th>InteractionDate</th>\n",
       "    </tr>\n",
       "  </thead>\n",
       "  <tbody>\n",
       "    <tr>\n",
       "      <th>count</th>\n",
       "      <td>1002.000000</td>\n",
       "      <td>1002.000000</td>\n",
       "      <td>1002</td>\n",
       "    </tr>\n",
       "    <tr>\n",
       "      <th>mean</th>\n",
       "      <td>485.209581</td>\n",
       "      <td>5952.887226</td>\n",
       "      <td>2022-07-02 19:28:22.994011904</td>\n",
       "    </tr>\n",
       "    <tr>\n",
       "      <th>min</th>\n",
       "      <td>1.000000</td>\n",
       "      <td>2015.000000</td>\n",
       "      <td>2022-01-01 00:00:00</td>\n",
       "    </tr>\n",
       "    <tr>\n",
       "      <th>25%</th>\n",
       "      <td>238.250000</td>\n",
       "      <td>3991.500000</td>\n",
       "      <td>2022-04-07 00:00:00</td>\n",
       "    </tr>\n",
       "    <tr>\n",
       "      <th>50%</th>\n",
       "      <td>474.500000</td>\n",
       "      <td>5911.500000</td>\n",
       "      <td>2022-07-02 12:00:00</td>\n",
       "    </tr>\n",
       "    <tr>\n",
       "      <th>75%</th>\n",
       "      <td>735.750000</td>\n",
       "      <td>7908.250000</td>\n",
       "      <td>2022-09-30 00:00:00</td>\n",
       "    </tr>\n",
       "    <tr>\n",
       "      <th>max</th>\n",
       "      <td>995.000000</td>\n",
       "      <td>9997.000000</td>\n",
       "      <td>2022-12-30 00:00:00</td>\n",
       "    </tr>\n",
       "    <tr>\n",
       "      <th>std</th>\n",
       "      <td>287.030259</td>\n",
       "      <td>2305.819681</td>\n",
       "      <td>NaN</td>\n",
       "    </tr>\n",
       "  </tbody>\n",
       "</table>\n",
       "</div>"
      ],
      "text/plain": [
       "        CustomerID  InteractionID                InteractionDate\n",
       "count  1002.000000    1002.000000                           1002\n",
       "mean    485.209581    5952.887226  2022-07-02 19:28:22.994011904\n",
       "min       1.000000    2015.000000            2022-01-01 00:00:00\n",
       "25%     238.250000    3991.500000            2022-04-07 00:00:00\n",
       "50%     474.500000    5911.500000            2022-07-02 12:00:00\n",
       "75%     735.750000    7908.250000            2022-09-30 00:00:00\n",
       "max     995.000000    9997.000000            2022-12-30 00:00:00\n",
       "std     287.030259    2305.819681                            NaN"
      ]
     },
     "execution_count": 204,
     "metadata": {},
     "output_type": "execute_result"
    }
   ],
   "source": [
    "customer_service.describe()"
   ]
  },
  {
   "cell_type": "code",
   "execution_count": 205,
   "id": "dc401e0a",
   "metadata": {},
   "outputs": [
    {
     "data": {
      "text/html": [
       "<div>\n",
       "<style scoped>\n",
       "    .dataframe tbody tr th:only-of-type {\n",
       "        vertical-align: middle;\n",
       "    }\n",
       "\n",
       "    .dataframe tbody tr th {\n",
       "        vertical-align: top;\n",
       "    }\n",
       "\n",
       "    .dataframe thead th {\n",
       "        text-align: right;\n",
       "    }\n",
       "</style>\n",
       "<table border=\"1\" class=\"dataframe\">\n",
       "  <thead>\n",
       "    <tr style=\"text-align: right;\">\n",
       "      <th></th>\n",
       "      <th>CustomerID</th>\n",
       "      <th>InteractionID</th>\n",
       "      <th>InteractionDate</th>\n",
       "      <th>InteractionType</th>\n",
       "      <th>ResolutionStatus</th>\n",
       "    </tr>\n",
       "  </thead>\n",
       "  <tbody>\n",
       "    <tr>\n",
       "      <th>0</th>\n",
       "      <td>1</td>\n",
       "      <td>6363</td>\n",
       "      <td>2022-03-31</td>\n",
       "      <td>Inquiry</td>\n",
       "      <td>Resolved</td>\n",
       "    </tr>\n",
       "    <tr>\n",
       "      <th>1</th>\n",
       "      <td>2</td>\n",
       "      <td>3329</td>\n",
       "      <td>2022-03-17</td>\n",
       "      <td>Inquiry</td>\n",
       "      <td>Resolved</td>\n",
       "    </tr>\n",
       "    <tr>\n",
       "      <th>2</th>\n",
       "      <td>3</td>\n",
       "      <td>9976</td>\n",
       "      <td>2022-08-24</td>\n",
       "      <td>Inquiry</td>\n",
       "      <td>Resolved</td>\n",
       "    </tr>\n",
       "    <tr>\n",
       "      <th>3</th>\n",
       "      <td>4</td>\n",
       "      <td>7354</td>\n",
       "      <td>2022-11-18</td>\n",
       "      <td>Inquiry</td>\n",
       "      <td>Resolved</td>\n",
       "    </tr>\n",
       "    <tr>\n",
       "      <th>4</th>\n",
       "      <td>4</td>\n",
       "      <td>5393</td>\n",
       "      <td>2022-07-03</td>\n",
       "      <td>Inquiry</td>\n",
       "      <td>Unresolved</td>\n",
       "    </tr>\n",
       "  </tbody>\n",
       "</table>\n",
       "</div>"
      ],
      "text/plain": [
       "   CustomerID  InteractionID InteractionDate InteractionType ResolutionStatus\n",
       "0           1           6363      2022-03-31         Inquiry         Resolved\n",
       "1           2           3329      2022-03-17         Inquiry         Resolved\n",
       "2           3           9976      2022-08-24         Inquiry         Resolved\n",
       "3           4           7354      2022-11-18         Inquiry         Resolved\n",
       "4           4           5393      2022-07-03         Inquiry       Unresolved"
      ]
     },
     "execution_count": 205,
     "metadata": {},
     "output_type": "execute_result"
    }
   ],
   "source": [
    "customer_service.head()"
   ]
  },
  {
   "cell_type": "code",
   "execution_count": 206,
   "id": "e9bebf28",
   "metadata": {},
   "outputs": [
    {
     "name": "stdout",
     "output_type": "stream",
     "text": [
      "<class 'pandas.core.frame.DataFrame'>\n",
      "RangeIndex: 1002 entries, 0 to 1001\n",
      "Data columns (total 5 columns):\n",
      " #   Column            Non-Null Count  Dtype         \n",
      "---  ------            --------------  -----         \n",
      " 0   CustomerID        1002 non-null   int64         \n",
      " 1   InteractionID     1002 non-null   int64         \n",
      " 2   InteractionDate   1002 non-null   datetime64[ns]\n",
      " 3   InteractionType   1002 non-null   object        \n",
      " 4   ResolutionStatus  1002 non-null   object        \n",
      "dtypes: datetime64[ns](1), int64(2), object(2)\n",
      "memory usage: 39.3+ KB\n"
     ]
    }
   ],
   "source": [
    "customer_service.info()"
   ]
  },
  {
   "cell_type": "code",
   "execution_count": 207,
   "id": "39f10521",
   "metadata": {},
   "outputs": [
    {
     "data": {
      "text/plain": [
       "CustomerID          0\n",
       "InteractionID       0\n",
       "InteractionDate     0\n",
       "InteractionType     0\n",
       "ResolutionStatus    0\n",
       "dtype: int64"
      ]
     },
     "execution_count": 207,
     "metadata": {},
     "output_type": "execute_result"
    }
   ],
   "source": [
    "customer_service.isnull().sum()"
   ]
  },
  {
   "cell_type": "markdown",
   "id": "46441f05",
   "metadata": {},
   "source": [
    "Feature Engineering from transaction history, customer service and online activity columns"
   ]
  },
  {
   "cell_type": "code",
   "execution_count": 208,
   "id": "78cd7219",
   "metadata": {},
   "outputs": [],
   "source": [
    "\n",
    "first_customer_transaction = (\n",
    "    transaction_history.groupby('CustomerID')['TransactionDate']\n",
    "    .min().reset_index().rename(columns={'TransactionDate': 'FirstTransactionDate'})\n",
    ")\n",
    "\n",
    "last_customer_transaction = (\n",
    "    transaction_history.groupby('CustomerID')['TransactionDate']\n",
    "    .max().reset_index().rename(columns={'TransactionDate': 'LastTransactionDate'})\n",
    ")\n",
    "\n",
    "total_amount_spent = (\n",
    "    transaction_history.groupby('CustomerID')['AmountSpent']\n",
    "    .sum().reset_index().rename(columns={'AmountSpent': 'TotalAmountSpent'})\n",
    ")\n",
    "\n",
    "transaction_count_per_customer = (\n",
    "    transaction_history.groupby('CustomerID').size().reset_index(name='TransactionCount')\n",
    ")\n",
    "\n",
    "avg_amount_per_tx = (\n",
    "    transaction_history.groupby('CustomerID')['AmountSpent']\n",
    "    .mean().reset_index().rename(columns={'AmountSpent': 'AvgAmountPerTransaction'})\n",
    ")\n",
    "\n",
    "first_interaction_date = (\n",
    "    customer_service.groupby('CustomerID')['InteractionDate']\n",
    "    .min().reset_index().rename(columns={'InteractionDate': 'FirstInteractionDate'})\n",
    ")\n",
    "\n",
    "last_interaction_date = (\n",
    "    customer_service.groupby('CustomerID')['InteractionDate']\n",
    "    .max().reset_index().rename(columns={'InteractionDate': 'LastInteractionDate'})\n",
    ")\n",
    "\n",
    "total_service_interactions = (\n",
    "    customer_service.groupby('CustomerID')['InteractionType']\n",
    "    .count().reset_index().rename(columns={'InteractionType': 'TotalServiceInteractions'})\n",
    ")\n",
    "\n",
    "service_diversity = (\n",
    "    customer_service.groupby('CustomerID')['InteractionType']\n",
    "    .nunique().reset_index().rename(columns={'InteractionType': 'ServiceDiversity'})\n",
    ")\n",
    "\n",
    "\n",
    "last_login_df = online_activity.groupby('CustomerID')['LastLoginDate'].max().reset_index()\n",
    "login_freq = None\n",
    "if 'LoginFrequency' in online_activity.columns:\n",
    "    # If login frequency is tracked per row, we can aggregate by mean or max depending on semantics\n",
    "    login_freq = online_activity.groupby('CustomerID')['LoginFrequency'].mean().reset_index().rename(columns={'LoginFrequency': 'LoginFrequency'})\n",
    "\n",
    "user_platform = None\n",
    "if 'ServiceUsage' in online_activity.columns:\n",
    "    # take the 'most frequent' or first non-null ServiceUsage per customer\n",
    "    user_platform = online_activity.groupby('CustomerID')['ServiceUsage'].agg(lambda s: s.dropna().mode().iloc[0] if not s.dropna().empty else np.nan).reset_index().rename(columns={'ServiceUsage': 'ServiceUsage'})\n"
   ]
  },
  {
   "cell_type": "markdown",
   "id": "a3de088b",
   "metadata": {},
   "source": [
    "Merging everything"
   ]
  },
  {
   "cell_type": "code",
   "execution_count": 209,
   "id": "c752137b",
   "metadata": {},
   "outputs": [],
   "source": [
    "dfs_to_merge = [\n",
    "    customer_demographics,\n",
    "    first_customer_transaction, last_customer_transaction,\n",
    "    total_amount_spent, transaction_count_per_customer, avg_amount_per_tx,\n",
    "    first_interaction_date, last_interaction_date, total_service_interactions, service_diversity,\n",
    "    last_login_df, churn_status\n",
    "]\n",
    "\n",
    "\n",
    "if login_freq is not None:\n",
    "    dfs_to_merge.append(login_freq)\n",
    "if user_platform is not None:\n",
    "    dfs_to_merge.append(user_platform)\n",
    "\n",
    "# Start with demographics (so any customerIDs not in demographics will be excluded)\n",
    "if customer_demographics.empty:\n",
    "    all_customer_ids = pd.Index(transaction_history['CustomerID']\n",
    "                                .append(customer_service['CustomerID']).append(online_activity['CustomerID']).append(churn_status['CustomerID'])\n",
    "                                .dropna().unique())\n",
    "    df = pd.DataFrame({'CustomerID': all_customer_ids})\n",
    "else:\n",
    "    df = customer_demographics.copy()\n",
    "\n",
    "for merges in dfs_to_merge[1:]:\n",
    "    df = df.merge(merges, on='CustomerID', how='left')\n",
    "\n",
    "# Convert date columns in final DF\n",
    "for col in ['FirstTransactionDate', 'LastTransactionDate', 'FirstInteractionDate', 'LastInteractionDate', 'LastLoginDate']:\n",
    "    if col in df.columns:\n",
    "        df[col] = pd.to_datetime(df[col], errors='coerce')\n"
   ]
  },
  {
   "cell_type": "markdown",
   "id": "ab74c938",
   "metadata": {},
   "source": [
    "For counts: fill with 0\n",
    "For numeric amounts: missing TotalAmountSpent for customers with no transactions -> 0\n",
    "For date fields: \n",
    "\n",
    "we use business logic:\n",
    "\n",
    "    - If a customer has no interaction dates but has LastLoginDate -> use LastLoginDate as proxy for LastInteractionDate\n",
    "    - If still missing, fill with FirstTransactionDate for 'FirstInteractionDate'"
   ]
  },
  {
   "cell_type": "code",
   "execution_count": 210,
   "id": "69cfabdd",
   "metadata": {},
   "outputs": [],
   "source": [
    "count_cols = ['TotalServiceInteractions', 'TransactionCount', 'ServiceDiversity']\n",
    "for counts in count_cols:\n",
    "    if counts in df.columns:\n",
    "        df[counts] = df[counts].fillna(0).astype(int)\n",
    "        \n",
    "\n",
    "if 'TotalAmountSpent' in df.columns:\n",
    "    df['TotalAmountSpent'] = df['TotalAmountSpent'].fillna(0)\n",
    "\n",
    "if 'AvgAmountPerTransaction' in df.columns:\n",
    "    df['AvgAmountPerTransaction'] = df['AvgAmountPerTransaction'].fillna(0)\n",
    "\n",
    "if 'LastInteractionDate' in df.columns and 'LastLoginDate' in df.columns:\n",
    "    df['LastInteractionDate'] = df['LastInteractionDate'].fillna(df['LastLoginDate'])\n",
    "\n",
    "if 'FirstInteractionDate' in df.columns and 'FirstTransactionDate' in df.columns:\n",
    "    df['FirstInteractionDate'] = df['FirstInteractionDate'].fillna(df['FirstTransactionDate'])\n"
   ]
  },
  {
   "cell_type": "markdown",
   "id": "313ef746",
   "metadata": {},
   "source": [
    "Adding additional features: recency, tenure, days since last login"
   ]
  },
  {
   "cell_type": "code",
   "execution_count": 211,
   "id": "a85cfed9",
   "metadata": {},
   "outputs": [],
   "source": [
    "df['RecencyDays'] = (REFERENCE_DATE - df['LastTransactionDate']).dt.days\n",
    "df['RecencyDays'] = df['RecencyDays'].fillna((REFERENCE_DATE - df['FirstTransactionDate']).dt.days)  # fallback\n",
    "df['RecencyDays'] = df['RecencyDays'].fillna((REFERENCE_DATE - df['LastLoginDate']).dt.days)  # second fallback\n",
    "df['RecencyDays'] = df['RecencyDays'].fillna(df['RecencyDays'].median())  # final fallback\n",
    "\n",
    "# Tenure: days between first and last transaction\n",
    "df['TenureDays'] = (df['LastTransactionDate'] - df['FirstTransactionDate']).dt.days\n",
    "df['TenureDays'] = df['TenureDays'].fillna(0).astype(int)\n",
    "\n",
    "# Days since last login\n",
    "if 'LastLoginDate' in df.columns:\n",
    "    df['DaysSinceLastLogin'] = (REFERENCE_DATE - df['LastLoginDate']).dt.days\n",
    "    df['DaysSinceLastLogin'] = df['DaysSinceLastLogin'].fillna(df['DaysSinceLastLogin'].median())\n",
    "\n",
    "# Interaction intensity: interactions per tenure month (if tenure > 0)\n",
    "df['InteractionsPerMonth'] = df.apply(\n",
    "    lambda r: (r['TotalServiceInteractions'] / max(r['TenureDays'] / 30, 1)) if ('TotalServiceInteractions' in df.columns and 'TenureDays' in df.columns) else 0,\n",
    "    axis=1\n",
    ")"
   ]
  },
  {
   "cell_type": "markdown",
   "id": "a606492c",
   "metadata": {},
   "source": [
    "Handling Outliers by winsorizing "
   ]
  },
  {
   "cell_type": "code",
   "execution_count": 212,
   "id": "71c18b73",
   "metadata": {},
   "outputs": [],
   "source": [
    "\n",
    "# Cap TotalAmountSpent at 99th percentile (winsorize)\n",
    "if 'TotalAmountSpent' in df.columns:\n",
    "    p99 = df['TotalAmountSpent'].quantile(0.99)\n",
    "    df['TotalAmountSpent_Capped'] = np.where(df['TotalAmountSpent'] > p99, p99, df['TotalAmountSpent'])\n",
    "\n",
    "# Cap TransactionCount at 99th percentile\n",
    "if 'TransactionCount' in df.columns:\n",
    "    tc_99 = df['TransactionCount'].quantile(0.99)\n",
    "    df['TransactionCount_Capped'] = np.where(df['TransactionCount'] > tc_99, tc_99, df['TransactionCount'])\n"
   ]
  },
  {
   "cell_type": "markdown",
   "id": "7529fc28",
   "metadata": {},
   "source": [
    "Categorical encoding (Pandas get dummiesss)"
   ]
  },
  {
   "cell_type": "code",
   "execution_count": 213,
   "id": "16fd21d7",
   "metadata": {},
   "outputs": [],
   "source": [
    "\n",
    "categorical_cols = []\n",
    "for col in ['MaritalStatus', 'Gender', 'IncomeLevel', 'ServiceUsage']:\n",
    "    if col in df.columns:\n",
    "        categorical_cols.append(col)\n",
    "\n",
    "df_enc = pd.get_dummies(df, columns=categorical_cols, dummy_na=False, drop_first=False)"
   ]
  },
  {
   "cell_type": "markdown",
   "id": "fb5cf8a1",
   "metadata": {},
   "source": [
    "Prepare numeric features and scaling"
   ]
  },
  {
   "cell_type": "code",
   "execution_count": 214,
   "id": "ef37ded2",
   "metadata": {},
   "outputs": [],
   "source": [
    "numeric_cols = [\n",
    "    'TotalAmountSpent_Capped', 'AvgAmountPerTransaction', 'TransactionCount_Capped',\n",
    "    'RecencyDays', 'TenureDays', 'TotalServiceInteractions', 'ServiceDiversity',\n",
    "    'LoginFrequency' if 'LoginFrequency' in df_enc.columns else None,\n",
    "    'DaysSinceLastLogin' if 'DaysSinceLastLogin' in df_enc.columns else None,\n",
    "    'InteractionsPerMonth'\n",
    "]\n",
    "# filter out None or missing columns\n",
    "numeric_cols = [c for c in numeric_cols if c and c in df_enc.columns]\n",
    "\n",
    "# Replace any remaining NaNs in numerics with median\n",
    "for c in numeric_cols:\n",
    "    df_enc[c] = df_enc[c].fillna(df_enc[c].median())\n",
    "\n",
    "# Standard scale numerics for modeling\n",
    "scaler = StandardScaler()\n",
    "if numeric_cols:\n",
    "    df_enc[[f'{c}_scaled' for c in numeric_cols]] = scaler.fit_transform(df_enc[numeric_cols])\n",
    "    # Save scaler\n",
    "    joblib.dump(scaler, SCALER_FILE)\n",
    "\n",
    "\n",
    "if 'ChurnStatus' in df_enc.columns:\n",
    "    # Ensure binary 0/1\n",
    "    df_enc['ChurnStatus'] = df_enc['ChurnStatus'].astype(int)\n"
   ]
  },
  {
   "cell_type": "code",
   "execution_count": 215,
   "id": "8a8679c1",
   "metadata": {},
   "outputs": [
    {
     "name": "stdout",
     "output_type": "stream",
     "text": [
      "Saved cleaned dataset to: d:\\63947\\Documents\\GitHub\\lloyds-banking-group-eda-theforage\\customer_churn_analysis_cleaned.csv\n",
      "Saved numeric scaler to: d:\\63947\\Documents\\GitHub\\lloyds-banking-group-eda-theforage\\numeric_scaler.save\n"
     ]
    }
   ],
   "source": [
    "# Save cleaned dataset \n",
    "df_enc.to_csv(OUTPUT_CSV, index=False)\n",
    "print(f\"Saved cleaned dataset to: {OUTPUT_CSV}\")\n",
    "print(f\"Saved numeric scaler to: {SCALER_FILE}\")"
   ]
  },
  {
   "cell_type": "code",
   "execution_count": 216,
   "id": "3c6b6c67",
   "metadata": {},
   "outputs": [
    {
     "data": {
      "text/html": [
       "<div>\n",
       "<style scoped>\n",
       "    .dataframe tbody tr th:only-of-type {\n",
       "        vertical-align: middle;\n",
       "    }\n",
       "\n",
       "    .dataframe tbody tr th {\n",
       "        vertical-align: top;\n",
       "    }\n",
       "\n",
       "    .dataframe thead th {\n",
       "        text-align: right;\n",
       "    }\n",
       "</style>\n",
       "<table border=\"1\" class=\"dataframe\">\n",
       "  <thead>\n",
       "    <tr style=\"text-align: right;\">\n",
       "      <th></th>\n",
       "      <th>CustomerID</th>\n",
       "      <th>Age</th>\n",
       "      <th>FirstTransactionDate</th>\n",
       "      <th>LastTransactionDate</th>\n",
       "      <th>TotalAmountSpent</th>\n",
       "      <th>TransactionCount</th>\n",
       "      <th>AvgAmountPerTransaction</th>\n",
       "      <th>FirstInteractionDate</th>\n",
       "      <th>LastInteractionDate</th>\n",
       "      <th>TotalServiceInteractions</th>\n",
       "      <th>...</th>\n",
       "      <th>TotalAmountSpent_Capped_scaled</th>\n",
       "      <th>AvgAmountPerTransaction_scaled</th>\n",
       "      <th>TransactionCount_Capped_scaled</th>\n",
       "      <th>RecencyDays_scaled</th>\n",
       "      <th>TenureDays_scaled</th>\n",
       "      <th>TotalServiceInteractions_scaled</th>\n",
       "      <th>ServiceDiversity_scaled</th>\n",
       "      <th>LoginFrequency_scaled</th>\n",
       "      <th>DaysSinceLastLogin_scaled</th>\n",
       "      <th>InteractionsPerMonth_scaled</th>\n",
       "    </tr>\n",
       "  </thead>\n",
       "  <tbody>\n",
       "    <tr>\n",
       "      <th>0</th>\n",
       "      <td>1</td>\n",
       "      <td>62</td>\n",
       "      <td>2022-03-27</td>\n",
       "      <td>2022-03-27</td>\n",
       "      <td>416.5</td>\n",
       "      <td>1</td>\n",
       "      <td>416.5</td>\n",
       "      <td>2022-03-31</td>\n",
       "      <td>2022-03-31</td>\n",
       "      <td>1</td>\n",
       "      <td>...</td>\n",
       "      <td>-1.158617</td>\n",
       "      <td>2.11379</td>\n",
       "      <td>-1.557954</td>\n",
       "      <td>2.553962</td>\n",
       "      <td>-1.893562</td>\n",
       "      <td>-0.002451</td>\n",
       "      <td>0.160212</td>\n",
       "      <td>0.575702</td>\n",
       "      <td>-1.021557</td>\n",
       "      <td>1.640262</td>\n",
       "    </tr>\n",
       "  </tbody>\n",
       "</table>\n",
       "<p>1 rows × 42 columns</p>\n",
       "</div>"
      ],
      "text/plain": [
       "   CustomerID  Age FirstTransactionDate LastTransactionDate  TotalAmountSpent  \\\n",
       "0           1   62           2022-03-27          2022-03-27             416.5   \n",
       "\n",
       "   TransactionCount  AvgAmountPerTransaction FirstInteractionDate  \\\n",
       "0                 1                    416.5           2022-03-31   \n",
       "\n",
       "  LastInteractionDate  TotalServiceInteractions  ...  \\\n",
       "0          2022-03-31                         1  ...   \n",
       "\n",
       "   TotalAmountSpent_Capped_scaled AvgAmountPerTransaction_scaled  \\\n",
       "0                       -1.158617                        2.11379   \n",
       "\n",
       "   TransactionCount_Capped_scaled  RecencyDays_scaled  TenureDays_scaled  \\\n",
       "0                       -1.557954            2.553962          -1.893562   \n",
       "\n",
       "   TotalServiceInteractions_scaled  ServiceDiversity_scaled  \\\n",
       "0                        -0.002451                 0.160212   \n",
       "\n",
       "   LoginFrequency_scaled  DaysSinceLastLogin_scaled  \\\n",
       "0               0.575702                  -1.021557   \n",
       "\n",
       "   InteractionsPerMonth_scaled  \n",
       "0                     1.640262  \n",
       "\n",
       "[1 rows x 42 columns]"
      ]
     },
     "execution_count": 216,
     "metadata": {},
     "output_type": "execute_result"
    }
   ],
   "source": [
    "df = df_enc.copy()\n",
    "df.head(1)"
   ]
  },
  {
   "cell_type": "code",
   "execution_count": 217,
   "id": "ac146d9c",
   "metadata": {},
   "outputs": [
    {
     "data": {
      "text/html": [
       "<div>\n",
       "<style scoped>\n",
       "    .dataframe tbody tr th:only-of-type {\n",
       "        vertical-align: middle;\n",
       "    }\n",
       "\n",
       "    .dataframe tbody tr th {\n",
       "        vertical-align: top;\n",
       "    }\n",
       "\n",
       "    .dataframe thead th {\n",
       "        text-align: right;\n",
       "    }\n",
       "</style>\n",
       "<table border=\"1\" class=\"dataframe\">\n",
       "  <thead>\n",
       "    <tr style=\"text-align: right;\">\n",
       "      <th>InteractionMonth</th>\n",
       "      <th>InteractionType</th>\n",
       "      <th>January</th>\n",
       "      <th>February</th>\n",
       "      <th>March</th>\n",
       "      <th>April</th>\n",
       "      <th>May</th>\n",
       "      <th>June</th>\n",
       "      <th>July</th>\n",
       "      <th>August</th>\n",
       "      <th>September</th>\n",
       "      <th>October</th>\n",
       "      <th>November</th>\n",
       "      <th>December</th>\n",
       "    </tr>\n",
       "  </thead>\n",
       "  <tbody>\n",
       "    <tr>\n",
       "      <th>0</th>\n",
       "      <td>Complaint</td>\n",
       "      <td>25</td>\n",
       "      <td>22</td>\n",
       "      <td>31</td>\n",
       "      <td>25</td>\n",
       "      <td>41</td>\n",
       "      <td>32</td>\n",
       "      <td>33</td>\n",
       "      <td>26</td>\n",
       "      <td>28</td>\n",
       "      <td>32</td>\n",
       "      <td>27</td>\n",
       "      <td>13</td>\n",
       "    </tr>\n",
       "    <tr>\n",
       "      <th>1</th>\n",
       "      <td>Feedback</td>\n",
       "      <td>27</td>\n",
       "      <td>26</td>\n",
       "      <td>36</td>\n",
       "      <td>32</td>\n",
       "      <td>20</td>\n",
       "      <td>31</td>\n",
       "      <td>42</td>\n",
       "      <td>28</td>\n",
       "      <td>33</td>\n",
       "      <td>31</td>\n",
       "      <td>25</td>\n",
       "      <td>29</td>\n",
       "    </tr>\n",
       "    <tr>\n",
       "      <th>2</th>\n",
       "      <td>Inquiry</td>\n",
       "      <td>25</td>\n",
       "      <td>20</td>\n",
       "      <td>26</td>\n",
       "      <td>23</td>\n",
       "      <td>26</td>\n",
       "      <td>24</td>\n",
       "      <td>22</td>\n",
       "      <td>28</td>\n",
       "      <td>21</td>\n",
       "      <td>26</td>\n",
       "      <td>32</td>\n",
       "      <td>34</td>\n",
       "    </tr>\n",
       "  </tbody>\n",
       "</table>\n",
       "</div>"
      ],
      "text/plain": [
       "InteractionMonth InteractionType  January  February  March  April  May  June  \\\n",
       "0                      Complaint       25        22     31     25   41    32   \n",
       "1                       Feedback       27        26     36     32   20    31   \n",
       "2                        Inquiry       25        20     26     23   26    24   \n",
       "\n",
       "InteractionMonth  July  August  September  October  November  December  \n",
       "0                   33      26         28       32        27        13  \n",
       "1                   42      28         33       31        25        29  \n",
       "2                   22      28         21       26        32        34  "
      ]
     },
     "execution_count": 217,
     "metadata": {},
     "output_type": "execute_result"
    }
   ],
   "source": [
    "customer_service['InteractionMonth'] = customer_service['InteractionDate'].dt.month_name()\n",
    "\n",
    "monthly_counts = (\n",
    "    customer_service\n",
    "    .groupby(['InteractionType', 'InteractionMonth'])\n",
    "    .size()\n",
    "    .sort_index()\n",
    "    .unstack(fill_value=0)\n",
    ")\n",
    "\n",
    "monthly_line_df = pd.DataFrame(monthly_counts)\n",
    "\n",
    "monthly_line_df.sort_index(inplace=True)\n",
    "monthly_line_df = monthly_line_df.reindex(\n",
    "    ['January', 'February', 'March', 'April', 'May', 'June', \n",
    "        'July', 'August', 'September', 'October', 'November', 'December'], \n",
    "    axis=1\n",
    ")   \n",
    "monthly_line_df.reset_index(inplace=True)\n",
    "monthly_line_df"
   ]
  },
  {
   "cell_type": "code",
   "execution_count": 218,
   "id": "04619731",
   "metadata": {},
   "outputs": [
    {
     "data": {
      "application/vnd.plotly.v1+json": {
       "config": {
        "plotlyServerURL": "https://plot.ly"
       },
       "data": [
        {
         "hovertemplate": "InteractionType=Complaint<br>Month=%{x}<br>Number of Interactions=%{y}<extra></extra>",
         "legendgroup": "Complaint",
         "line": {
          "color": "#636efa",
          "dash": "solid"
         },
         "marker": {
          "symbol": "circle"
         },
         "mode": "lines+markers",
         "name": "Complaint",
         "orientation": "v",
         "showlegend": true,
         "type": "scatter",
         "x": [
          "January",
          "February",
          "March",
          "April",
          "May",
          "June",
          "July",
          "August",
          "September",
          "October",
          "November",
          "December"
         ],
         "xaxis": "x",
         "y": {
          "bdata": "GRYfGSkgIRocIBsN",
          "dtype": "i1"
         },
         "yaxis": "y"
        },
        {
         "hovertemplate": "InteractionType=Feedback<br>Month=%{x}<br>Number of Interactions=%{y}<extra></extra>",
         "legendgroup": "Feedback",
         "line": {
          "color": "#EF553B",
          "dash": "solid"
         },
         "marker": {
          "symbol": "circle"
         },
         "mode": "lines+markers",
         "name": "Feedback",
         "orientation": "v",
         "showlegend": true,
         "type": "scatter",
         "x": [
          "January",
          "February",
          "March",
          "April",
          "May",
          "June",
          "July",
          "August",
          "September",
          "October",
          "November",
          "December"
         ],
         "xaxis": "x",
         "y": {
          "bdata": "GxokIBQfKhwhHxkd",
          "dtype": "i1"
         },
         "yaxis": "y"
        },
        {
         "hovertemplate": "InteractionType=Inquiry<br>Month=%{x}<br>Number of Interactions=%{y}<extra></extra>",
         "legendgroup": "Inquiry",
         "line": {
          "color": "#00cc96",
          "dash": "solid"
         },
         "marker": {
          "symbol": "circle"
         },
         "mode": "lines+markers",
         "name": "Inquiry",
         "orientation": "v",
         "showlegend": true,
         "type": "scatter",
         "x": [
          "January",
          "February",
          "March",
          "April",
          "May",
          "June",
          "July",
          "August",
          "September",
          "October",
          "November",
          "December"
         ],
         "xaxis": "x",
         "y": {
          "bdata": "GRQaFxoYFhwVGiAi",
          "dtype": "i1"
         },
         "yaxis": "y"
        }
       ],
       "layout": {
        "legend": {
         "title": {
          "text": "InteractionType"
         },
         "tracegroupgap": 0
        },
        "template": {
         "data": {
          "bar": [
           {
            "error_x": {
             "color": "#2a3f5f"
            },
            "error_y": {
             "color": "#2a3f5f"
            },
            "marker": {
             "line": {
              "color": "#E5ECF6",
              "width": 0.5
             },
             "pattern": {
              "fillmode": "overlay",
              "size": 10,
              "solidity": 0.2
             }
            },
            "type": "bar"
           }
          ],
          "barpolar": [
           {
            "marker": {
             "line": {
              "color": "#E5ECF6",
              "width": 0.5
             },
             "pattern": {
              "fillmode": "overlay",
              "size": 10,
              "solidity": 0.2
             }
            },
            "type": "barpolar"
           }
          ],
          "carpet": [
           {
            "aaxis": {
             "endlinecolor": "#2a3f5f",
             "gridcolor": "white",
             "linecolor": "white",
             "minorgridcolor": "white",
             "startlinecolor": "#2a3f5f"
            },
            "baxis": {
             "endlinecolor": "#2a3f5f",
             "gridcolor": "white",
             "linecolor": "white",
             "minorgridcolor": "white",
             "startlinecolor": "#2a3f5f"
            },
            "type": "carpet"
           }
          ],
          "choropleth": [
           {
            "colorbar": {
             "outlinewidth": 0,
             "ticks": ""
            },
            "type": "choropleth"
           }
          ],
          "contour": [
           {
            "colorbar": {
             "outlinewidth": 0,
             "ticks": ""
            },
            "colorscale": [
             [
              0,
              "#0d0887"
             ],
             [
              0.1111111111111111,
              "#46039f"
             ],
             [
              0.2222222222222222,
              "#7201a8"
             ],
             [
              0.3333333333333333,
              "#9c179e"
             ],
             [
              0.4444444444444444,
              "#bd3786"
             ],
             [
              0.5555555555555556,
              "#d8576b"
             ],
             [
              0.6666666666666666,
              "#ed7953"
             ],
             [
              0.7777777777777778,
              "#fb9f3a"
             ],
             [
              0.8888888888888888,
              "#fdca26"
             ],
             [
              1,
              "#f0f921"
             ]
            ],
            "type": "contour"
           }
          ],
          "contourcarpet": [
           {
            "colorbar": {
             "outlinewidth": 0,
             "ticks": ""
            },
            "type": "contourcarpet"
           }
          ],
          "heatmap": [
           {
            "colorbar": {
             "outlinewidth": 0,
             "ticks": ""
            },
            "colorscale": [
             [
              0,
              "#0d0887"
             ],
             [
              0.1111111111111111,
              "#46039f"
             ],
             [
              0.2222222222222222,
              "#7201a8"
             ],
             [
              0.3333333333333333,
              "#9c179e"
             ],
             [
              0.4444444444444444,
              "#bd3786"
             ],
             [
              0.5555555555555556,
              "#d8576b"
             ],
             [
              0.6666666666666666,
              "#ed7953"
             ],
             [
              0.7777777777777778,
              "#fb9f3a"
             ],
             [
              0.8888888888888888,
              "#fdca26"
             ],
             [
              1,
              "#f0f921"
             ]
            ],
            "type": "heatmap"
           }
          ],
          "histogram": [
           {
            "marker": {
             "pattern": {
              "fillmode": "overlay",
              "size": 10,
              "solidity": 0.2
             }
            },
            "type": "histogram"
           }
          ],
          "histogram2d": [
           {
            "colorbar": {
             "outlinewidth": 0,
             "ticks": ""
            },
            "colorscale": [
             [
              0,
              "#0d0887"
             ],
             [
              0.1111111111111111,
              "#46039f"
             ],
             [
              0.2222222222222222,
              "#7201a8"
             ],
             [
              0.3333333333333333,
              "#9c179e"
             ],
             [
              0.4444444444444444,
              "#bd3786"
             ],
             [
              0.5555555555555556,
              "#d8576b"
             ],
             [
              0.6666666666666666,
              "#ed7953"
             ],
             [
              0.7777777777777778,
              "#fb9f3a"
             ],
             [
              0.8888888888888888,
              "#fdca26"
             ],
             [
              1,
              "#f0f921"
             ]
            ],
            "type": "histogram2d"
           }
          ],
          "histogram2dcontour": [
           {
            "colorbar": {
             "outlinewidth": 0,
             "ticks": ""
            },
            "colorscale": [
             [
              0,
              "#0d0887"
             ],
             [
              0.1111111111111111,
              "#46039f"
             ],
             [
              0.2222222222222222,
              "#7201a8"
             ],
             [
              0.3333333333333333,
              "#9c179e"
             ],
             [
              0.4444444444444444,
              "#bd3786"
             ],
             [
              0.5555555555555556,
              "#d8576b"
             ],
             [
              0.6666666666666666,
              "#ed7953"
             ],
             [
              0.7777777777777778,
              "#fb9f3a"
             ],
             [
              0.8888888888888888,
              "#fdca26"
             ],
             [
              1,
              "#f0f921"
             ]
            ],
            "type": "histogram2dcontour"
           }
          ],
          "mesh3d": [
           {
            "colorbar": {
             "outlinewidth": 0,
             "ticks": ""
            },
            "type": "mesh3d"
           }
          ],
          "parcoords": [
           {
            "line": {
             "colorbar": {
              "outlinewidth": 0,
              "ticks": ""
             }
            },
            "type": "parcoords"
           }
          ],
          "pie": [
           {
            "automargin": true,
            "type": "pie"
           }
          ],
          "scatter": [
           {
            "fillpattern": {
             "fillmode": "overlay",
             "size": 10,
             "solidity": 0.2
            },
            "type": "scatter"
           }
          ],
          "scatter3d": [
           {
            "line": {
             "colorbar": {
              "outlinewidth": 0,
              "ticks": ""
             }
            },
            "marker": {
             "colorbar": {
              "outlinewidth": 0,
              "ticks": ""
             }
            },
            "type": "scatter3d"
           }
          ],
          "scattercarpet": [
           {
            "marker": {
             "colorbar": {
              "outlinewidth": 0,
              "ticks": ""
             }
            },
            "type": "scattercarpet"
           }
          ],
          "scattergeo": [
           {
            "marker": {
             "colorbar": {
              "outlinewidth": 0,
              "ticks": ""
             }
            },
            "type": "scattergeo"
           }
          ],
          "scattergl": [
           {
            "marker": {
             "colorbar": {
              "outlinewidth": 0,
              "ticks": ""
             }
            },
            "type": "scattergl"
           }
          ],
          "scattermap": [
           {
            "marker": {
             "colorbar": {
              "outlinewidth": 0,
              "ticks": ""
             }
            },
            "type": "scattermap"
           }
          ],
          "scattermapbox": [
           {
            "marker": {
             "colorbar": {
              "outlinewidth": 0,
              "ticks": ""
             }
            },
            "type": "scattermapbox"
           }
          ],
          "scatterpolar": [
           {
            "marker": {
             "colorbar": {
              "outlinewidth": 0,
              "ticks": ""
             }
            },
            "type": "scatterpolar"
           }
          ],
          "scatterpolargl": [
           {
            "marker": {
             "colorbar": {
              "outlinewidth": 0,
              "ticks": ""
             }
            },
            "type": "scatterpolargl"
           }
          ],
          "scatterternary": [
           {
            "marker": {
             "colorbar": {
              "outlinewidth": 0,
              "ticks": ""
             }
            },
            "type": "scatterternary"
           }
          ],
          "surface": [
           {
            "colorbar": {
             "outlinewidth": 0,
             "ticks": ""
            },
            "colorscale": [
             [
              0,
              "#0d0887"
             ],
             [
              0.1111111111111111,
              "#46039f"
             ],
             [
              0.2222222222222222,
              "#7201a8"
             ],
             [
              0.3333333333333333,
              "#9c179e"
             ],
             [
              0.4444444444444444,
              "#bd3786"
             ],
             [
              0.5555555555555556,
              "#d8576b"
             ],
             [
              0.6666666666666666,
              "#ed7953"
             ],
             [
              0.7777777777777778,
              "#fb9f3a"
             ],
             [
              0.8888888888888888,
              "#fdca26"
             ],
             [
              1,
              "#f0f921"
             ]
            ],
            "type": "surface"
           }
          ],
          "table": [
           {
            "cells": {
             "fill": {
              "color": "#EBF0F8"
             },
             "line": {
              "color": "white"
             }
            },
            "header": {
             "fill": {
              "color": "#C8D4E3"
             },
             "line": {
              "color": "white"
             }
            },
            "type": "table"
           }
          ]
         },
         "layout": {
          "annotationdefaults": {
           "arrowcolor": "#2a3f5f",
           "arrowhead": 0,
           "arrowwidth": 1
          },
          "autotypenumbers": "strict",
          "coloraxis": {
           "colorbar": {
            "outlinewidth": 0,
            "ticks": ""
           }
          },
          "colorscale": {
           "diverging": [
            [
             0,
             "#8e0152"
            ],
            [
             0.1,
             "#c51b7d"
            ],
            [
             0.2,
             "#de77ae"
            ],
            [
             0.3,
             "#f1b6da"
            ],
            [
             0.4,
             "#fde0ef"
            ],
            [
             0.5,
             "#f7f7f7"
            ],
            [
             0.6,
             "#e6f5d0"
            ],
            [
             0.7,
             "#b8e186"
            ],
            [
             0.8,
             "#7fbc41"
            ],
            [
             0.9,
             "#4d9221"
            ],
            [
             1,
             "#276419"
            ]
           ],
           "sequential": [
            [
             0,
             "#0d0887"
            ],
            [
             0.1111111111111111,
             "#46039f"
            ],
            [
             0.2222222222222222,
             "#7201a8"
            ],
            [
             0.3333333333333333,
             "#9c179e"
            ],
            [
             0.4444444444444444,
             "#bd3786"
            ],
            [
             0.5555555555555556,
             "#d8576b"
            ],
            [
             0.6666666666666666,
             "#ed7953"
            ],
            [
             0.7777777777777778,
             "#fb9f3a"
            ],
            [
             0.8888888888888888,
             "#fdca26"
            ],
            [
             1,
             "#f0f921"
            ]
           ],
           "sequentialminus": [
            [
             0,
             "#0d0887"
            ],
            [
             0.1111111111111111,
             "#46039f"
            ],
            [
             0.2222222222222222,
             "#7201a8"
            ],
            [
             0.3333333333333333,
             "#9c179e"
            ],
            [
             0.4444444444444444,
             "#bd3786"
            ],
            [
             0.5555555555555556,
             "#d8576b"
            ],
            [
             0.6666666666666666,
             "#ed7953"
            ],
            [
             0.7777777777777778,
             "#fb9f3a"
            ],
            [
             0.8888888888888888,
             "#fdca26"
            ],
            [
             1,
             "#f0f921"
            ]
           ]
          },
          "colorway": [
           "#636efa",
           "#EF553B",
           "#00cc96",
           "#ab63fa",
           "#FFA15A",
           "#19d3f3",
           "#FF6692",
           "#B6E880",
           "#FF97FF",
           "#FECB52"
          ],
          "font": {
           "color": "#2a3f5f"
          },
          "geo": {
           "bgcolor": "white",
           "lakecolor": "white",
           "landcolor": "#E5ECF6",
           "showlakes": true,
           "showland": true,
           "subunitcolor": "white"
          },
          "hoverlabel": {
           "align": "left"
          },
          "hovermode": "closest",
          "mapbox": {
           "style": "light"
          },
          "paper_bgcolor": "white",
          "plot_bgcolor": "#E5ECF6",
          "polar": {
           "angularaxis": {
            "gridcolor": "white",
            "linecolor": "white",
            "ticks": ""
           },
           "bgcolor": "#E5ECF6",
           "radialaxis": {
            "gridcolor": "white",
            "linecolor": "white",
            "ticks": ""
           }
          },
          "scene": {
           "xaxis": {
            "backgroundcolor": "#E5ECF6",
            "gridcolor": "white",
            "gridwidth": 2,
            "linecolor": "white",
            "showbackground": true,
            "ticks": "",
            "zerolinecolor": "white"
           },
           "yaxis": {
            "backgroundcolor": "#E5ECF6",
            "gridcolor": "white",
            "gridwidth": 2,
            "linecolor": "white",
            "showbackground": true,
            "ticks": "",
            "zerolinecolor": "white"
           },
           "zaxis": {
            "backgroundcolor": "#E5ECF6",
            "gridcolor": "white",
            "gridwidth": 2,
            "linecolor": "white",
            "showbackground": true,
            "ticks": "",
            "zerolinecolor": "white"
           }
          },
          "shapedefaults": {
           "line": {
            "color": "#2a3f5f"
           }
          },
          "ternary": {
           "aaxis": {
            "gridcolor": "white",
            "linecolor": "white",
            "ticks": ""
           },
           "baxis": {
            "gridcolor": "white",
            "linecolor": "white",
            "ticks": ""
           },
           "bgcolor": "#E5ECF6",
           "caxis": {
            "gridcolor": "white",
            "linecolor": "white",
            "ticks": ""
           }
          },
          "title": {
           "x": 0.05
          },
          "xaxis": {
           "automargin": true,
           "gridcolor": "white",
           "linecolor": "white",
           "ticks": "",
           "title": {
            "standoff": 15
           },
           "zerolinecolor": "white",
           "zerolinewidth": 2
          },
          "yaxis": {
           "automargin": true,
           "gridcolor": "white",
           "linecolor": "white",
           "ticks": "",
           "title": {
            "standoff": 15
           },
           "zerolinecolor": "white",
           "zerolinewidth": 2
          }
         }
        },
        "title": {
         "text": "Monthly Customer Service Interactions by Type"
        },
        "xaxis": {
         "anchor": "y",
         "domain": [
          0,
          1
         ],
         "dtick": 1,
         "tickmode": "linear",
         "title": {
          "text": "Month"
         }
        },
        "yaxis": {
         "anchor": "x",
         "domain": [
          0,
          1
         ],
         "title": {
          "text": "Number of Interactions"
         }
        }
       }
      }
     },
     "metadata": {},
     "output_type": "display_data"
    }
   ],
   "source": [
    "monthly_line_long = monthly_line_df.melt(id_vars='InteractionType', var_name='Month', value_name='Count')\n",
    "\n",
    "monthly_line_long['Month'] = monthly_line_long['Month']\n",
    "\n",
    "# Sort for proper line plot rendering\n",
    "monthly_line_long = monthly_line_long.sort_index()\n",
    "\n",
    "# Plot the line chart\n",
    "fig = px.line(\n",
    "    monthly_line_long,\n",
    "    x='Month',\n",
    "    y='Count',\n",
    "    color='InteractionType',\n",
    "    markers=True,\n",
    "    title='Monthly Customer Service Interactions by Type',\n",
    "    labels={'Month': 'Month', 'Count': 'Number of Interactions'}\n",
    ")\n",
    "\n",
    "fig.update_layout(xaxis=dict(tickmode='linear', dtick=1))\n",
    "fig.show()"
   ]
  },
  {
   "cell_type": "code",
   "execution_count": 219,
   "id": "23988c7d",
   "metadata": {},
   "outputs": [
    {
     "data": {
      "text/html": [
       "<div>\n",
       "<style scoped>\n",
       "    .dataframe tbody tr th:only-of-type {\n",
       "        vertical-align: middle;\n",
       "    }\n",
       "\n",
       "    .dataframe tbody tr th {\n",
       "        vertical-align: top;\n",
       "    }\n",
       "\n",
       "    .dataframe thead th {\n",
       "        text-align: right;\n",
       "    }\n",
       "</style>\n",
       "<table border=\"1\" class=\"dataframe\">\n",
       "  <thead>\n",
       "    <tr style=\"text-align: right;\">\n",
       "      <th></th>\n",
       "      <th>CustomerID</th>\n",
       "      <th>LastLoginDate</th>\n",
       "      <th>LoginFrequency</th>\n",
       "    </tr>\n",
       "  </thead>\n",
       "  <tbody>\n",
       "    <tr>\n",
       "      <th>count</th>\n",
       "      <td>1000.000000</td>\n",
       "      <td>1000</td>\n",
       "      <td>1000.000000</td>\n",
       "    </tr>\n",
       "    <tr>\n",
       "      <th>mean</th>\n",
       "      <td>500.500000</td>\n",
       "      <td>2023-07-05 21:28:48</td>\n",
       "      <td>25.912000</td>\n",
       "    </tr>\n",
       "    <tr>\n",
       "      <th>min</th>\n",
       "      <td>1.000000</td>\n",
       "      <td>2023-01-01 00:00:00</td>\n",
       "      <td>1.000000</td>\n",
       "    </tr>\n",
       "    <tr>\n",
       "      <th>25%</th>\n",
       "      <td>250.750000</td>\n",
       "      <td>2023-04-08 00:00:00</td>\n",
       "      <td>13.750000</td>\n",
       "    </tr>\n",
       "    <tr>\n",
       "      <th>50%</th>\n",
       "      <td>500.500000</td>\n",
       "      <td>2023-07-10 12:00:00</td>\n",
       "      <td>27.000000</td>\n",
       "    </tr>\n",
       "    <tr>\n",
       "      <th>75%</th>\n",
       "      <td>750.250000</td>\n",
       "      <td>2023-10-01 06:00:00</td>\n",
       "      <td>38.000000</td>\n",
       "    </tr>\n",
       "    <tr>\n",
       "      <th>max</th>\n",
       "      <td>1000.000000</td>\n",
       "      <td>2023-12-31 00:00:00</td>\n",
       "      <td>49.000000</td>\n",
       "    </tr>\n",
       "    <tr>\n",
       "      <th>std</th>\n",
       "      <td>288.819436</td>\n",
       "      <td>NaN</td>\n",
       "      <td>14.055953</td>\n",
       "    </tr>\n",
       "  </tbody>\n",
       "</table>\n",
       "</div>"
      ],
      "text/plain": [
       "        CustomerID        LastLoginDate  LoginFrequency\n",
       "count  1000.000000                 1000     1000.000000\n",
       "mean    500.500000  2023-07-05 21:28:48       25.912000\n",
       "min       1.000000  2023-01-01 00:00:00        1.000000\n",
       "25%     250.750000  2023-04-08 00:00:00       13.750000\n",
       "50%     500.500000  2023-07-10 12:00:00       27.000000\n",
       "75%     750.250000  2023-10-01 06:00:00       38.000000\n",
       "max    1000.000000  2023-12-31 00:00:00       49.000000\n",
       "std     288.819436                  NaN       14.055953"
      ]
     },
     "execution_count": 219,
     "metadata": {},
     "output_type": "execute_result"
    }
   ],
   "source": [
    "online_activity.describe()"
   ]
  },
  {
   "cell_type": "code",
   "execution_count": 220,
   "id": "bcfca9ef",
   "metadata": {},
   "outputs": [
    {
     "name": "stdout",
     "output_type": "stream",
     "text": [
      "<class 'pandas.core.frame.DataFrame'>\n",
      "RangeIndex: 1000 entries, 0 to 999\n",
      "Data columns (total 4 columns):\n",
      " #   Column          Non-Null Count  Dtype         \n",
      "---  ------          --------------  -----         \n",
      " 0   CustomerID      1000 non-null   int64         \n",
      " 1   LastLoginDate   1000 non-null   datetime64[ns]\n",
      " 2   LoginFrequency  1000 non-null   int64         \n",
      " 3   ServiceUsage    1000 non-null   object        \n",
      "dtypes: datetime64[ns](1), int64(2), object(1)\n",
      "memory usage: 31.4+ KB\n"
     ]
    }
   ],
   "source": [
    "online_activity.info()"
   ]
  },
  {
   "cell_type": "code",
   "execution_count": 221,
   "id": "d0c56e61",
   "metadata": {},
   "outputs": [
    {
     "data": {
      "text/html": [
       "<div>\n",
       "<style scoped>\n",
       "    .dataframe tbody tr th:only-of-type {\n",
       "        vertical-align: middle;\n",
       "    }\n",
       "\n",
       "    .dataframe tbody tr th {\n",
       "        vertical-align: top;\n",
       "    }\n",
       "\n",
       "    .dataframe thead th {\n",
       "        text-align: right;\n",
       "    }\n",
       "</style>\n",
       "<table border=\"1\" class=\"dataframe\">\n",
       "  <thead>\n",
       "    <tr style=\"text-align: right;\">\n",
       "      <th></th>\n",
       "      <th>CustomerID</th>\n",
       "      <th>ChurnStatus</th>\n",
       "    </tr>\n",
       "  </thead>\n",
       "  <tbody>\n",
       "    <tr>\n",
       "      <th>count</th>\n",
       "      <td>1000.000000</td>\n",
       "      <td>1000.000000</td>\n",
       "    </tr>\n",
       "    <tr>\n",
       "      <th>mean</th>\n",
       "      <td>500.500000</td>\n",
       "      <td>0.204000</td>\n",
       "    </tr>\n",
       "    <tr>\n",
       "      <th>std</th>\n",
       "      <td>288.819436</td>\n",
       "      <td>0.403171</td>\n",
       "    </tr>\n",
       "    <tr>\n",
       "      <th>min</th>\n",
       "      <td>1.000000</td>\n",
       "      <td>0.000000</td>\n",
       "    </tr>\n",
       "    <tr>\n",
       "      <th>25%</th>\n",
       "      <td>250.750000</td>\n",
       "      <td>0.000000</td>\n",
       "    </tr>\n",
       "    <tr>\n",
       "      <th>50%</th>\n",
       "      <td>500.500000</td>\n",
       "      <td>0.000000</td>\n",
       "    </tr>\n",
       "    <tr>\n",
       "      <th>75%</th>\n",
       "      <td>750.250000</td>\n",
       "      <td>0.000000</td>\n",
       "    </tr>\n",
       "    <tr>\n",
       "      <th>max</th>\n",
       "      <td>1000.000000</td>\n",
       "      <td>1.000000</td>\n",
       "    </tr>\n",
       "  </tbody>\n",
       "</table>\n",
       "</div>"
      ],
      "text/plain": [
       "        CustomerID  ChurnStatus\n",
       "count  1000.000000  1000.000000\n",
       "mean    500.500000     0.204000\n",
       "std     288.819436     0.403171\n",
       "min       1.000000     0.000000\n",
       "25%     250.750000     0.000000\n",
       "50%     500.500000     0.000000\n",
       "75%     750.250000     0.000000\n",
       "max    1000.000000     1.000000"
      ]
     },
     "execution_count": 221,
     "metadata": {},
     "output_type": "execute_result"
    }
   ],
   "source": [
    "churn_status.describe()"
   ]
  },
  {
   "cell_type": "code",
   "execution_count": 222,
   "id": "4ac47776",
   "metadata": {},
   "outputs": [
    {
     "name": "stdout",
     "output_type": "stream",
     "text": [
      "<class 'pandas.core.frame.DataFrame'>\n",
      "RangeIndex: 1000 entries, 0 to 999\n",
      "Data columns (total 2 columns):\n",
      " #   Column       Non-Null Count  Dtype\n",
      "---  ------       --------------  -----\n",
      " 0   CustomerID   1000 non-null   int64\n",
      " 1   ChurnStatus  1000 non-null   int64\n",
      "dtypes: int64(2)\n",
      "memory usage: 15.8 KB\n"
     ]
    }
   ],
   "source": [
    "churn_status.info()"
   ]
  },
  {
   "cell_type": "code",
   "execution_count": 223,
   "id": "d9b7d5f7",
   "metadata": {},
   "outputs": [
    {
     "data": {
      "text/plain": [
       "CustomerID     0\n",
       "ChurnStatus    0\n",
       "dtype: int64"
      ]
     },
     "execution_count": 223,
     "metadata": {},
     "output_type": "execute_result"
    }
   ],
   "source": [
    "churn_status.isnull().sum()"
   ]
  },
  {
   "cell_type": "markdown",
   "id": "dcc3f60c",
   "metadata": {},
   "source": [
    "I am now going to start cleaning the data and select features for the EDA and machine learning process"
   ]
  },
  {
   "cell_type": "code",
   "execution_count": 224,
   "id": "d777d66b",
   "metadata": {},
   "outputs": [
    {
     "data": {
      "text/html": [
       "<div>\n",
       "<style scoped>\n",
       "    .dataframe tbody tr th:only-of-type {\n",
       "        vertical-align: middle;\n",
       "    }\n",
       "\n",
       "    .dataframe tbody tr th {\n",
       "        vertical-align: top;\n",
       "    }\n",
       "\n",
       "    .dataframe thead th {\n",
       "        text-align: right;\n",
       "    }\n",
       "</style>\n",
       "<table border=\"1\" class=\"dataframe\">\n",
       "  <thead>\n",
       "    <tr style=\"text-align: right;\">\n",
       "      <th></th>\n",
       "      <th>CustomerID</th>\n",
       "      <th>FirstTransactionDate</th>\n",
       "    </tr>\n",
       "  </thead>\n",
       "  <tbody>\n",
       "    <tr>\n",
       "      <th>0</th>\n",
       "      <td>1</td>\n",
       "      <td>2022-03-27</td>\n",
       "    </tr>\n",
       "    <tr>\n",
       "      <th>1</th>\n",
       "      <td>2</td>\n",
       "      <td>2022-01-09</td>\n",
       "    </tr>\n",
       "    <tr>\n",
       "      <th>2</th>\n",
       "      <td>3</td>\n",
       "      <td>2022-02-11</td>\n",
       "    </tr>\n",
       "    <tr>\n",
       "      <th>3</th>\n",
       "      <td>4</td>\n",
       "      <td>2022-05-22</td>\n",
       "    </tr>\n",
       "    <tr>\n",
       "      <th>4</th>\n",
       "      <td>5</td>\n",
       "      <td>2022-02-21</td>\n",
       "    </tr>\n",
       "    <tr>\n",
       "      <th>...</th>\n",
       "      <td>...</td>\n",
       "      <td>...</td>\n",
       "    </tr>\n",
       "    <tr>\n",
       "      <th>995</th>\n",
       "      <td>996</td>\n",
       "      <td>2022-07-24</td>\n",
       "    </tr>\n",
       "    <tr>\n",
       "      <th>996</th>\n",
       "      <td>997</td>\n",
       "      <td>2022-08-06</td>\n",
       "    </tr>\n",
       "    <tr>\n",
       "      <th>997</th>\n",
       "      <td>998</td>\n",
       "      <td>2022-09-18</td>\n",
       "    </tr>\n",
       "    <tr>\n",
       "      <th>998</th>\n",
       "      <td>999</td>\n",
       "      <td>2022-01-20</td>\n",
       "    </tr>\n",
       "    <tr>\n",
       "      <th>999</th>\n",
       "      <td>1000</td>\n",
       "      <td>2022-04-08</td>\n",
       "    </tr>\n",
       "  </tbody>\n",
       "</table>\n",
       "<p>1000 rows × 2 columns</p>\n",
       "</div>"
      ],
      "text/plain": [
       "     CustomerID FirstTransactionDate\n",
       "0             1           2022-03-27\n",
       "1             2           2022-01-09\n",
       "2             3           2022-02-11\n",
       "3             4           2022-05-22\n",
       "4             5           2022-02-21\n",
       "..          ...                  ...\n",
       "995         996           2022-07-24\n",
       "996         997           2022-08-06\n",
       "997         998           2022-09-18\n",
       "998         999           2022-01-20\n",
       "999        1000           2022-04-08\n",
       "\n",
       "[1000 rows x 2 columns]"
      ]
     },
     "execution_count": 224,
     "metadata": {},
     "output_type": "execute_result"
    }
   ],
   "source": [
    "#get the transaction history as to how long since their last transaction\n",
    "\n",
    "first_customer_transaction = transaction_history.groupby('CustomerID')['TransactionDate'].min().reset_index()\n",
    "first_customer_transaction.rename(columns={'TransactionDate': 'FirstTransactionDate'}, inplace=True)\n",
    "first_customer_transaction\n"
   ]
  },
  {
   "cell_type": "code",
   "execution_count": 225,
   "id": "6c5d533d",
   "metadata": {},
   "outputs": [
    {
     "data": {
      "text/html": [
       "<div>\n",
       "<style scoped>\n",
       "    .dataframe tbody tr th:only-of-type {\n",
       "        vertical-align: middle;\n",
       "    }\n",
       "\n",
       "    .dataframe tbody tr th {\n",
       "        vertical-align: top;\n",
       "    }\n",
       "\n",
       "    .dataframe thead th {\n",
       "        text-align: right;\n",
       "    }\n",
       "</style>\n",
       "<table border=\"1\" class=\"dataframe\">\n",
       "  <thead>\n",
       "    <tr style=\"text-align: right;\">\n",
       "      <th></th>\n",
       "      <th>CustomerID</th>\n",
       "      <th>LastTransactionDate</th>\n",
       "    </tr>\n",
       "  </thead>\n",
       "  <tbody>\n",
       "    <tr>\n",
       "      <th>0</th>\n",
       "      <td>1</td>\n",
       "      <td>2022-03-27</td>\n",
       "    </tr>\n",
       "    <tr>\n",
       "      <th>1</th>\n",
       "      <td>2</td>\n",
       "      <td>2022-11-19</td>\n",
       "    </tr>\n",
       "    <tr>\n",
       "      <th>2</th>\n",
       "      <td>3</td>\n",
       "      <td>2022-10-08</td>\n",
       "    </tr>\n",
       "    <tr>\n",
       "      <th>3</th>\n",
       "      <td>4</td>\n",
       "      <td>2022-12-27</td>\n",
       "    </tr>\n",
       "    <tr>\n",
       "      <th>4</th>\n",
       "      <td>5</td>\n",
       "      <td>2022-12-21</td>\n",
       "    </tr>\n",
       "    <tr>\n",
       "      <th>...</th>\n",
       "      <td>...</td>\n",
       "      <td>...</td>\n",
       "    </tr>\n",
       "    <tr>\n",
       "      <th>995</th>\n",
       "      <td>996</td>\n",
       "      <td>2022-07-24</td>\n",
       "    </tr>\n",
       "    <tr>\n",
       "      <th>996</th>\n",
       "      <td>997</td>\n",
       "      <td>2022-10-25</td>\n",
       "    </tr>\n",
       "    <tr>\n",
       "      <th>997</th>\n",
       "      <td>998</td>\n",
       "      <td>2022-09-18</td>\n",
       "    </tr>\n",
       "    <tr>\n",
       "      <th>998</th>\n",
       "      <td>999</td>\n",
       "      <td>2022-12-07</td>\n",
       "    </tr>\n",
       "    <tr>\n",
       "      <th>999</th>\n",
       "      <td>1000</td>\n",
       "      <td>2022-12-13</td>\n",
       "    </tr>\n",
       "  </tbody>\n",
       "</table>\n",
       "<p>1000 rows × 2 columns</p>\n",
       "</div>"
      ],
      "text/plain": [
       "     CustomerID LastTransactionDate\n",
       "0             1          2022-03-27\n",
       "1             2          2022-11-19\n",
       "2             3          2022-10-08\n",
       "3             4          2022-12-27\n",
       "4             5          2022-12-21\n",
       "..          ...                 ...\n",
       "995         996          2022-07-24\n",
       "996         997          2022-10-25\n",
       "997         998          2022-09-18\n",
       "998         999          2022-12-07\n",
       "999        1000          2022-12-13\n",
       "\n",
       "[1000 rows x 2 columns]"
      ]
     },
     "execution_count": 225,
     "metadata": {},
     "output_type": "execute_result"
    }
   ],
   "source": [
    "last_customer_transaction = transaction_history.groupby('CustomerID')['TransactionDate'].max().reset_index()\n",
    "last_customer_transaction.rename(columns={'TransactionDate': 'LastTransactionDate'}, inplace=True)\n",
    "last_customer_transaction"
   ]
  },
  {
   "cell_type": "code",
   "execution_count": 226,
   "id": "6235006a",
   "metadata": {},
   "outputs": [
    {
     "data": {
      "text/html": [
       "<div>\n",
       "<style scoped>\n",
       "    .dataframe tbody tr th:only-of-type {\n",
       "        vertical-align: middle;\n",
       "    }\n",
       "\n",
       "    .dataframe tbody tr th {\n",
       "        vertical-align: top;\n",
       "    }\n",
       "\n",
       "    .dataframe thead th {\n",
       "        text-align: right;\n",
       "    }\n",
       "</style>\n",
       "<table border=\"1\" class=\"dataframe\">\n",
       "  <thead>\n",
       "    <tr style=\"text-align: right;\">\n",
       "      <th></th>\n",
       "      <th>CustomerID</th>\n",
       "      <th>TotalAmountSpent</th>\n",
       "    </tr>\n",
       "  </thead>\n",
       "  <tbody>\n",
       "    <tr>\n",
       "      <th>0</th>\n",
       "      <td>1</td>\n",
       "      <td>416.50</td>\n",
       "    </tr>\n",
       "    <tr>\n",
       "      <th>1</th>\n",
       "      <td>2</td>\n",
       "      <td>1547.42</td>\n",
       "    </tr>\n",
       "    <tr>\n",
       "      <th>2</th>\n",
       "      <td>3</td>\n",
       "      <td>1702.98</td>\n",
       "    </tr>\n",
       "    <tr>\n",
       "      <th>3</th>\n",
       "      <td>4</td>\n",
       "      <td>917.29</td>\n",
       "    </tr>\n",
       "    <tr>\n",
       "      <th>4</th>\n",
       "      <td>5</td>\n",
       "      <td>2001.49</td>\n",
       "    </tr>\n",
       "    <tr>\n",
       "      <th>...</th>\n",
       "      <td>...</td>\n",
       "      <td>...</td>\n",
       "    </tr>\n",
       "    <tr>\n",
       "      <th>995</th>\n",
       "      <td>996</td>\n",
       "      <td>227.25</td>\n",
       "    </tr>\n",
       "    <tr>\n",
       "      <th>996</th>\n",
       "      <td>997</td>\n",
       "      <td>419.82</td>\n",
       "    </tr>\n",
       "    <tr>\n",
       "      <th>997</th>\n",
       "      <td>998</td>\n",
       "      <td>252.15</td>\n",
       "    </tr>\n",
       "    <tr>\n",
       "      <th>998</th>\n",
       "      <td>999</td>\n",
       "      <td>2393.26</td>\n",
       "    </tr>\n",
       "    <tr>\n",
       "      <th>999</th>\n",
       "      <td>1000</td>\n",
       "      <td>1670.79</td>\n",
       "    </tr>\n",
       "  </tbody>\n",
       "</table>\n",
       "<p>1000 rows × 2 columns</p>\n",
       "</div>"
      ],
      "text/plain": [
       "     CustomerID  TotalAmountSpent\n",
       "0             1            416.50\n",
       "1             2           1547.42\n",
       "2             3           1702.98\n",
       "3             4            917.29\n",
       "4             5           2001.49\n",
       "..          ...               ...\n",
       "995         996            227.25\n",
       "996         997            419.82\n",
       "997         998            252.15\n",
       "998         999           2393.26\n",
       "999        1000           1670.79\n",
       "\n",
       "[1000 rows x 2 columns]"
      ]
     },
     "execution_count": 226,
     "metadata": {},
     "output_type": "execute_result"
    }
   ],
   "source": [
    "total_amount_spent = transaction_history.groupby('CustomerID')['AmountSpent'].sum().reset_index()\n",
    "total_amount_spent.rename(columns={'AmountSpent': 'TotalAmountSpent'}, inplace=True)\n",
    "total_amount_spent"
   ]
  },
  {
   "cell_type": "code",
   "execution_count": 227,
   "id": "3fe2e260",
   "metadata": {},
   "outputs": [
    {
     "data": {
      "text/html": [
       "<div>\n",
       "<style scoped>\n",
       "    .dataframe tbody tr th:only-of-type {\n",
       "        vertical-align: middle;\n",
       "    }\n",
       "\n",
       "    .dataframe tbody tr th {\n",
       "        vertical-align: top;\n",
       "    }\n",
       "\n",
       "    .dataframe thead th {\n",
       "        text-align: right;\n",
       "    }\n",
       "</style>\n",
       "<table border=\"1\" class=\"dataframe\">\n",
       "  <thead>\n",
       "    <tr style=\"text-align: right;\">\n",
       "      <th></th>\n",
       "      <th>CustomerID</th>\n",
       "      <th>FirstInteractionDate</th>\n",
       "    </tr>\n",
       "  </thead>\n",
       "  <tbody>\n",
       "    <tr>\n",
       "      <th>0</th>\n",
       "      <td>1</td>\n",
       "      <td>2022-03-31</td>\n",
       "    </tr>\n",
       "    <tr>\n",
       "      <th>1</th>\n",
       "      <td>2</td>\n",
       "      <td>2022-03-17</td>\n",
       "    </tr>\n",
       "    <tr>\n",
       "      <th>2</th>\n",
       "      <td>3</td>\n",
       "      <td>2022-08-24</td>\n",
       "    </tr>\n",
       "    <tr>\n",
       "      <th>3</th>\n",
       "      <td>4</td>\n",
       "      <td>2022-07-03</td>\n",
       "    </tr>\n",
       "    <tr>\n",
       "      <th>4</th>\n",
       "      <td>6</td>\n",
       "      <td>2022-05-05</td>\n",
       "    </tr>\n",
       "    <tr>\n",
       "      <th>...</th>\n",
       "      <td>...</td>\n",
       "      <td>...</td>\n",
       "    </tr>\n",
       "    <tr>\n",
       "      <th>663</th>\n",
       "      <td>989</td>\n",
       "      <td>2022-08-03</td>\n",
       "    </tr>\n",
       "    <tr>\n",
       "      <th>664</th>\n",
       "      <td>990</td>\n",
       "      <td>2022-09-17</td>\n",
       "    </tr>\n",
       "    <tr>\n",
       "      <th>665</th>\n",
       "      <td>992</td>\n",
       "      <td>2022-09-29</td>\n",
       "    </tr>\n",
       "    <tr>\n",
       "      <th>666</th>\n",
       "      <td>994</td>\n",
       "      <td>2022-05-14</td>\n",
       "    </tr>\n",
       "    <tr>\n",
       "      <th>667</th>\n",
       "      <td>995</td>\n",
       "      <td>2022-05-02</td>\n",
       "    </tr>\n",
       "  </tbody>\n",
       "</table>\n",
       "<p>668 rows × 2 columns</p>\n",
       "</div>"
      ],
      "text/plain": [
       "     CustomerID FirstInteractionDate\n",
       "0             1           2022-03-31\n",
       "1             2           2022-03-17\n",
       "2             3           2022-08-24\n",
       "3             4           2022-07-03\n",
       "4             6           2022-05-05\n",
       "..          ...                  ...\n",
       "663         989           2022-08-03\n",
       "664         990           2022-09-17\n",
       "665         992           2022-09-29\n",
       "666         994           2022-05-14\n",
       "667         995           2022-05-02\n",
       "\n",
       "[668 rows x 2 columns]"
      ]
     },
     "execution_count": 227,
     "metadata": {},
     "output_type": "execute_result"
    }
   ],
   "source": [
    "first_interaction_date = customer_service.groupby('CustomerID')['InteractionDate'].min().reset_index()\n",
    "first_interaction_date.rename(columns={'InteractionDate': 'FirstInteractionDate'}, inplace=True)\n",
    "first_interaction_date"
   ]
  },
  {
   "cell_type": "code",
   "execution_count": 228,
   "id": "75791a77",
   "metadata": {},
   "outputs": [
    {
     "data": {
      "text/html": [
       "<div>\n",
       "<style scoped>\n",
       "    .dataframe tbody tr th:only-of-type {\n",
       "        vertical-align: middle;\n",
       "    }\n",
       "\n",
       "    .dataframe tbody tr th {\n",
       "        vertical-align: top;\n",
       "    }\n",
       "\n",
       "    .dataframe thead th {\n",
       "        text-align: right;\n",
       "    }\n",
       "</style>\n",
       "<table border=\"1\" class=\"dataframe\">\n",
       "  <thead>\n",
       "    <tr style=\"text-align: right;\">\n",
       "      <th></th>\n",
       "      <th>CustomerID</th>\n",
       "      <th>LastInteractionDate</th>\n",
       "    </tr>\n",
       "  </thead>\n",
       "  <tbody>\n",
       "    <tr>\n",
       "      <th>0</th>\n",
       "      <td>1</td>\n",
       "      <td>2022-03-31</td>\n",
       "    </tr>\n",
       "    <tr>\n",
       "      <th>1</th>\n",
       "      <td>2</td>\n",
       "      <td>2022-03-17</td>\n",
       "    </tr>\n",
       "    <tr>\n",
       "      <th>2</th>\n",
       "      <td>3</td>\n",
       "      <td>2022-08-24</td>\n",
       "    </tr>\n",
       "    <tr>\n",
       "      <th>3</th>\n",
       "      <td>4</td>\n",
       "      <td>2022-11-18</td>\n",
       "    </tr>\n",
       "    <tr>\n",
       "      <th>4</th>\n",
       "      <td>6</td>\n",
       "      <td>2022-05-05</td>\n",
       "    </tr>\n",
       "    <tr>\n",
       "      <th>...</th>\n",
       "      <td>...</td>\n",
       "      <td>...</td>\n",
       "    </tr>\n",
       "    <tr>\n",
       "      <th>663</th>\n",
       "      <td>989</td>\n",
       "      <td>2022-10-07</td>\n",
       "    </tr>\n",
       "    <tr>\n",
       "      <th>664</th>\n",
       "      <td>990</td>\n",
       "      <td>2022-10-25</td>\n",
       "    </tr>\n",
       "    <tr>\n",
       "      <th>665</th>\n",
       "      <td>992</td>\n",
       "      <td>2022-09-29</td>\n",
       "    </tr>\n",
       "    <tr>\n",
       "      <th>666</th>\n",
       "      <td>994</td>\n",
       "      <td>2022-07-02</td>\n",
       "    </tr>\n",
       "    <tr>\n",
       "      <th>667</th>\n",
       "      <td>995</td>\n",
       "      <td>2022-05-02</td>\n",
       "    </tr>\n",
       "  </tbody>\n",
       "</table>\n",
       "<p>668 rows × 2 columns</p>\n",
       "</div>"
      ],
      "text/plain": [
       "     CustomerID LastInteractionDate\n",
       "0             1          2022-03-31\n",
       "1             2          2022-03-17\n",
       "2             3          2022-08-24\n",
       "3             4          2022-11-18\n",
       "4             6          2022-05-05\n",
       "..          ...                 ...\n",
       "663         989          2022-10-07\n",
       "664         990          2022-10-25\n",
       "665         992          2022-09-29\n",
       "666         994          2022-07-02\n",
       "667         995          2022-05-02\n",
       "\n",
       "[668 rows x 2 columns]"
      ]
     },
     "execution_count": 228,
     "metadata": {},
     "output_type": "execute_result"
    }
   ],
   "source": [
    "last_interaction_date = customer_service.groupby('CustomerID')['InteractionDate'].max().reset_index()\n",
    "last_interaction_date.rename(columns={'InteractionDate': 'LastInteractionDate'}, inplace=True)\n",
    "last_interaction_date"
   ]
  },
  {
   "cell_type": "code",
   "execution_count": 229,
   "id": "97fb0573",
   "metadata": {},
   "outputs": [],
   "source": [
    "total_service_interactions = customer_service.groupby('CustomerID')['InteractionType'].count().reset_index()\n",
    "total_service_interactions.rename(columns={'InteractionType': 'TotalServiceInteractions'}, inplace=True)"
   ]
  },
  {
   "cell_type": "code",
   "execution_count": 230,
   "id": "f9d1f8be",
   "metadata": {},
   "outputs": [],
   "source": [
    "# Count of online actions\n",
    "online_activity_count = online_activity[['CustomerID', 'LoginFrequency']].drop_duplicates('CustomerID')\n",
    "transaction_count_per_customer = (\n",
    "    transaction_history\n",
    "    .groupby('CustomerID')\n",
    "    .size()\n",
    "    .reset_index(name='TransactionCount')\n",
    ")\n",
    "\n",
    "# Most recent login date\n",
    "last_login_df = (\n",
    "    online_activity\n",
    "    .groupby('CustomerID')['LastLoginDate']\n",
    "    .max()\n",
    "    .reset_index(name='LastLoginDate')\n",
    ")"
   ]
  },
  {
   "cell_type": "code",
   "execution_count": 231,
   "id": "805ebcfb",
   "metadata": {},
   "outputs": [
    {
     "data": {
      "text/plain": [
       "CustomerID                         0\n",
       "Age                                0\n",
       "FirstTransactionDate               0\n",
       "LastTransactionDate                0\n",
       "TotalAmountSpent                   0\n",
       "TransactionCount                   0\n",
       "AvgAmountPerTransaction            0\n",
       "FirstInteractionDate               0\n",
       "LastInteractionDate                0\n",
       "TotalServiceInteractions           0\n",
       "ServiceDiversity                   0\n",
       "LastLoginDate                      0\n",
       "ChurnStatus                        0\n",
       "LoginFrequency                     0\n",
       "RecencyDays                        0\n",
       "TenureDays                         0\n",
       "DaysSinceLastLogin                 0\n",
       "InteractionsPerMonth               0\n",
       "TotalAmountSpent_Capped            0\n",
       "TransactionCount_Capped            0\n",
       "MaritalStatus_Divorced             0\n",
       "MaritalStatus_Married              0\n",
       "MaritalStatus_Single               0\n",
       "MaritalStatus_Widowed              0\n",
       "Gender_F                           0\n",
       "Gender_M                           0\n",
       "IncomeLevel_High                   0\n",
       "IncomeLevel_Low                    0\n",
       "IncomeLevel_Medium                 0\n",
       "ServiceUsage_Mobile App            0\n",
       "ServiceUsage_Online Banking        0\n",
       "ServiceUsage_Website               0\n",
       "TotalAmountSpent_Capped_scaled     0\n",
       "AvgAmountPerTransaction_scaled     0\n",
       "TransactionCount_Capped_scaled     0\n",
       "RecencyDays_scaled                 0\n",
       "TenureDays_scaled                  0\n",
       "TotalServiceInteractions_scaled    0\n",
       "ServiceDiversity_scaled            0\n",
       "LoginFrequency_scaled              0\n",
       "DaysSinceLastLogin_scaled          0\n",
       "InteractionsPerMonth_scaled        0\n",
       "dtype: int64"
      ]
     },
     "execution_count": 231,
     "metadata": {},
     "output_type": "execute_result"
    }
   ],
   "source": [
    "df.isnull().sum()"
   ]
  },
  {
   "cell_type": "code",
   "execution_count": 232,
   "id": "e600ffec",
   "metadata": {},
   "outputs": [
    {
     "name": "stdout",
     "output_type": "stream",
     "text": [
      "The Average Revenue Per User is: 1267.07\n"
     ]
    }
   ],
   "source": [
    "ARPU = df['TotalAmountSpent'].sum()/df['CustomerID'].count()\n",
    "print(f'The Average Revenue Per User is: {ARPU:.2f}')"
   ]
  },
  {
   "cell_type": "code",
   "execution_count": 233,
   "id": "6bcaab7d",
   "metadata": {},
   "outputs": [
    {
     "data": {
      "text/plain": [
       "TotalServiceInteractions     1.002\n",
       "LoginFrequency              25.912\n",
       "TransactionCount             5.054\n",
       "dtype: float64"
      ]
     },
     "execution_count": 233,
     "metadata": {},
     "output_type": "execute_result"
    }
   ],
   "source": [
    "df[['TotalServiceInteractions', 'LoginFrequency', 'TransactionCount']].mean()"
   ]
  },
  {
   "cell_type": "code",
   "execution_count": 244,
   "id": "27998646",
   "metadata": {},
   "outputs": [
    {
     "name": "stderr",
     "output_type": "stream",
     "text": [
      "C:\\Users\\Admin\\AppData\\Local\\Temp\\ipykernel_8876\\1212552052.py:6: FutureWarning:\n",
      "\n",
      "The default of observed=False is deprecated and will be changed to True in a future version of pandas. Pass observed=False to retain current behavior or observed=True to adopt the future default and silence this warning.\n",
      "\n"
     ]
    },
    {
     "data": {
      "application/vnd.plotly.v1+json": {
       "config": {
        "plotlyServerURL": "https://plot.ly"
       },
       "data": [
        {
         "alignmentgroup": "True",
         "hovertemplate": "AgeRange=%{x}<br>Total Amount Spent=%{y}<extra></extra>",
         "legendgroup": "",
         "marker": {
          "color": "#636efa",
          "pattern": {
           "shape": ""
          }
         },
         "name": "",
         "offsetgroup": "",
         "orientation": "v",
         "showlegend": false,
         "textposition": "auto",
         "type": "bar",
         "x": [
          "0–25",
          "26–35",
          "36–45",
          "46–55",
          "56–65",
          "66+"
         ],
         "xaxis": "x",
         "y": {
          "bdata": "K2NY1EKLk0DcNnPGafaSQKRwPQq33JRASickO72Ik0DCOSrhy0aUQC5vjGDiQ5NA",
          "dtype": "f8"
         },
         "yaxis": "y"
        }
       ],
       "layout": {
        "barmode": "group",
        "legend": {
         "tracegroupgap": 0
        },
        "template": {
         "data": {
          "bar": [
           {
            "error_x": {
             "color": "#2a3f5f"
            },
            "error_y": {
             "color": "#2a3f5f"
            },
            "marker": {
             "line": {
              "color": "#E5ECF6",
              "width": 0.5
             },
             "pattern": {
              "fillmode": "overlay",
              "size": 10,
              "solidity": 0.2
             }
            },
            "type": "bar"
           }
          ],
          "barpolar": [
           {
            "marker": {
             "line": {
              "color": "#E5ECF6",
              "width": 0.5
             },
             "pattern": {
              "fillmode": "overlay",
              "size": 10,
              "solidity": 0.2
             }
            },
            "type": "barpolar"
           }
          ],
          "carpet": [
           {
            "aaxis": {
             "endlinecolor": "#2a3f5f",
             "gridcolor": "white",
             "linecolor": "white",
             "minorgridcolor": "white",
             "startlinecolor": "#2a3f5f"
            },
            "baxis": {
             "endlinecolor": "#2a3f5f",
             "gridcolor": "white",
             "linecolor": "white",
             "minorgridcolor": "white",
             "startlinecolor": "#2a3f5f"
            },
            "type": "carpet"
           }
          ],
          "choropleth": [
           {
            "colorbar": {
             "outlinewidth": 0,
             "ticks": ""
            },
            "type": "choropleth"
           }
          ],
          "contour": [
           {
            "colorbar": {
             "outlinewidth": 0,
             "ticks": ""
            },
            "colorscale": [
             [
              0,
              "#0d0887"
             ],
             [
              0.1111111111111111,
              "#46039f"
             ],
             [
              0.2222222222222222,
              "#7201a8"
             ],
             [
              0.3333333333333333,
              "#9c179e"
             ],
             [
              0.4444444444444444,
              "#bd3786"
             ],
             [
              0.5555555555555556,
              "#d8576b"
             ],
             [
              0.6666666666666666,
              "#ed7953"
             ],
             [
              0.7777777777777778,
              "#fb9f3a"
             ],
             [
              0.8888888888888888,
              "#fdca26"
             ],
             [
              1,
              "#f0f921"
             ]
            ],
            "type": "contour"
           }
          ],
          "contourcarpet": [
           {
            "colorbar": {
             "outlinewidth": 0,
             "ticks": ""
            },
            "type": "contourcarpet"
           }
          ],
          "heatmap": [
           {
            "colorbar": {
             "outlinewidth": 0,
             "ticks": ""
            },
            "colorscale": [
             [
              0,
              "#0d0887"
             ],
             [
              0.1111111111111111,
              "#46039f"
             ],
             [
              0.2222222222222222,
              "#7201a8"
             ],
             [
              0.3333333333333333,
              "#9c179e"
             ],
             [
              0.4444444444444444,
              "#bd3786"
             ],
             [
              0.5555555555555556,
              "#d8576b"
             ],
             [
              0.6666666666666666,
              "#ed7953"
             ],
             [
              0.7777777777777778,
              "#fb9f3a"
             ],
             [
              0.8888888888888888,
              "#fdca26"
             ],
             [
              1,
              "#f0f921"
             ]
            ],
            "type": "heatmap"
           }
          ],
          "histogram": [
           {
            "marker": {
             "pattern": {
              "fillmode": "overlay",
              "size": 10,
              "solidity": 0.2
             }
            },
            "type": "histogram"
           }
          ],
          "histogram2d": [
           {
            "colorbar": {
             "outlinewidth": 0,
             "ticks": ""
            },
            "colorscale": [
             [
              0,
              "#0d0887"
             ],
             [
              0.1111111111111111,
              "#46039f"
             ],
             [
              0.2222222222222222,
              "#7201a8"
             ],
             [
              0.3333333333333333,
              "#9c179e"
             ],
             [
              0.4444444444444444,
              "#bd3786"
             ],
             [
              0.5555555555555556,
              "#d8576b"
             ],
             [
              0.6666666666666666,
              "#ed7953"
             ],
             [
              0.7777777777777778,
              "#fb9f3a"
             ],
             [
              0.8888888888888888,
              "#fdca26"
             ],
             [
              1,
              "#f0f921"
             ]
            ],
            "type": "histogram2d"
           }
          ],
          "histogram2dcontour": [
           {
            "colorbar": {
             "outlinewidth": 0,
             "ticks": ""
            },
            "colorscale": [
             [
              0,
              "#0d0887"
             ],
             [
              0.1111111111111111,
              "#46039f"
             ],
             [
              0.2222222222222222,
              "#7201a8"
             ],
             [
              0.3333333333333333,
              "#9c179e"
             ],
             [
              0.4444444444444444,
              "#bd3786"
             ],
             [
              0.5555555555555556,
              "#d8576b"
             ],
             [
              0.6666666666666666,
              "#ed7953"
             ],
             [
              0.7777777777777778,
              "#fb9f3a"
             ],
             [
              0.8888888888888888,
              "#fdca26"
             ],
             [
              1,
              "#f0f921"
             ]
            ],
            "type": "histogram2dcontour"
           }
          ],
          "mesh3d": [
           {
            "colorbar": {
             "outlinewidth": 0,
             "ticks": ""
            },
            "type": "mesh3d"
           }
          ],
          "parcoords": [
           {
            "line": {
             "colorbar": {
              "outlinewidth": 0,
              "ticks": ""
             }
            },
            "type": "parcoords"
           }
          ],
          "pie": [
           {
            "automargin": true,
            "type": "pie"
           }
          ],
          "scatter": [
           {
            "fillpattern": {
             "fillmode": "overlay",
             "size": 10,
             "solidity": 0.2
            },
            "type": "scatter"
           }
          ],
          "scatter3d": [
           {
            "line": {
             "colorbar": {
              "outlinewidth": 0,
              "ticks": ""
             }
            },
            "marker": {
             "colorbar": {
              "outlinewidth": 0,
              "ticks": ""
             }
            },
            "type": "scatter3d"
           }
          ],
          "scattercarpet": [
           {
            "marker": {
             "colorbar": {
              "outlinewidth": 0,
              "ticks": ""
             }
            },
            "type": "scattercarpet"
           }
          ],
          "scattergeo": [
           {
            "marker": {
             "colorbar": {
              "outlinewidth": 0,
              "ticks": ""
             }
            },
            "type": "scattergeo"
           }
          ],
          "scattergl": [
           {
            "marker": {
             "colorbar": {
              "outlinewidth": 0,
              "ticks": ""
             }
            },
            "type": "scattergl"
           }
          ],
          "scattermap": [
           {
            "marker": {
             "colorbar": {
              "outlinewidth": 0,
              "ticks": ""
             }
            },
            "type": "scattermap"
           }
          ],
          "scattermapbox": [
           {
            "marker": {
             "colorbar": {
              "outlinewidth": 0,
              "ticks": ""
             }
            },
            "type": "scattermapbox"
           }
          ],
          "scatterpolar": [
           {
            "marker": {
             "colorbar": {
              "outlinewidth": 0,
              "ticks": ""
             }
            },
            "type": "scatterpolar"
           }
          ],
          "scatterpolargl": [
           {
            "marker": {
             "colorbar": {
              "outlinewidth": 0,
              "ticks": ""
             }
            },
            "type": "scatterpolargl"
           }
          ],
          "scatterternary": [
           {
            "marker": {
             "colorbar": {
              "outlinewidth": 0,
              "ticks": ""
             }
            },
            "type": "scatterternary"
           }
          ],
          "surface": [
           {
            "colorbar": {
             "outlinewidth": 0,
             "ticks": ""
            },
            "colorscale": [
             [
              0,
              "#0d0887"
             ],
             [
              0.1111111111111111,
              "#46039f"
             ],
             [
              0.2222222222222222,
              "#7201a8"
             ],
             [
              0.3333333333333333,
              "#9c179e"
             ],
             [
              0.4444444444444444,
              "#bd3786"
             ],
             [
              0.5555555555555556,
              "#d8576b"
             ],
             [
              0.6666666666666666,
              "#ed7953"
             ],
             [
              0.7777777777777778,
              "#fb9f3a"
             ],
             [
              0.8888888888888888,
              "#fdca26"
             ],
             [
              1,
              "#f0f921"
             ]
            ],
            "type": "surface"
           }
          ],
          "table": [
           {
            "cells": {
             "fill": {
              "color": "#EBF0F8"
             },
             "line": {
              "color": "white"
             }
            },
            "header": {
             "fill": {
              "color": "#C8D4E3"
             },
             "line": {
              "color": "white"
             }
            },
            "type": "table"
           }
          ]
         },
         "layout": {
          "annotationdefaults": {
           "arrowcolor": "#2a3f5f",
           "arrowhead": 0,
           "arrowwidth": 1
          },
          "autotypenumbers": "strict",
          "coloraxis": {
           "colorbar": {
            "outlinewidth": 0,
            "ticks": ""
           }
          },
          "colorscale": {
           "diverging": [
            [
             0,
             "#8e0152"
            ],
            [
             0.1,
             "#c51b7d"
            ],
            [
             0.2,
             "#de77ae"
            ],
            [
             0.3,
             "#f1b6da"
            ],
            [
             0.4,
             "#fde0ef"
            ],
            [
             0.5,
             "#f7f7f7"
            ],
            [
             0.6,
             "#e6f5d0"
            ],
            [
             0.7,
             "#b8e186"
            ],
            [
             0.8,
             "#7fbc41"
            ],
            [
             0.9,
             "#4d9221"
            ],
            [
             1,
             "#276419"
            ]
           ],
           "sequential": [
            [
             0,
             "#0d0887"
            ],
            [
             0.1111111111111111,
             "#46039f"
            ],
            [
             0.2222222222222222,
             "#7201a8"
            ],
            [
             0.3333333333333333,
             "#9c179e"
            ],
            [
             0.4444444444444444,
             "#bd3786"
            ],
            [
             0.5555555555555556,
             "#d8576b"
            ],
            [
             0.6666666666666666,
             "#ed7953"
            ],
            [
             0.7777777777777778,
             "#fb9f3a"
            ],
            [
             0.8888888888888888,
             "#fdca26"
            ],
            [
             1,
             "#f0f921"
            ]
           ],
           "sequentialminus": [
            [
             0,
             "#0d0887"
            ],
            [
             0.1111111111111111,
             "#46039f"
            ],
            [
             0.2222222222222222,
             "#7201a8"
            ],
            [
             0.3333333333333333,
             "#9c179e"
            ],
            [
             0.4444444444444444,
             "#bd3786"
            ],
            [
             0.5555555555555556,
             "#d8576b"
            ],
            [
             0.6666666666666666,
             "#ed7953"
            ],
            [
             0.7777777777777778,
             "#fb9f3a"
            ],
            [
             0.8888888888888888,
             "#fdca26"
            ],
            [
             1,
             "#f0f921"
            ]
           ]
          },
          "colorway": [
           "#636efa",
           "#EF553B",
           "#00cc96",
           "#ab63fa",
           "#FFA15A",
           "#19d3f3",
           "#FF6692",
           "#B6E880",
           "#FF97FF",
           "#FECB52"
          ],
          "font": {
           "color": "#2a3f5f"
          },
          "geo": {
           "bgcolor": "white",
           "lakecolor": "white",
           "landcolor": "#E5ECF6",
           "showlakes": true,
           "showland": true,
           "subunitcolor": "white"
          },
          "hoverlabel": {
           "align": "left"
          },
          "hovermode": "closest",
          "mapbox": {
           "style": "light"
          },
          "paper_bgcolor": "white",
          "plot_bgcolor": "#E5ECF6",
          "polar": {
           "angularaxis": {
            "gridcolor": "white",
            "linecolor": "white",
            "ticks": ""
           },
           "bgcolor": "#E5ECF6",
           "radialaxis": {
            "gridcolor": "white",
            "linecolor": "white",
            "ticks": ""
           }
          },
          "scene": {
           "xaxis": {
            "backgroundcolor": "#E5ECF6",
            "gridcolor": "white",
            "gridwidth": 2,
            "linecolor": "white",
            "showbackground": true,
            "ticks": "",
            "zerolinecolor": "white"
           },
           "yaxis": {
            "backgroundcolor": "#E5ECF6",
            "gridcolor": "white",
            "gridwidth": 2,
            "linecolor": "white",
            "showbackground": true,
            "ticks": "",
            "zerolinecolor": "white"
           },
           "zaxis": {
            "backgroundcolor": "#E5ECF6",
            "gridcolor": "white",
            "gridwidth": 2,
            "linecolor": "white",
            "showbackground": true,
            "ticks": "",
            "zerolinecolor": "white"
           }
          },
          "shapedefaults": {
           "line": {
            "color": "#2a3f5f"
           }
          },
          "ternary": {
           "aaxis": {
            "gridcolor": "white",
            "linecolor": "white",
            "ticks": ""
           },
           "baxis": {
            "gridcolor": "white",
            "linecolor": "white",
            "ticks": ""
           },
           "bgcolor": "#E5ECF6",
           "caxis": {
            "gridcolor": "white",
            "linecolor": "white",
            "ticks": ""
           }
          },
          "title": {
           "x": 0.05
          },
          "xaxis": {
           "automargin": true,
           "gridcolor": "white",
           "linecolor": "white",
           "ticks": "",
           "title": {
            "standoff": 15
           },
           "zerolinecolor": "white",
           "zerolinewidth": 2
          },
          "yaxis": {
           "automargin": true,
           "gridcolor": "white",
           "linecolor": "white",
           "ticks": "",
           "title": {
            "standoff": 15
           },
           "zerolinecolor": "white",
           "zerolinewidth": 2
          }
         }
        },
        "title": {
         "text": "Total Average Amount Spent by Age Range"
        },
        "xaxis": {
         "anchor": "y",
         "domain": [
          0,
          1
         ],
         "title": {
          "text": "AgeRange"
         }
        },
        "yaxis": {
         "anchor": "x",
         "domain": [
          0,
          1
         ],
         "title": {
          "text": "Total Amount Spent"
         }
        }
       }
      }
     },
     "metadata": {},
     "output_type": "display_data"
    }
   ],
   "source": [
    "bins = [0, 25, 35, 45, 55, 65, 100]\n",
    "labels = ['0–25', '26–35', '36–45', '46–55', '56–65', '66+']\n",
    "df['AgeRange'] = pd.cut(df['Age'], bins=bins, labels=labels, right=True)\n",
    "\n",
    "\n",
    "total_amount_spent_per_age_range = df.groupby('AgeRange')['TotalAmountSpent'].agg(['mean'])\n",
    "\n",
    "fig = px.bar(\n",
    "    total_amount_spent_per_age_range,\n",
    "    x=total_amount_spent_per_age_range.index,\n",
    "    y='mean',\n",
    "    labels={'x': 'Age Range', 'mean': 'Total Amount Spent'},\n",
    "    title='Total Average Amount Spent by Age Range',\n",
    "    barmode='group'  \n",
    ")\n",
    "\n",
    "fig.show()\n"
   ]
  },
  {
   "cell_type": "code",
   "execution_count": 235,
   "id": "cd9b8b69",
   "metadata": {},
   "outputs": [],
   "source": [
    "df.drop(columns='AgeRange', inplace=True)"
   ]
  },
  {
   "cell_type": "code",
   "execution_count": 236,
   "id": "248e04af",
   "metadata": {},
   "outputs": [
    {
     "data": {
      "image/png": "[encoded data removed]",
      "text/plain": [
       "<Figure size 640x480 with 1 Axes>"
      ]
     },
     "metadata": {},
     "output_type": "display_data"
    }
   ],
   "source": [
    "df['Age'].hist(bins=20)\n",
    "plt.title('Age Distribution of Customers')\n",
    "plt.xlabel('Age')\n",
    "plt.ylabel('Frequency')\n",
    "plt.show()"
   ]
  },
  {
   "cell_type": "code",
   "execution_count": 237,
   "id": "580ad9e8",
   "metadata": {},
   "outputs": [
    {
     "data": {
      "image/png": "[encoded data removed]",
      "text/plain": [
       "<Figure size 640x480 with 1 Axes>"
      ]
     },
     "metadata": {},
     "output_type": "display_data"
    }
   ],
   "source": [
    "ax = df['ChurnStatus'].value_counts().plot(kind='bar')\n",
    "ax.set_xticklabels(['Not Churned', 'Churned'], rotation=0)\n",
    "plt.title('Churn Status Distribution')\n",
    "plt.xlabel('Churn Status')\n",
    "plt.ylabel('Count')\n",
    "\n",
    "plt.show()\n"
   ]
  },
  {
   "cell_type": "code",
   "execution_count": null,
   "id": "fe835642",
   "metadata": {},
   "outputs": [],
   "source": []
  },
  {
   "cell_type": "code",
   "execution_count": 238,
   "id": "4be3580c",
   "metadata": {},
   "outputs": [
    {
     "data": {
      "application/vnd.plotly.v1+json": {
       "config": {
        "plotlyServerURL": "https://plot.ly"
       },
       "data": [
        {
         "alignmentgroup": "True",
         "hovertemplate": "Churn Status (0=No,1=Yes)=%{x}<br>TotalAmountSpent (capped)=%{y}<extra></extra>",
         "legendgroup": "",
         "marker": {
          "color": "#636efa"
         },
         "name": "",
         "notched": false,
         "offsetgroup": "",
         "orientation": "v",
         "showlegend": false,
         "type": "box",
         "x": {
          "bdata": "AAEAAAAAAAEAAQAAAAAAAQABAAAAAAAAAAEAAAAAAAABAAAAAAAAAAEAAAAAAQAAAAABAAAAAAAAAAAAAQAAAAAAAAEAAAEBAQABAQAAAQABAAAAAAAAAAAAAAAAAAAAAAAAAQAAAAEAAAEBAAEBAAAAAAAAAAEAAAEBAAAAAAEAAAAAAAAAAAEAAAAAAAABAAAAAAAAAAAAAAAAAAAAAQAAAAEAAAABAAEAAAABAAEAAAAAAAABAAAAAAAAAQAAAAAAAAEAAAABAAAAAAAAAAAAAAABAAAAAQAAAAEAAAAAAAEAAAEBAAABAAEBAQEAAAEAAAAAAAEAAAEBAAEAAAAAAAEBAQAAAAAAAAAAAQEAAAABAAAAAAABAQAAAQAAAAAAAAAAAAAAAAAAAAAAAAAAAAAAAAEAAAABAAAAAAAAAAEAAAAAAAAAAAAAAAEAAAAAAAABAAAAAAAAAAABAAEAAAAAAQAAAAEAAAEAAAAAAAAAAAAAAAAAAAABAAAAAQAAAQEAAAAAAAEBAAAAAAABAAEAAAEAAAABAAAAAAAAAAEAAAEAAAAAAAAAAAAAAQAAAAAAAAABAAAAAAAAAAABAAAAAAAAAAAAAAABAAAAAQAAAQEAAAAAAAAAAQABAAEAAAAAAAEAAAEAAAAAAAABAAAAAAAAAAEBAAEBAQAAAAABAAEAAAEAAAAAAAAAAAEBAAAAAAABAAAAAAABAAEAAAAAAAAAAAAAAAAAAAEAAQAAAQAAAAAAAAAAAQABAQABAAAAAAAAAQABAQAAAAAAAAAAAAAAAAEAAAEAAQAAAAAAAAEAAQEBAQAAAAAAAQABAAABAAAAAAAAAAAAAAEAAQEAAQAAAAEAAAAAAAABAQAAAAAAAAAAAAAAAAAAAAEAAAEAAAAAAQAAAQAAAAAAAQAAAAEBAAABAAABAAAAAAAAAAAAAAAAAAEAAAAAAAAAAAAAAAAAAAAAAQAAAAAAAAAAAQAAAAAAAQAAAAABAAAAAQAAAAABAQAAAAAAAAAAAAAAAQABAAAAAAEAAAAAAAEBAAEAAAAAAAAAAQAAAAAAAAEBAAAAAAEAAAAAAAAAAAAAAQAAAQEAAAABAAAAAAEAAAAAAQAAAAAAAAEAAQAAAAAAAAEAAAAAAAAAAAAAAAEAAAAAAAAAAAAAAAAAAAAAAAAAAAAAAAAAAAAAAAEAAAABAAABAAAAAAAAAAAAAAABAQAAAAABAQEBAAAAAAAAAAEAAQAAAAAAAAAAAAEBAAAAAAAAAAAAAAAAAAEAAAEBAAAAAQEAAAABAAAAAQAAAQAAAAABAAEBAAAAAAEAAAAAAA==",
          "dtype": "i1"
         },
         "x0": " ",
         "xaxis": "x",
         "y": {
          "bdata": "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",
          "dtype": "f8"
         },
         "y0": " ",
         "yaxis": "y"
        }
       ],
       "layout": {
        "boxmode": "group",
        "legend": {
         "tracegroupgap": 0
        },
        "template": {
         "data": {
          "bar": [
           {
            "error_x": {
             "color": "#2a3f5f"
            },
            "error_y": {
             "color": "#2a3f5f"
            },
            "marker": {
             "line": {
              "color": "#E5ECF6",
              "width": 0.5
             },
             "pattern": {
              "fillmode": "overlay",
              "size": 10,
              "solidity": 0.2
             }
            },
            "type": "bar"
           }
          ],
          "barpolar": [
           {
            "marker": {
             "line": {
              "color": "#E5ECF6",
              "width": 0.5
             },
             "pattern": {
              "fillmode": "overlay",
              "size": 10,
              "solidity": 0.2
             }
            },
            "type": "barpolar"
           }
          ],
          "carpet": [
           {
            "aaxis": {
             "endlinecolor": "#2a3f5f",
             "gridcolor": "white",
             "linecolor": "white",
             "minorgridcolor": "white",
             "startlinecolor": "#2a3f5f"
            },
            "baxis": {
             "endlinecolor": "#2a3f5f",
             "gridcolor": "white",
             "linecolor": "white",
             "minorgridcolor": "white",
             "startlinecolor": "#2a3f5f"
            },
            "type": "carpet"
           }
          ],
          "choropleth": [
           {
            "colorbar": {
             "outlinewidth": 0,
             "ticks": ""
            },
            "type": "choropleth"
           }
          ],
          "contour": [
           {
            "colorbar": {
             "outlinewidth": 0,
             "ticks": ""
            },
            "colorscale": [
             [
              0,
              "#0d0887"
             ],
             [
              0.1111111111111111,
              "#46039f"
             ],
             [
              0.2222222222222222,
              "#7201a8"
             ],
             [
              0.3333333333333333,
              "#9c179e"
             ],
             [
              0.4444444444444444,
              "#bd3786"
             ],
             [
              0.5555555555555556,
              "#d8576b"
             ],
             [
              0.6666666666666666,
              "#ed7953"
             ],
             [
              0.7777777777777778,
              "#fb9f3a"
             ],
             [
              0.8888888888888888,
              "#fdca26"
             ],
             [
              1,
              "#f0f921"
             ]
            ],
            "type": "contour"
           }
          ],
          "contourcarpet": [
           {
            "colorbar": {
             "outlinewidth": 0,
             "ticks": ""
            },
            "type": "contourcarpet"
           }
          ],
          "heatmap": [
           {
            "colorbar": {
             "outlinewidth": 0,
             "ticks": ""
            },
            "colorscale": [
             [
              0,
              "#0d0887"
             ],
             [
              0.1111111111111111,
              "#46039f"
             ],
             [
              0.2222222222222222,
              "#7201a8"
             ],
             [
              0.3333333333333333,
              "#9c179e"
             ],
             [
              0.4444444444444444,
              "#bd3786"
             ],
             [
              0.5555555555555556,
              "#d8576b"
             ],
             [
              0.6666666666666666,
              "#ed7953"
             ],
             [
              0.7777777777777778,
              "#fb9f3a"
             ],
             [
              0.8888888888888888,
              "#fdca26"
             ],
             [
              1,
              "#f0f921"
             ]
            ],
            "type": "heatmap"
           }
          ],
          "histogram": [
           {
            "marker": {
             "pattern": {
              "fillmode": "overlay",
              "size": 10,
              "solidity": 0.2
             }
            },
            "type": "histogram"
           }
          ],
          "histogram2d": [
           {
            "colorbar": {
             "outlinewidth": 0,
             "ticks": ""
            },
            "colorscale": [
             [
              0,
              "#0d0887"
             ],
             [
              0.1111111111111111,
              "#46039f"
             ],
             [
              0.2222222222222222,
              "#7201a8"
             ],
             [
              0.3333333333333333,
              "#9c179e"
             ],
             [
              0.4444444444444444,
              "#bd3786"
             ],
             [
              0.5555555555555556,
              "#d8576b"
             ],
             [
              0.6666666666666666,
              "#ed7953"
             ],
             [
              0.7777777777777778,
              "#fb9f3a"
             ],
             [
              0.8888888888888888,
              "#fdca26"
             ],
             [
              1,
              "#f0f921"
             ]
            ],
            "type": "histogram2d"
           }
          ],
          "histogram2dcontour": [
           {
            "colorbar": {
             "outlinewidth": 0,
             "ticks": ""
            },
            "colorscale": [
             [
              0,
              "#0d0887"
             ],
             [
              0.1111111111111111,
              "#46039f"
             ],
             [
              0.2222222222222222,
              "#7201a8"
             ],
             [
              0.3333333333333333,
              "#9c179e"
             ],
             [
              0.4444444444444444,
              "#bd3786"
             ],
             [
              0.5555555555555556,
              "#d8576b"
             ],
             [
              0.6666666666666666,
              "#ed7953"
             ],
             [
              0.7777777777777778,
              "#fb9f3a"
             ],
             [
              0.8888888888888888,
              "#fdca26"
             ],
             [
              1,
              "#f0f921"
             ]
            ],
            "type": "histogram2dcontour"
           }
          ],
          "mesh3d": [
           {
            "colorbar": {
             "outlinewidth": 0,
             "ticks": ""
            },
            "type": "mesh3d"
           }
          ],
          "parcoords": [
           {
            "line": {
             "colorbar": {
              "outlinewidth": 0,
              "ticks": ""
             }
            },
            "type": "parcoords"
           }
          ],
          "pie": [
           {
            "automargin": true,
            "type": "pie"
           }
          ],
          "scatter": [
           {
            "fillpattern": {
             "fillmode": "overlay",
             "size": 10,
             "solidity": 0.2
            },
            "type": "scatter"
           }
          ],
          "scatter3d": [
           {
            "line": {
             "colorbar": {
              "outlinewidth": 0,
              "ticks": ""
             }
            },
            "marker": {
             "colorbar": {
              "outlinewidth": 0,
              "ticks": ""
             }
            },
            "type": "scatter3d"
           }
          ],
          "scattercarpet": [
           {
            "marker": {
             "colorbar": {
              "outlinewidth": 0,
              "ticks": ""
             }
            },
            "type": "scattercarpet"
           }
          ],
          "scattergeo": [
           {
            "marker": {
             "colorbar": {
              "outlinewidth": 0,
              "ticks": ""
             }
            },
            "type": "scattergeo"
           }
          ],
          "scattergl": [
           {
            "marker": {
             "colorbar": {
              "outlinewidth": 0,
              "ticks": ""
             }
            },
            "type": "scattergl"
           }
          ],
          "scattermap": [
           {
            "marker": {
             "colorbar": {
              "outlinewidth": 0,
              "ticks": ""
             }
            },
            "type": "scattermap"
           }
          ],
          "scattermapbox": [
           {
            "marker": {
             "colorbar": {
              "outlinewidth": 0,
              "ticks": ""
             }
            },
            "type": "scattermapbox"
           }
          ],
          "scatterpolar": [
           {
            "marker": {
             "colorbar": {
              "outlinewidth": 0,
              "ticks": ""
             }
            },
            "type": "scatterpolar"
           }
          ],
          "scatterpolargl": [
           {
            "marker": {
             "colorbar": {
              "outlinewidth": 0,
              "ticks": ""
             }
            },
            "type": "scatterpolargl"
           }
          ],
          "scatterternary": [
           {
            "marker": {
             "colorbar": {
              "outlinewidth": 0,
              "ticks": ""
             }
            },
            "type": "scatterternary"
           }
          ],
          "surface": [
           {
            "colorbar": {
             "outlinewidth": 0,
             "ticks": ""
            },
            "colorscale": [
             [
              0,
              "#0d0887"
             ],
             [
              0.1111111111111111,
              "#46039f"
             ],
             [
              0.2222222222222222,
              "#7201a8"
             ],
             [
              0.3333333333333333,
              "#9c179e"
             ],
             [
              0.4444444444444444,
              "#bd3786"
             ],
             [
              0.5555555555555556,
              "#d8576b"
             ],
             [
              0.6666666666666666,
              "#ed7953"
             ],
             [
              0.7777777777777778,
              "#fb9f3a"
             ],
             [
              0.8888888888888888,
              "#fdca26"
             ],
             [
              1,
              "#f0f921"
             ]
            ],
            "type": "surface"
           }
          ],
          "table": [
           {
            "cells": {
             "fill": {
              "color": "#EBF0F8"
             },
             "line": {
              "color": "white"
             }
            },
            "header": {
             "fill": {
              "color": "#C8D4E3"
             },
             "line": {
              "color": "white"
             }
            },
            "type": "table"
           }
          ]
         },
         "layout": {
          "annotationdefaults": {
           "arrowcolor": "#2a3f5f",
           "arrowhead": 0,
           "arrowwidth": 1
          },
          "autotypenumbers": "strict",
          "coloraxis": {
           "colorbar": {
            "outlinewidth": 0,
            "ticks": ""
           }
          },
          "colorscale": {
           "diverging": [
            [
             0,
             "#8e0152"
            ],
            [
             0.1,
             "#c51b7d"
            ],
            [
             0.2,
             "#de77ae"
            ],
            [
             0.3,
             "#f1b6da"
            ],
            [
             0.4,
             "#fde0ef"
            ],
            [
             0.5,
             "#f7f7f7"
            ],
            [
             0.6,
             "#e6f5d0"
            ],
            [
             0.7,
             "#b8e186"
            ],
            [
             0.8,
             "#7fbc41"
            ],
            [
             0.9,
             "#4d9221"
            ],
            [
             1,
             "#276419"
            ]
           ],
           "sequential": [
            [
             0,
             "#0d0887"
            ],
            [
             0.1111111111111111,
             "#46039f"
            ],
            [
             0.2222222222222222,
             "#7201a8"
            ],
            [
             0.3333333333333333,
             "#9c179e"
            ],
            [
             0.4444444444444444,
             "#bd3786"
            ],
            [
             0.5555555555555556,
             "#d8576b"
            ],
            [
             0.6666666666666666,
             "#ed7953"
            ],
            [
             0.7777777777777778,
             "#fb9f3a"
            ],
            [
             0.8888888888888888,
             "#fdca26"
            ],
            [
             1,
             "#f0f921"
            ]
           ],
           "sequentialminus": [
            [
             0,
             "#0d0887"
            ],
            [
             0.1111111111111111,
             "#46039f"
            ],
            [
             0.2222222222222222,
             "#7201a8"
            ],
            [
             0.3333333333333333,
             "#9c179e"
            ],
            [
             0.4444444444444444,
             "#bd3786"
            ],
            [
             0.5555555555555556,
             "#d8576b"
            ],
            [
             0.6666666666666666,
             "#ed7953"
            ],
            [
             0.7777777777777778,
             "#fb9f3a"
            ],
            [
             0.8888888888888888,
             "#fdca26"
            ],
            [
             1,
             "#f0f921"
            ]
           ]
          },
          "colorway": [
           "#636efa",
           "#EF553B",
           "#00cc96",
           "#ab63fa",
           "#FFA15A",
           "#19d3f3",
           "#FF6692",
           "#B6E880",
           "#FF97FF",
           "#FECB52"
          ],
          "font": {
           "color": "#2a3f5f"
          },
          "geo": {
           "bgcolor": "white",
           "lakecolor": "white",
           "landcolor": "#E5ECF6",
           "showlakes": true,
           "showland": true,
           "subunitcolor": "white"
          },
          "hoverlabel": {
           "align": "left"
          },
          "hovermode": "closest",
          "mapbox": {
           "style": "light"
          },
          "paper_bgcolor": "white",
          "plot_bgcolor": "#E5ECF6",
          "polar": {
           "angularaxis": {
            "gridcolor": "white",
            "linecolor": "white",
            "ticks": ""
           },
           "bgcolor": "#E5ECF6",
           "radialaxis": {
            "gridcolor": "white",
            "linecolor": "white",
            "ticks": ""
           }
          },
          "scene": {
           "xaxis": {
            "backgroundcolor": "#E5ECF6",
            "gridcolor": "white",
            "gridwidth": 2,
            "linecolor": "white",
            "showbackground": true,
            "ticks": "",
            "zerolinecolor": "white"
           },
           "yaxis": {
            "backgroundcolor": "#E5ECF6",
            "gridcolor": "white",
            "gridwidth": 2,
            "linecolor": "white",
            "showbackground": true,
            "ticks": "",
            "zerolinecolor": "white"
           },
           "zaxis": {
            "backgroundcolor": "#E5ECF6",
            "gridcolor": "white",
            "gridwidth": 2,
            "linecolor": "white",
            "showbackground": true,
            "ticks": "",
            "zerolinecolor": "white"
           }
          },
          "shapedefaults": {
           "line": {
            "color": "#2a3f5f"
           }
          },
          "ternary": {
           "aaxis": {
            "gridcolor": "white",
            "linecolor": "white",
            "ticks": ""
           },
           "baxis": {
            "gridcolor": "white",
            "linecolor": "white",
            "ticks": ""
           },
           "bgcolor": "#E5ECF6",
           "caxis": {
            "gridcolor": "white",
            "linecolor": "white",
            "ticks": ""
           }
          },
          "title": {
           "x": 0.05
          },
          "xaxis": {
           "automargin": true,
           "gridcolor": "white",
           "linecolor": "white",
           "ticks": "",
           "title": {
            "standoff": 15
           },
           "zerolinecolor": "white",
           "zerolinewidth": 2
          },
          "yaxis": {
           "automargin": true,
           "gridcolor": "white",
           "linecolor": "white",
           "ticks": "",
           "title": {
            "standoff": 15
           },
           "zerolinecolor": "white",
           "zerolinewidth": 2
          }
         }
        },
        "title": {
         "text": "Total Amount Spent (Capped) by Churn Status"
        },
        "xaxis": {
         "anchor": "y",
         "domain": [
          0,
          1
         ],
         "title": {
          "text": "Churn Status (0=No,1=Yes)"
         }
        },
        "yaxis": {
         "anchor": "x",
         "domain": [
          0,
          1
         ],
         "title": {
          "text": "TotalAmountSpent (capped)"
         }
        }
       }
      }
     },
     "metadata": {},
     "output_type": "display_data"
    }
   ],
   "source": [
    "# this shows that total amount spent is not a good indicator of churn status\n",
    "if 'TotalAmountSpent_Capped' in df_enc.columns and 'ChurnStatus' in df_enc.columns:\n",
    "    fig = px.box(df_enc, x='ChurnStatus', y='TotalAmountSpent_Capped',\n",
    "                    title='Total Amount Spent (Capped) by Churn Status',\n",
    "                    labels={'ChurnStatus':'Churn Status (0=No,1=Yes)', 'TotalAmountSpent_Capped':'TotalAmountSpent (capped)'})\n",
    "fig.show()"
   ]
  },
  {
   "cell_type": "code",
   "execution_count": 239,
   "id": "2ca1e04d",
   "metadata": {},
   "outputs": [
    {
     "data": {
      "application/vnd.plotly.v1+json": {
       "config": {
        "plotlyServerURL": "https://plot.ly"
       },
       "data": [
        {
         "hovertemplate": "RecencyDays=%{x}<br>TotalAmountSpent_Capped=%{y}<br>ChurnStatus=%{marker.color}<extra></extra>",
         "legendgroup": "",
         "marker": {
          "color": {
           "bdata": "AQABAQAAAAEBAAABAAAAAAEAAAEAAAABAQAAAQAAAQAAAAAAAQEAAAAAAAAAAAAAAAAAAAAAAAAAAAAAAAAAAAAAAAAAAAABAAAAAAAAAAEAAAEBAAABAAEAAAABAAAAAQAAAAEBAAEBAAABAAAAAQABAQAAAAAAAAAAAQAAAQAAAAAAAAABAAABAAEAAAEBAAAAAQAAAAAAAAAAAAAAAAAAAAEBAAAAAAAAAAAAAAABAAAAAAAAAAAAAAAAAQAAAAAAAAEAAAAAAAAAAAAAAQAAAAEBAQAAAQAAAQAAAAABAAABAQAAAAAAAQAAAAAAAAAAAQEAAAAAAQABAAAAAAAAAAAAAAEBAAEAAQAAAAABAAAAAQAAAAAAAAABAAAAAQABAAAAAAABAAAAAAABAAAAAAABAAABAAABAAEAAQAAAAABAAABAAAAAQEAAAAAAAAAAAAAAAAAAQAAAQAAAQABAAAAAAAAAAAAAAEAAAEAAAAAAAAAAAAAAAAAAQEAAQAAAAAAAQAAAAAAAAAAAQAAAAEAAAAAAAEAAQAAAQAAAAAAAAABAAAAAAAAAAAAAAAAAAEAAAAAAQABAAAAAAABAAAAAQAAAAEAAAAAAAAAAQAAAAEAAAEAAAEAAAAAAAAAAQAAAAAAAAABAAABAQAAAAAAAAEAAAEAAAAAAAABAQAAAAAAAAEBAQAAAAAAAAABAQAAAAAAAAAAAQAAAAAAAAABAAAAAAEAAAAAAQABAAAAAAAAAAABAAAAAAAAAAAAAAAAAAAAAAAAAAAAAQABAAEBAQAAAAAAAQAAAAABAAAAAQEAAAABAAAAAAAAAAAAAAAAAAEAAAAAAAAAAAEAAQEBAAAAAAAAAAAAAAEAAAABAAEBAAAAAQEAAAAAAAEAAAAAAAAAAAAAAQEAAAAAAAAAAAABAAABAQEAAAAAAAAAAAAAAAABAAAAAAAAAAAAAAAAAAEAAAEAAAAAAQABAAAAAAAAAAAAAAAAAAAAAQABAAAAAAAAAAABAQAAAQAAAAAAAQEAAQAAAQEAAAAAAAAAAAAAAAEAAAEAAAEAAQAAAAEAAQAAAAAAAAAAAAAAAAAAAQEAAQEAAAAAAAEAAQAAAQEBAAAAAAAAAAAAAQAAAAAAAAAAAAAAAQAAAAABAAEAAAAAAAAAAAAAAAAAAAAAAQAAAAEAAAEBAAAAAAAAAAAAAAABAAAAAAAAAAAAAQAAAAEAAAAAAQAAAAAAAQAAAAAAAAAAAQEAAQAAAAAAAAAAAQEAAAAAAQAAAAEAAAEAAAAAAAABAAAAAAAAAAAAAAABAAAAAAAAAAABAAAAAAAAAA==",
           "dtype": "i1"
          },
          "coloraxis": "coloraxis",
          "symbol": "circle"
         },
         "mode": "markers",
         "name": "",
         "orientation": "v",
         "showlegend": false,
         "type": "scatter",
         "x": {
          "bdata": "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",
          "dtype": "i2"
         },
         "xaxis": "x",
         "y": {
          "bdata": "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",
          "dtype": "f8"
         },
         "yaxis": "y"
        }
       ],
       "layout": {
        "coloraxis": {
         "colorbar": {
          "title": {
           "text": "ChurnStatus"
          }
         },
         "colorscale": [
          [
           0,
           "#0d0887"
          ],
          [
           0.1111111111111111,
           "#46039f"
          ],
          [
           0.2222222222222222,
           "#7201a8"
          ],
          [
           0.3333333333333333,
           "#9c179e"
          ],
          [
           0.4444444444444444,
           "#bd3786"
          ],
          [
           0.5555555555555556,
           "#d8576b"
          ],
          [
           0.6666666666666666,
           "#ed7953"
          ],
          [
           0.7777777777777778,
           "#fb9f3a"
          ],
          [
           0.8888888888888888,
           "#fdca26"
          ],
          [
           1,
           "#f0f921"
          ]
         ]
        },
        "legend": {
         "tracegroupgap": 0
        },
        "template": {
         "data": {
          "bar": [
           {
            "error_x": {
             "color": "#2a3f5f"
            },
            "error_y": {
             "color": "#2a3f5f"
            },
            "marker": {
             "line": {
              "color": "#E5ECF6",
              "width": 0.5
             },
             "pattern": {
              "fillmode": "overlay",
              "size": 10,
              "solidity": 0.2
             }
            },
            "type": "bar"
           }
          ],
          "barpolar": [
           {
            "marker": {
             "line": {
              "color": "#E5ECF6",
              "width": 0.5
             },
             "pattern": {
              "fillmode": "overlay",
              "size": 10,
              "solidity": 0.2
             }
            },
            "type": "barpolar"
           }
          ],
          "carpet": [
           {
            "aaxis": {
             "endlinecolor": "#2a3f5f",
             "gridcolor": "white",
             "linecolor": "white",
             "minorgridcolor": "white",
             "startlinecolor": "#2a3f5f"
            },
            "baxis": {
             "endlinecolor": "#2a3f5f",
             "gridcolor": "white",
             "linecolor": "white",
             "minorgridcolor": "white",
             "startlinecolor": "#2a3f5f"
            },
            "type": "carpet"
           }
          ],
          "choropleth": [
           {
            "colorbar": {
             "outlinewidth": 0,
             "ticks": ""
            },
            "type": "choropleth"
           }
          ],
          "contour": [
           {
            "colorbar": {
             "outlinewidth": 0,
             "ticks": ""
            },
            "colorscale": [
             [
              0,
              "#0d0887"
             ],
             [
              0.1111111111111111,
              "#46039f"
             ],
             [
              0.2222222222222222,
              "#7201a8"
             ],
             [
              0.3333333333333333,
              "#9c179e"
             ],
             [
              0.4444444444444444,
              "#bd3786"
             ],
             [
              0.5555555555555556,
              "#d8576b"
             ],
             [
              0.6666666666666666,
              "#ed7953"
             ],
             [
              0.7777777777777778,
              "#fb9f3a"
             ],
             [
              0.8888888888888888,
              "#fdca26"
             ],
             [
              1,
              "#f0f921"
             ]
            ],
            "type": "contour"
           }
          ],
          "contourcarpet": [
           {
            "colorbar": {
             "outlinewidth": 0,
             "ticks": ""
            },
            "type": "contourcarpet"
           }
          ],
          "heatmap": [
           {
            "colorbar": {
             "outlinewidth": 0,
             "ticks": ""
            },
            "colorscale": [
             [
              0,
              "#0d0887"
             ],
             [
              0.1111111111111111,
              "#46039f"
             ],
             [
              0.2222222222222222,
              "#7201a8"
             ],
             [
              0.3333333333333333,
              "#9c179e"
             ],
             [
              0.4444444444444444,
              "#bd3786"
             ],
             [
              0.5555555555555556,
              "#d8576b"
             ],
             [
              0.6666666666666666,
              "#ed7953"
             ],
             [
              0.7777777777777778,
              "#fb9f3a"
             ],
             [
              0.8888888888888888,
              "#fdca26"
             ],
             [
              1,
              "#f0f921"
             ]
            ],
            "type": "heatmap"
           }
          ],
          "histogram": [
           {
            "marker": {
             "pattern": {
              "fillmode": "overlay",
              "size": 10,
              "solidity": 0.2
             }
            },
            "type": "histogram"
           }
          ],
          "histogram2d": [
           {
            "colorbar": {
             "outlinewidth": 0,
             "ticks": ""
            },
            "colorscale": [
             [
              0,
              "#0d0887"
             ],
             [
              0.1111111111111111,
              "#46039f"
             ],
             [
              0.2222222222222222,
              "#7201a8"
             ],
             [
              0.3333333333333333,
              "#9c179e"
             ],
             [
              0.4444444444444444,
              "#bd3786"
             ],
             [
              0.5555555555555556,
              "#d8576b"
             ],
             [
              0.6666666666666666,
              "#ed7953"
             ],
             [
              0.7777777777777778,
              "#fb9f3a"
             ],
             [
              0.8888888888888888,
              "#fdca26"
             ],
             [
              1,
              "#f0f921"
             ]
            ],
            "type": "histogram2d"
           }
          ],
          "histogram2dcontour": [
           {
            "colorbar": {
             "outlinewidth": 0,
             "ticks": ""
            },
            "colorscale": [
             [
              0,
              "#0d0887"
             ],
             [
              0.1111111111111111,
              "#46039f"
             ],
             [
              0.2222222222222222,
              "#7201a8"
             ],
             [
              0.3333333333333333,
              "#9c179e"
             ],
             [
              0.4444444444444444,
              "#bd3786"
             ],
             [
              0.5555555555555556,
              "#d8576b"
             ],
             [
              0.6666666666666666,
              "#ed7953"
             ],
             [
              0.7777777777777778,
              "#fb9f3a"
             ],
             [
              0.8888888888888888,
              "#fdca26"
             ],
             [
              1,
              "#f0f921"
             ]
            ],
            "type": "histogram2dcontour"
           }
          ],
          "mesh3d": [
           {
            "colorbar": {
             "outlinewidth": 0,
             "ticks": ""
            },
            "type": "mesh3d"
           }
          ],
          "parcoords": [
           {
            "line": {
             "colorbar": {
              "outlinewidth": 0,
              "ticks": ""
             }
            },
            "type": "parcoords"
           }
          ],
          "pie": [
           {
            "automargin": true,
            "type": "pie"
           }
          ],
          "scatter": [
           {
            "fillpattern": {
             "fillmode": "overlay",
             "size": 10,
             "solidity": 0.2
            },
            "type": "scatter"
           }
          ],
          "scatter3d": [
           {
            "line": {
             "colorbar": {
              "outlinewidth": 0,
              "ticks": ""
             }
            },
            "marker": {
             "colorbar": {
              "outlinewidth": 0,
              "ticks": ""
             }
            },
            "type": "scatter3d"
           }
          ],
          "scattercarpet": [
           {
            "marker": {
             "colorbar": {
              "outlinewidth": 0,
              "ticks": ""
             }
            },
            "type": "scattercarpet"
           }
          ],
          "scattergeo": [
           {
            "marker": {
             "colorbar": {
              "outlinewidth": 0,
              "ticks": ""
             }
            },
            "type": "scattergeo"
           }
          ],
          "scattergl": [
           {
            "marker": {
             "colorbar": {
              "outlinewidth": 0,
              "ticks": ""
             }
            },
            "type": "scattergl"
           }
          ],
          "scattermap": [
           {
            "marker": {
             "colorbar": {
              "outlinewidth": 0,
              "ticks": ""
             }
            },
            "type": "scattermap"
           }
          ],
          "scattermapbox": [
           {
            "marker": {
             "colorbar": {
              "outlinewidth": 0,
              "ticks": ""
             }
            },
            "type": "scattermapbox"
           }
          ],
          "scatterpolar": [
           {
            "marker": {
             "colorbar": {
              "outlinewidth": 0,
              "ticks": ""
             }
            },
            "type": "scatterpolar"
           }
          ],
          "scatterpolargl": [
           {
            "marker": {
             "colorbar": {
              "outlinewidth": 0,
              "ticks": ""
             }
            },
            "type": "scatterpolargl"
           }
          ],
          "scatterternary": [
           {
            "marker": {
             "colorbar": {
              "outlinewidth": 0,
              "ticks": ""
             }
            },
            "type": "scatterternary"
           }
          ],
          "surface": [
           {
            "colorbar": {
             "outlinewidth": 0,
             "ticks": ""
            },
            "colorscale": [
             [
              0,
              "#0d0887"
             ],
             [
              0.1111111111111111,
              "#46039f"
             ],
             [
              0.2222222222222222,
              "#7201a8"
             ],
             [
              0.3333333333333333,
              "#9c179e"
             ],
             [
              0.4444444444444444,
              "#bd3786"
             ],
             [
              0.5555555555555556,
              "#d8576b"
             ],
             [
              0.6666666666666666,
              "#ed7953"
             ],
             [
              0.7777777777777778,
              "#fb9f3a"
             ],
             [
              0.8888888888888888,
              "#fdca26"
             ],
             [
              1,
              "#f0f921"
             ]
            ],
            "type": "surface"
           }
          ],
          "table": [
           {
            "cells": {
             "fill": {
              "color": "#EBF0F8"
             },
             "line": {
              "color": "white"
             }
            },
            "header": {
             "fill": {
              "color": "#C8D4E3"
             },
             "line": {
              "color": "white"
             }
            },
            "type": "table"
           }
          ]
         },
         "layout": {
          "annotationdefaults": {
           "arrowcolor": "#2a3f5f",
           "arrowhead": 0,
           "arrowwidth": 1
          },
          "autotypenumbers": "strict",
          "coloraxis": {
           "colorbar": {
            "outlinewidth": 0,
            "ticks": ""
           }
          },
          "colorscale": {
           "diverging": [
            [
             0,
             "#8e0152"
            ],
            [
             0.1,
             "#c51b7d"
            ],
            [
             0.2,
             "#de77ae"
            ],
            [
             0.3,
             "#f1b6da"
            ],
            [
             0.4,
             "#fde0ef"
            ],
            [
             0.5,
             "#f7f7f7"
            ],
            [
             0.6,
             "#e6f5d0"
            ],
            [
             0.7,
             "#b8e186"
            ],
            [
             0.8,
             "#7fbc41"
            ],
            [
             0.9,
             "#4d9221"
            ],
            [
             1,
             "#276419"
            ]
           ],
           "sequential": [
            [
             0,
             "#0d0887"
            ],
            [
             0.1111111111111111,
             "#46039f"
            ],
            [
             0.2222222222222222,
             "#7201a8"
            ],
            [
             0.3333333333333333,
             "#9c179e"
            ],
            [
             0.4444444444444444,
             "#bd3786"
            ],
            [
             0.5555555555555556,
             "#d8576b"
            ],
            [
             0.6666666666666666,
             "#ed7953"
            ],
            [
             0.7777777777777778,
             "#fb9f3a"
            ],
            [
             0.8888888888888888,
             "#fdca26"
            ],
            [
             1,
             "#f0f921"
            ]
           ],
           "sequentialminus": [
            [
             0,
             "#0d0887"
            ],
            [
             0.1111111111111111,
             "#46039f"
            ],
            [
             0.2222222222222222,
             "#7201a8"
            ],
            [
             0.3333333333333333,
             "#9c179e"
            ],
            [
             0.4444444444444444,
             "#bd3786"
            ],
            [
             0.5555555555555556,
             "#d8576b"
            ],
            [
             0.6666666666666666,
             "#ed7953"
            ],
            [
             0.7777777777777778,
             "#fb9f3a"
            ],
            [
             0.8888888888888888,
             "#fdca26"
            ],
            [
             1,
             "#f0f921"
            ]
           ]
          },
          "colorway": [
           "#636efa",
           "#EF553B",
           "#00cc96",
           "#ab63fa",
           "#FFA15A",
           "#19d3f3",
           "#FF6692",
           "#B6E880",
           "#FF97FF",
           "#FECB52"
          ],
          "font": {
           "color": "#2a3f5f"
          },
          "geo": {
           "bgcolor": "white",
           "lakecolor": "white",
           "landcolor": "#E5ECF6",
           "showlakes": true,
           "showland": true,
           "subunitcolor": "white"
          },
          "hoverlabel": {
           "align": "left"
          },
          "hovermode": "closest",
          "mapbox": {
           "style": "light"
          },
          "paper_bgcolor": "white",
          "plot_bgcolor": "#E5ECF6",
          "polar": {
           "angularaxis": {
            "gridcolor": "white",
            "linecolor": "white",
            "ticks": ""
           },
           "bgcolor": "#E5ECF6",
           "radialaxis": {
            "gridcolor": "white",
            "linecolor": "white",
            "ticks": ""
           }
          },
          "scene": {
           "xaxis": {
            "backgroundcolor": "#E5ECF6",
            "gridcolor": "white",
            "gridwidth": 2,
            "linecolor": "white",
            "showbackground": true,
            "ticks": "",
            "zerolinecolor": "white"
           },
           "yaxis": {
            "backgroundcolor": "#E5ECF6",
            "gridcolor": "white",
            "gridwidth": 2,
            "linecolor": "white",
            "showbackground": true,
            "ticks": "",
            "zerolinecolor": "white"
           },
           "zaxis": {
            "backgroundcolor": "#E5ECF6",
            "gridcolor": "white",
            "gridwidth": 2,
            "linecolor": "white",
            "showbackground": true,
            "ticks": "",
            "zerolinecolor": "white"
           }
          },
          "shapedefaults": {
           "line": {
            "color": "#2a3f5f"
           }
          },
          "ternary": {
           "aaxis": {
            "gridcolor": "white",
            "linecolor": "white",
            "ticks": ""
           },
           "baxis": {
            "gridcolor": "white",
            "linecolor": "white",
            "ticks": ""
           },
           "bgcolor": "#E5ECF6",
           "caxis": {
            "gridcolor": "white",
            "linecolor": "white",
            "ticks": ""
           }
          },
          "title": {
           "x": 0.05
          },
          "xaxis": {
           "automargin": true,
           "gridcolor": "white",
           "linecolor": "white",
           "ticks": "",
           "title": {
            "standoff": 15
           },
           "zerolinecolor": "white",
           "zerolinewidth": 2
          },
          "yaxis": {
           "automargin": true,
           "gridcolor": "white",
           "linecolor": "white",
           "ticks": "",
           "title": {
            "standoff": 15
           },
           "zerolinecolor": "white",
           "zerolinewidth": 2
          }
         }
        },
        "title": {
         "text": "Recency vs Total Amount Spent (sampled)"
        },
        "xaxis": {
         "anchor": "y",
         "domain": [
          0,
          1
         ],
         "title": {
          "text": "RecencyDays"
         }
        },
        "yaxis": {
         "anchor": "x",
         "domain": [
          0,
          1
         ],
         "title": {
          "text": "TotalAmountSpent_Capped"
         }
        }
       }
      }
     },
     "metadata": {},
     "output_type": "display_data"
    }
   ],
   "source": [
    "if all(c in df_enc.columns for c in ['RecencyDays', 'TotalAmountSpent_Capped', 'ChurnStatus']):\n",
    "    fig = px.scatter(df_enc.sample(min(2000, len(df_enc))), x='RecencyDays', y='TotalAmountSpent_Capped',\n",
    "                    color='ChurnStatus', title='Recency vs Total Amount Spent (sampled)')\n",
    "fig.show()"
   ]
  },
  {
   "cell_type": "code",
   "execution_count": 240,
   "id": "9915734d",
   "metadata": {},
   "outputs": [
    {
     "data": {
      "image/png": "[encoded data removed]",
      "text/plain": [
       "<Figure size 1200x1000 with 2 Axes>"
      ]
     },
     "metadata": {},
     "output_type": "display_data"
    },
    {
     "name": "stdout",
     "output_type": "stream",
     "text": [
      "Preprocessing complete. You can now use the file for model training.\n"
     ]
    }
   ],
   "source": [
    "plt.figure(figsize=(12,10))\n",
    "corr = df_enc[[c for c in df_enc.columns if c.endswith('_scaled')]].corr()\n",
    "sns.heatmap(corr, annot=False, cmap='coolwarm')\n",
    "plt.title('Correlation heatmap for scaled numeric features')\n",
    "plt.show()\n",
    "\n",
    "print(\"Preprocessing complete. You can now use the file for model training.\")"
   ]
  },
  {
   "cell_type": "code",
   "execution_count": 241,
   "id": "9aa1dbf8",
   "metadata": {},
   "outputs": [],
   "source": [
    "df.to_csv('customer_churn_analysis_cleaned.csv', index=False)"
   ]
  }
 ],
 "metadata": {
  "kernelspec": {
   "display_name": ".venv",
   "language": "python",
   "name": "python3"
  },
  "language_info": {
   "codemirror_mode": {
    "name": "ipython",
    "version": 3
   },
   "file_extension": ".py",
   "mimetype": "text/x-python",
   "name": "python",
   "nbconvert_exporter": "python",
   "pygments_lexer": "ipython3",
   "version": "3.13.2"
  }
 },
 "nbformat": 4,
 "nbformat_minor": 5
}
